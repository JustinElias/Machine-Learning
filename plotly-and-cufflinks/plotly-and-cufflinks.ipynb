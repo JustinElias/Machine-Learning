{
 "metadata": {
  "language_info": {
   "codemirror_mode": {
    "name": "ipython",
    "version": 3
   },
   "file_extension": ".py",
   "mimetype": "text/x-python",
   "name": "python",
   "nbconvert_exporter": "python",
   "pygments_lexer": "ipython3",
   "version": "3.8.5"
  },
  "orig_nbformat": 2,
  "kernelspec": {
   "name": "python385jvsc74a57bd0d9d37f27efacf801dd44f7aa0bcd991a8c67214eacc3fcc5e4f4cdd0eec6dd27",
   "display_name": "Python 3.8.5 64-bit ('base': conda)"
  }
 },
 "nbformat": 4,
 "nbformat_minor": 2,
 "cells": [
  {
   "cell_type": "code",
   "execution_count": 1,
   "metadata": {},
   "outputs": [
    {
     "output_type": "execute_result",
     "data": {
      "text/plain": [
       "'\\nPlotly is an interactive visualization library\\nCufflinks connects plotly with pandas\\n\\nTo install, do the following:\\npip install chart-studio\\nimport this with import chart_studio.plotly as py\\n\\npip install plotly\\npip install cufflinks\\n'"
      ]
     },
     "metadata": {},
     "execution_count": 1
    }
   ],
   "source": [
    "\"\"\"\n",
    "Plotly is an interactive visualization library\n",
    "Cufflinks connects plotly with pandas\n",
    "\n",
    "To install, do the following:\n",
    "pip install chart-studio\n",
    "import this with import chart_studio.plotly as py\n",
    "\n",
    "pip install plotly\n",
    "pip install cufflinks\n",
    "\"\"\""
   ]
  },
  {
   "cell_type": "code",
   "execution_count": 3,
   "metadata": {},
   "outputs": [],
   "source": [
    "import pandas as pd \n",
    "import numpy as np \n",
    "from chart_studio import plotly\n"
   ]
  },
  {
   "cell_type": "code",
   "execution_count": 4,
   "metadata": {},
   "outputs": [],
   "source": [
    "from plotly import __version__"
   ]
  },
  {
   "cell_type": "code",
   "execution_count": 6,
   "metadata": {},
   "outputs": [],
   "source": [
    "import cufflinks as cf"
   ]
  },
  {
   "cell_type": "code",
   "execution_count": 7,
   "metadata": {},
   "outputs": [],
   "source": [
    "from plotly.offline import download_plotlyjs,init_notebook_mode,plot,iplot "
   ]
  },
  {
   "cell_type": "code",
   "execution_count": 8,
   "metadata": {},
   "outputs": [
    {
     "output_type": "display_data",
     "data": {
      "text/html": "        <script type=\"text/javascript\">\n        window.PlotlyConfig = {MathJaxConfig: 'local'};\n        if (window.MathJax) {MathJax.Hub.Config({SVG: {font: \"STIX-Web\"}});}\n        if (typeof require !== 'undefined') {\n        require.undef(\"plotly\");\n        requirejs.config({\n            paths: {\n                'plotly': ['https://cdn.plot.ly/plotly-latest.min']\n            }\n        });\n        require(['plotly'], function(Plotly) {\n            window._Plotly = Plotly;\n        });\n        }\n        </script>\n        "
     },
     "metadata": {}
    }
   ],
   "source": [
    "#connects javascript to notebook\n",
    "init_notebook_mode(connected=True)"
   ]
  },
  {
   "cell_type": "code",
   "execution_count": 9,
   "metadata": {},
   "outputs": [
    {
     "output_type": "display_data",
     "data": {
      "text/html": "        <script type=\"text/javascript\">\n        window.PlotlyConfig = {MathJaxConfig: 'local'};\n        if (window.MathJax) {MathJax.Hub.Config({SVG: {font: \"STIX-Web\"}});}\n        if (typeof require !== 'undefined') {\n        require.undef(\"plotly\");\n        requirejs.config({\n            paths: {\n                'plotly': ['https://cdn.plot.ly/plotly-latest.min']\n            }\n        });\n        require(['plotly'], function(Plotly) {\n            window._Plotly = Plotly;\n        });\n        }\n        </script>\n        "
     },
     "metadata": {}
    }
   ],
   "source": [
    "#use cufflinks offline\n",
    "cf.go_offline()"
   ]
  },
  {
   "cell_type": "code",
   "execution_count": 11,
   "metadata": {},
   "outputs": [],
   "source": [
    "#DATA\n",
    "#100 rows, 4 columns\n",
    "df = pd.DataFrame(np.random.randn(100,4), columns='A B C D'.split())"
   ]
  },
  {
   "cell_type": "code",
   "execution_count": 12,
   "metadata": {},
   "outputs": [
    {
     "output_type": "execute_result",
     "data": {
      "text/plain": [
       "          A         B         C         D\n",
       "0 -0.615610 -1.515784  0.772557  1.648682\n",
       "1 -1.262486 -0.412173  1.561937  0.512753\n",
       "2 -0.311408 -0.885538 -0.309987 -0.456820\n",
       "3  0.245347 -1.082512  1.026705  2.102165\n",
       "4 -0.304743 -0.771151  1.195640 -0.799086"
      ],
      "text/html": "<div>\n<style scoped>\n    .dataframe tbody tr th:only-of-type {\n        vertical-align: middle;\n    }\n\n    .dataframe tbody tr th {\n        vertical-align: top;\n    }\n\n    .dataframe thead th {\n        text-align: right;\n    }\n</style>\n<table border=\"1\" class=\"dataframe\">\n  <thead>\n    <tr style=\"text-align: right;\">\n      <th></th>\n      <th>A</th>\n      <th>B</th>\n      <th>C</th>\n      <th>D</th>\n    </tr>\n  </thead>\n  <tbody>\n    <tr>\n      <th>0</th>\n      <td>-0.615610</td>\n      <td>-1.515784</td>\n      <td>0.772557</td>\n      <td>1.648682</td>\n    </tr>\n    <tr>\n      <th>1</th>\n      <td>-1.262486</td>\n      <td>-0.412173</td>\n      <td>1.561937</td>\n      <td>0.512753</td>\n    </tr>\n    <tr>\n      <th>2</th>\n      <td>-0.311408</td>\n      <td>-0.885538</td>\n      <td>-0.309987</td>\n      <td>-0.456820</td>\n    </tr>\n    <tr>\n      <th>3</th>\n      <td>0.245347</td>\n      <td>-1.082512</td>\n      <td>1.026705</td>\n      <td>2.102165</td>\n    </tr>\n    <tr>\n      <th>4</th>\n      <td>-0.304743</td>\n      <td>-0.771151</td>\n      <td>1.195640</td>\n      <td>-0.799086</td>\n    </tr>\n  </tbody>\n</table>\n</div>"
     },
     "metadata": {},
     "execution_count": 12
    }
   ],
   "source": [
    "df.head()"
   ]
  },
  {
   "cell_type": "code",
   "execution_count": 13,
   "metadata": {},
   "outputs": [],
   "source": [
    "df2 = pd.DataFrame({'Category':['A', 'B', 'C'], 'Values': [32,43,50]})"
   ]
  },
  {
   "cell_type": "code",
   "execution_count": 14,
   "metadata": {},
   "outputs": [
    {
     "output_type": "execute_result",
     "data": {
      "text/plain": [
       "  Category  Values\n",
       "0        A      32\n",
       "1        B      43\n",
       "2        C      50"
      ],
      "text/html": "<div>\n<style scoped>\n    .dataframe tbody tr th:only-of-type {\n        vertical-align: middle;\n    }\n\n    .dataframe tbody tr th {\n        vertical-align: top;\n    }\n\n    .dataframe thead th {\n        text-align: right;\n    }\n</style>\n<table border=\"1\" class=\"dataframe\">\n  <thead>\n    <tr style=\"text-align: right;\">\n      <th></th>\n      <th>Category</th>\n      <th>Values</th>\n    </tr>\n  </thead>\n  <tbody>\n    <tr>\n      <th>0</th>\n      <td>A</td>\n      <td>32</td>\n    </tr>\n    <tr>\n      <th>1</th>\n      <td>B</td>\n      <td>43</td>\n    </tr>\n    <tr>\n      <th>2</th>\n      <td>C</td>\n      <td>50</td>\n    </tr>\n  </tbody>\n</table>\n</div>"
     },
     "metadata": {},
     "execution_count": 14
    }
   ],
   "source": [
    "df2"
   ]
  },
  {
   "cell_type": "code",
   "execution_count": 16,
   "metadata": {},
   "outputs": [
    {
     "output_type": "execute_result",
     "data": {
      "text/plain": [
       "<AxesSubplot:>"
      ]
     },
     "metadata": {},
     "execution_count": 16
    },
    {
     "output_type": "display_data",
     "data": {
      "text/plain": "<Figure size 432x288 with 1 Axes>",
      "image/svg+xml": "<?xml version=\"1.0\" encoding=\"utf-8\" standalone=\"no\"?>\r\n<!DOCTYPE svg PUBLIC \"-//W3C//DTD SVG 1.1//EN\"\r\n  \"http://www.w3.org/Graphics/SVG/1.1/DTD/svg11.dtd\">\r\n<!-- Created with matplotlib (https://matplotlib.org/) -->\r\n<svg height=\"248.518125pt\" version=\"1.1\" viewBox=\"0 0 370.942187 248.518125\" width=\"370.942187pt\" xmlns=\"http://www.w3.org/2000/svg\" xmlns:xlink=\"http://www.w3.org/1999/xlink\">\r\n <metadata>\r\n  <rdf:RDF xmlns:cc=\"http://creativecommons.org/ns#\" xmlns:dc=\"http://purl.org/dc/elements/1.1/\" xmlns:rdf=\"http://www.w3.org/1999/02/22-rdf-syntax-ns#\">\r\n   <cc:Work>\r\n    <dc:type rdf:resource=\"http://purl.org/dc/dcmitype/StillImage\"/>\r\n    <dc:date>2021-05-17T22:48:27.519745</dc:date>\r\n    <dc:format>image/svg+xml</dc:format>\r\n    <dc:creator>\r\n     <cc:Agent>\r\n      <dc:title>Matplotlib v3.3.2, https://matplotlib.org/</dc:title>\r\n     </cc:Agent>\r\n    </dc:creator>\r\n   </cc:Work>\r\n  </rdf:RDF>\r\n </metadata>\r\n <defs>\r\n  <style type=\"text/css\">*{stroke-linecap:butt;stroke-linejoin:round;}</style>\r\n </defs>\r\n <g id=\"figure_1\">\r\n  <g id=\"patch_1\">\r\n   <path d=\"M 0 248.518125 \r\nL 370.942187 248.518125 \r\nL 370.942187 0 \r\nL 0 0 \r\nz\r\n\" style=\"fill:none;\"/>\r\n  </g>\r\n  <g id=\"axes_1\">\r\n   <g id=\"patch_2\">\r\n    <path d=\"M 28.942188 224.64 \r\nL 363.742188 224.64 \r\nL 363.742188 7.2 \r\nL 28.942188 7.2 \r\nz\r\n\" style=\"fill:#ffffff;\"/>\r\n   </g>\r\n   <g id=\"matplotlib.axis_1\">\r\n    <g id=\"xtick_1\">\r\n     <g id=\"line2d_1\">\r\n      <defs>\r\n       <path d=\"M 0 0 \r\nL 0 3.5 \r\n\" id=\"m6f0723c169\" style=\"stroke:#000000;stroke-width:0.8;\"/>\r\n      </defs>\r\n      <g>\r\n       <use style=\"stroke:#000000;stroke-width:0.8;\" x=\"44.160369\" xlink:href=\"#m6f0723c169\" y=\"224.64\"/>\r\n      </g>\r\n     </g>\r\n     <g id=\"text_1\">\r\n      <!-- 0 -->\r\n      <g transform=\"translate(40.979119 239.238438)scale(0.1 -0.1)\">\r\n       <defs>\r\n        <path d=\"M 31.78125 66.40625 \r\nQ 24.171875 66.40625 20.328125 58.90625 \r\nQ 16.5 51.421875 16.5 36.375 \r\nQ 16.5 21.390625 20.328125 13.890625 \r\nQ 24.171875 6.390625 31.78125 6.390625 \r\nQ 39.453125 6.390625 43.28125 13.890625 \r\nQ 47.125 21.390625 47.125 36.375 \r\nQ 47.125 51.421875 43.28125 58.90625 \r\nQ 39.453125 66.40625 31.78125 66.40625 \r\nz\r\nM 31.78125 74.21875 \r\nQ 44.046875 74.21875 50.515625 64.515625 \r\nQ 56.984375 54.828125 56.984375 36.375 \r\nQ 56.984375 17.96875 50.515625 8.265625 \r\nQ 44.046875 -1.421875 31.78125 -1.421875 \r\nQ 19.53125 -1.421875 13.0625 8.265625 \r\nQ 6.59375 17.96875 6.59375 36.375 \r\nQ 6.59375 54.828125 13.0625 64.515625 \r\nQ 19.53125 74.21875 31.78125 74.21875 \r\nz\r\n\" id=\"DejaVuSans-48\"/>\r\n       </defs>\r\n       <use xlink:href=\"#DejaVuSans-48\"/>\r\n      </g>\r\n     </g>\r\n    </g>\r\n    <g id=\"xtick_2\">\r\n     <g id=\"line2d_2\">\r\n      <g>\r\n       <use style=\"stroke:#000000;stroke-width:0.8;\" x=\"105.647973\" xlink:href=\"#m6f0723c169\" y=\"224.64\"/>\r\n      </g>\r\n     </g>\r\n     <g id=\"text_2\">\r\n      <!-- 20 -->\r\n      <g transform=\"translate(99.285473 239.238438)scale(0.1 -0.1)\">\r\n       <defs>\r\n        <path d=\"M 19.1875 8.296875 \r\nL 53.609375 8.296875 \r\nL 53.609375 0 \r\nL 7.328125 0 \r\nL 7.328125 8.296875 \r\nQ 12.9375 14.109375 22.625 23.890625 \r\nQ 32.328125 33.6875 34.8125 36.53125 \r\nQ 39.546875 41.84375 41.421875 45.53125 \r\nQ 43.3125 49.21875 43.3125 52.78125 \r\nQ 43.3125 58.59375 39.234375 62.25 \r\nQ 35.15625 65.921875 28.609375 65.921875 \r\nQ 23.96875 65.921875 18.8125 64.3125 \r\nQ 13.671875 62.703125 7.8125 59.421875 \r\nL 7.8125 69.390625 \r\nQ 13.765625 71.78125 18.9375 73 \r\nQ 24.125 74.21875 28.421875 74.21875 \r\nQ 39.75 74.21875 46.484375 68.546875 \r\nQ 53.21875 62.890625 53.21875 53.421875 \r\nQ 53.21875 48.921875 51.53125 44.890625 \r\nQ 49.859375 40.875 45.40625 35.40625 \r\nQ 44.1875 33.984375 37.640625 27.21875 \r\nQ 31.109375 20.453125 19.1875 8.296875 \r\nz\r\n\" id=\"DejaVuSans-50\"/>\r\n       </defs>\r\n       <use xlink:href=\"#DejaVuSans-50\"/>\r\n       <use x=\"63.623047\" xlink:href=\"#DejaVuSans-48\"/>\r\n      </g>\r\n     </g>\r\n    </g>\r\n    <g id=\"xtick_3\">\r\n     <g id=\"line2d_3\">\r\n      <g>\r\n       <use style=\"stroke:#000000;stroke-width:0.8;\" x=\"167.135576\" xlink:href=\"#m6f0723c169\" y=\"224.64\"/>\r\n      </g>\r\n     </g>\r\n     <g id=\"text_3\">\r\n      <!-- 40 -->\r\n      <g transform=\"translate(160.773076 239.238438)scale(0.1 -0.1)\">\r\n       <defs>\r\n        <path d=\"M 37.796875 64.3125 \r\nL 12.890625 25.390625 \r\nL 37.796875 25.390625 \r\nz\r\nM 35.203125 72.90625 \r\nL 47.609375 72.90625 \r\nL 47.609375 25.390625 \r\nL 58.015625 25.390625 \r\nL 58.015625 17.1875 \r\nL 47.609375 17.1875 \r\nL 47.609375 0 \r\nL 37.796875 0 \r\nL 37.796875 17.1875 \r\nL 4.890625 17.1875 \r\nL 4.890625 26.703125 \r\nz\r\n\" id=\"DejaVuSans-52\"/>\r\n       </defs>\r\n       <use xlink:href=\"#DejaVuSans-52\"/>\r\n       <use x=\"63.623047\" xlink:href=\"#DejaVuSans-48\"/>\r\n      </g>\r\n     </g>\r\n    </g>\r\n    <g id=\"xtick_4\">\r\n     <g id=\"line2d_4\">\r\n      <g>\r\n       <use style=\"stroke:#000000;stroke-width:0.8;\" x=\"228.623179\" xlink:href=\"#m6f0723c169\" y=\"224.64\"/>\r\n      </g>\r\n     </g>\r\n     <g id=\"text_4\">\r\n      <!-- 60 -->\r\n      <g transform=\"translate(222.260679 239.238438)scale(0.1 -0.1)\">\r\n       <defs>\r\n        <path d=\"M 33.015625 40.375 \r\nQ 26.375 40.375 22.484375 35.828125 \r\nQ 18.609375 31.296875 18.609375 23.390625 \r\nQ 18.609375 15.53125 22.484375 10.953125 \r\nQ 26.375 6.390625 33.015625 6.390625 \r\nQ 39.65625 6.390625 43.53125 10.953125 \r\nQ 47.40625 15.53125 47.40625 23.390625 \r\nQ 47.40625 31.296875 43.53125 35.828125 \r\nQ 39.65625 40.375 33.015625 40.375 \r\nz\r\nM 52.59375 71.296875 \r\nL 52.59375 62.3125 \r\nQ 48.875 64.0625 45.09375 64.984375 \r\nQ 41.3125 65.921875 37.59375 65.921875 \r\nQ 27.828125 65.921875 22.671875 59.328125 \r\nQ 17.53125 52.734375 16.796875 39.40625 \r\nQ 19.671875 43.65625 24.015625 45.921875 \r\nQ 28.375 48.1875 33.59375 48.1875 \r\nQ 44.578125 48.1875 50.953125 41.515625 \r\nQ 57.328125 34.859375 57.328125 23.390625 \r\nQ 57.328125 12.15625 50.6875 5.359375 \r\nQ 44.046875 -1.421875 33.015625 -1.421875 \r\nQ 20.359375 -1.421875 13.671875 8.265625 \r\nQ 6.984375 17.96875 6.984375 36.375 \r\nQ 6.984375 53.65625 15.1875 63.9375 \r\nQ 23.390625 74.21875 37.203125 74.21875 \r\nQ 40.921875 74.21875 44.703125 73.484375 \r\nQ 48.484375 72.75 52.59375 71.296875 \r\nz\r\n\" id=\"DejaVuSans-54\"/>\r\n       </defs>\r\n       <use xlink:href=\"#DejaVuSans-54\"/>\r\n       <use x=\"63.623047\" xlink:href=\"#DejaVuSans-48\"/>\r\n      </g>\r\n     </g>\r\n    </g>\r\n    <g id=\"xtick_5\">\r\n     <g id=\"line2d_5\">\r\n      <g>\r\n       <use style=\"stroke:#000000;stroke-width:0.8;\" x=\"290.110783\" xlink:href=\"#m6f0723c169\" y=\"224.64\"/>\r\n      </g>\r\n     </g>\r\n     <g id=\"text_5\">\r\n      <!-- 80 -->\r\n      <g transform=\"translate(283.748283 239.238438)scale(0.1 -0.1)\">\r\n       <defs>\r\n        <path d=\"M 31.78125 34.625 \r\nQ 24.75 34.625 20.71875 30.859375 \r\nQ 16.703125 27.09375 16.703125 20.515625 \r\nQ 16.703125 13.921875 20.71875 10.15625 \r\nQ 24.75 6.390625 31.78125 6.390625 \r\nQ 38.8125 6.390625 42.859375 10.171875 \r\nQ 46.921875 13.96875 46.921875 20.515625 \r\nQ 46.921875 27.09375 42.890625 30.859375 \r\nQ 38.875 34.625 31.78125 34.625 \r\nz\r\nM 21.921875 38.8125 \r\nQ 15.578125 40.375 12.03125 44.71875 \r\nQ 8.5 49.078125 8.5 55.328125 \r\nQ 8.5 64.0625 14.71875 69.140625 \r\nQ 20.953125 74.21875 31.78125 74.21875 \r\nQ 42.671875 74.21875 48.875 69.140625 \r\nQ 55.078125 64.0625 55.078125 55.328125 \r\nQ 55.078125 49.078125 51.53125 44.71875 \r\nQ 48 40.375 41.703125 38.8125 \r\nQ 48.828125 37.15625 52.796875 32.3125 \r\nQ 56.78125 27.484375 56.78125 20.515625 \r\nQ 56.78125 9.90625 50.3125 4.234375 \r\nQ 43.84375 -1.421875 31.78125 -1.421875 \r\nQ 19.734375 -1.421875 13.25 4.234375 \r\nQ 6.78125 9.90625 6.78125 20.515625 \r\nQ 6.78125 27.484375 10.78125 32.3125 \r\nQ 14.796875 37.15625 21.921875 38.8125 \r\nz\r\nM 18.3125 54.390625 \r\nQ 18.3125 48.734375 21.84375 45.5625 \r\nQ 25.390625 42.390625 31.78125 42.390625 \r\nQ 38.140625 42.390625 41.71875 45.5625 \r\nQ 45.3125 48.734375 45.3125 54.390625 \r\nQ 45.3125 60.0625 41.71875 63.234375 \r\nQ 38.140625 66.40625 31.78125 66.40625 \r\nQ 25.390625 66.40625 21.84375 63.234375 \r\nQ 18.3125 60.0625 18.3125 54.390625 \r\nz\r\n\" id=\"DejaVuSans-56\"/>\r\n       </defs>\r\n       <use xlink:href=\"#DejaVuSans-56\"/>\r\n       <use x=\"63.623047\" xlink:href=\"#DejaVuSans-48\"/>\r\n      </g>\r\n     </g>\r\n    </g>\r\n    <g id=\"xtick_6\">\r\n     <g id=\"line2d_6\">\r\n      <g>\r\n       <use style=\"stroke:#000000;stroke-width:0.8;\" x=\"351.598386\" xlink:href=\"#m6f0723c169\" y=\"224.64\"/>\r\n      </g>\r\n     </g>\r\n     <g id=\"text_6\">\r\n      <!-- 100 -->\r\n      <g transform=\"translate(342.054636 239.238438)scale(0.1 -0.1)\">\r\n       <defs>\r\n        <path d=\"M 12.40625 8.296875 \r\nL 28.515625 8.296875 \r\nL 28.515625 63.921875 \r\nL 10.984375 60.40625 \r\nL 10.984375 69.390625 \r\nL 28.421875 72.90625 \r\nL 38.28125 72.90625 \r\nL 38.28125 8.296875 \r\nL 54.390625 8.296875 \r\nL 54.390625 0 \r\nL 12.40625 0 \r\nz\r\n\" id=\"DejaVuSans-49\"/>\r\n       </defs>\r\n       <use xlink:href=\"#DejaVuSans-49\"/>\r\n       <use x=\"63.623047\" xlink:href=\"#DejaVuSans-48\"/>\r\n       <use x=\"127.246094\" xlink:href=\"#DejaVuSans-48\"/>\r\n      </g>\r\n     </g>\r\n    </g>\r\n   </g>\r\n   <g id=\"matplotlib.axis_2\">\r\n    <g id=\"ytick_1\">\r\n     <g id=\"line2d_7\">\r\n      <defs>\r\n       <path d=\"M 0 0 \r\nL -3.5 0 \r\n\" id=\"m63b206d18a\" style=\"stroke:#000000;stroke-width:0.8;\"/>\r\n      </defs>\r\n      <g>\r\n       <use style=\"stroke:#000000;stroke-width:0.8;\" x=\"28.942188\" xlink:href=\"#m63b206d18a\" y=\"202.067272\"/>\r\n      </g>\r\n     </g>\r\n     <g id=\"text_7\">\r\n      <!-- −4 -->\r\n      <g transform=\"translate(7.2 205.866491)scale(0.1 -0.1)\">\r\n       <defs>\r\n        <path d=\"M 10.59375 35.5 \r\nL 73.1875 35.5 \r\nL 73.1875 27.203125 \r\nL 10.59375 27.203125 \r\nz\r\n\" id=\"DejaVuSans-8722\"/>\r\n       </defs>\r\n       <use xlink:href=\"#DejaVuSans-8722\"/>\r\n       <use x=\"83.789062\" xlink:href=\"#DejaVuSans-52\"/>\r\n      </g>\r\n     </g>\r\n    </g>\r\n    <g id=\"ytick_2\">\r\n     <g id=\"line2d_8\">\r\n      <g>\r\n       <use style=\"stroke:#000000;stroke-width:0.8;\" x=\"28.942188\" xlink:href=\"#m63b206d18a\" y=\"177.285216\"/>\r\n      </g>\r\n     </g>\r\n     <g id=\"text_8\">\r\n      <!-- −3 -->\r\n      <g transform=\"translate(7.2 181.084435)scale(0.1 -0.1)\">\r\n       <defs>\r\n        <path d=\"M 40.578125 39.3125 \r\nQ 47.65625 37.796875 51.625 33 \r\nQ 55.609375 28.21875 55.609375 21.1875 \r\nQ 55.609375 10.40625 48.1875 4.484375 \r\nQ 40.765625 -1.421875 27.09375 -1.421875 \r\nQ 22.515625 -1.421875 17.65625 -0.515625 \r\nQ 12.796875 0.390625 7.625 2.203125 \r\nL 7.625 11.71875 \r\nQ 11.71875 9.328125 16.59375 8.109375 \r\nQ 21.484375 6.890625 26.8125 6.890625 \r\nQ 36.078125 6.890625 40.9375 10.546875 \r\nQ 45.796875 14.203125 45.796875 21.1875 \r\nQ 45.796875 27.640625 41.28125 31.265625 \r\nQ 36.765625 34.90625 28.71875 34.90625 \r\nL 20.21875 34.90625 \r\nL 20.21875 43.015625 \r\nL 29.109375 43.015625 \r\nQ 36.375 43.015625 40.234375 45.921875 \r\nQ 44.09375 48.828125 44.09375 54.296875 \r\nQ 44.09375 59.90625 40.109375 62.90625 \r\nQ 36.140625 65.921875 28.71875 65.921875 \r\nQ 24.65625 65.921875 20.015625 65.03125 \r\nQ 15.375 64.15625 9.8125 62.3125 \r\nL 9.8125 71.09375 \r\nQ 15.4375 72.65625 20.34375 73.4375 \r\nQ 25.25 74.21875 29.59375 74.21875 \r\nQ 40.828125 74.21875 47.359375 69.109375 \r\nQ 53.90625 64.015625 53.90625 55.328125 \r\nQ 53.90625 49.265625 50.4375 45.09375 \r\nQ 46.96875 40.921875 40.578125 39.3125 \r\nz\r\n\" id=\"DejaVuSans-51\"/>\r\n       </defs>\r\n       <use xlink:href=\"#DejaVuSans-8722\"/>\r\n       <use x=\"83.789062\" xlink:href=\"#DejaVuSans-51\"/>\r\n      </g>\r\n     </g>\r\n    </g>\r\n    <g id=\"ytick_3\">\r\n     <g id=\"line2d_9\">\r\n      <g>\r\n       <use style=\"stroke:#000000;stroke-width:0.8;\" x=\"28.942188\" xlink:href=\"#m63b206d18a\" y=\"152.50316\"/>\r\n      </g>\r\n     </g>\r\n     <g id=\"text_9\">\r\n      <!-- −2 -->\r\n      <g transform=\"translate(7.2 156.302379)scale(0.1 -0.1)\">\r\n       <use xlink:href=\"#DejaVuSans-8722\"/>\r\n       <use x=\"83.789062\" xlink:href=\"#DejaVuSans-50\"/>\r\n      </g>\r\n     </g>\r\n    </g>\r\n    <g id=\"ytick_4\">\r\n     <g id=\"line2d_10\">\r\n      <g>\r\n       <use style=\"stroke:#000000;stroke-width:0.8;\" x=\"28.942188\" xlink:href=\"#m63b206d18a\" y=\"127.721104\"/>\r\n      </g>\r\n     </g>\r\n     <g id=\"text_10\">\r\n      <!-- −1 -->\r\n      <g transform=\"translate(7.2 131.520323)scale(0.1 -0.1)\">\r\n       <use xlink:href=\"#DejaVuSans-8722\"/>\r\n       <use x=\"83.789062\" xlink:href=\"#DejaVuSans-49\"/>\r\n      </g>\r\n     </g>\r\n    </g>\r\n    <g id=\"ytick_5\">\r\n     <g id=\"line2d_11\">\r\n      <g>\r\n       <use style=\"stroke:#000000;stroke-width:0.8;\" x=\"28.942188\" xlink:href=\"#m63b206d18a\" y=\"102.939048\"/>\r\n      </g>\r\n     </g>\r\n     <g id=\"text_11\">\r\n      <!-- 0 -->\r\n      <g transform=\"translate(15.579688 106.738267)scale(0.1 -0.1)\">\r\n       <use xlink:href=\"#DejaVuSans-48\"/>\r\n      </g>\r\n     </g>\r\n    </g>\r\n    <g id=\"ytick_6\">\r\n     <g id=\"line2d_12\">\r\n      <g>\r\n       <use style=\"stroke:#000000;stroke-width:0.8;\" x=\"28.942188\" xlink:href=\"#m63b206d18a\" y=\"78.156992\"/>\r\n      </g>\r\n     </g>\r\n     <g id=\"text_12\">\r\n      <!-- 1 -->\r\n      <g transform=\"translate(15.579688 81.956211)scale(0.1 -0.1)\">\r\n       <use xlink:href=\"#DejaVuSans-49\"/>\r\n      </g>\r\n     </g>\r\n    </g>\r\n    <g id=\"ytick_7\">\r\n     <g id=\"line2d_13\">\r\n      <g>\r\n       <use style=\"stroke:#000000;stroke-width:0.8;\" x=\"28.942188\" xlink:href=\"#m63b206d18a\" y=\"53.374936\"/>\r\n      </g>\r\n     </g>\r\n     <g id=\"text_13\">\r\n      <!-- 2 -->\r\n      <g transform=\"translate(15.579688 57.174155)scale(0.1 -0.1)\">\r\n       <use xlink:href=\"#DejaVuSans-50\"/>\r\n      </g>\r\n     </g>\r\n    </g>\r\n    <g id=\"ytick_8\">\r\n     <g id=\"line2d_14\">\r\n      <g>\r\n       <use style=\"stroke:#000000;stroke-width:0.8;\" x=\"28.942188\" xlink:href=\"#m63b206d18a\" y=\"28.59288\"/>\r\n      </g>\r\n     </g>\r\n     <g id=\"text_14\">\r\n      <!-- 3 -->\r\n      <g transform=\"translate(15.579688 32.392099)scale(0.1 -0.1)\">\r\n       <use xlink:href=\"#DejaVuSans-51\"/>\r\n      </g>\r\n     </g>\r\n    </g>\r\n   </g>\r\n   <g id=\"line2d_15\">\r\n    <path clip-path=\"url(#peb01305424)\" d=\"M 44.160369 118.195139 \r\nL 47.234749 134.226049 \r\nL 50.30913 110.656379 \r\nL 53.38351 96.858846 \r\nL 56.45789 110.4912 \r\nL 59.53227 107.743717 \r\nL 62.60665 111.341439 \r\nL 65.68103 64.538695 \r\nL 68.755411 127.315595 \r\nL 71.829791 108.778311 \r\nL 74.904171 82.945061 \r\nL 77.978551 123.94802 \r\nL 81.052931 79.945954 \r\nL 84.127311 70.146283 \r\nL 87.201692 107.98484 \r\nL 90.276072 109.930296 \r\nL 93.350452 154.895879 \r\nL 96.424832 69.913623 \r\nL 99.499212 124.573938 \r\nL 102.573592 108.335922 \r\nL 105.647973 121.208468 \r\nL 108.722353 117.176272 \r\nL 111.796733 80.445304 \r\nL 114.871113 84.078812 \r\nL 117.945493 118.951459 \r\nL 121.019873 117.562638 \r\nL 124.094254 60.173839 \r\nL 127.168634 77.75357 \r\nL 130.243014 57.809256 \r\nL 133.317394 87.263232 \r\nL 136.391774 130.068782 \r\nL 139.466154 54.571426 \r\nL 142.540535 96.999358 \r\nL 145.614915 78.999944 \r\nL 148.689295 99.010505 \r\nL 151.763675 100.245208 \r\nL 154.838055 99.29693 \r\nL 157.912435 117.858269 \r\nL 160.986816 157.431737 \r\nL 164.061196 92.612306 \r\nL 167.135576 52.028576 \r\nL 170.209956 130.352308 \r\nL 173.284336 139.055015 \r\nL 176.358716 97.608603 \r\nL 179.433097 113.84486 \r\nL 182.507477 80.24482 \r\nL 185.581857 66.189001 \r\nL 188.656237 97.941219 \r\nL 191.730617 102.513282 \r\nL 194.804997 103.038962 \r\nL 197.879378 116.866337 \r\nL 200.953758 93.856142 \r\nL 204.028138 56.236216 \r\nL 207.102518 104.435454 \r\nL 210.176898 148.215543 \r\nL 213.251278 115.516366 \r\nL 216.325659 112.532552 \r\nL 219.400039 155.345483 \r\nL 222.474419 113.774422 \r\nL 225.548799 71.620789 \r\nL 228.623179 94.27374 \r\nL 231.697559 64.070848 \r\nL 234.77194 137.313004 \r\nL 237.84632 91.945888 \r\nL 240.9207 110.0713 \r\nL 243.99508 59.274894 \r\nL 247.06946 103.89714 \r\nL 250.14384 74.981951 \r\nL 253.218221 164.773143 \r\nL 256.292601 72.043317 \r\nL 259.366981 107.811766 \r\nL 262.441361 103.862912 \r\nL 265.515741 89.252096 \r\nL 268.590121 129.132009 \r\nL 271.664502 121.637973 \r\nL 274.738882 129.725858 \r\nL 277.813262 96.641943 \r\nL 280.887642 90.356079 \r\nL 283.962022 117.656881 \r\nL 287.036402 104.671492 \r\nL 290.110783 90.999406 \r\nL 293.185163 111.776973 \r\nL 296.259543 130.83495 \r\nL 299.333923 87.716808 \r\nL 302.408303 95.251967 \r\nL 305.482683 106.296295 \r\nL 308.557064 137.989883 \r\nL 311.631444 63.518229 \r\nL 314.705824 77.947417 \r\nL 317.780204 78.112555 \r\nL 320.854584 34.676666 \r\nL 323.928964 149.163211 \r\nL 327.003345 89.402046 \r\nL 330.077725 97.710327 \r\nL 333.152105 108.359193 \r\nL 336.226485 129.833298 \r\nL 339.300865 99.537577 \r\nL 342.375245 78.005208 \r\nL 345.449626 108.19595 \r\nL 348.524006 95.487983 \r\n\" style=\"fill:none;stroke:#1f77b4;stroke-linecap:square;stroke-width:1.5;\"/>\r\n   </g>\r\n   <g id=\"line2d_16\">\r\n    <path clip-path=\"url(#peb01305424)\" d=\"M 44.160369 140.503304 \r\nL 47.234749 113.153543 \r\nL 50.30913 124.884491 \r\nL 53.38351 129.765913 \r\nL 56.45789 122.049767 \r\nL 59.53227 100.129609 \r\nL 62.60665 153.439754 \r\nL 65.68103 133.745788 \r\nL 68.755411 97.289654 \r\nL 71.829791 46.309027 \r\nL 74.904171 88.846454 \r\nL 77.978551 105.736718 \r\nL 81.052931 75.996514 \r\nL 84.127311 125.898651 \r\nL 87.201692 108.689289 \r\nL 90.276072 73.253524 \r\nL 93.350452 142.85053 \r\nL 96.424832 77.694383 \r\nL 99.499212 123.518318 \r\nL 102.573592 101.427092 \r\nL 105.647973 138.696358 \r\nL 108.722353 111.539401 \r\nL 111.796733 122.776372 \r\nL 114.871113 78.472997 \r\nL 117.945493 105.678105 \r\nL 121.019873 115.869175 \r\nL 124.094254 80.187611 \r\nL 127.168634 114.602263 \r\nL 130.243014 98.989951 \r\nL 133.317394 111.473944 \r\nL 136.391774 99.814206 \r\nL 139.466154 80.598293 \r\nL 142.540535 150.238886 \r\nL 145.614915 70.065401 \r\nL 148.689295 128.129259 \r\nL 151.763675 127.908616 \r\nL 154.838055 82.509789 \r\nL 157.912435 96.223065 \r\nL 160.986816 153.821344 \r\nL 164.061196 111.141126 \r\nL 167.135576 95.24659 \r\nL 170.209956 95.00562 \r\nL 173.284336 101.169945 \r\nL 176.358716 93.820814 \r\nL 179.433097 123.608732 \r\nL 182.507477 107.674685 \r\nL 185.581857 113.220954 \r\nL 188.656237 142.34548 \r\nL 191.730617 113.312887 \r\nL 194.804997 96.563327 \r\nL 197.879378 73.533025 \r\nL 200.953758 102.65469 \r\nL 204.028138 75.831157 \r\nL 207.102518 87.013669 \r\nL 210.176898 83.992976 \r\nL 213.251278 54.202835 \r\nL 216.325659 95.303294 \r\nL 219.400039 121.691265 \r\nL 222.474419 105.936319 \r\nL 225.548799 151.503012 \r\nL 228.623179 93.816165 \r\nL 231.697559 114.206289 \r\nL 234.77194 71.052687 \r\nL 237.84632 41.96425 \r\nL 240.9207 57.158842 \r\nL 243.99508 109.665345 \r\nL 247.06946 83.442955 \r\nL 250.14384 81.777242 \r\nL 253.218221 99.602534 \r\nL 256.292601 92.315453 \r\nL 259.366981 107.110241 \r\nL 262.441361 128.597585 \r\nL 265.515741 64.794688 \r\nL 268.590121 126.83486 \r\nL 271.664502 89.257915 \r\nL 274.738882 112.621356 \r\nL 277.813262 94.813299 \r\nL 280.887642 122.887725 \r\nL 283.962022 108.522891 \r\nL 287.036402 142.440148 \r\nL 290.110783 116.299963 \r\nL 293.185163 82.855112 \r\nL 296.259543 109.119396 \r\nL 299.333923 116.902638 \r\nL 302.408303 95.243541 \r\nL 305.482683 104.809355 \r\nL 308.557064 93.101848 \r\nL 311.631444 160.126155 \r\nL 314.705824 91.316117 \r\nL 317.780204 93.795043 \r\nL 320.854584 112.447856 \r\nL 323.928964 84.640583 \r\nL 327.003345 76.095017 \r\nL 330.077725 137.219437 \r\nL 333.152105 117.403771 \r\nL 336.226485 82.212355 \r\nL 339.300865 102.33631 \r\nL 342.375245 92.320203 \r\nL 345.449626 101.750828 \r\nL 348.524006 83.209843 \r\n\" style=\"fill:none;stroke:#ff7f0e;stroke-linecap:square;stroke-width:1.5;\"/>\r\n   </g>\r\n   <g id=\"line2d_17\">\r\n    <path clip-path=\"url(#peb01305424)\" d=\"M 44.160369 83.793485 \r\nL 47.234749 64.231027 \r\nL 50.30913 110.621163 \r\nL 53.38351 77.495187 \r\nL 56.45789 73.308619 \r\nL 59.53227 157.544781 \r\nL 62.60665 82.947173 \r\nL 65.68103 147.802748 \r\nL 68.755411 65.440657 \r\nL 71.829791 74.561609 \r\nL 74.904171 92.435302 \r\nL 77.978551 91.293274 \r\nL 81.052931 151.833767 \r\nL 84.127311 150.743249 \r\nL 87.201692 157.090336 \r\nL 90.276072 98.528311 \r\nL 93.350452 58.518299 \r\nL 96.424832 137.517526 \r\nL 99.499212 75.278703 \r\nL 102.573592 65.13584 \r\nL 105.647973 129.158031 \r\nL 108.722353 154.464911 \r\nL 111.796733 102.429826 \r\nL 114.871113 62.310868 \r\nL 117.945493 83.367268 \r\nL 121.019873 121.708565 \r\nL 124.094254 82.624541 \r\nL 127.168634 87.548126 \r\nL 130.243014 64.969211 \r\nL 133.317394 55.628298 \r\nL 136.391774 79.913624 \r\nL 139.466154 110.1201 \r\nL 142.540535 85.854716 \r\nL 145.614915 68.711296 \r\nL 148.689295 98.532461 \r\nL 151.763675 95.868815 \r\nL 154.838055 68.34223 \r\nL 157.912435 81.95278 \r\nL 160.986816 98.670072 \r\nL 164.061196 133.439756 \r\nL 167.135576 88.461857 \r\nL 170.209956 67.585579 \r\nL 173.284336 63.548667 \r\nL 176.358716 115.497728 \r\nL 179.433097 89.053479 \r\nL 182.507477 101.654608 \r\nL 185.581857 112.903213 \r\nL 188.656237 62.934701 \r\nL 191.730617 78.401451 \r\nL 194.804997 120.669666 \r\nL 197.879378 123.660279 \r\nL 200.953758 54.343131 \r\nL 204.028138 93.757046 \r\nL 207.102518 73.704523 \r\nL 210.176898 65.99087 \r\nL 213.251278 113.762776 \r\nL 216.325659 109.81926 \r\nL 219.400039 153.544614 \r\nL 222.474419 69.144741 \r\nL 225.548799 138.616704 \r\nL 228.623179 112.857622 \r\nL 231.697559 122.937189 \r\nL 234.77194 80.348256 \r\nL 237.84632 89.469461 \r\nL 240.9207 94.999535 \r\nL 243.99508 122.287428 \r\nL 247.06946 107.43006 \r\nL 250.14384 114.254398 \r\nL 253.218221 123.141057 \r\nL 256.292601 94.333396 \r\nL 259.366981 111.494511 \r\nL 262.441361 117.755031 \r\nL 265.515741 105.341754 \r\nL 268.590121 87.425504 \r\nL 271.664502 47.946141 \r\nL 274.738882 172.304465 \r\nL 277.813262 82.105482 \r\nL 280.887642 167.685458 \r\nL 283.962022 91.38079 \r\nL 287.036402 106.722688 \r\nL 290.110783 133.799108 \r\nL 293.185163 119.944777 \r\nL 296.259543 65.288487 \r\nL 299.333923 95.165928 \r\nL 302.408303 122.191822 \r\nL 305.482683 123.263135 \r\nL 308.557064 98.441233 \r\nL 311.631444 117.966664 \r\nL 314.705824 105.330262 \r\nL 317.780204 114.196279 \r\nL 320.854584 76.613912 \r\nL 323.928964 73.367238 \r\nL 327.003345 76.368003 \r\nL 330.077725 127.948008 \r\nL 333.152105 119.086979 \r\nL 336.226485 159.662555 \r\nL 339.300865 106.594823 \r\nL 342.375245 116.763707 \r\nL 345.449626 115.281876 \r\nL 348.524006 80.936347 \r\n\" style=\"fill:none;stroke:#2ca02c;stroke-linecap:square;stroke-width:1.5;\"/>\r\n   </g>\r\n   <g id=\"line2d_18\">\r\n    <path clip-path=\"url(#peb01305424)\" d=\"M 44.160369 62.081327 \r\nL 47.234749 90.23198 \r\nL 50.30913 114.259992 \r\nL 53.38351 50.843078 \r\nL 56.45789 122.742031 \r\nL 59.53227 90.900536 \r\nL 62.60665 91.004355 \r\nL 65.68103 134.522183 \r\nL 68.755411 111.200081 \r\nL 71.829791 101.566474 \r\nL 74.904171 140.425064 \r\nL 77.978551 98.14629 \r\nL 81.052931 85.456219 \r\nL 84.127311 148.39145 \r\nL 87.201692 121.194787 \r\nL 90.276072 119.628008 \r\nL 93.350452 119.708713 \r\nL 96.424832 89.278602 \r\nL 99.499212 82.600434 \r\nL 102.573592 83.44689 \r\nL 105.647973 17.083636 \r\nL 108.722353 93.146504 \r\nL 111.796733 114.922184 \r\nL 114.871113 141.552226 \r\nL 117.945493 134.43716 \r\nL 121.019873 76.415937 \r\nL 124.094254 126.473875 \r\nL 127.168634 157.879124 \r\nL 130.243014 152.408656 \r\nL 133.317394 126.875238 \r\nL 136.391774 112.748928 \r\nL 139.466154 127.421468 \r\nL 142.540535 100.419016 \r\nL 145.614915 85.490273 \r\nL 148.689295 102.62335 \r\nL 151.763675 119.217673 \r\nL 154.838055 111.326568 \r\nL 157.912435 88.985077 \r\nL 160.986816 133.493493 \r\nL 164.061196 127.957389 \r\nL 167.135576 52.109173 \r\nL 170.209956 130.482892 \r\nL 173.284336 82.583515 \r\nL 176.358716 66.323906 \r\nL 179.433097 136.879808 \r\nL 182.507477 56.000389 \r\nL 185.581857 87.095923 \r\nL 188.656237 84.658927 \r\nL 191.730617 91.26824 \r\nL 194.804997 104.694982 \r\nL 197.879378 75.929886 \r\nL 200.953758 99.997879 \r\nL 204.028138 149.495437 \r\nL 207.102518 89.514581 \r\nL 210.176898 122.120233 \r\nL 213.251278 117.977818 \r\nL 216.325659 82.414006 \r\nL 219.400039 91.156262 \r\nL 222.474419 102.740946 \r\nL 225.548799 99.459195 \r\nL 228.623179 67.210887 \r\nL 231.697559 70.133512 \r\nL 234.77194 161.865747 \r\nL 237.84632 88.258984 \r\nL 240.9207 94.614347 \r\nL 243.99508 117.716239 \r\nL 247.06946 113.471582 \r\nL 250.14384 103.354716 \r\nL 253.218221 115.997343 \r\nL 256.292601 135.430489 \r\nL 259.366981 87.624566 \r\nL 262.441361 91.812819 \r\nL 265.515741 82.451445 \r\nL 268.590121 112.189814 \r\nL 271.664502 50.11954 \r\nL 274.738882 116.119868 \r\nL 277.813262 126.748496 \r\nL 280.887642 105.779666 \r\nL 283.962022 134.773606 \r\nL 287.036402 83.060597 \r\nL 290.110783 94.838976 \r\nL 293.185163 122.839701 \r\nL 296.259543 87.677693 \r\nL 299.333923 122.056963 \r\nL 302.408303 167.406124 \r\nL 305.482683 69.068097 \r\nL 308.557064 97.988108 \r\nL 311.631444 214.756364 \r\nL 314.705824 93.74496 \r\nL 317.780204 115.13017 \r\nL 320.854584 111.0432 \r\nL 323.928964 127.796485 \r\nL 327.003345 116.531685 \r\nL 330.077725 85.183509 \r\nL 333.152105 107.055222 \r\nL 336.226485 105.34329 \r\nL 339.300865 92.039778 \r\nL 342.375245 106.709796 \r\nL 345.449626 119.828769 \r\nL 348.524006 105.291682 \r\n\" style=\"fill:none;stroke:#d62728;stroke-linecap:square;stroke-width:1.5;\"/>\r\n   </g>\r\n   <g id=\"patch_3\">\r\n    <path d=\"M 28.942188 224.64 \r\nL 28.942188 7.2 \r\n\" style=\"fill:none;stroke:#000000;stroke-linecap:square;stroke-linejoin:miter;stroke-width:0.8;\"/>\r\n   </g>\r\n   <g id=\"patch_4\">\r\n    <path d=\"M 363.742188 224.64 \r\nL 363.742188 7.2 \r\n\" style=\"fill:none;stroke:#000000;stroke-linecap:square;stroke-linejoin:miter;stroke-width:0.8;\"/>\r\n   </g>\r\n   <g id=\"patch_5\">\r\n    <path d=\"M 28.942188 224.64 \r\nL 363.742188 224.64 \r\n\" style=\"fill:none;stroke:#000000;stroke-linecap:square;stroke-linejoin:miter;stroke-width:0.8;\"/>\r\n   </g>\r\n   <g id=\"patch_6\">\r\n    <path d=\"M 28.942188 7.2 \r\nL 363.742188 7.2 \r\n\" style=\"fill:none;stroke:#000000;stroke-linecap:square;stroke-linejoin:miter;stroke-width:0.8;\"/>\r\n   </g>\r\n   <g id=\"legend_1\">\r\n    <g id=\"patch_7\">\r\n     <path d=\"M 35.942188 219.64 \r\nL 75.642188 219.64 \r\nQ 77.642188 219.64 77.642188 217.64 \r\nL 77.642188 159.9275 \r\nQ 77.642188 157.9275 75.642188 157.9275 \r\nL 35.942188 157.9275 \r\nQ 33.942188 157.9275 33.942188 159.9275 \r\nL 33.942188 217.64 \r\nQ 33.942188 219.64 35.942188 219.64 \r\nz\r\n\" style=\"fill:#ffffff;opacity:0.8;stroke:#cccccc;stroke-linejoin:miter;\"/>\r\n    </g>\r\n    <g id=\"line2d_19\">\r\n     <path d=\"M 37.942188 166.025937 \r\nL 57.942188 166.025937 \r\n\" style=\"fill:none;stroke:#1f77b4;stroke-linecap:square;stroke-width:1.5;\"/>\r\n    </g>\r\n    <g id=\"line2d_20\"/>\r\n    <g id=\"text_15\">\r\n     <!-- A -->\r\n     <g transform=\"translate(65.942188 169.525937)scale(0.1 -0.1)\">\r\n      <defs>\r\n       <path d=\"M 34.1875 63.1875 \r\nL 20.796875 26.90625 \r\nL 47.609375 26.90625 \r\nz\r\nM 28.609375 72.90625 \r\nL 39.796875 72.90625 \r\nL 67.578125 0 \r\nL 57.328125 0 \r\nL 50.6875 18.703125 \r\nL 17.828125 18.703125 \r\nL 11.1875 0 \r\nL 0.78125 0 \r\nz\r\n\" id=\"DejaVuSans-65\"/>\r\n      </defs>\r\n      <use xlink:href=\"#DejaVuSans-65\"/>\r\n     </g>\r\n    </g>\r\n    <g id=\"line2d_21\">\r\n     <path d=\"M 37.942188 180.704062 \r\nL 57.942188 180.704062 \r\n\" style=\"fill:none;stroke:#ff7f0e;stroke-linecap:square;stroke-width:1.5;\"/>\r\n    </g>\r\n    <g id=\"line2d_22\"/>\r\n    <g id=\"text_16\">\r\n     <!-- B -->\r\n     <g transform=\"translate(65.942188 184.204062)scale(0.1 -0.1)\">\r\n      <defs>\r\n       <path d=\"M 19.671875 34.8125 \r\nL 19.671875 8.109375 \r\nL 35.5 8.109375 \r\nQ 43.453125 8.109375 47.28125 11.40625 \r\nQ 51.125 14.703125 51.125 21.484375 \r\nQ 51.125 28.328125 47.28125 31.5625 \r\nQ 43.453125 34.8125 35.5 34.8125 \r\nz\r\nM 19.671875 64.796875 \r\nL 19.671875 42.828125 \r\nL 34.28125 42.828125 \r\nQ 41.5 42.828125 45.03125 45.53125 \r\nQ 48.578125 48.25 48.578125 53.8125 \r\nQ 48.578125 59.328125 45.03125 62.0625 \r\nQ 41.5 64.796875 34.28125 64.796875 \r\nz\r\nM 9.8125 72.90625 \r\nL 35.015625 72.90625 \r\nQ 46.296875 72.90625 52.390625 68.21875 \r\nQ 58.5 63.53125 58.5 54.890625 \r\nQ 58.5 48.1875 55.375 44.234375 \r\nQ 52.25 40.28125 46.1875 39.3125 \r\nQ 53.46875 37.75 57.5 32.78125 \r\nQ 61.53125 27.828125 61.53125 20.40625 \r\nQ 61.53125 10.640625 54.890625 5.3125 \r\nQ 48.25 0 35.984375 0 \r\nL 9.8125 0 \r\nz\r\n\" id=\"DejaVuSans-66\"/>\r\n      </defs>\r\n      <use xlink:href=\"#DejaVuSans-66\"/>\r\n     </g>\r\n    </g>\r\n    <g id=\"line2d_23\">\r\n     <path d=\"M 37.942188 195.382187 \r\nL 57.942188 195.382187 \r\n\" style=\"fill:none;stroke:#2ca02c;stroke-linecap:square;stroke-width:1.5;\"/>\r\n    </g>\r\n    <g id=\"line2d_24\"/>\r\n    <g id=\"text_17\">\r\n     <!-- C -->\r\n     <g transform=\"translate(65.942188 198.882187)scale(0.1 -0.1)\">\r\n      <defs>\r\n       <path d=\"M 64.40625 67.28125 \r\nL 64.40625 56.890625 \r\nQ 59.421875 61.53125 53.78125 63.8125 \r\nQ 48.140625 66.109375 41.796875 66.109375 \r\nQ 29.296875 66.109375 22.65625 58.46875 \r\nQ 16.015625 50.828125 16.015625 36.375 \r\nQ 16.015625 21.96875 22.65625 14.328125 \r\nQ 29.296875 6.6875 41.796875 6.6875 \r\nQ 48.140625 6.6875 53.78125 8.984375 \r\nQ 59.421875 11.28125 64.40625 15.921875 \r\nL 64.40625 5.609375 \r\nQ 59.234375 2.09375 53.4375 0.328125 \r\nQ 47.65625 -1.421875 41.21875 -1.421875 \r\nQ 24.65625 -1.421875 15.125 8.703125 \r\nQ 5.609375 18.84375 5.609375 36.375 \r\nQ 5.609375 53.953125 15.125 64.078125 \r\nQ 24.65625 74.21875 41.21875 74.21875 \r\nQ 47.75 74.21875 53.53125 72.484375 \r\nQ 59.328125 70.75 64.40625 67.28125 \r\nz\r\n\" id=\"DejaVuSans-67\"/>\r\n      </defs>\r\n      <use xlink:href=\"#DejaVuSans-67\"/>\r\n     </g>\r\n    </g>\r\n    <g id=\"line2d_25\">\r\n     <path d=\"M 37.942188 210.060313 \r\nL 57.942188 210.060313 \r\n\" style=\"fill:none;stroke:#d62728;stroke-linecap:square;stroke-width:1.5;\"/>\r\n    </g>\r\n    <g id=\"line2d_26\"/>\r\n    <g id=\"text_18\">\r\n     <!-- D -->\r\n     <g transform=\"translate(65.942188 213.560313)scale(0.1 -0.1)\">\r\n      <defs>\r\n       <path d=\"M 19.671875 64.796875 \r\nL 19.671875 8.109375 \r\nL 31.59375 8.109375 \r\nQ 46.6875 8.109375 53.6875 14.9375 \r\nQ 60.6875 21.78125 60.6875 36.53125 \r\nQ 60.6875 51.171875 53.6875 57.984375 \r\nQ 46.6875 64.796875 31.59375 64.796875 \r\nz\r\nM 9.8125 72.90625 \r\nL 30.078125 72.90625 \r\nQ 51.265625 72.90625 61.171875 64.09375 \r\nQ 71.09375 55.28125 71.09375 36.53125 \r\nQ 71.09375 17.671875 61.125 8.828125 \r\nQ 51.171875 0 30.078125 0 \r\nL 9.8125 0 \r\nz\r\n\" id=\"DejaVuSans-68\"/>\r\n      </defs>\r\n      <use xlink:href=\"#DejaVuSans-68\"/>\r\n     </g>\r\n    </g>\r\n   </g>\r\n  </g>\r\n </g>\r\n <defs>\r\n  <clipPath id=\"peb01305424\">\r\n   <rect height=\"217.44\" width=\"334.8\" x=\"28.942188\" y=\"7.2\"/>\r\n  </clipPath>\r\n </defs>\r\n</svg>\r\n",
      "image/png": "[encoded data removed]"
     },
     "metadata": {
      "needs_background": "light"
     }
    }
   ],
   "source": [
    "#pandas makes this plot\n",
    "df.plot()"
   ]
  },
  {
   "cell_type": "code",
   "execution_count": 17,
   "metadata": {},
   "outputs": [
    {
     "output_type": "display_data",
     "data": {
      "application/vnd.plotly.v1+json": {
       "config": {
        "linkText": "Export to plot.ly",
        "plotlyServerURL": "https://plot.ly",
        "showLink": true
       },
       "data": [
        {
         "line": {
          "color": "rgba(255, 153, 51, 1.0)",
          "dash": "solid",
          "shape": "linear",
          "width": 1.3
         },
         "mode": "lines",
         "name": "A",
         "text": "",
         "type": "scatter",
         "x": [
          0,
          1,
          2,
          3,
          4,
          5,
          6,
          7,
          8,
          9,
          10,
          11,
          12,
          13,
          14,
          15,
          16,
          17,
          18,
          19,
          20,
          21,
          22,
          23,
          24,
          25,
          26,
          27,
          28,
          29,
          30,
          31,
          32,
          33,
          34,
          35,
          36,
          37,
          38,
          39,
          40,
          41,
          42,
          43,
          44,
          45,
          46,
          47,
          48,
          49,
          50,
          51,
          52,
          53,
          54,
          55,
          56,
          57,
          58,
          59,
          60,
          61,
          62,
          63,
          64,
          65,
          66,
          67,
          68,
          69,
          70,
          71,
          72,
          73,
          74,
          75,
          76,
          77,
          78,
          79,
          80,
          81,
          82,
          83,
          84,
          85,
          86,
          87,
          88,
          89,
          90,
          91,
          92,
          93,
          94,
          95,
          96,
          97,
          98,
          99
         ],
         "y": [
          -0.6156103919659448,
          -1.2624860845503696,
          -0.31140802116504096,
          0.2453469781558024,
          -0.3047427693778525,
          -0.1938769133025758,
          -0.3390513924431758,
          1.5495224843356186,
          -0.9836369725502156,
          -0.23562461797605772,
          0.8067929267569461,
          -0.8477493448990581,
          0.9278122312968577,
          1.323246341063781,
          -0.2036066511292313,
          -0.2821092872358227,
          -2.0965504522807996,
          1.33263460863893,
          -0.8730062749442947,
          -0.21777344944000587,
          -0.7372035421095716,
          -0.5744972691712578,
          0.9076625671382935,
          0.7610440414048033,
          -0.6461292555889644,
          -0.5900878597608552,
          1.725652171536661,
          1.0162788202334525,
          1.8210673215211053,
          0.6325470352743859,
          -1.0947329579554326,
          1.9517195306102926,
          0.23967706103861106,
          0.965985394546088,
          0.15852368966232788,
          0.10870123815921616,
          0.14696594995146783,
          -0.6020170814752861,
          -2.1988768505562195,
          0.4167024137898031,
          2.0543280192487425,
          -1.106173738405013,
          -1.4573434546316546,
          0.21509295230433023,
          -0.44006889224274537,
          0.9157524357694234,
          1.4829297270755881,
          0.20167127512276564,
          0.017180432551903796,
          -0.004031698138674777,
          -0.561990871613196,
          0.3665113985199989,
          1.8845422828466643,
          -0.0603826347550325,
          -1.8269870205652525,
          -0.5075171173939871,
          -0.38711492763209043,
          -2.114692791920225,
          -0.4372265767085458,
          1.2637474277480985,
          0.3496605779891636,
          1.5684009658161446,
          -1.387050190351923,
          0.44359355184557536,
          -0.28779903043026983,
          1.761926219230782,
          -0.03866072911630973,
          1.1281185715490418,
          -2.4951156025924455,
          1.246697677841596,
          -0.19662280856266776,
          -0.03727954581444563,
          0.552292854080817,
          -1.0569325305393944,
          -0.7545348399599937,
          -1.0808953664893906,
          0.2540993659207464,
          0.5077451846314007,
          -0.5938907220819517,
          -0.06990720893502703,
          0.4817857768495659,
          -0.356625977429201,
          -1.1256492380989043,
          0.6142444292828942,
          0.3101873680935744,
          -0.1354708868849027,
          -1.4143634705188226,
          1.590700092082429,
          1.0084567254873549,
          1.0017931015713446,
          2.7545084278062935,
          -1.8652271395589703,
          0.5462421071405258,
          0.21098818368871608,
          -0.21871249152835495,
          -1.0852307654587072,
          0.13725541941488004,
          1.0061247528761237,
          -0.21212535267469518,
          0.30066372306610023
         ]
        },
        {
         "line": {
          "color": "rgba(55, 128, 191, 1.0)",
          "dash": "solid",
          "shape": "linear",
          "width": 1.3
         },
         "mode": "lines",
         "name": "B",
         "text": "",
         "type": "scatter",
         "x": [
          0,
          1,
          2,
          3,
          4,
          5,
          6,
          7,
          8,
          9,
          10,
          11,
          12,
          13,
          14,
          15,
          16,
          17,
          18,
          19,
          20,
          21,
          22,
          23,
          24,
          25,
          26,
          27,
          28,
          29,
          30,
          31,
          32,
          33,
          34,
          35,
          36,
          37,
          38,
          39,
          40,
          41,
          42,
          43,
          44,
          45,
          46,
          47,
          48,
          49,
          50,
          51,
          52,
          53,
          54,
          55,
          56,
          57,
          58,
          59,
          60,
          61,
          62,
          63,
          64,
          65,
          66,
          67,
          68,
          69,
          70,
          71,
          72,
          73,
          74,
          75,
          76,
          77,
          78,
          79,
          80,
          81,
          82,
          83,
          84,
          85,
          86,
          87,
          88,
          89,
          90,
          91,
          92,
          93,
          94,
          95,
          96,
          97,
          98,
          99
         ],
         "y": [
          -1.5157844764829644,
          -0.41217303880693795,
          -0.885537620161897,
          -1.0825116625246325,
          -0.7711514620169873,
          0.11336586975555087,
          -2.037793252704692,
          -1.2431066908082695,
          0.2279630985577041,
          2.285122016115169,
          0.5686612058338246,
          -0.11289094249910886,
          1.0871791334388332,
          -0.9264607664001572,
          -0.23203245030153488,
          1.1978636491657273,
          -1.61049921813411,
          1.0186671150406723,
          -0.830410126643706,
          0.061010127179468195,
          -1.4428710111153462,
          -0.34703951558236673,
          -0.8004712699568765,
          0.9872486636646743,
          -0.11052583039513393,
          -0.521753599429375,
          0.9180609357590939,
          -0.4706314498351323,
          0.1593530936906216,
          -0.34439821179737523,
          0.1260929261261622,
          0.9014891700796437,
          -1.9086325343793984,
          1.3265100906787224,
          -1.016469774207095,
          -1.0075664358751315,
          0.824356905600885,
          0.27100187084226507,
          -2.0531910720757085,
          -0.33096840295790547,
          0.3104043378222117,
          0.3201279405565035,
          0.07138643572302857,
          0.36793695566802753,
          -0.8340584965818486,
          -0.19109136807731775,
          -0.41489317936293635,
          -1.5901195793905352,
          -0.41860282360146844,
          0.25727166901744886,
          1.186585290154861,
          0.01147437217925689,
          1.0938515937475013,
          0.6426173415422843,
          0.7645076934816141,
          1.9665927990300778,
          0.30811626021854516,
          -0.7566852826738959,
          -0.12094518765003719,
          -1.9596422320177858,
          0.3681245349734719,
          -0.45465319992726677,
          1.2866713239735286,
          2.460441459850995,
          1.8473126657480798,
          -0.27141805317652684,
          0.786702020671586,
          0.8539164822407052,
          0.13463426584909585,
          0.4286809506123593,
          -0.16831506587421277,
          -1.0353675736388193,
          1.5391927362068332,
          -0.9642384943504239,
          0.5520580360748376,
          -0.3906983426248046,
          0.32788841514508926,
          -0.8049645750137246,
          -0.2253179772183928,
          -1.5939395645671797,
          -0.5391366490474503,
          0.8104225248406977,
          -0.2493880163743225,
          -0.5634556674177098,
          0.31052738807329744,
          -0.07547020223629892,
          0.39694849620435846,
          -2.307601399367974,
          0.4690059427284225,
          0.36897684664490976,
          -0.38369728493884553,
          0.7383755977764519,
          1.0832043639985331,
          -1.3832746089444825,
          -0.5836772744395085,
          0.8363588903108603,
          0.024321542018380275,
          0.42848927597760655,
          0.04794678043158683,
          0.7961084702479705
         ]
        },
        {
         "line": {
          "color": "rgba(50, 171, 96, 1.0)",
          "dash": "solid",
          "shape": "linear",
          "width": 1.3
         },
         "mode": "lines",
         "name": "C",
         "text": "",
         "type": "scatter",
         "x": [
          0,
          1,
          2,
          3,
          4,
          5,
          6,
          7,
          8,
          9,
          10,
          11,
          12,
          13,
          14,
          15,
          16,
          17,
          18,
          19,
          20,
          21,
          22,
          23,
          24,
          25,
          26,
          27,
          28,
          29,
          30,
          31,
          32,
          33,
          34,
          35,
          36,
          37,
          38,
          39,
          40,
          41,
          42,
          43,
          44,
          45,
          46,
          47,
          48,
          49,
          50,
          51,
          52,
          53,
          54,
          55,
          56,
          57,
          58,
          59,
          60,
          61,
          62,
          63,
          64,
          65,
          66,
          67,
          68,
          69,
          70,
          71,
          72,
          73,
          74,
          75,
          76,
          77,
          78,
          79,
          80,
          81,
          82,
          83,
          84,
          85,
          86,
          87,
          88,
          89,
          90,
          91,
          92,
          93,
          94,
          95,
          96,
          97,
          98,
          99
         ],
         "y": [
          0.772557478686186,
          1.5619374538981845,
          -0.3099869748234525,
          1.0267050315279311,
          1.1956404915812884,
          -2.2034383874763273,
          0.8067077046610623,
          -1.8103300100843542,
          1.5131267189302007,
          1.145080104338141,
          0.4238448308395051,
          0.46992769701196596,
          -1.9729888143204348,
          -1.92898446679836,
          -2.1851006923672283,
          0.177981080341058,
          1.7924561902742222,
          -1.3953030497659535,
          1.1161441034855193,
          1.5254266216808785,
          -1.057982549327903,
          -2.0791601228009595,
          0.020548031171678853,
          1.6394192548300652,
          0.7897561132908015,
          -0.7573833534398482,
          0.8197264596516333,
          0.6210510589986893,
          1.5321503992937031,
          1.909072848879784,
          0.9291167713233864,
          -0.2897681888984046,
          0.6893831787329148,
          1.3811506413193944,
          0.17781360379369673,
          0.28529647423891524,
          1.3960430932538688,
          0.8468332022737332,
          0.17226076748453975,
          -1.2307577851619464,
          0.584180398498998,
          1.4265753028061903,
          1.5894719001527489,
          -0.5067650418253508,
          0.5603073817880679,
          0.05182943991604598,
          -0.4020717440584666,
          1.6142464862336825,
          0.9901356343311106,
          -0.715461960190174,
          -0.8361384942048204,
          1.9609316369543475,
          0.37051011952783747,
          1.1796650544323173,
          1.4909246631038218,
          -0.43675667401264395,
          -0.27762877267643055,
          -2.042024507397647,
          1.363660357916209,
          -1.4396568351103747,
          -0.40023208770273955,
          -0.8069605382383405,
          0.9115786262660264,
          0.543521772211655,
          0.3203734603915574,
          -0.7807415283622873,
          -0.1812203135138396,
          -0.45659447649636226,
          -0.8151869631119836,
          0.3472533446471602,
          -0.34522814052564155,
          -0.5978512282435612,
          -0.09695345656372797,
          0.6259990737607608,
          2.2190615508295393,
          -2.7990178457893067,
          0.8406714292695022,
          -2.612632719299105,
          0.46639623801524654,
          -0.1526765784565968,
          -1.2452582458578734,
          -0.6862113796050994,
          1.5192670707920042,
          0.31365919823521043,
          -0.776883635796296,
          -0.8201130333448449,
          0.1814948226897195,
          -0.6063910158985595,
          -0.0964897309311361,
          -0.4542492642451928,
          1.0622660106243298,
          1.193275113762125,
          1.0721888824180852,
          -1.0091559789130249,
          -0.6515977027632105,
          -2.288894333511839,
          -0.14751702777454642,
          -0.5578495614891594,
          -0.49805503060639866,
          0.8878481019315143
         ]
        },
        {
         "line": {
          "color": "rgba(128, 0, 128, 1.0)",
          "dash": "solid",
          "shape": "linear",
          "width": 1.3
         },
         "mode": "lines",
         "name": "D",
         "text": "",
         "type": "scatter",
         "x": [
          0,
          1,
          2,
          3,
          4,
          5,
          6,
          7,
          8,
          9,
          10,
          11,
          12,
          13,
          14,
          15,
          16,
          17,
          18,
          19,
          20,
          21,
          22,
          23,
          24,
          25,
          26,
          27,
          28,
          29,
          30,
          31,
          32,
          33,
          34,
          35,
          36,
          37,
          38,
          39,
          40,
          41,
          42,
          43,
          44,
          45,
          46,
          47,
          48,
          49,
          50,
          51,
          52,
          53,
          54,
          55,
          56,
          57,
          58,
          59,
          60,
          61,
          62,
          63,
          64,
          65,
          66,
          67,
          68,
          69,
          70,
          71,
          72,
          73,
          74,
          75,
          76,
          77,
          78,
          79,
          80,
          81,
          82,
          83,
          84,
          85,
          86,
          87,
          88,
          89,
          90,
          91,
          92,
          93,
          94,
          95,
          96,
          97,
          98,
          99
         ],
         "y": [
          1.6486816662331822,
          0.5127527941680837,
          -0.45682022340909373,
          2.1021649612,
          -0.7990855629929148,
          0.4857753772751398,
          0.4815860906083117,
          -1.2744356312135072,
          -0.33334735616287786,
          0.05538581977517408,
          -1.5126273539012896,
          0.19339632488793723,
          0.7054632311028051,
          -1.8340851996085326,
          -0.7366515004877121,
          -0.6734292032266896,
          -0.676685774101941,
          0.5512232961403791,
          0.8206992367161917,
          0.7865432202040523,
          3.4644184488191514,
          0.3951465629281341,
          -0.48354084255353336,
          -1.5581103345775005,
          -1.2710047919359644,
          1.0702546826142583,
          -0.949672111341957,
          -2.216929713465729,
          -1.9961865856818644,
          -0.9658677871958201,
          -0.3958461008901219,
          -0.9879091497424247,
          0.10168777245959641,
          0.7040890672529018,
          0.012738971417033285,
          -0.656871427462446,
          -0.3384513518579964,
          0.5630675214455418,
          -1.2329261460910355,
          -1.0095345242430749,
          2.051075780541855,
          -1.1114430424075747,
          0.8213819424432546,
          1.4774860385664552,
          -1.3695699721097088,
          1.8940583040337189,
          0.6392982715691162,
          0.7376353700258274,
          0.4709378312538229,
          -0.07085504170072542,
          1.0898676814593422,
          0.11868141187906694,
          -1.8786330200639423,
          0.5417011107843329,
          -0.7739949128980816,
          -0.6068410879267366,
          0.828221928735691,
          0.47545636639656247,
          0.007993772181831773,
          0.14041824090154645,
          1.4416947872685415,
          1.3237616799692526,
          -2.3777970169955016,
          0.5923666677664033,
          0.3359164990590182,
          -0.5962859323351763,
          -0.4250064485179365,
          -0.016772945841256614,
          -0.5269254239362561,
          -1.31108739074214,
          0.6179665884371213,
          0.4489631120581825,
          0.8267111974126393,
          -0.3732848291661357,
          2.1313610426401954,
          -0.531869502421004,
          -0.9607535438420161,
          -0.11462399514394792,
          -1.2845810072178885,
          0.8021308269304693,
          0.32685228787675885,
          -0.8030267081626514,
          0.6158227844521023,
          -0.7714418392550003,
          -2.6013610686189765,
          1.366753070088446,
          0.19977922081655458,
          -4.5120274063760775,
          0.370997798837073,
          -0.491933431806824,
          -0.32701692644832503,
          -1.0030417657193527,
          -0.5484870568614646,
          0.7164675406003863,
          -0.16609494033713815,
          -0.09701544574085726,
          0.43980493056478,
          -0.15215637559465336,
          -0.6815302536181178,
          -0.09493296897677167
         ]
        }
       ],
       "layout": {
        "legend": {
         "bgcolor": "#F5F6F9",
         "font": {
          "color": "#4D5663"
         }
        },
        "paper_bgcolor": "#F5F6F9",
        "plot_bgcolor": "#F5F6F9",
        "template": {
         "data": {
          "bar": [
           {
            "error_x": {
             "color": "#2a3f5f"
            },
            "error_y": {
             "color": "#2a3f5f"
            },
            "marker": {
             "line": {
              "color": "#E5ECF6",
              "width": 0.5
             }
            },
            "type": "bar"
           }
          ],
          "barpolar": [
           {
            "marker": {
             "line": {
              "color": "#E5ECF6",
              "width": 0.5
             }
            },
            "type": "barpolar"
           }
          ],
          "carpet": [
           {
            "aaxis": {
             "endlinecolor": "#2a3f5f",
             "gridcolor": "white",
             "linecolor": "white",
             "minorgridcolor": "white",
             "startlinecolor": "#2a3f5f"
            },
            "baxis": {
             "endlinecolor": "#2a3f5f",
             "gridcolor": "white",
             "linecolor": "white",
             "minorgridcolor": "white",
             "startlinecolor": "#2a3f5f"
            },
            "type": "carpet"
           }
          ],
          "choropleth": [
           {
            "colorbar": {
             "outlinewidth": 0,
             "ticks": ""
            },
            "type": "choropleth"
           }
          ],
          "contour": [
           {
            "colorbar": {
             "outlinewidth": 0,
             "ticks": ""
            },
            "colorscale": [
             [
              0,
              "#0d0887"
             ],
             [
              0.1111111111111111,
              "#46039f"
             ],
             [
              0.2222222222222222,
              "#7201a8"
             ],
             [
              0.3333333333333333,
              "#9c179e"
             ],
             [
              0.4444444444444444,
              "#bd3786"
             ],
             [
              0.5555555555555556,
              "#d8576b"
             ],
             [
              0.6666666666666666,
              "#ed7953"
             ],
             [
              0.7777777777777778,
              "#fb9f3a"
             ],
             [
              0.8888888888888888,
              "#fdca26"
             ],
             [
              1,
              "#f0f921"
             ]
            ],
            "type": "contour"
           }
          ],
          "contourcarpet": [
           {
            "colorbar": {
             "outlinewidth": 0,
             "ticks": ""
            },
            "type": "contourcarpet"
           }
          ],
          "heatmap": [
           {
            "colorbar": {
             "outlinewidth": 0,
             "ticks": ""
            },
            "colorscale": [
             [
              0,
              "#0d0887"
             ],
             [
              0.1111111111111111,
              "#46039f"
             ],
             [
              0.2222222222222222,
              "#7201a8"
             ],
             [
              0.3333333333333333,
              "#9c179e"
             ],
             [
              0.4444444444444444,
              "#bd3786"
             ],
             [
              0.5555555555555556,
              "#d8576b"
             ],
             [
              0.6666666666666666,
              "#ed7953"
             ],
             [
              0.7777777777777778,
              "#fb9f3a"
             ],
             [
              0.8888888888888888,
              "#fdca26"
             ],
             [
              1,
              "#f0f921"
             ]
            ],
            "type": "heatmap"
           }
          ],
          "heatmapgl": [
           {
            "colorbar": {
             "outlinewidth": 0,
             "ticks": ""
            },
            "colorscale": [
             [
              0,
              "#0d0887"
             ],
             [
              0.1111111111111111,
              "#46039f"
             ],
             [
              0.2222222222222222,
              "#7201a8"
             ],
             [
              0.3333333333333333,
              "#9c179e"
             ],
             [
              0.4444444444444444,
              "#bd3786"
             ],
             [
              0.5555555555555556,
              "#d8576b"
             ],
             [
              0.6666666666666666,
              "#ed7953"
             ],
             [
              0.7777777777777778,
              "#fb9f3a"
             ],
             [
              0.8888888888888888,
              "#fdca26"
             ],
             [
              1,
              "#f0f921"
             ]
            ],
            "type": "heatmapgl"
           }
          ],
          "histogram": [
           {
            "marker": {
             "colorbar": {
              "outlinewidth": 0,
              "ticks": ""
             }
            },
            "type": "histogram"
           }
          ],
          "histogram2d": [
           {
            "colorbar": {
             "outlinewidth": 0,
             "ticks": ""
            },
            "colorscale": [
             [
              0,
              "#0d0887"
             ],
             [
              0.1111111111111111,
              "#46039f"
             ],
             [
              0.2222222222222222,
              "#7201a8"
             ],
             [
              0.3333333333333333,
              "#9c179e"
             ],
             [
              0.4444444444444444,
              "#bd3786"
             ],
             [
              0.5555555555555556,
              "#d8576b"
             ],
             [
              0.6666666666666666,
              "#ed7953"
             ],
             [
              0.7777777777777778,
              "#fb9f3a"
             ],
             [
              0.8888888888888888,
              "#fdca26"
             ],
             [
              1,
              "#f0f921"
             ]
            ],
            "type": "histogram2d"
           }
          ],
          "histogram2dcontour": [
           {
            "colorbar": {
             "outlinewidth": 0,
             "ticks": ""
            },
            "colorscale": [
             [
              0,
              "#0d0887"
             ],
             [
              0.1111111111111111,
              "#46039f"
             ],
             [
              0.2222222222222222,
              "#7201a8"
             ],
             [
              0.3333333333333333,
              "#9c179e"
             ],
             [
              0.4444444444444444,
              "#bd3786"
             ],
             [
              0.5555555555555556,
              "#d8576b"
             ],
             [
              0.6666666666666666,
              "#ed7953"
             ],
             [
              0.7777777777777778,
              "#fb9f3a"
             ],
             [
              0.8888888888888888,
              "#fdca26"
             ],
             [
              1,
              "#f0f921"
             ]
            ],
            "type": "histogram2dcontour"
           }
          ],
          "mesh3d": [
           {
            "colorbar": {
             "outlinewidth": 0,
             "ticks": ""
            },
            "type": "mesh3d"
           }
          ],
          "parcoords": [
           {
            "line": {
             "colorbar": {
              "outlinewidth": 0,
              "ticks": ""
             }
            },
            "type": "parcoords"
           }
          ],
          "pie": [
           {
            "automargin": true,
            "type": "pie"
           }
          ],
          "scatter": [
           {
            "marker": {
             "colorbar": {
              "outlinewidth": 0,
              "ticks": ""
             }
            },
            "type": "scatter"
           }
          ],
          "scatter3d": [
           {
            "line": {
             "colorbar": {
              "outlinewidth": 0,
              "ticks": ""
             }
            },
            "marker": {
             "colorbar": {
              "outlinewidth": 0,
              "ticks": ""
             }
            },
            "type": "scatter3d"
           }
          ],
          "scattercarpet": [
           {
            "marker": {
             "colorbar": {
              "outlinewidth": 0,
              "ticks": ""
             }
            },
            "type": "scattercarpet"
           }
          ],
          "scattergeo": [
           {
            "marker": {
             "colorbar": {
              "outlinewidth": 0,
              "ticks": ""
             }
            },
            "type": "scattergeo"
           }
          ],
          "scattergl": [
           {
            "marker": {
             "colorbar": {
              "outlinewidth": 0,
              "ticks": ""
             }
            },
            "type": "scattergl"
           }
          ],
          "scattermapbox": [
           {
            "marker": {
             "colorbar": {
              "outlinewidth": 0,
              "ticks": ""
             }
            },
            "type": "scattermapbox"
           }
          ],
          "scatterpolar": [
           {
            "marker": {
             "colorbar": {
              "outlinewidth": 0,
              "ticks": ""
             }
            },
            "type": "scatterpolar"
           }
          ],
          "scatterpolargl": [
           {
            "marker": {
             "colorbar": {
              "outlinewidth": 0,
              "ticks": ""
             }
            },
            "type": "scatterpolargl"
           }
          ],
          "scatterternary": [
           {
            "marker": {
             "colorbar": {
              "outlinewidth": 0,
              "ticks": ""
             }
            },
            "type": "scatterternary"
           }
          ],
          "surface": [
           {
            "colorbar": {
             "outlinewidth": 0,
             "ticks": ""
            },
            "colorscale": [
             [
              0,
              "#0d0887"
             ],
             [
              0.1111111111111111,
              "#46039f"
             ],
             [
              0.2222222222222222,
              "#7201a8"
             ],
             [
              0.3333333333333333,
              "#9c179e"
             ],
             [
              0.4444444444444444,
              "#bd3786"
             ],
             [
              0.5555555555555556,
              "#d8576b"
             ],
             [
              0.6666666666666666,
              "#ed7953"
             ],
             [
              0.7777777777777778,
              "#fb9f3a"
             ],
             [
              0.8888888888888888,
              "#fdca26"
             ],
             [
              1,
              "#f0f921"
             ]
            ],
            "type": "surface"
           }
          ],
          "table": [
           {
            "cells": {
             "fill": {
              "color": "#EBF0F8"
             },
             "line": {
              "color": "white"
             }
            },
            "header": {
             "fill": {
              "color": "#C8D4E3"
             },
             "line": {
              "color": "white"
             }
            },
            "type": "table"
           }
          ]
         },
         "layout": {
          "annotationdefaults": {
           "arrowcolor": "#2a3f5f",
           "arrowhead": 0,
           "arrowwidth": 1
          },
          "autotypenumbers": "strict",
          "coloraxis": {
           "colorbar": {
            "outlinewidth": 0,
            "ticks": ""
           }
          },
          "colorscale": {
           "diverging": [
            [
             0,
             "#8e0152"
            ],
            [
             0.1,
             "#c51b7d"
            ],
            [
             0.2,
             "#de77ae"
            ],
            [
             0.3,
             "#f1b6da"
            ],
            [
             0.4,
             "#fde0ef"
            ],
            [
             0.5,
             "#f7f7f7"
            ],
            [
             0.6,
             "#e6f5d0"
            ],
            [
             0.7,
             "#b8e186"
            ],
            [
             0.8,
             "#7fbc41"
            ],
            [
             0.9,
             "#4d9221"
            ],
            [
             1,
             "#276419"
            ]
           ],
           "sequential": [
            [
             0,
             "#0d0887"
            ],
            [
             0.1111111111111111,
             "#46039f"
            ],
            [
             0.2222222222222222,
             "#7201a8"
            ],
            [
             0.3333333333333333,
             "#9c179e"
            ],
            [
             0.4444444444444444,
             "#bd3786"
            ],
            [
             0.5555555555555556,
             "#d8576b"
            ],
            [
             0.6666666666666666,
             "#ed7953"
            ],
            [
             0.7777777777777778,
             "#fb9f3a"
            ],
            [
             0.8888888888888888,
             "#fdca26"
            ],
            [
             1,
             "#f0f921"
            ]
           ],
           "sequentialminus": [
            [
             0,
             "#0d0887"
            ],
            [
             0.1111111111111111,
             "#46039f"
            ],
            [
             0.2222222222222222,
             "#7201a8"
            ],
            [
             0.3333333333333333,
             "#9c179e"
            ],
            [
             0.4444444444444444,
             "#bd3786"
            ],
            [
             0.5555555555555556,
             "#d8576b"
            ],
            [
             0.6666666666666666,
             "#ed7953"
            ],
            [
             0.7777777777777778,
             "#fb9f3a"
            ],
            [
             0.8888888888888888,
             "#fdca26"
            ],
            [
             1,
             "#f0f921"
            ]
           ]
          },
          "colorway": [
           "#636efa",
           "#EF553B",
           "#00cc96",
           "#ab63fa",
           "#FFA15A",
           "#19d3f3",
           "#FF6692",
           "#B6E880",
           "#FF97FF",
           "#FECB52"
          ],
          "font": {
           "color": "#2a3f5f"
          },
          "geo": {
           "bgcolor": "white",
           "lakecolor": "white",
           "landcolor": "#E5ECF6",
           "showlakes": true,
           "showland": true,
           "subunitcolor": "white"
          },
          "hoverlabel": {
           "align": "left"
          },
          "hovermode": "closest",
          "mapbox": {
           "style": "light"
          },
          "paper_bgcolor": "white",
          "plot_bgcolor": "#E5ECF6",
          "polar": {
           "angularaxis": {
            "gridcolor": "white",
            "linecolor": "white",
            "ticks": ""
           },
           "bgcolor": "#E5ECF6",
           "radialaxis": {
            "gridcolor": "white",
            "linecolor": "white",
            "ticks": ""
           }
          },
          "scene": {
           "xaxis": {
            "backgroundcolor": "#E5ECF6",
            "gridcolor": "white",
            "gridwidth": 2,
            "linecolor": "white",
            "showbackground": true,
            "ticks": "",
            "zerolinecolor": "white"
           },
           "yaxis": {
            "backgroundcolor": "#E5ECF6",
            "gridcolor": "white",
            "gridwidth": 2,
            "linecolor": "white",
            "showbackground": true,
            "ticks": "",
            "zerolinecolor": "white"
           },
           "zaxis": {
            "backgroundcolor": "#E5ECF6",
            "gridcolor": "white",
            "gridwidth": 2,
            "linecolor": "white",
            "showbackground": true,
            "ticks": "",
            "zerolinecolor": "white"
           }
          },
          "shapedefaults": {
           "line": {
            "color": "#2a3f5f"
           }
          },
          "ternary": {
           "aaxis": {
            "gridcolor": "white",
            "linecolor": "white",
            "ticks": ""
           },
           "baxis": {
            "gridcolor": "white",
            "linecolor": "white",
            "ticks": ""
           },
           "bgcolor": "#E5ECF6",
           "caxis": {
            "gridcolor": "white",
            "linecolor": "white",
            "ticks": ""
           }
          },
          "title": {
           "x": 0.05
          },
          "xaxis": {
           "automargin": true,
           "gridcolor": "white",
           "linecolor": "white",
           "ticks": "",
           "title": {
            "standoff": 15
           },
           "zerolinecolor": "white",
           "zerolinewidth": 2
          },
          "yaxis": {
           "automargin": true,
           "gridcolor": "white",
           "linecolor": "white",
           "ticks": "",
           "title": {
            "standoff": 15
           },
           "zerolinecolor": "white",
           "zerolinewidth": 2
          }
         }
        },
        "title": {
         "font": {
          "color": "#4D5663"
         }
        },
        "xaxis": {
         "gridcolor": "#E1E5ED",
         "showgrid": true,
         "tickfont": {
          "color": "#4D5663"
         },
         "title": {
          "font": {
           "color": "#4D5663"
          },
          "text": ""
         },
         "zerolinecolor": "#E1E5ED"
        },
        "yaxis": {
         "gridcolor": "#E1E5ED",
         "showgrid": true,
         "tickfont": {
          "color": "#4D5663"
         },
         "title": {
          "font": {
           "color": "#4D5663"
          },
          "text": ""
         },
         "zerolinecolor": "#E1E5ED"
        }
       }
      },
      "text/html": "<div>                            <div id=\"ddb364bc-4d10-410b-a8f4-6b68ec9ba272\" class=\"plotly-graph-div\" style=\"height:525px; width:100%;\"></div>            <script type=\"text/javascript\">                require([\"plotly\"], function(Plotly) {                    window.PLOTLYENV=window.PLOTLYENV || {};\n                    window.PLOTLYENV.BASE_URL='https://plot.ly';                                    if (document.getElementById(\"ddb364bc-4d10-410b-a8f4-6b68ec9ba272\")) {                    Plotly.newPlot(                        \"ddb364bc-4d10-410b-a8f4-6b68ec9ba272\",                        [{\"line\": {\"color\": \"rgba(255, 153, 51, 1.0)\", \"dash\": \"solid\", \"shape\": \"linear\", \"width\": 1.3}, \"mode\": \"lines\", \"name\": \"A\", \"text\": \"\", \"type\": \"scatter\", \"x\": [0, 1, 2, 3, 4, 5, 6, 7, 8, 9, 10, 11, 12, 13, 14, 15, 16, 17, 18, 19, 20, 21, 22, 23, 24, 25, 26, 27, 28, 29, 30, 31, 32, 33, 34, 35, 36, 37, 38, 39, 40, 41, 42, 43, 44, 45, 46, 47, 48, 49, 50, 51, 52, 53, 54, 55, 56, 57, 58, 59, 60, 61, 62, 63, 64, 65, 66, 67, 68, 69, 70, 71, 72, 73, 74, 75, 76, 77, 78, 79, 80, 81, 82, 83, 84, 85, 86, 87, 88, 89, 90, 91, 92, 93, 94, 95, 96, 97, 98, 99], \"y\": [-0.6156103919659448, -1.2624860845503696, -0.31140802116504096, 0.2453469781558024, -0.3047427693778525, -0.1938769133025758, -0.3390513924431758, 1.5495224843356186, -0.9836369725502156, -0.23562461797605772, 0.8067929267569461, -0.8477493448990581, 0.9278122312968577, 1.323246341063781, -0.2036066511292313, -0.2821092872358227, -2.0965504522807996, 1.33263460863893, -0.8730062749442947, -0.21777344944000587, -0.7372035421095716, -0.5744972691712578, 0.9076625671382935, 0.7610440414048033, -0.6461292555889644, -0.5900878597608552, 1.725652171536661, 1.0162788202334525, 1.8210673215211053, 0.6325470352743859, -1.0947329579554326, 1.9517195306102926, 0.23967706103861106, 0.965985394546088, 0.15852368966232788, 0.10870123815921616, 0.14696594995146783, -0.6020170814752861, -2.1988768505562195, 0.4167024137898031, 2.0543280192487425, -1.106173738405013, -1.4573434546316546, 0.21509295230433023, -0.44006889224274537, 0.9157524357694234, 1.4829297270755881, 0.20167127512276564, 0.017180432551903796, -0.004031698138674777, -0.561990871613196, 0.3665113985199989, 1.8845422828466643, -0.0603826347550325, -1.8269870205652525, -0.5075171173939871, -0.38711492763209043, -2.114692791920225, -0.4372265767085458, 1.2637474277480985, 0.3496605779891636, 1.5684009658161446, -1.387050190351923, 0.44359355184557536, -0.28779903043026983, 1.761926219230782, -0.03866072911630973, 1.1281185715490418, -2.4951156025924455, 1.246697677841596, -0.19662280856266776, -0.03727954581444563, 0.552292854080817, -1.0569325305393944, -0.7545348399599937, -1.0808953664893906, 0.2540993659207464, 0.5077451846314007, -0.5938907220819517, -0.06990720893502703, 0.4817857768495659, -0.356625977429201, -1.1256492380989043, 0.6142444292828942, 0.3101873680935744, -0.1354708868849027, -1.4143634705188226, 1.590700092082429, 1.0084567254873549, 1.0017931015713446, 2.7545084278062935, -1.8652271395589703, 0.5462421071405258, 0.21098818368871608, -0.21871249152835495, -1.0852307654587072, 0.13725541941488004, 1.0061247528761237, -0.21212535267469518, 0.30066372306610023]}, {\"line\": {\"color\": \"rgba(55, 128, 191, 1.0)\", \"dash\": \"solid\", \"shape\": \"linear\", \"width\": 1.3}, \"mode\": \"lines\", \"name\": \"B\", \"text\": \"\", \"type\": \"scatter\", \"x\": [0, 1, 2, 3, 4, 5, 6, 7, 8, 9, 10, 11, 12, 13, 14, 15, 16, 17, 18, 19, 20, 21, 22, 23, 24, 25, 26, 27, 28, 29, 30, 31, 32, 33, 34, 35, 36, 37, 38, 39, 40, 41, 42, 43, 44, 45, 46, 47, 48, 49, 50, 51, 52, 53, 54, 55, 56, 57, 58, 59, 60, 61, 62, 63, 64, 65, 66, 67, 68, 69, 70, 71, 72, 73, 74, 75, 76, 77, 78, 79, 80, 81, 82, 83, 84, 85, 86, 87, 88, 89, 90, 91, 92, 93, 94, 95, 96, 97, 98, 99], \"y\": [-1.5157844764829644, -0.41217303880693795, -0.885537620161897, -1.0825116625246325, -0.7711514620169873, 0.11336586975555087, -2.037793252704692, -1.2431066908082695, 0.2279630985577041, 2.285122016115169, 0.5686612058338246, -0.11289094249910886, 1.0871791334388332, -0.9264607664001572, -0.23203245030153488, 1.1978636491657273, -1.61049921813411, 1.0186671150406723, -0.830410126643706, 0.061010127179468195, -1.4428710111153462, -0.34703951558236673, -0.8004712699568765, 0.9872486636646743, -0.11052583039513393, -0.521753599429375, 0.9180609357590939, -0.4706314498351323, 0.1593530936906216, -0.34439821179737523, 0.1260929261261622, 0.9014891700796437, -1.9086325343793984, 1.3265100906787224, -1.016469774207095, -1.0075664358751315, 0.824356905600885, 0.27100187084226507, -2.0531910720757085, -0.33096840295790547, 0.3104043378222117, 0.3201279405565035, 0.07138643572302857, 0.36793695566802753, -0.8340584965818486, -0.19109136807731775, -0.41489317936293635, -1.5901195793905352, -0.41860282360146844, 0.25727166901744886, 1.186585290154861, 0.01147437217925689, 1.0938515937475013, 0.6426173415422843, 0.7645076934816141, 1.9665927990300778, 0.30811626021854516, -0.7566852826738959, -0.12094518765003719, -1.9596422320177858, 0.3681245349734719, -0.45465319992726677, 1.2866713239735286, 2.460441459850995, 1.8473126657480798, -0.27141805317652684, 0.786702020671586, 0.8539164822407052, 0.13463426584909585, 0.4286809506123593, -0.16831506587421277, -1.0353675736388193, 1.5391927362068332, -0.9642384943504239, 0.5520580360748376, -0.3906983426248046, 0.32788841514508926, -0.8049645750137246, -0.2253179772183928, -1.5939395645671797, -0.5391366490474503, 0.8104225248406977, -0.2493880163743225, -0.5634556674177098, 0.31052738807329744, -0.07547020223629892, 0.39694849620435846, -2.307601399367974, 0.4690059427284225, 0.36897684664490976, -0.38369728493884553, 0.7383755977764519, 1.0832043639985331, -1.3832746089444825, -0.5836772744395085, 0.8363588903108603, 0.024321542018380275, 0.42848927597760655, 0.04794678043158683, 0.7961084702479705]}, {\"line\": {\"color\": \"rgba(50, 171, 96, 1.0)\", \"dash\": \"solid\", \"shape\": \"linear\", \"width\": 1.3}, \"mode\": \"lines\", \"name\": \"C\", \"text\": \"\", \"type\": \"scatter\", \"x\": [0, 1, 2, 3, 4, 5, 6, 7, 8, 9, 10, 11, 12, 13, 14, 15, 16, 17, 18, 19, 20, 21, 22, 23, 24, 25, 26, 27, 28, 29, 30, 31, 32, 33, 34, 35, 36, 37, 38, 39, 40, 41, 42, 43, 44, 45, 46, 47, 48, 49, 50, 51, 52, 53, 54, 55, 56, 57, 58, 59, 60, 61, 62, 63, 64, 65, 66, 67, 68, 69, 70, 71, 72, 73, 74, 75, 76, 77, 78, 79, 80, 81, 82, 83, 84, 85, 86, 87, 88, 89, 90, 91, 92, 93, 94, 95, 96, 97, 98, 99], \"y\": [0.772557478686186, 1.5619374538981845, -0.3099869748234525, 1.0267050315279311, 1.1956404915812884, -2.2034383874763273, 0.8067077046610623, -1.8103300100843542, 1.5131267189302007, 1.145080104338141, 0.4238448308395051, 0.46992769701196596, -1.9729888143204348, -1.92898446679836, -2.1851006923672283, 0.177981080341058, 1.7924561902742222, -1.3953030497659535, 1.1161441034855193, 1.5254266216808785, -1.057982549327903, -2.0791601228009595, 0.020548031171678853, 1.6394192548300652, 0.7897561132908015, -0.7573833534398482, 0.8197264596516333, 0.6210510589986893, 1.5321503992937031, 1.909072848879784, 0.9291167713233864, -0.2897681888984046, 0.6893831787329148, 1.3811506413193944, 0.17781360379369673, 0.28529647423891524, 1.3960430932538688, 0.8468332022737332, 0.17226076748453975, -1.2307577851619464, 0.584180398498998, 1.4265753028061903, 1.5894719001527489, -0.5067650418253508, 0.5603073817880679, 0.05182943991604598, -0.4020717440584666, 1.6142464862336825, 0.9901356343311106, -0.715461960190174, -0.8361384942048204, 1.9609316369543475, 0.37051011952783747, 1.1796650544323173, 1.4909246631038218, -0.43675667401264395, -0.27762877267643055, -2.042024507397647, 1.363660357916209, -1.4396568351103747, -0.40023208770273955, -0.8069605382383405, 0.9115786262660264, 0.543521772211655, 0.3203734603915574, -0.7807415283622873, -0.1812203135138396, -0.45659447649636226, -0.8151869631119836, 0.3472533446471602, -0.34522814052564155, -0.5978512282435612, -0.09695345656372797, 0.6259990737607608, 2.2190615508295393, -2.7990178457893067, 0.8406714292695022, -2.612632719299105, 0.46639623801524654, -0.1526765784565968, -1.2452582458578734, -0.6862113796050994, 1.5192670707920042, 0.31365919823521043, -0.776883635796296, -0.8201130333448449, 0.1814948226897195, -0.6063910158985595, -0.0964897309311361, -0.4542492642451928, 1.0622660106243298, 1.193275113762125, 1.0721888824180852, -1.0091559789130249, -0.6515977027632105, -2.288894333511839, -0.14751702777454642, -0.5578495614891594, -0.49805503060639866, 0.8878481019315143]}, {\"line\": {\"color\": \"rgba(128, 0, 128, 1.0)\", \"dash\": \"solid\", \"shape\": \"linear\", \"width\": 1.3}, \"mode\": \"lines\", \"name\": \"D\", \"text\": \"\", \"type\": \"scatter\", \"x\": [0, 1, 2, 3, 4, 5, 6, 7, 8, 9, 10, 11, 12, 13, 14, 15, 16, 17, 18, 19, 20, 21, 22, 23, 24, 25, 26, 27, 28, 29, 30, 31, 32, 33, 34, 35, 36, 37, 38, 39, 40, 41, 42, 43, 44, 45, 46, 47, 48, 49, 50, 51, 52, 53, 54, 55, 56, 57, 58, 59, 60, 61, 62, 63, 64, 65, 66, 67, 68, 69, 70, 71, 72, 73, 74, 75, 76, 77, 78, 79, 80, 81, 82, 83, 84, 85, 86, 87, 88, 89, 90, 91, 92, 93, 94, 95, 96, 97, 98, 99], \"y\": [1.6486816662331822, 0.5127527941680837, -0.45682022340909373, 2.1021649612, -0.7990855629929148, 0.4857753772751398, 0.4815860906083117, -1.2744356312135072, -0.33334735616287786, 0.05538581977517408, -1.5126273539012896, 0.19339632488793723, 0.7054632311028051, -1.8340851996085326, -0.7366515004877121, -0.6734292032266896, -0.676685774101941, 0.5512232961403791, 0.8206992367161917, 0.7865432202040523, 3.4644184488191514, 0.3951465629281341, -0.48354084255353336, -1.5581103345775005, -1.2710047919359644, 1.0702546826142583, -0.949672111341957, -2.216929713465729, -1.9961865856818644, -0.9658677871958201, -0.3958461008901219, -0.9879091497424247, 0.10168777245959641, 0.7040890672529018, 0.012738971417033285, -0.656871427462446, -0.3384513518579964, 0.5630675214455418, -1.2329261460910355, -1.0095345242430749, 2.051075780541855, -1.1114430424075747, 0.8213819424432546, 1.4774860385664552, -1.3695699721097088, 1.8940583040337189, 0.6392982715691162, 0.7376353700258274, 0.4709378312538229, -0.07085504170072542, 1.0898676814593422, 0.11868141187906694, -1.8786330200639423, 0.5417011107843329, -0.7739949128980816, -0.6068410879267366, 0.828221928735691, 0.47545636639656247, 0.007993772181831773, 0.14041824090154645, 1.4416947872685415, 1.3237616799692526, -2.3777970169955016, 0.5923666677664033, 0.3359164990590182, -0.5962859323351763, -0.4250064485179365, -0.016772945841256614, -0.5269254239362561, -1.31108739074214, 0.6179665884371213, 0.4489631120581825, 0.8267111974126393, -0.3732848291661357, 2.1313610426401954, -0.531869502421004, -0.9607535438420161, -0.11462399514394792, -1.2845810072178885, 0.8021308269304693, 0.32685228787675885, -0.8030267081626514, 0.6158227844521023, -0.7714418392550003, -2.6013610686189765, 1.366753070088446, 0.19977922081655458, -4.5120274063760775, 0.370997798837073, -0.491933431806824, -0.32701692644832503, -1.0030417657193527, -0.5484870568614646, 0.7164675406003863, -0.16609494033713815, -0.09701544574085726, 0.43980493056478, -0.15215637559465336, -0.6815302536181178, -0.09493296897677167]}],                        {\"legend\": {\"bgcolor\": \"#F5F6F9\", \"font\": {\"color\": \"#4D5663\"}}, \"paper_bgcolor\": \"#F5F6F9\", \"plot_bgcolor\": \"#F5F6F9\", \"template\": {\"data\": {\"bar\": [{\"error_x\": {\"color\": \"#2a3f5f\"}, \"error_y\": {\"color\": \"#2a3f5f\"}, \"marker\": {\"line\": {\"color\": \"#E5ECF6\", \"width\": 0.5}}, \"type\": \"bar\"}], \"barpolar\": [{\"marker\": {\"line\": {\"color\": \"#E5ECF6\", \"width\": 0.5}}, \"type\": \"barpolar\"}], \"carpet\": [{\"aaxis\": {\"endlinecolor\": \"#2a3f5f\", \"gridcolor\": \"white\", \"linecolor\": \"white\", \"minorgridcolor\": \"white\", \"startlinecolor\": \"#2a3f5f\"}, \"baxis\": {\"endlinecolor\": \"#2a3f5f\", \"gridcolor\": \"white\", \"linecolor\": \"white\", \"minorgridcolor\": \"white\", \"startlinecolor\": \"#2a3f5f\"}, \"type\": \"carpet\"}], \"choropleth\": [{\"colorbar\": {\"outlinewidth\": 0, \"ticks\": \"\"}, \"type\": \"choropleth\"}], \"contour\": [{\"colorbar\": {\"outlinewidth\": 0, \"ticks\": \"\"}, \"colorscale\": [[0.0, \"#0d0887\"], [0.1111111111111111, \"#46039f\"], [0.2222222222222222, \"#7201a8\"], [0.3333333333333333, \"#9c179e\"], [0.4444444444444444, \"#bd3786\"], [0.5555555555555556, \"#d8576b\"], [0.6666666666666666, \"#ed7953\"], [0.7777777777777778, \"#fb9f3a\"], [0.8888888888888888, \"#fdca26\"], [1.0, \"#f0f921\"]], \"type\": \"contour\"}], \"contourcarpet\": [{\"colorbar\": {\"outlinewidth\": 0, \"ticks\": \"\"}, \"type\": \"contourcarpet\"}], \"heatmap\": [{\"colorbar\": {\"outlinewidth\": 0, \"ticks\": \"\"}, \"colorscale\": [[0.0, \"#0d0887\"], [0.1111111111111111, \"#46039f\"], [0.2222222222222222, \"#7201a8\"], [0.3333333333333333, \"#9c179e\"], [0.4444444444444444, \"#bd3786\"], [0.5555555555555556, \"#d8576b\"], [0.6666666666666666, \"#ed7953\"], [0.7777777777777778, \"#fb9f3a\"], [0.8888888888888888, \"#fdca26\"], [1.0, \"#f0f921\"]], \"type\": \"heatmap\"}], \"heatmapgl\": [{\"colorbar\": {\"outlinewidth\": 0, \"ticks\": \"\"}, \"colorscale\": [[0.0, \"#0d0887\"], [0.1111111111111111, \"#46039f\"], [0.2222222222222222, \"#7201a8\"], [0.3333333333333333, \"#9c179e\"], [0.4444444444444444, \"#bd3786\"], [0.5555555555555556, \"#d8576b\"], [0.6666666666666666, \"#ed7953\"], [0.7777777777777778, \"#fb9f3a\"], [0.8888888888888888, \"#fdca26\"], [1.0, \"#f0f921\"]], \"type\": \"heatmapgl\"}], \"histogram\": [{\"marker\": {\"colorbar\": {\"outlinewidth\": 0, \"ticks\": \"\"}}, \"type\": \"histogram\"}], \"histogram2d\": [{\"colorbar\": {\"outlinewidth\": 0, \"ticks\": \"\"}, \"colorscale\": [[0.0, \"#0d0887\"], [0.1111111111111111, \"#46039f\"], [0.2222222222222222, \"#7201a8\"], [0.3333333333333333, \"#9c179e\"], [0.4444444444444444, \"#bd3786\"], [0.5555555555555556, \"#d8576b\"], [0.6666666666666666, \"#ed7953\"], [0.7777777777777778, \"#fb9f3a\"], [0.8888888888888888, \"#fdca26\"], [1.0, \"#f0f921\"]], \"type\": \"histogram2d\"}], \"histogram2dcontour\": [{\"colorbar\": {\"outlinewidth\": 0, \"ticks\": \"\"}, \"colorscale\": [[0.0, \"#0d0887\"], [0.1111111111111111, \"#46039f\"], [0.2222222222222222, \"#7201a8\"], [0.3333333333333333, \"#9c179e\"], [0.4444444444444444, \"#bd3786\"], [0.5555555555555556, \"#d8576b\"], [0.6666666666666666, \"#ed7953\"], [0.7777777777777778, \"#fb9f3a\"], [0.8888888888888888, \"#fdca26\"], [1.0, \"#f0f921\"]], \"type\": \"histogram2dcontour\"}], \"mesh3d\": [{\"colorbar\": {\"outlinewidth\": 0, \"ticks\": \"\"}, \"type\": \"mesh3d\"}], \"parcoords\": [{\"line\": {\"colorbar\": {\"outlinewidth\": 0, \"ticks\": \"\"}}, \"type\": \"parcoords\"}], \"pie\": [{\"automargin\": true, \"type\": \"pie\"}], \"scatter\": [{\"marker\": {\"colorbar\": {\"outlinewidth\": 0, \"ticks\": \"\"}}, \"type\": \"scatter\"}], \"scatter3d\": [{\"line\": {\"colorbar\": {\"outlinewidth\": 0, \"ticks\": \"\"}}, \"marker\": {\"colorbar\": {\"outlinewidth\": 0, \"ticks\": \"\"}}, \"type\": \"scatter3d\"}], \"scattercarpet\": [{\"marker\": {\"colorbar\": {\"outlinewidth\": 0, \"ticks\": \"\"}}, \"type\": \"scattercarpet\"}], \"scattergeo\": [{\"marker\": {\"colorbar\": {\"outlinewidth\": 0, \"ticks\": \"\"}}, \"type\": \"scattergeo\"}], \"scattergl\": [{\"marker\": {\"colorbar\": {\"outlinewidth\": 0, \"ticks\": \"\"}}, \"type\": \"scattergl\"}], \"scattermapbox\": [{\"marker\": {\"colorbar\": {\"outlinewidth\": 0, \"ticks\": \"\"}}, \"type\": \"scattermapbox\"}], \"scatterpolar\": [{\"marker\": {\"colorbar\": {\"outlinewidth\": 0, \"ticks\": \"\"}}, \"type\": \"scatterpolar\"}], \"scatterpolargl\": [{\"marker\": {\"colorbar\": {\"outlinewidth\": 0, \"ticks\": \"\"}}, \"type\": \"scatterpolargl\"}], \"scatterternary\": [{\"marker\": {\"colorbar\": {\"outlinewidth\": 0, \"ticks\": \"\"}}, \"type\": \"scatterternary\"}], \"surface\": [{\"colorbar\": {\"outlinewidth\": 0, \"ticks\": \"\"}, \"colorscale\": [[0.0, \"#0d0887\"], [0.1111111111111111, \"#46039f\"], [0.2222222222222222, \"#7201a8\"], [0.3333333333333333, \"#9c179e\"], [0.4444444444444444, \"#bd3786\"], [0.5555555555555556, \"#d8576b\"], [0.6666666666666666, \"#ed7953\"], [0.7777777777777778, \"#fb9f3a\"], [0.8888888888888888, \"#fdca26\"], [1.0, \"#f0f921\"]], \"type\": \"surface\"}], \"table\": [{\"cells\": {\"fill\": {\"color\": \"#EBF0F8\"}, \"line\": {\"color\": \"white\"}}, \"header\": {\"fill\": {\"color\": \"#C8D4E3\"}, \"line\": {\"color\": \"white\"}}, \"type\": \"table\"}]}, \"layout\": {\"annotationdefaults\": {\"arrowcolor\": \"#2a3f5f\", \"arrowhead\": 0, \"arrowwidth\": 1}, \"autotypenumbers\": \"strict\", \"coloraxis\": {\"colorbar\": {\"outlinewidth\": 0, \"ticks\": \"\"}}, \"colorscale\": {\"diverging\": [[0, \"#8e0152\"], [0.1, \"#c51b7d\"], [0.2, \"#de77ae\"], [0.3, \"#f1b6da\"], [0.4, \"#fde0ef\"], [0.5, \"#f7f7f7\"], [0.6, \"#e6f5d0\"], [0.7, \"#b8e186\"], [0.8, \"#7fbc41\"], [0.9, \"#4d9221\"], [1, \"#276419\"]], \"sequential\": [[0.0, \"#0d0887\"], [0.1111111111111111, \"#46039f\"], [0.2222222222222222, \"#7201a8\"], [0.3333333333333333, \"#9c179e\"], [0.4444444444444444, \"#bd3786\"], [0.5555555555555556, \"#d8576b\"], [0.6666666666666666, \"#ed7953\"], [0.7777777777777778, \"#fb9f3a\"], [0.8888888888888888, \"#fdca26\"], [1.0, \"#f0f921\"]], \"sequentialminus\": [[0.0, \"#0d0887\"], [0.1111111111111111, \"#46039f\"], [0.2222222222222222, \"#7201a8\"], [0.3333333333333333, \"#9c179e\"], [0.4444444444444444, \"#bd3786\"], [0.5555555555555556, \"#d8576b\"], [0.6666666666666666, \"#ed7953\"], [0.7777777777777778, \"#fb9f3a\"], [0.8888888888888888, \"#fdca26\"], [1.0, \"#f0f921\"]]}, \"colorway\": [\"#636efa\", \"#EF553B\", \"#00cc96\", \"#ab63fa\", \"#FFA15A\", \"#19d3f3\", \"#FF6692\", \"#B6E880\", \"#FF97FF\", \"#FECB52\"], \"font\": {\"color\": \"#2a3f5f\"}, \"geo\": {\"bgcolor\": \"white\", \"lakecolor\": \"white\", \"landcolor\": \"#E5ECF6\", \"showlakes\": true, \"showland\": true, \"subunitcolor\": \"white\"}, \"hoverlabel\": {\"align\": \"left\"}, \"hovermode\": \"closest\", \"mapbox\": {\"style\": \"light\"}, \"paper_bgcolor\": \"white\", \"plot_bgcolor\": \"#E5ECF6\", \"polar\": {\"angularaxis\": {\"gridcolor\": \"white\", \"linecolor\": \"white\", \"ticks\": \"\"}, \"bgcolor\": \"#E5ECF6\", \"radialaxis\": {\"gridcolor\": \"white\", \"linecolor\": \"white\", \"ticks\": \"\"}}, \"scene\": {\"xaxis\": {\"backgroundcolor\": \"#E5ECF6\", \"gridcolor\": \"white\", \"gridwidth\": 2, \"linecolor\": \"white\", \"showbackground\": true, \"ticks\": \"\", \"zerolinecolor\": \"white\"}, \"yaxis\": {\"backgroundcolor\": \"#E5ECF6\", \"gridcolor\": \"white\", \"gridwidth\": 2, \"linecolor\": \"white\", \"showbackground\": true, \"ticks\": \"\", \"zerolinecolor\": \"white\"}, \"zaxis\": {\"backgroundcolor\": \"#E5ECF6\", \"gridcolor\": \"white\", \"gridwidth\": 2, \"linecolor\": \"white\", \"showbackground\": true, \"ticks\": \"\", \"zerolinecolor\": \"white\"}}, \"shapedefaults\": {\"line\": {\"color\": \"#2a3f5f\"}}, \"ternary\": {\"aaxis\": {\"gridcolor\": \"white\", \"linecolor\": \"white\", \"ticks\": \"\"}, \"baxis\": {\"gridcolor\": \"white\", \"linecolor\": \"white\", \"ticks\": \"\"}, \"bgcolor\": \"#E5ECF6\", \"caxis\": {\"gridcolor\": \"white\", \"linecolor\": \"white\", \"ticks\": \"\"}}, \"title\": {\"x\": 0.05}, \"xaxis\": {\"automargin\": true, \"gridcolor\": \"white\", \"linecolor\": \"white\", \"ticks\": \"\", \"title\": {\"standoff\": 15}, \"zerolinecolor\": \"white\", \"zerolinewidth\": 2}, \"yaxis\": {\"automargin\": true, \"gridcolor\": \"white\", \"linecolor\": \"white\", \"ticks\": \"\", \"title\": {\"standoff\": 15}, \"zerolinecolor\": \"white\", \"zerolinewidth\": 2}}}, \"title\": {\"font\": {\"color\": \"#4D5663\"}}, \"xaxis\": {\"gridcolor\": \"#E1E5ED\", \"showgrid\": true, \"tickfont\": {\"color\": \"#4D5663\"}, \"title\": {\"font\": {\"color\": \"#4D5663\"}, \"text\": \"\"}, \"zerolinecolor\": \"#E1E5ED\"}, \"yaxis\": {\"gridcolor\": \"#E1E5ED\", \"showgrid\": true, \"tickfont\": {\"color\": \"#4D5663\"}, \"title\": {\"font\": {\"color\": \"#4D5663\"}, \"text\": \"\"}, \"zerolinecolor\": \"#E1E5ED\"}},                        {\"showLink\": true, \"linkText\": \"Export to plot.ly\", \"plotlyServerURL\": \"https://plot.ly\", \"responsive\": true}                    ).then(function(){\n                            \nvar gd = document.getElementById('ddb364bc-4d10-410b-a8f4-6b68ec9ba272');\nvar x = new MutationObserver(function (mutations, observer) {{\n        var display = window.getComputedStyle(gd).display;\n        if (!display || display === 'none') {{\n            console.log([gd, 'removed!']);\n            Plotly.purge(gd);\n            observer.disconnect();\n        }}\n}});\n\n// Listen for the removal of the full notebook cells\nvar notebookContainer = gd.closest('#notebook-container');\nif (notebookContainer) {{\n    x.observe(notebookContainer, {childList: true});\n}}\n\n// Listen for the clearing of the current output cell\nvar outputEl = gd.closest('.output');\nif (outputEl) {{\n    x.observe(outputEl, {childList: true});\n}}\n\n                        })                };                });            </script>        </div>"
     },
     "metadata": {}
    }
   ],
   "source": [
    "df.iplot()"
   ]
  },
  {
   "cell_type": "code",
   "execution_count": 20,
   "metadata": {},
   "outputs": [
    {
     "output_type": "display_data",
     "data": {
      "application/vnd.plotly.v1+json": {
       "config": {
        "linkText": "Export to plot.ly",
        "plotlyServerURL": "https://plot.ly",
        "showLink": true
       },
       "data": [
        {
         "line": {
          "color": "rgba(255, 153, 51, 1.0)",
          "dash": "solid",
          "shape": "linear",
          "width": 1.3
         },
         "marker": {
          "size": 20,
          "symbol": "circle"
         },
         "mode": "markers",
         "name": "B",
         "text": "",
         "type": "scatter",
         "x": [
          -0.6156103919659448,
          -1.2624860845503696,
          -0.31140802116504096,
          0.2453469781558024,
          -0.3047427693778525,
          -0.1938769133025758,
          -0.3390513924431758,
          1.5495224843356186,
          -0.9836369725502156,
          -0.23562461797605772,
          0.8067929267569461,
          -0.8477493448990581,
          0.9278122312968577,
          1.323246341063781,
          -0.2036066511292313,
          -0.2821092872358227,
          -2.0965504522807996,
          1.33263460863893,
          -0.8730062749442947,
          -0.21777344944000587,
          -0.7372035421095716,
          -0.5744972691712578,
          0.9076625671382935,
          0.7610440414048033,
          -0.6461292555889644,
          -0.5900878597608552,
          1.725652171536661,
          1.0162788202334525,
          1.8210673215211053,
          0.6325470352743859,
          -1.0947329579554326,
          1.9517195306102926,
          0.23967706103861106,
          0.965985394546088,
          0.15852368966232788,
          0.10870123815921616,
          0.14696594995146783,
          -0.6020170814752861,
          -2.1988768505562195,
          0.4167024137898031,
          2.0543280192487425,
          -1.106173738405013,
          -1.4573434546316546,
          0.21509295230433023,
          -0.44006889224274537,
          0.9157524357694234,
          1.4829297270755881,
          0.20167127512276564,
          0.017180432551903796,
          -0.004031698138674777,
          -0.561990871613196,
          0.3665113985199989,
          1.8845422828466643,
          -0.0603826347550325,
          -1.8269870205652525,
          -0.5075171173939871,
          -0.38711492763209043,
          -2.114692791920225,
          -0.4372265767085458,
          1.2637474277480985,
          0.3496605779891636,
          1.5684009658161446,
          -1.387050190351923,
          0.44359355184557536,
          -0.28779903043026983,
          1.761926219230782,
          -0.03866072911630973,
          1.1281185715490418,
          -2.4951156025924455,
          1.246697677841596,
          -0.19662280856266776,
          -0.03727954581444563,
          0.552292854080817,
          -1.0569325305393944,
          -0.7545348399599937,
          -1.0808953664893906,
          0.2540993659207464,
          0.5077451846314007,
          -0.5938907220819517,
          -0.06990720893502703,
          0.4817857768495659,
          -0.356625977429201,
          -1.1256492380989043,
          0.6142444292828942,
          0.3101873680935744,
          -0.1354708868849027,
          -1.4143634705188226,
          1.590700092082429,
          1.0084567254873549,
          1.0017931015713446,
          2.7545084278062935,
          -1.8652271395589703,
          0.5462421071405258,
          0.21098818368871608,
          -0.21871249152835495,
          -1.0852307654587072,
          0.13725541941488004,
          1.0061247528761237,
          -0.21212535267469518,
          0.30066372306610023
         ],
         "y": [
          -1.5157844764829644,
          -0.41217303880693795,
          -0.885537620161897,
          -1.0825116625246325,
          -0.7711514620169873,
          0.11336586975555087,
          -2.037793252704692,
          -1.2431066908082695,
          0.2279630985577041,
          2.285122016115169,
          0.5686612058338246,
          -0.11289094249910886,
          1.0871791334388332,
          -0.9264607664001572,
          -0.23203245030153488,
          1.1978636491657273,
          -1.61049921813411,
          1.0186671150406723,
          -0.830410126643706,
          0.061010127179468195,
          -1.4428710111153462,
          -0.34703951558236673,
          -0.8004712699568765,
          0.9872486636646743,
          -0.11052583039513393,
          -0.521753599429375,
          0.9180609357590939,
          -0.4706314498351323,
          0.1593530936906216,
          -0.34439821179737523,
          0.1260929261261622,
          0.9014891700796437,
          -1.9086325343793984,
          1.3265100906787224,
          -1.016469774207095,
          -1.0075664358751315,
          0.824356905600885,
          0.27100187084226507,
          -2.0531910720757085,
          -0.33096840295790547,
          0.3104043378222117,
          0.3201279405565035,
          0.07138643572302857,
          0.36793695566802753,
          -0.8340584965818486,
          -0.19109136807731775,
          -0.41489317936293635,
          -1.5901195793905352,
          -0.41860282360146844,
          0.25727166901744886,
          1.186585290154861,
          0.01147437217925689,
          1.0938515937475013,
          0.6426173415422843,
          0.7645076934816141,
          1.9665927990300778,
          0.30811626021854516,
          -0.7566852826738959,
          -0.12094518765003719,
          -1.9596422320177858,
          0.3681245349734719,
          -0.45465319992726677,
          1.2866713239735286,
          2.460441459850995,
          1.8473126657480798,
          -0.27141805317652684,
          0.786702020671586,
          0.8539164822407052,
          0.13463426584909585,
          0.4286809506123593,
          -0.16831506587421277,
          -1.0353675736388193,
          1.5391927362068332,
          -0.9642384943504239,
          0.5520580360748376,
          -0.3906983426248046,
          0.32788841514508926,
          -0.8049645750137246,
          -0.2253179772183928,
          -1.5939395645671797,
          -0.5391366490474503,
          0.8104225248406977,
          -0.2493880163743225,
          -0.5634556674177098,
          0.31052738807329744,
          -0.07547020223629892,
          0.39694849620435846,
          -2.307601399367974,
          0.4690059427284225,
          0.36897684664490976,
          -0.38369728493884553,
          0.7383755977764519,
          1.0832043639985331,
          -1.3832746089444825,
          -0.5836772744395085,
          0.8363588903108603,
          0.024321542018380275,
          0.42848927597760655,
          0.04794678043158683,
          0.7961084702479705
         ]
        }
       ],
       "layout": {
        "legend": {
         "bgcolor": "#F5F6F9",
         "font": {
          "color": "#4D5663"
         }
        },
        "paper_bgcolor": "#F5F6F9",
        "plot_bgcolor": "#F5F6F9",
        "template": {
         "data": {
          "bar": [
           {
            "error_x": {
             "color": "#2a3f5f"
            },
            "error_y": {
             "color": "#2a3f5f"
            },
            "marker": {
             "line": {
              "color": "#E5ECF6",
              "width": 0.5
             }
            },
            "type": "bar"
           }
          ],
          "barpolar": [
           {
            "marker": {
             "line": {
              "color": "#E5ECF6",
              "width": 0.5
             }
            },
            "type": "barpolar"
           }
          ],
          "carpet": [
           {
            "aaxis": {
             "endlinecolor": "#2a3f5f",
             "gridcolor": "white",
             "linecolor": "white",
             "minorgridcolor": "white",
             "startlinecolor": "#2a3f5f"
            },
            "baxis": {
             "endlinecolor": "#2a3f5f",
             "gridcolor": "white",
             "linecolor": "white",
             "minorgridcolor": "white",
             "startlinecolor": "#2a3f5f"
            },
            "type": "carpet"
           }
          ],
          "choropleth": [
           {
            "colorbar": {
             "outlinewidth": 0,
             "ticks": ""
            },
            "type": "choropleth"
           }
          ],
          "contour": [
           {
            "colorbar": {
             "outlinewidth": 0,
             "ticks": ""
            },
            "colorscale": [
             [
              0,
              "#0d0887"
             ],
             [
              0.1111111111111111,
              "#46039f"
             ],
             [
              0.2222222222222222,
              "#7201a8"
             ],
             [
              0.3333333333333333,
              "#9c179e"
             ],
             [
              0.4444444444444444,
              "#bd3786"
             ],
             [
              0.5555555555555556,
              "#d8576b"
             ],
             [
              0.6666666666666666,
              "#ed7953"
             ],
             [
              0.7777777777777778,
              "#fb9f3a"
             ],
             [
              0.8888888888888888,
              "#fdca26"
             ],
             [
              1,
              "#f0f921"
             ]
            ],
            "type": "contour"
           }
          ],
          "contourcarpet": [
           {
            "colorbar": {
             "outlinewidth": 0,
             "ticks": ""
            },
            "type": "contourcarpet"
           }
          ],
          "heatmap": [
           {
            "colorbar": {
             "outlinewidth": 0,
             "ticks": ""
            },
            "colorscale": [
             [
              0,
              "#0d0887"
             ],
             [
              0.1111111111111111,
              "#46039f"
             ],
             [
              0.2222222222222222,
              "#7201a8"
             ],
             [
              0.3333333333333333,
              "#9c179e"
             ],
             [
              0.4444444444444444,
              "#bd3786"
             ],
             [
              0.5555555555555556,
              "#d8576b"
             ],
             [
              0.6666666666666666,
              "#ed7953"
             ],
             [
              0.7777777777777778,
              "#fb9f3a"
             ],
             [
              0.8888888888888888,
              "#fdca26"
             ],
             [
              1,
              "#f0f921"
             ]
            ],
            "type": "heatmap"
           }
          ],
          "heatmapgl": [
           {
            "colorbar": {
             "outlinewidth": 0,
             "ticks": ""
            },
            "colorscale": [
             [
              0,
              "#0d0887"
             ],
             [
              0.1111111111111111,
              "#46039f"
             ],
             [
              0.2222222222222222,
              "#7201a8"
             ],
             [
              0.3333333333333333,
              "#9c179e"
             ],
             [
              0.4444444444444444,
              "#bd3786"
             ],
             [
              0.5555555555555556,
              "#d8576b"
             ],
             [
              0.6666666666666666,
              "#ed7953"
             ],
             [
              0.7777777777777778,
              "#fb9f3a"
             ],
             [
              0.8888888888888888,
              "#fdca26"
             ],
             [
              1,
              "#f0f921"
             ]
            ],
            "type": "heatmapgl"
           }
          ],
          "histogram": [
           {
            "marker": {
             "colorbar": {
              "outlinewidth": 0,
              "ticks": ""
             }
            },
            "type": "histogram"
           }
          ],
          "histogram2d": [
           {
            "colorbar": {
             "outlinewidth": 0,
             "ticks": ""
            },
            "colorscale": [
             [
              0,
              "#0d0887"
             ],
             [
              0.1111111111111111,
              "#46039f"
             ],
             [
              0.2222222222222222,
              "#7201a8"
             ],
             [
              0.3333333333333333,
              "#9c179e"
             ],
             [
              0.4444444444444444,
              "#bd3786"
             ],
             [
              0.5555555555555556,
              "#d8576b"
             ],
             [
              0.6666666666666666,
              "#ed7953"
             ],
             [
              0.7777777777777778,
              "#fb9f3a"
             ],
             [
              0.8888888888888888,
              "#fdca26"
             ],
             [
              1,
              "#f0f921"
             ]
            ],
            "type": "histogram2d"
           }
          ],
          "histogram2dcontour": [
           {
            "colorbar": {
             "outlinewidth": 0,
             "ticks": ""
            },
            "colorscale": [
             [
              0,
              "#0d0887"
             ],
             [
              0.1111111111111111,
              "#46039f"
             ],
             [
              0.2222222222222222,
              "#7201a8"
             ],
             [
              0.3333333333333333,
              "#9c179e"
             ],
             [
              0.4444444444444444,
              "#bd3786"
             ],
             [
              0.5555555555555556,
              "#d8576b"
             ],
             [
              0.6666666666666666,
              "#ed7953"
             ],
             [
              0.7777777777777778,
              "#fb9f3a"
             ],
             [
              0.8888888888888888,
              "#fdca26"
             ],
             [
              1,
              "#f0f921"
             ]
            ],
            "type": "histogram2dcontour"
           }
          ],
          "mesh3d": [
           {
            "colorbar": {
             "outlinewidth": 0,
             "ticks": ""
            },
            "type": "mesh3d"
           }
          ],
          "parcoords": [
           {
            "line": {
             "colorbar": {
              "outlinewidth": 0,
              "ticks": ""
             }
            },
            "type": "parcoords"
           }
          ],
          "pie": [
           {
            "automargin": true,
            "type": "pie"
           }
          ],
          "scatter": [
           {
            "marker": {
             "colorbar": {
              "outlinewidth": 0,
              "ticks": ""
             }
            },
            "type": "scatter"
           }
          ],
          "scatter3d": [
           {
            "line": {
             "colorbar": {
              "outlinewidth": 0,
              "ticks": ""
             }
            },
            "marker": {
             "colorbar": {
              "outlinewidth": 0,
              "ticks": ""
             }
            },
            "type": "scatter3d"
           }
          ],
          "scattercarpet": [
           {
            "marker": {
             "colorbar": {
              "outlinewidth": 0,
              "ticks": ""
             }
            },
            "type": "scattercarpet"
           }
          ],
          "scattergeo": [
           {
            "marker": {
             "colorbar": {
              "outlinewidth": 0,
              "ticks": ""
             }
            },
            "type": "scattergeo"
           }
          ],
          "scattergl": [
           {
            "marker": {
             "colorbar": {
              "outlinewidth": 0,
              "ticks": ""
             }
            },
            "type": "scattergl"
           }
          ],
          "scattermapbox": [
           {
            "marker": {
             "colorbar": {
              "outlinewidth": 0,
              "ticks": ""
             }
            },
            "type": "scattermapbox"
           }
          ],
          "scatterpolar": [
           {
            "marker": {
             "colorbar": {
              "outlinewidth": 0,
              "ticks": ""
             }
            },
            "type": "scatterpolar"
           }
          ],
          "scatterpolargl": [
           {
            "marker": {
             "colorbar": {
              "outlinewidth": 0,
              "ticks": ""
             }
            },
            "type": "scatterpolargl"
           }
          ],
          "scatterternary": [
           {
            "marker": {
             "colorbar": {
              "outlinewidth": 0,
              "ticks": ""
             }
            },
            "type": "scatterternary"
           }
          ],
          "surface": [
           {
            "colorbar": {
             "outlinewidth": 0,
             "ticks": ""
            },
            "colorscale": [
             [
              0,
              "#0d0887"
             ],
             [
              0.1111111111111111,
              "#46039f"
             ],
             [
              0.2222222222222222,
              "#7201a8"
             ],
             [
              0.3333333333333333,
              "#9c179e"
             ],
             [
              0.4444444444444444,
              "#bd3786"
             ],
             [
              0.5555555555555556,
              "#d8576b"
             ],
             [
              0.6666666666666666,
              "#ed7953"
             ],
             [
              0.7777777777777778,
              "#fb9f3a"
             ],
             [
              0.8888888888888888,
              "#fdca26"
             ],
             [
              1,
              "#f0f921"
             ]
            ],
            "type": "surface"
           }
          ],
          "table": [
           {
            "cells": {
             "fill": {
              "color": "#EBF0F8"
             },
             "line": {
              "color": "white"
             }
            },
            "header": {
             "fill": {
              "color": "#C8D4E3"
             },
             "line": {
              "color": "white"
             }
            },
            "type": "table"
           }
          ]
         },
         "layout": {
          "annotationdefaults": {
           "arrowcolor": "#2a3f5f",
           "arrowhead": 0,
           "arrowwidth": 1
          },
          "autotypenumbers": "strict",
          "coloraxis": {
           "colorbar": {
            "outlinewidth": 0,
            "ticks": ""
           }
          },
          "colorscale": {
           "diverging": [
            [
             0,
             "#8e0152"
            ],
            [
             0.1,
             "#c51b7d"
            ],
            [
             0.2,
             "#de77ae"
            ],
            [
             0.3,
             "#f1b6da"
            ],
            [
             0.4,
             "#fde0ef"
            ],
            [
             0.5,
             "#f7f7f7"
            ],
            [
             0.6,
             "#e6f5d0"
            ],
            [
             0.7,
             "#b8e186"
            ],
            [
             0.8,
             "#7fbc41"
            ],
            [
             0.9,
             "#4d9221"
            ],
            [
             1,
             "#276419"
            ]
           ],
           "sequential": [
            [
             0,
             "#0d0887"
            ],
            [
             0.1111111111111111,
             "#46039f"
            ],
            [
             0.2222222222222222,
             "#7201a8"
            ],
            [
             0.3333333333333333,
             "#9c179e"
            ],
            [
             0.4444444444444444,
             "#bd3786"
            ],
            [
             0.5555555555555556,
             "#d8576b"
            ],
            [
             0.6666666666666666,
             "#ed7953"
            ],
            [
             0.7777777777777778,
             "#fb9f3a"
            ],
            [
             0.8888888888888888,
             "#fdca26"
            ],
            [
             1,
             "#f0f921"
            ]
           ],
           "sequentialminus": [
            [
             0,
             "#0d0887"
            ],
            [
             0.1111111111111111,
             "#46039f"
            ],
            [
             0.2222222222222222,
             "#7201a8"
            ],
            [
             0.3333333333333333,
             "#9c179e"
            ],
            [
             0.4444444444444444,
             "#bd3786"
            ],
            [
             0.5555555555555556,
             "#d8576b"
            ],
            [
             0.6666666666666666,
             "#ed7953"
            ],
            [
             0.7777777777777778,
             "#fb9f3a"
            ],
            [
             0.8888888888888888,
             "#fdca26"
            ],
            [
             1,
             "#f0f921"
            ]
           ]
          },
          "colorway": [
           "#636efa",
           "#EF553B",
           "#00cc96",
           "#ab63fa",
           "#FFA15A",
           "#19d3f3",
           "#FF6692",
           "#B6E880",
           "#FF97FF",
           "#FECB52"
          ],
          "font": {
           "color": "#2a3f5f"
          },
          "geo": {
           "bgcolor": "white",
           "lakecolor": "white",
           "landcolor": "#E5ECF6",
           "showlakes": true,
           "showland": true,
           "subunitcolor": "white"
          },
          "hoverlabel": {
           "align": "left"
          },
          "hovermode": "closest",
          "mapbox": {
           "style": "light"
          },
          "paper_bgcolor": "white",
          "plot_bgcolor": "#E5ECF6",
          "polar": {
           "angularaxis": {
            "gridcolor": "white",
            "linecolor": "white",
            "ticks": ""
           },
           "bgcolor": "#E5ECF6",
           "radialaxis": {
            "gridcolor": "white",
            "linecolor": "white",
            "ticks": ""
           }
          },
          "scene": {
           "xaxis": {
            "backgroundcolor": "#E5ECF6",
            "gridcolor": "white",
            "gridwidth": 2,
            "linecolor": "white",
            "showbackground": true,
            "ticks": "",
            "zerolinecolor": "white"
           },
           "yaxis": {
            "backgroundcolor": "#E5ECF6",
            "gridcolor": "white",
            "gridwidth": 2,
            "linecolor": "white",
            "showbackground": true,
            "ticks": "",
            "zerolinecolor": "white"
           },
           "zaxis": {
            "backgroundcolor": "#E5ECF6",
            "gridcolor": "white",
            "gridwidth": 2,
            "linecolor": "white",
            "showbackground": true,
            "ticks": "",
            "zerolinecolor": "white"
           }
          },
          "shapedefaults": {
           "line": {
            "color": "#2a3f5f"
           }
          },
          "ternary": {
           "aaxis": {
            "gridcolor": "white",
            "linecolor": "white",
            "ticks": ""
           },
           "baxis": {
            "gridcolor": "white",
            "linecolor": "white",
            "ticks": ""
           },
           "bgcolor": "#E5ECF6",
           "caxis": {
            "gridcolor": "white",
            "linecolor": "white",
            "ticks": ""
           }
          },
          "title": {
           "x": 0.05
          },
          "xaxis": {
           "automargin": true,
           "gridcolor": "white",
           "linecolor": "white",
           "ticks": "",
           "title": {
            "standoff": 15
           },
           "zerolinecolor": "white",
           "zerolinewidth": 2
          },
          "yaxis": {
           "automargin": true,
           "gridcolor": "white",
           "linecolor": "white",
           "ticks": "",
           "title": {
            "standoff": 15
           },
           "zerolinecolor": "white",
           "zerolinewidth": 2
          }
         }
        },
        "title": {
         "font": {
          "color": "#4D5663"
         }
        },
        "xaxis": {
         "gridcolor": "#E1E5ED",
         "showgrid": true,
         "tickfont": {
          "color": "#4D5663"
         },
         "title": {
          "font": {
           "color": "#4D5663"
          },
          "text": ""
         },
         "zerolinecolor": "#E1E5ED"
        },
        "yaxis": {
         "gridcolor": "#E1E5ED",
         "showgrid": true,
         "tickfont": {
          "color": "#4D5663"
         },
         "title": {
          "font": {
           "color": "#4D5663"
          },
          "text": ""
         },
         "zerolinecolor": "#E1E5ED"
        }
       }
      },
      "text/html": "<div>                            <div id=\"863f99c2-be23-44ac-aa7b-9890d265265e\" class=\"plotly-graph-div\" style=\"height:525px; width:100%;\"></div>            <script type=\"text/javascript\">                require([\"plotly\"], function(Plotly) {                    window.PLOTLYENV=window.PLOTLYENV || {};\n                    window.PLOTLYENV.BASE_URL='https://plot.ly';                                    if (document.getElementById(\"863f99c2-be23-44ac-aa7b-9890d265265e\")) {                    Plotly.newPlot(                        \"863f99c2-be23-44ac-aa7b-9890d265265e\",                        [{\"line\": {\"color\": \"rgba(255, 153, 51, 1.0)\", \"dash\": \"solid\", \"shape\": \"linear\", \"width\": 1.3}, \"marker\": {\"size\": 20, \"symbol\": \"circle\"}, \"mode\": \"markers\", \"name\": \"B\", \"text\": \"\", \"type\": \"scatter\", \"x\": [-0.6156103919659448, -1.2624860845503696, -0.31140802116504096, 0.2453469781558024, -0.3047427693778525, -0.1938769133025758, -0.3390513924431758, 1.5495224843356186, -0.9836369725502156, -0.23562461797605772, 0.8067929267569461, -0.8477493448990581, 0.9278122312968577, 1.323246341063781, -0.2036066511292313, -0.2821092872358227, -2.0965504522807996, 1.33263460863893, -0.8730062749442947, -0.21777344944000587, -0.7372035421095716, -0.5744972691712578, 0.9076625671382935, 0.7610440414048033, -0.6461292555889644, -0.5900878597608552, 1.725652171536661, 1.0162788202334525, 1.8210673215211053, 0.6325470352743859, -1.0947329579554326, 1.9517195306102926, 0.23967706103861106, 0.965985394546088, 0.15852368966232788, 0.10870123815921616, 0.14696594995146783, -0.6020170814752861, -2.1988768505562195, 0.4167024137898031, 2.0543280192487425, -1.106173738405013, -1.4573434546316546, 0.21509295230433023, -0.44006889224274537, 0.9157524357694234, 1.4829297270755881, 0.20167127512276564, 0.017180432551903796, -0.004031698138674777, -0.561990871613196, 0.3665113985199989, 1.8845422828466643, -0.0603826347550325, -1.8269870205652525, -0.5075171173939871, -0.38711492763209043, -2.114692791920225, -0.4372265767085458, 1.2637474277480985, 0.3496605779891636, 1.5684009658161446, -1.387050190351923, 0.44359355184557536, -0.28779903043026983, 1.761926219230782, -0.03866072911630973, 1.1281185715490418, -2.4951156025924455, 1.246697677841596, -0.19662280856266776, -0.03727954581444563, 0.552292854080817, -1.0569325305393944, -0.7545348399599937, -1.0808953664893906, 0.2540993659207464, 0.5077451846314007, -0.5938907220819517, -0.06990720893502703, 0.4817857768495659, -0.356625977429201, -1.1256492380989043, 0.6142444292828942, 0.3101873680935744, -0.1354708868849027, -1.4143634705188226, 1.590700092082429, 1.0084567254873549, 1.0017931015713446, 2.7545084278062935, -1.8652271395589703, 0.5462421071405258, 0.21098818368871608, -0.21871249152835495, -1.0852307654587072, 0.13725541941488004, 1.0061247528761237, -0.21212535267469518, 0.30066372306610023], \"y\": [-1.5157844764829644, -0.41217303880693795, -0.885537620161897, -1.0825116625246325, -0.7711514620169873, 0.11336586975555087, -2.037793252704692, -1.2431066908082695, 0.2279630985577041, 2.285122016115169, 0.5686612058338246, -0.11289094249910886, 1.0871791334388332, -0.9264607664001572, -0.23203245030153488, 1.1978636491657273, -1.61049921813411, 1.0186671150406723, -0.830410126643706, 0.061010127179468195, -1.4428710111153462, -0.34703951558236673, -0.8004712699568765, 0.9872486636646743, -0.11052583039513393, -0.521753599429375, 0.9180609357590939, -0.4706314498351323, 0.1593530936906216, -0.34439821179737523, 0.1260929261261622, 0.9014891700796437, -1.9086325343793984, 1.3265100906787224, -1.016469774207095, -1.0075664358751315, 0.824356905600885, 0.27100187084226507, -2.0531910720757085, -0.33096840295790547, 0.3104043378222117, 0.3201279405565035, 0.07138643572302857, 0.36793695566802753, -0.8340584965818486, -0.19109136807731775, -0.41489317936293635, -1.5901195793905352, -0.41860282360146844, 0.25727166901744886, 1.186585290154861, 0.01147437217925689, 1.0938515937475013, 0.6426173415422843, 0.7645076934816141, 1.9665927990300778, 0.30811626021854516, -0.7566852826738959, -0.12094518765003719, -1.9596422320177858, 0.3681245349734719, -0.45465319992726677, 1.2866713239735286, 2.460441459850995, 1.8473126657480798, -0.27141805317652684, 0.786702020671586, 0.8539164822407052, 0.13463426584909585, 0.4286809506123593, -0.16831506587421277, -1.0353675736388193, 1.5391927362068332, -0.9642384943504239, 0.5520580360748376, -0.3906983426248046, 0.32788841514508926, -0.8049645750137246, -0.2253179772183928, -1.5939395645671797, -0.5391366490474503, 0.8104225248406977, -0.2493880163743225, -0.5634556674177098, 0.31052738807329744, -0.07547020223629892, 0.39694849620435846, -2.307601399367974, 0.4690059427284225, 0.36897684664490976, -0.38369728493884553, 0.7383755977764519, 1.0832043639985331, -1.3832746089444825, -0.5836772744395085, 0.8363588903108603, 0.024321542018380275, 0.42848927597760655, 0.04794678043158683, 0.7961084702479705]}],                        {\"legend\": {\"bgcolor\": \"#F5F6F9\", \"font\": {\"color\": \"#4D5663\"}}, \"paper_bgcolor\": \"#F5F6F9\", \"plot_bgcolor\": \"#F5F6F9\", \"template\": {\"data\": {\"bar\": [{\"error_x\": {\"color\": \"#2a3f5f\"}, \"error_y\": {\"color\": \"#2a3f5f\"}, \"marker\": {\"line\": {\"color\": \"#E5ECF6\", \"width\": 0.5}}, \"type\": \"bar\"}], \"barpolar\": [{\"marker\": {\"line\": {\"color\": \"#E5ECF6\", \"width\": 0.5}}, \"type\": \"barpolar\"}], \"carpet\": [{\"aaxis\": {\"endlinecolor\": \"#2a3f5f\", \"gridcolor\": \"white\", \"linecolor\": \"white\", \"minorgridcolor\": \"white\", \"startlinecolor\": \"#2a3f5f\"}, \"baxis\": {\"endlinecolor\": \"#2a3f5f\", \"gridcolor\": \"white\", \"linecolor\": \"white\", \"minorgridcolor\": \"white\", \"startlinecolor\": \"#2a3f5f\"}, \"type\": \"carpet\"}], \"choropleth\": [{\"colorbar\": {\"outlinewidth\": 0, \"ticks\": \"\"}, \"type\": \"choropleth\"}], \"contour\": [{\"colorbar\": {\"outlinewidth\": 0, \"ticks\": \"\"}, \"colorscale\": [[0.0, \"#0d0887\"], [0.1111111111111111, \"#46039f\"], [0.2222222222222222, \"#7201a8\"], [0.3333333333333333, \"#9c179e\"], [0.4444444444444444, \"#bd3786\"], [0.5555555555555556, \"#d8576b\"], [0.6666666666666666, \"#ed7953\"], [0.7777777777777778, \"#fb9f3a\"], [0.8888888888888888, \"#fdca26\"], [1.0, \"#f0f921\"]], \"type\": \"contour\"}], \"contourcarpet\": [{\"colorbar\": {\"outlinewidth\": 0, \"ticks\": \"\"}, \"type\": \"contourcarpet\"}], \"heatmap\": [{\"colorbar\": {\"outlinewidth\": 0, \"ticks\": \"\"}, \"colorscale\": [[0.0, \"#0d0887\"], [0.1111111111111111, \"#46039f\"], [0.2222222222222222, \"#7201a8\"], [0.3333333333333333, \"#9c179e\"], [0.4444444444444444, \"#bd3786\"], [0.5555555555555556, \"#d8576b\"], [0.6666666666666666, \"#ed7953\"], [0.7777777777777778, \"#fb9f3a\"], [0.8888888888888888, \"#fdca26\"], [1.0, \"#f0f921\"]], \"type\": \"heatmap\"}], \"heatmapgl\": [{\"colorbar\": {\"outlinewidth\": 0, \"ticks\": \"\"}, \"colorscale\": [[0.0, \"#0d0887\"], [0.1111111111111111, \"#46039f\"], [0.2222222222222222, \"#7201a8\"], [0.3333333333333333, \"#9c179e\"], [0.4444444444444444, \"#bd3786\"], [0.5555555555555556, \"#d8576b\"], [0.6666666666666666, \"#ed7953\"], [0.7777777777777778, \"#fb9f3a\"], [0.8888888888888888, \"#fdca26\"], [1.0, \"#f0f921\"]], \"type\": \"heatmapgl\"}], \"histogram\": [{\"marker\": {\"colorbar\": {\"outlinewidth\": 0, \"ticks\": \"\"}}, \"type\": \"histogram\"}], \"histogram2d\": [{\"colorbar\": {\"outlinewidth\": 0, \"ticks\": \"\"}, \"colorscale\": [[0.0, \"#0d0887\"], [0.1111111111111111, \"#46039f\"], [0.2222222222222222, \"#7201a8\"], [0.3333333333333333, \"#9c179e\"], [0.4444444444444444, \"#bd3786\"], [0.5555555555555556, \"#d8576b\"], [0.6666666666666666, \"#ed7953\"], [0.7777777777777778, \"#fb9f3a\"], [0.8888888888888888, \"#fdca26\"], [1.0, \"#f0f921\"]], \"type\": \"histogram2d\"}], \"histogram2dcontour\": [{\"colorbar\": {\"outlinewidth\": 0, \"ticks\": \"\"}, \"colorscale\": [[0.0, \"#0d0887\"], [0.1111111111111111, \"#46039f\"], [0.2222222222222222, \"#7201a8\"], [0.3333333333333333, \"#9c179e\"], [0.4444444444444444, \"#bd3786\"], [0.5555555555555556, \"#d8576b\"], [0.6666666666666666, \"#ed7953\"], [0.7777777777777778, \"#fb9f3a\"], [0.8888888888888888, \"#fdca26\"], [1.0, \"#f0f921\"]], \"type\": \"histogram2dcontour\"}], \"mesh3d\": [{\"colorbar\": {\"outlinewidth\": 0, \"ticks\": \"\"}, \"type\": \"mesh3d\"}], \"parcoords\": [{\"line\": {\"colorbar\": {\"outlinewidth\": 0, \"ticks\": \"\"}}, \"type\": \"parcoords\"}], \"pie\": [{\"automargin\": true, \"type\": \"pie\"}], \"scatter\": [{\"marker\": {\"colorbar\": {\"outlinewidth\": 0, \"ticks\": \"\"}}, \"type\": \"scatter\"}], \"scatter3d\": [{\"line\": {\"colorbar\": {\"outlinewidth\": 0, \"ticks\": \"\"}}, \"marker\": {\"colorbar\": {\"outlinewidth\": 0, \"ticks\": \"\"}}, \"type\": \"scatter3d\"}], \"scattercarpet\": [{\"marker\": {\"colorbar\": {\"outlinewidth\": 0, \"ticks\": \"\"}}, \"type\": \"scattercarpet\"}], \"scattergeo\": [{\"marker\": {\"colorbar\": {\"outlinewidth\": 0, \"ticks\": \"\"}}, \"type\": \"scattergeo\"}], \"scattergl\": [{\"marker\": {\"colorbar\": {\"outlinewidth\": 0, \"ticks\": \"\"}}, \"type\": \"scattergl\"}], \"scattermapbox\": [{\"marker\": {\"colorbar\": {\"outlinewidth\": 0, \"ticks\": \"\"}}, \"type\": \"scattermapbox\"}], \"scatterpolar\": [{\"marker\": {\"colorbar\": {\"outlinewidth\": 0, \"ticks\": \"\"}}, \"type\": \"scatterpolar\"}], \"scatterpolargl\": [{\"marker\": {\"colorbar\": {\"outlinewidth\": 0, \"ticks\": \"\"}}, \"type\": \"scatterpolargl\"}], \"scatterternary\": [{\"marker\": {\"colorbar\": {\"outlinewidth\": 0, \"ticks\": \"\"}}, \"type\": \"scatterternary\"}], \"surface\": [{\"colorbar\": {\"outlinewidth\": 0, \"ticks\": \"\"}, \"colorscale\": [[0.0, \"#0d0887\"], [0.1111111111111111, \"#46039f\"], [0.2222222222222222, \"#7201a8\"], [0.3333333333333333, \"#9c179e\"], [0.4444444444444444, \"#bd3786\"], [0.5555555555555556, \"#d8576b\"], [0.6666666666666666, \"#ed7953\"], [0.7777777777777778, \"#fb9f3a\"], [0.8888888888888888, \"#fdca26\"], [1.0, \"#f0f921\"]], \"type\": \"surface\"}], \"table\": [{\"cells\": {\"fill\": {\"color\": \"#EBF0F8\"}, \"line\": {\"color\": \"white\"}}, \"header\": {\"fill\": {\"color\": \"#C8D4E3\"}, \"line\": {\"color\": \"white\"}}, \"type\": \"table\"}]}, \"layout\": {\"annotationdefaults\": {\"arrowcolor\": \"#2a3f5f\", \"arrowhead\": 0, \"arrowwidth\": 1}, \"autotypenumbers\": \"strict\", \"coloraxis\": {\"colorbar\": {\"outlinewidth\": 0, \"ticks\": \"\"}}, \"colorscale\": {\"diverging\": [[0, \"#8e0152\"], [0.1, \"#c51b7d\"], [0.2, \"#de77ae\"], [0.3, \"#f1b6da\"], [0.4, \"#fde0ef\"], [0.5, \"#f7f7f7\"], [0.6, \"#e6f5d0\"], [0.7, \"#b8e186\"], [0.8, \"#7fbc41\"], [0.9, \"#4d9221\"], [1, \"#276419\"]], \"sequential\": [[0.0, \"#0d0887\"], [0.1111111111111111, \"#46039f\"], [0.2222222222222222, \"#7201a8\"], [0.3333333333333333, \"#9c179e\"], [0.4444444444444444, \"#bd3786\"], [0.5555555555555556, \"#d8576b\"], [0.6666666666666666, \"#ed7953\"], [0.7777777777777778, \"#fb9f3a\"], [0.8888888888888888, \"#fdca26\"], [1.0, \"#f0f921\"]], \"sequentialminus\": [[0.0, \"#0d0887\"], [0.1111111111111111, \"#46039f\"], [0.2222222222222222, \"#7201a8\"], [0.3333333333333333, \"#9c179e\"], [0.4444444444444444, \"#bd3786\"], [0.5555555555555556, \"#d8576b\"], [0.6666666666666666, \"#ed7953\"], [0.7777777777777778, \"#fb9f3a\"], [0.8888888888888888, \"#fdca26\"], [1.0, \"#f0f921\"]]}, \"colorway\": [\"#636efa\", \"#EF553B\", \"#00cc96\", \"#ab63fa\", \"#FFA15A\", \"#19d3f3\", \"#FF6692\", \"#B6E880\", \"#FF97FF\", \"#FECB52\"], \"font\": {\"color\": \"#2a3f5f\"}, \"geo\": {\"bgcolor\": \"white\", \"lakecolor\": \"white\", \"landcolor\": \"#E5ECF6\", \"showlakes\": true, \"showland\": true, \"subunitcolor\": \"white\"}, \"hoverlabel\": {\"align\": \"left\"}, \"hovermode\": \"closest\", \"mapbox\": {\"style\": \"light\"}, \"paper_bgcolor\": \"white\", \"plot_bgcolor\": \"#E5ECF6\", \"polar\": {\"angularaxis\": {\"gridcolor\": \"white\", \"linecolor\": \"white\", \"ticks\": \"\"}, \"bgcolor\": \"#E5ECF6\", \"radialaxis\": {\"gridcolor\": \"white\", \"linecolor\": \"white\", \"ticks\": \"\"}}, \"scene\": {\"xaxis\": {\"backgroundcolor\": \"#E5ECF6\", \"gridcolor\": \"white\", \"gridwidth\": 2, \"linecolor\": \"white\", \"showbackground\": true, \"ticks\": \"\", \"zerolinecolor\": \"white\"}, \"yaxis\": {\"backgroundcolor\": \"#E5ECF6\", \"gridcolor\": \"white\", \"gridwidth\": 2, \"linecolor\": \"white\", \"showbackground\": true, \"ticks\": \"\", \"zerolinecolor\": \"white\"}, \"zaxis\": {\"backgroundcolor\": \"#E5ECF6\", \"gridcolor\": \"white\", \"gridwidth\": 2, \"linecolor\": \"white\", \"showbackground\": true, \"ticks\": \"\", \"zerolinecolor\": \"white\"}}, \"shapedefaults\": {\"line\": {\"color\": \"#2a3f5f\"}}, \"ternary\": {\"aaxis\": {\"gridcolor\": \"white\", \"linecolor\": \"white\", \"ticks\": \"\"}, \"baxis\": {\"gridcolor\": \"white\", \"linecolor\": \"white\", \"ticks\": \"\"}, \"bgcolor\": \"#E5ECF6\", \"caxis\": {\"gridcolor\": \"white\", \"linecolor\": \"white\", \"ticks\": \"\"}}, \"title\": {\"x\": 0.05}, \"xaxis\": {\"automargin\": true, \"gridcolor\": \"white\", \"linecolor\": \"white\", \"ticks\": \"\", \"title\": {\"standoff\": 15}, \"zerolinecolor\": \"white\", \"zerolinewidth\": 2}, \"yaxis\": {\"automargin\": true, \"gridcolor\": \"white\", \"linecolor\": \"white\", \"ticks\": \"\", \"title\": {\"standoff\": 15}, \"zerolinecolor\": \"white\", \"zerolinewidth\": 2}}}, \"title\": {\"font\": {\"color\": \"#4D5663\"}}, \"xaxis\": {\"gridcolor\": \"#E1E5ED\", \"showgrid\": true, \"tickfont\": {\"color\": \"#4D5663\"}, \"title\": {\"font\": {\"color\": \"#4D5663\"}, \"text\": \"\"}, \"zerolinecolor\": \"#E1E5ED\"}, \"yaxis\": {\"gridcolor\": \"#E1E5ED\", \"showgrid\": true, \"tickfont\": {\"color\": \"#4D5663\"}, \"title\": {\"font\": {\"color\": \"#4D5663\"}, \"text\": \"\"}, \"zerolinecolor\": \"#E1E5ED\"}},                        {\"showLink\": true, \"linkText\": \"Export to plot.ly\", \"plotlyServerURL\": \"https://plot.ly\", \"responsive\": true}                    ).then(function(){\n                            \nvar gd = document.getElementById('863f99c2-be23-44ac-aa7b-9890d265265e');\nvar x = new MutationObserver(function (mutations, observer) {{\n        var display = window.getComputedStyle(gd).display;\n        if (!display || display === 'none') {{\n            console.log([gd, 'removed!']);\n            Plotly.purge(gd);\n            observer.disconnect();\n        }}\n}});\n\n// Listen for the removal of the full notebook cells\nvar notebookContainer = gd.closest('#notebook-container');\nif (notebookContainer) {{\n    x.observe(notebookContainer, {childList: true});\n}}\n\n// Listen for the clearing of the current output cell\nvar outputEl = gd.closest('.output');\nif (outputEl) {{\n    x.observe(outputEl, {childList: true});\n}}\n\n                        })                };                });            </script>        </div>"
     },
     "metadata": {}
    }
   ],
   "source": [
    "#scatterplot\n",
    "#specify that mode='marker's or iplot will try to connect every point with a line\n",
    "#size makes points bigger\n",
    "df.iplot(kind='scatter',x='A', y='B',mode='markers', size=20)"
   ]
  },
  {
   "cell_type": "code",
   "execution_count": 22,
   "metadata": {},
   "outputs": [
    {
     "output_type": "display_data",
     "data": {
      "application/vnd.plotly.v1+json": {
       "config": {
        "linkText": "Export to plot.ly",
        "plotlyServerURL": "https://plot.ly",
        "showLink": true
       },
       "data": [
        {
         "marker": {
          "color": "rgba(255, 153, 51, 0.6)",
          "line": {
           "color": "rgba(255, 153, 51, 1.0)",
           "width": 1
          }
         },
         "name": "Values",
         "orientation": "v",
         "text": "",
         "type": "bar",
         "x": [
          "A",
          "B",
          "C"
         ],
         "y": [
          32,
          43,
          50
         ]
        }
       ],
       "layout": {
        "legend": {
         "bgcolor": "#F5F6F9",
         "font": {
          "color": "#4D5663"
         }
        },
        "paper_bgcolor": "#F5F6F9",
        "plot_bgcolor": "#F5F6F9",
        "template": {
         "data": {
          "bar": [
           {
            "error_x": {
             "color": "#2a3f5f"
            },
            "error_y": {
             "color": "#2a3f5f"
            },
            "marker": {
             "line": {
              "color": "#E5ECF6",
              "width": 0.5
             }
            },
            "type": "bar"
           }
          ],
          "barpolar": [
           {
            "marker": {
             "line": {
              "color": "#E5ECF6",
              "width": 0.5
             }
            },
            "type": "barpolar"
           }
          ],
          "carpet": [
           {
            "aaxis": {
             "endlinecolor": "#2a3f5f",
             "gridcolor": "white",
             "linecolor": "white",
             "minorgridcolor": "white",
             "startlinecolor": "#2a3f5f"
            },
            "baxis": {
             "endlinecolor": "#2a3f5f",
             "gridcolor": "white",
             "linecolor": "white",
             "minorgridcolor": "white",
             "startlinecolor": "#2a3f5f"
            },
            "type": "carpet"
           }
          ],
          "choropleth": [
           {
            "colorbar": {
             "outlinewidth": 0,
             "ticks": ""
            },
            "type": "choropleth"
           }
          ],
          "contour": [
           {
            "colorbar": {
             "outlinewidth": 0,
             "ticks": ""
            },
            "colorscale": [
             [
              0,
              "#0d0887"
             ],
             [
              0.1111111111111111,
              "#46039f"
             ],
             [
              0.2222222222222222,
              "#7201a8"
             ],
             [
              0.3333333333333333,
              "#9c179e"
             ],
             [
              0.4444444444444444,
              "#bd3786"
             ],
             [
              0.5555555555555556,
              "#d8576b"
             ],
             [
              0.6666666666666666,
              "#ed7953"
             ],
             [
              0.7777777777777778,
              "#fb9f3a"
             ],
             [
              0.8888888888888888,
              "#fdca26"
             ],
             [
              1,
              "#f0f921"
             ]
            ],
            "type": "contour"
           }
          ],
          "contourcarpet": [
           {
            "colorbar": {
             "outlinewidth": 0,
             "ticks": ""
            },
            "type": "contourcarpet"
           }
          ],
          "heatmap": [
           {
            "colorbar": {
             "outlinewidth": 0,
             "ticks": ""
            },
            "colorscale": [
             [
              0,
              "#0d0887"
             ],
             [
              0.1111111111111111,
              "#46039f"
             ],
             [
              0.2222222222222222,
              "#7201a8"
             ],
             [
              0.3333333333333333,
              "#9c179e"
             ],
             [
              0.4444444444444444,
              "#bd3786"
             ],
             [
              0.5555555555555556,
              "#d8576b"
             ],
             [
              0.6666666666666666,
              "#ed7953"
             ],
             [
              0.7777777777777778,
              "#fb9f3a"
             ],
             [
              0.8888888888888888,
              "#fdca26"
             ],
             [
              1,
              "#f0f921"
             ]
            ],
            "type": "heatmap"
           }
          ],
          "heatmapgl": [
           {
            "colorbar": {
             "outlinewidth": 0,
             "ticks": ""
            },
            "colorscale": [
             [
              0,
              "#0d0887"
             ],
             [
              0.1111111111111111,
              "#46039f"
             ],
             [
              0.2222222222222222,
              "#7201a8"
             ],
             [
              0.3333333333333333,
              "#9c179e"
             ],
             [
              0.4444444444444444,
              "#bd3786"
             ],
             [
              0.5555555555555556,
              "#d8576b"
             ],
             [
              0.6666666666666666,
              "#ed7953"
             ],
             [
              0.7777777777777778,
              "#fb9f3a"
             ],
             [
              0.8888888888888888,
              "#fdca26"
             ],
             [
              1,
              "#f0f921"
             ]
            ],
            "type": "heatmapgl"
           }
          ],
          "histogram": [
           {
            "marker": {
             "colorbar": {
              "outlinewidth": 0,
              "ticks": ""
             }
            },
            "type": "histogram"
           }
          ],
          "histogram2d": [
           {
            "colorbar": {
             "outlinewidth": 0,
             "ticks": ""
            },
            "colorscale": [
             [
              0,
              "#0d0887"
             ],
             [
              0.1111111111111111,
              "#46039f"
             ],
             [
              0.2222222222222222,
              "#7201a8"
             ],
             [
              0.3333333333333333,
              "#9c179e"
             ],
             [
              0.4444444444444444,
              "#bd3786"
             ],
             [
              0.5555555555555556,
              "#d8576b"
             ],
             [
              0.6666666666666666,
              "#ed7953"
             ],
             [
              0.7777777777777778,
              "#fb9f3a"
             ],
             [
              0.8888888888888888,
              "#fdca26"
             ],
             [
              1,
              "#f0f921"
             ]
            ],
            "type": "histogram2d"
           }
          ],
          "histogram2dcontour": [
           {
            "colorbar": {
             "outlinewidth": 0,
             "ticks": ""
            },
            "colorscale": [
             [
              0,
              "#0d0887"
             ],
             [
              0.1111111111111111,
              "#46039f"
             ],
             [
              0.2222222222222222,
              "#7201a8"
             ],
             [
              0.3333333333333333,
              "#9c179e"
             ],
             [
              0.4444444444444444,
              "#bd3786"
             ],
             [
              0.5555555555555556,
              "#d8576b"
             ],
             [
              0.6666666666666666,
              "#ed7953"
             ],
             [
              0.7777777777777778,
              "#fb9f3a"
             ],
             [
              0.8888888888888888,
              "#fdca26"
             ],
             [
              1,
              "#f0f921"
             ]
            ],
            "type": "histogram2dcontour"
           }
          ],
          "mesh3d": [
           {
            "colorbar": {
             "outlinewidth": 0,
             "ticks": ""
            },
            "type": "mesh3d"
           }
          ],
          "parcoords": [
           {
            "line": {
             "colorbar": {
              "outlinewidth": 0,
              "ticks": ""
             }
            },
            "type": "parcoords"
           }
          ],
          "pie": [
           {
            "automargin": true,
            "type": "pie"
           }
          ],
          "scatter": [
           {
            "marker": {
             "colorbar": {
              "outlinewidth": 0,
              "ticks": ""
             }
            },
            "type": "scatter"
           }
          ],
          "scatter3d": [
           {
            "line": {
             "colorbar": {
              "outlinewidth": 0,
              "ticks": ""
             }
            },
            "marker": {
             "colorbar": {
              "outlinewidth": 0,
              "ticks": ""
             }
            },
            "type": "scatter3d"
           }
          ],
          "scattercarpet": [
           {
            "marker": {
             "colorbar": {
              "outlinewidth": 0,
              "ticks": ""
             }
            },
            "type": "scattercarpet"
           }
          ],
          "scattergeo": [
           {
            "marker": {
             "colorbar": {
              "outlinewidth": 0,
              "ticks": ""
             }
            },
            "type": "scattergeo"
           }
          ],
          "scattergl": [
           {
            "marker": {
             "colorbar": {
              "outlinewidth": 0,
              "ticks": ""
             }
            },
            "type": "scattergl"
           }
          ],
          "scattermapbox": [
           {
            "marker": {
             "colorbar": {
              "outlinewidth": 0,
              "ticks": ""
             }
            },
            "type": "scattermapbox"
           }
          ],
          "scatterpolar": [
           {
            "marker": {
             "colorbar": {
              "outlinewidth": 0,
              "ticks": ""
             }
            },
            "type": "scatterpolar"
           }
          ],
          "scatterpolargl": [
           {
            "marker": {
             "colorbar": {
              "outlinewidth": 0,
              "ticks": ""
             }
            },
            "type": "scatterpolargl"
           }
          ],
          "scatterternary": [
           {
            "marker": {
             "colorbar": {
              "outlinewidth": 0,
              "ticks": ""
             }
            },
            "type": "scatterternary"
           }
          ],
          "surface": [
           {
            "colorbar": {
             "outlinewidth": 0,
             "ticks": ""
            },
            "colorscale": [
             [
              0,
              "#0d0887"
             ],
             [
              0.1111111111111111,
              "#46039f"
             ],
             [
              0.2222222222222222,
              "#7201a8"
             ],
             [
              0.3333333333333333,
              "#9c179e"
             ],
             [
              0.4444444444444444,
              "#bd3786"
             ],
             [
              0.5555555555555556,
              "#d8576b"
             ],
             [
              0.6666666666666666,
              "#ed7953"
             ],
             [
              0.7777777777777778,
              "#fb9f3a"
             ],
             [
              0.8888888888888888,
              "#fdca26"
             ],
             [
              1,
              "#f0f921"
             ]
            ],
            "type": "surface"
           }
          ],
          "table": [
           {
            "cells": {
             "fill": {
              "color": "#EBF0F8"
             },
             "line": {
              "color": "white"
             }
            },
            "header": {
             "fill": {
              "color": "#C8D4E3"
             },
             "line": {
              "color": "white"
             }
            },
            "type": "table"
           }
          ]
         },
         "layout": {
          "annotationdefaults": {
           "arrowcolor": "#2a3f5f",
           "arrowhead": 0,
           "arrowwidth": 1
          },
          "autotypenumbers": "strict",
          "coloraxis": {
           "colorbar": {
            "outlinewidth": 0,
            "ticks": ""
           }
          },
          "colorscale": {
           "diverging": [
            [
             0,
             "#8e0152"
            ],
            [
             0.1,
             "#c51b7d"
            ],
            [
             0.2,
             "#de77ae"
            ],
            [
             0.3,
             "#f1b6da"
            ],
            [
             0.4,
             "#fde0ef"
            ],
            [
             0.5,
             "#f7f7f7"
            ],
            [
             0.6,
             "#e6f5d0"
            ],
            [
             0.7,
             "#b8e186"
            ],
            [
             0.8,
             "#7fbc41"
            ],
            [
             0.9,
             "#4d9221"
            ],
            [
             1,
             "#276419"
            ]
           ],
           "sequential": [
            [
             0,
             "#0d0887"
            ],
            [
             0.1111111111111111,
             "#46039f"
            ],
            [
             0.2222222222222222,
             "#7201a8"
            ],
            [
             0.3333333333333333,
             "#9c179e"
            ],
            [
             0.4444444444444444,
             "#bd3786"
            ],
            [
             0.5555555555555556,
             "#d8576b"
            ],
            [
             0.6666666666666666,
             "#ed7953"
            ],
            [
             0.7777777777777778,
             "#fb9f3a"
            ],
            [
             0.8888888888888888,
             "#fdca26"
            ],
            [
             1,
             "#f0f921"
            ]
           ],
           "sequentialminus": [
            [
             0,
             "#0d0887"
            ],
            [
             0.1111111111111111,
             "#46039f"
            ],
            [
             0.2222222222222222,
             "#7201a8"
            ],
            [
             0.3333333333333333,
             "#9c179e"
            ],
            [
             0.4444444444444444,
             "#bd3786"
            ],
            [
             0.5555555555555556,
             "#d8576b"
            ],
            [
             0.6666666666666666,
             "#ed7953"
            ],
            [
             0.7777777777777778,
             "#fb9f3a"
            ],
            [
             0.8888888888888888,
             "#fdca26"
            ],
            [
             1,
             "#f0f921"
            ]
           ]
          },
          "colorway": [
           "#636efa",
           "#EF553B",
           "#00cc96",
           "#ab63fa",
           "#FFA15A",
           "#19d3f3",
           "#FF6692",
           "#B6E880",
           "#FF97FF",
           "#FECB52"
          ],
          "font": {
           "color": "#2a3f5f"
          },
          "geo": {
           "bgcolor": "white",
           "lakecolor": "white",
           "landcolor": "#E5ECF6",
           "showlakes": true,
           "showland": true,
           "subunitcolor": "white"
          },
          "hoverlabel": {
           "align": "left"
          },
          "hovermode": "closest",
          "mapbox": {
           "style": "light"
          },
          "paper_bgcolor": "white",
          "plot_bgcolor": "#E5ECF6",
          "polar": {
           "angularaxis": {
            "gridcolor": "white",
            "linecolor": "white",
            "ticks": ""
           },
           "bgcolor": "#E5ECF6",
           "radialaxis": {
            "gridcolor": "white",
            "linecolor": "white",
            "ticks": ""
           }
          },
          "scene": {
           "xaxis": {
            "backgroundcolor": "#E5ECF6",
            "gridcolor": "white",
            "gridwidth": 2,
            "linecolor": "white",
            "showbackground": true,
            "ticks": "",
            "zerolinecolor": "white"
           },
           "yaxis": {
            "backgroundcolor": "#E5ECF6",
            "gridcolor": "white",
            "gridwidth": 2,
            "linecolor": "white",
            "showbackground": true,
            "ticks": "",
            "zerolinecolor": "white"
           },
           "zaxis": {
            "backgroundcolor": "#E5ECF6",
            "gridcolor": "white",
            "gridwidth": 2,
            "linecolor": "white",
            "showbackground": true,
            "ticks": "",
            "zerolinecolor": "white"
           }
          },
          "shapedefaults": {
           "line": {
            "color": "#2a3f5f"
           }
          },
          "ternary": {
           "aaxis": {
            "gridcolor": "white",
            "linecolor": "white",
            "ticks": ""
           },
           "baxis": {
            "gridcolor": "white",
            "linecolor": "white",
            "ticks": ""
           },
           "bgcolor": "#E5ECF6",
           "caxis": {
            "gridcolor": "white",
            "linecolor": "white",
            "ticks": ""
           }
          },
          "title": {
           "x": 0.05
          },
          "xaxis": {
           "automargin": true,
           "gridcolor": "white",
           "linecolor": "white",
           "ticks": "",
           "title": {
            "standoff": 15
           },
           "zerolinecolor": "white",
           "zerolinewidth": 2
          },
          "yaxis": {
           "automargin": true,
           "gridcolor": "white",
           "linecolor": "white",
           "ticks": "",
           "title": {
            "standoff": 15
           },
           "zerolinecolor": "white",
           "zerolinewidth": 2
          }
         }
        },
        "title": {
         "font": {
          "color": "#4D5663"
         }
        },
        "xaxis": {
         "gridcolor": "#E1E5ED",
         "showgrid": true,
         "tickfont": {
          "color": "#4D5663"
         },
         "title": {
          "font": {
           "color": "#4D5663"
          },
          "text": ""
         },
         "zerolinecolor": "#E1E5ED"
        },
        "yaxis": {
         "gridcolor": "#E1E5ED",
         "showgrid": true,
         "tickfont": {
          "color": "#4D5663"
         },
         "title": {
          "font": {
           "color": "#4D5663"
          },
          "text": ""
         },
         "zerolinecolor": "#E1E5ED"
        }
       }
      },
      "text/html": "<div>                            <div id=\"303f8d89-5625-4546-ae8f-bdebb18fa3ce\" class=\"plotly-graph-div\" style=\"height:525px; width:100%;\"></div>            <script type=\"text/javascript\">                require([\"plotly\"], function(Plotly) {                    window.PLOTLYENV=window.PLOTLYENV || {};\n                    window.PLOTLYENV.BASE_URL='https://plot.ly';                                    if (document.getElementById(\"303f8d89-5625-4546-ae8f-bdebb18fa3ce\")) {                    Plotly.newPlot(                        \"303f8d89-5625-4546-ae8f-bdebb18fa3ce\",                        [{\"marker\": {\"color\": \"rgba(255, 153, 51, 0.6)\", \"line\": {\"color\": \"rgba(255, 153, 51, 1.0)\", \"width\": 1}}, \"name\": \"Values\", \"orientation\": \"v\", \"text\": \"\", \"type\": \"bar\", \"x\": [\"A\", \"B\", \"C\"], \"y\": [32, 43, 50]}],                        {\"legend\": {\"bgcolor\": \"#F5F6F9\", \"font\": {\"color\": \"#4D5663\"}}, \"paper_bgcolor\": \"#F5F6F9\", \"plot_bgcolor\": \"#F5F6F9\", \"template\": {\"data\": {\"bar\": [{\"error_x\": {\"color\": \"#2a3f5f\"}, \"error_y\": {\"color\": \"#2a3f5f\"}, \"marker\": {\"line\": {\"color\": \"#E5ECF6\", \"width\": 0.5}}, \"type\": \"bar\"}], \"barpolar\": [{\"marker\": {\"line\": {\"color\": \"#E5ECF6\", \"width\": 0.5}}, \"type\": \"barpolar\"}], \"carpet\": [{\"aaxis\": {\"endlinecolor\": \"#2a3f5f\", \"gridcolor\": \"white\", \"linecolor\": \"white\", \"minorgridcolor\": \"white\", \"startlinecolor\": \"#2a3f5f\"}, \"baxis\": {\"endlinecolor\": \"#2a3f5f\", \"gridcolor\": \"white\", \"linecolor\": \"white\", \"minorgridcolor\": \"white\", \"startlinecolor\": \"#2a3f5f\"}, \"type\": \"carpet\"}], \"choropleth\": [{\"colorbar\": {\"outlinewidth\": 0, \"ticks\": \"\"}, \"type\": \"choropleth\"}], \"contour\": [{\"colorbar\": {\"outlinewidth\": 0, \"ticks\": \"\"}, \"colorscale\": [[0.0, \"#0d0887\"], [0.1111111111111111, \"#46039f\"], [0.2222222222222222, \"#7201a8\"], [0.3333333333333333, \"#9c179e\"], [0.4444444444444444, \"#bd3786\"], [0.5555555555555556, \"#d8576b\"], [0.6666666666666666, \"#ed7953\"], [0.7777777777777778, \"#fb9f3a\"], [0.8888888888888888, \"#fdca26\"], [1.0, \"#f0f921\"]], \"type\": \"contour\"}], \"contourcarpet\": [{\"colorbar\": {\"outlinewidth\": 0, \"ticks\": \"\"}, \"type\": \"contourcarpet\"}], \"heatmap\": [{\"colorbar\": {\"outlinewidth\": 0, \"ticks\": \"\"}, \"colorscale\": [[0.0, \"#0d0887\"], [0.1111111111111111, \"#46039f\"], [0.2222222222222222, \"#7201a8\"], [0.3333333333333333, \"#9c179e\"], [0.4444444444444444, \"#bd3786\"], [0.5555555555555556, \"#d8576b\"], [0.6666666666666666, \"#ed7953\"], [0.7777777777777778, \"#fb9f3a\"], [0.8888888888888888, \"#fdca26\"], [1.0, \"#f0f921\"]], \"type\": \"heatmap\"}], \"heatmapgl\": [{\"colorbar\": {\"outlinewidth\": 0, \"ticks\": \"\"}, \"colorscale\": [[0.0, \"#0d0887\"], [0.1111111111111111, \"#46039f\"], [0.2222222222222222, \"#7201a8\"], [0.3333333333333333, \"#9c179e\"], [0.4444444444444444, \"#bd3786\"], [0.5555555555555556, \"#d8576b\"], [0.6666666666666666, \"#ed7953\"], [0.7777777777777778, \"#fb9f3a\"], [0.8888888888888888, \"#fdca26\"], [1.0, \"#f0f921\"]], \"type\": \"heatmapgl\"}], \"histogram\": [{\"marker\": {\"colorbar\": {\"outlinewidth\": 0, \"ticks\": \"\"}}, \"type\": \"histogram\"}], \"histogram2d\": [{\"colorbar\": {\"outlinewidth\": 0, \"ticks\": \"\"}, \"colorscale\": [[0.0, \"#0d0887\"], [0.1111111111111111, \"#46039f\"], [0.2222222222222222, \"#7201a8\"], [0.3333333333333333, \"#9c179e\"], [0.4444444444444444, \"#bd3786\"], [0.5555555555555556, \"#d8576b\"], [0.6666666666666666, \"#ed7953\"], [0.7777777777777778, \"#fb9f3a\"], [0.8888888888888888, \"#fdca26\"], [1.0, \"#f0f921\"]], \"type\": \"histogram2d\"}], \"histogram2dcontour\": [{\"colorbar\": {\"outlinewidth\": 0, \"ticks\": \"\"}, \"colorscale\": [[0.0, \"#0d0887\"], [0.1111111111111111, \"#46039f\"], [0.2222222222222222, \"#7201a8\"], [0.3333333333333333, \"#9c179e\"], [0.4444444444444444, \"#bd3786\"], [0.5555555555555556, \"#d8576b\"], [0.6666666666666666, \"#ed7953\"], [0.7777777777777778, \"#fb9f3a\"], [0.8888888888888888, \"#fdca26\"], [1.0, \"#f0f921\"]], \"type\": \"histogram2dcontour\"}], \"mesh3d\": [{\"colorbar\": {\"outlinewidth\": 0, \"ticks\": \"\"}, \"type\": \"mesh3d\"}], \"parcoords\": [{\"line\": {\"colorbar\": {\"outlinewidth\": 0, \"ticks\": \"\"}}, \"type\": \"parcoords\"}], \"pie\": [{\"automargin\": true, \"type\": \"pie\"}], \"scatter\": [{\"marker\": {\"colorbar\": {\"outlinewidth\": 0, \"ticks\": \"\"}}, \"type\": \"scatter\"}], \"scatter3d\": [{\"line\": {\"colorbar\": {\"outlinewidth\": 0, \"ticks\": \"\"}}, \"marker\": {\"colorbar\": {\"outlinewidth\": 0, \"ticks\": \"\"}}, \"type\": \"scatter3d\"}], \"scattercarpet\": [{\"marker\": {\"colorbar\": {\"outlinewidth\": 0, \"ticks\": \"\"}}, \"type\": \"scattercarpet\"}], \"scattergeo\": [{\"marker\": {\"colorbar\": {\"outlinewidth\": 0, \"ticks\": \"\"}}, \"type\": \"scattergeo\"}], \"scattergl\": [{\"marker\": {\"colorbar\": {\"outlinewidth\": 0, \"ticks\": \"\"}}, \"type\": \"scattergl\"}], \"scattermapbox\": [{\"marker\": {\"colorbar\": {\"outlinewidth\": 0, \"ticks\": \"\"}}, \"type\": \"scattermapbox\"}], \"scatterpolar\": [{\"marker\": {\"colorbar\": {\"outlinewidth\": 0, \"ticks\": \"\"}}, \"type\": \"scatterpolar\"}], \"scatterpolargl\": [{\"marker\": {\"colorbar\": {\"outlinewidth\": 0, \"ticks\": \"\"}}, \"type\": \"scatterpolargl\"}], \"scatterternary\": [{\"marker\": {\"colorbar\": {\"outlinewidth\": 0, \"ticks\": \"\"}}, \"type\": \"scatterternary\"}], \"surface\": [{\"colorbar\": {\"outlinewidth\": 0, \"ticks\": \"\"}, \"colorscale\": [[0.0, \"#0d0887\"], [0.1111111111111111, \"#46039f\"], [0.2222222222222222, \"#7201a8\"], [0.3333333333333333, \"#9c179e\"], [0.4444444444444444, \"#bd3786\"], [0.5555555555555556, \"#d8576b\"], [0.6666666666666666, \"#ed7953\"], [0.7777777777777778, \"#fb9f3a\"], [0.8888888888888888, \"#fdca26\"], [1.0, \"#f0f921\"]], \"type\": \"surface\"}], \"table\": [{\"cells\": {\"fill\": {\"color\": \"#EBF0F8\"}, \"line\": {\"color\": \"white\"}}, \"header\": {\"fill\": {\"color\": \"#C8D4E3\"}, \"line\": {\"color\": \"white\"}}, \"type\": \"table\"}]}, \"layout\": {\"annotationdefaults\": {\"arrowcolor\": \"#2a3f5f\", \"arrowhead\": 0, \"arrowwidth\": 1}, \"autotypenumbers\": \"strict\", \"coloraxis\": {\"colorbar\": {\"outlinewidth\": 0, \"ticks\": \"\"}}, \"colorscale\": {\"diverging\": [[0, \"#8e0152\"], [0.1, \"#c51b7d\"], [0.2, \"#de77ae\"], [0.3, \"#f1b6da\"], [0.4, \"#fde0ef\"], [0.5, \"#f7f7f7\"], [0.6, \"#e6f5d0\"], [0.7, \"#b8e186\"], [0.8, \"#7fbc41\"], [0.9, \"#4d9221\"], [1, \"#276419\"]], \"sequential\": [[0.0, \"#0d0887\"], [0.1111111111111111, \"#46039f\"], [0.2222222222222222, \"#7201a8\"], [0.3333333333333333, \"#9c179e\"], [0.4444444444444444, \"#bd3786\"], [0.5555555555555556, \"#d8576b\"], [0.6666666666666666, \"#ed7953\"], [0.7777777777777778, \"#fb9f3a\"], [0.8888888888888888, \"#fdca26\"], [1.0, \"#f0f921\"]], \"sequentialminus\": [[0.0, \"#0d0887\"], [0.1111111111111111, \"#46039f\"], [0.2222222222222222, \"#7201a8\"], [0.3333333333333333, \"#9c179e\"], [0.4444444444444444, \"#bd3786\"], [0.5555555555555556, \"#d8576b\"], [0.6666666666666666, \"#ed7953\"], [0.7777777777777778, \"#fb9f3a\"], [0.8888888888888888, \"#fdca26\"], [1.0, \"#f0f921\"]]}, \"colorway\": [\"#636efa\", \"#EF553B\", \"#00cc96\", \"#ab63fa\", \"#FFA15A\", \"#19d3f3\", \"#FF6692\", \"#B6E880\", \"#FF97FF\", \"#FECB52\"], \"font\": {\"color\": \"#2a3f5f\"}, \"geo\": {\"bgcolor\": \"white\", \"lakecolor\": \"white\", \"landcolor\": \"#E5ECF6\", \"showlakes\": true, \"showland\": true, \"subunitcolor\": \"white\"}, \"hoverlabel\": {\"align\": \"left\"}, \"hovermode\": \"closest\", \"mapbox\": {\"style\": \"light\"}, \"paper_bgcolor\": \"white\", \"plot_bgcolor\": \"#E5ECF6\", \"polar\": {\"angularaxis\": {\"gridcolor\": \"white\", \"linecolor\": \"white\", \"ticks\": \"\"}, \"bgcolor\": \"#E5ECF6\", \"radialaxis\": {\"gridcolor\": \"white\", \"linecolor\": \"white\", \"ticks\": \"\"}}, \"scene\": {\"xaxis\": {\"backgroundcolor\": \"#E5ECF6\", \"gridcolor\": \"white\", \"gridwidth\": 2, \"linecolor\": \"white\", \"showbackground\": true, \"ticks\": \"\", \"zerolinecolor\": \"white\"}, \"yaxis\": {\"backgroundcolor\": \"#E5ECF6\", \"gridcolor\": \"white\", \"gridwidth\": 2, \"linecolor\": \"white\", \"showbackground\": true, \"ticks\": \"\", \"zerolinecolor\": \"white\"}, \"zaxis\": {\"backgroundcolor\": \"#E5ECF6\", \"gridcolor\": \"white\", \"gridwidth\": 2, \"linecolor\": \"white\", \"showbackground\": true, \"ticks\": \"\", \"zerolinecolor\": \"white\"}}, \"shapedefaults\": {\"line\": {\"color\": \"#2a3f5f\"}}, \"ternary\": {\"aaxis\": {\"gridcolor\": \"white\", \"linecolor\": \"white\", \"ticks\": \"\"}, \"baxis\": {\"gridcolor\": \"white\", \"linecolor\": \"white\", \"ticks\": \"\"}, \"bgcolor\": \"#E5ECF6\", \"caxis\": {\"gridcolor\": \"white\", \"linecolor\": \"white\", \"ticks\": \"\"}}, \"title\": {\"x\": 0.05}, \"xaxis\": {\"automargin\": true, \"gridcolor\": \"white\", \"linecolor\": \"white\", \"ticks\": \"\", \"title\": {\"standoff\": 15}, \"zerolinecolor\": \"white\", \"zerolinewidth\": 2}, \"yaxis\": {\"automargin\": true, \"gridcolor\": \"white\", \"linecolor\": \"white\", \"ticks\": \"\", \"title\": {\"standoff\": 15}, \"zerolinecolor\": \"white\", \"zerolinewidth\": 2}}}, \"title\": {\"font\": {\"color\": \"#4D5663\"}}, \"xaxis\": {\"gridcolor\": \"#E1E5ED\", \"showgrid\": true, \"tickfont\": {\"color\": \"#4D5663\"}, \"title\": {\"font\": {\"color\": \"#4D5663\"}, \"text\": \"\"}, \"zerolinecolor\": \"#E1E5ED\"}, \"yaxis\": {\"gridcolor\": \"#E1E5ED\", \"showgrid\": true, \"tickfont\": {\"color\": \"#4D5663\"}, \"title\": {\"font\": {\"color\": \"#4D5663\"}, \"text\": \"\"}, \"zerolinecolor\": \"#E1E5ED\"}},                        {\"showLink\": true, \"linkText\": \"Export to plot.ly\", \"plotlyServerURL\": \"https://plot.ly\", \"responsive\": true}                    ).then(function(){\n                            \nvar gd = document.getElementById('303f8d89-5625-4546-ae8f-bdebb18fa3ce');\nvar x = new MutationObserver(function (mutations, observer) {{\n        var display = window.getComputedStyle(gd).display;\n        if (!display || display === 'none') {{\n            console.log([gd, 'removed!']);\n            Plotly.purge(gd);\n            observer.disconnect();\n        }}\n}});\n\n// Listen for the removal of the full notebook cells\nvar notebookContainer = gd.closest('#notebook-container');\nif (notebookContainer) {{\n    x.observe(notebookContainer, {childList: true});\n}}\n\n// Listen for the clearing of the current output cell\nvar outputEl = gd.closest('.output');\nif (outputEl) {{\n    x.observe(outputEl, {childList: true});\n}}\n\n                        })                };                });            </script>        </div>"
     },
     "metadata": {}
    }
   ],
   "source": [
    "#bar plot\n",
    "df2.iplot(kind='bar', x='Category', y='Values')"
   ]
  },
  {
   "cell_type": "code",
   "execution_count": 24,
   "metadata": {},
   "outputs": [
    {
     "output_type": "display_data",
     "data": {
      "application/vnd.plotly.v1+json": {
       "config": {
        "linkText": "Export to plot.ly",
        "plotlyServerURL": "https://plot.ly",
        "showLink": true
       },
       "data": [
        {
         "marker": {
          "color": "rgba(255, 153, 51, 0.6)",
          "line": {
           "color": "rgba(255, 153, 51, 1.0)",
           "width": 1
          }
         },
         "name": "None",
         "orientation": "v",
         "text": "",
         "type": "bar",
         "x": [
          "A",
          "B",
          "C",
          "D"
         ],
         "y": [
          4.688722771656202,
          -4.02439534233558,
          8.662800235517006,
          -10.43377084212804
         ]
        }
       ],
       "layout": {
        "legend": {
         "bgcolor": "#F5F6F9",
         "font": {
          "color": "#4D5663"
         }
        },
        "paper_bgcolor": "#F5F6F9",
        "plot_bgcolor": "#F5F6F9",
        "template": {
         "data": {
          "bar": [
           {
            "error_x": {
             "color": "#2a3f5f"
            },
            "error_y": {
             "color": "#2a3f5f"
            },
            "marker": {
             "line": {
              "color": "#E5ECF6",
              "width": 0.5
             }
            },
            "type": "bar"
           }
          ],
          "barpolar": [
           {
            "marker": {
             "line": {
              "color": "#E5ECF6",
              "width": 0.5
             }
            },
            "type": "barpolar"
           }
          ],
          "carpet": [
           {
            "aaxis": {
             "endlinecolor": "#2a3f5f",
             "gridcolor": "white",
             "linecolor": "white",
             "minorgridcolor": "white",
             "startlinecolor": "#2a3f5f"
            },
            "baxis": {
             "endlinecolor": "#2a3f5f",
             "gridcolor": "white",
             "linecolor": "white",
             "minorgridcolor": "white",
             "startlinecolor": "#2a3f5f"
            },
            "type": "carpet"
           }
          ],
          "choropleth": [
           {
            "colorbar": {
             "outlinewidth": 0,
             "ticks": ""
            },
            "type": "choropleth"
           }
          ],
          "contour": [
           {
            "colorbar": {
             "outlinewidth": 0,
             "ticks": ""
            },
            "colorscale": [
             [
              0,
              "#0d0887"
             ],
             [
              0.1111111111111111,
              "#46039f"
             ],
             [
              0.2222222222222222,
              "#7201a8"
             ],
             [
              0.3333333333333333,
              "#9c179e"
             ],
             [
              0.4444444444444444,
              "#bd3786"
             ],
             [
              0.5555555555555556,
              "#d8576b"
             ],
             [
              0.6666666666666666,
              "#ed7953"
             ],
             [
              0.7777777777777778,
              "#fb9f3a"
             ],
             [
              0.8888888888888888,
              "#fdca26"
             ],
             [
              1,
              "#f0f921"
             ]
            ],
            "type": "contour"
           }
          ],
          "contourcarpet": [
           {
            "colorbar": {
             "outlinewidth": 0,
             "ticks": ""
            },
            "type": "contourcarpet"
           }
          ],
          "heatmap": [
           {
            "colorbar": {
             "outlinewidth": 0,
             "ticks": ""
            },
            "colorscale": [
             [
              0,
              "#0d0887"
             ],
             [
              0.1111111111111111,
              "#46039f"
             ],
             [
              0.2222222222222222,
              "#7201a8"
             ],
             [
              0.3333333333333333,
              "#9c179e"
             ],
             [
              0.4444444444444444,
              "#bd3786"
             ],
             [
              0.5555555555555556,
              "#d8576b"
             ],
             [
              0.6666666666666666,
              "#ed7953"
             ],
             [
              0.7777777777777778,
              "#fb9f3a"
             ],
             [
              0.8888888888888888,
              "#fdca26"
             ],
             [
              1,
              "#f0f921"
             ]
            ],
            "type": "heatmap"
           }
          ],
          "heatmapgl": [
           {
            "colorbar": {
             "outlinewidth": 0,
             "ticks": ""
            },
            "colorscale": [
             [
              0,
              "#0d0887"
             ],
             [
              0.1111111111111111,
              "#46039f"
             ],
             [
              0.2222222222222222,
              "#7201a8"
             ],
             [
              0.3333333333333333,
              "#9c179e"
             ],
             [
              0.4444444444444444,
              "#bd3786"
             ],
             [
              0.5555555555555556,
              "#d8576b"
             ],
             [
              0.6666666666666666,
              "#ed7953"
             ],
             [
              0.7777777777777778,
              "#fb9f3a"
             ],
             [
              0.8888888888888888,
              "#fdca26"
             ],
             [
              1,
              "#f0f921"
             ]
            ],
            "type": "heatmapgl"
           }
          ],
          "histogram": [
           {
            "marker": {
             "colorbar": {
              "outlinewidth": 0,
              "ticks": ""
             }
            },
            "type": "histogram"
           }
          ],
          "histogram2d": [
           {
            "colorbar": {
             "outlinewidth": 0,
             "ticks": ""
            },
            "colorscale": [
             [
              0,
              "#0d0887"
             ],
             [
              0.1111111111111111,
              "#46039f"
             ],
             [
              0.2222222222222222,
              "#7201a8"
             ],
             [
              0.3333333333333333,
              "#9c179e"
             ],
             [
              0.4444444444444444,
              "#bd3786"
             ],
             [
              0.5555555555555556,
              "#d8576b"
             ],
             [
              0.6666666666666666,
              "#ed7953"
             ],
             [
              0.7777777777777778,
              "#fb9f3a"
             ],
             [
              0.8888888888888888,
              "#fdca26"
             ],
             [
              1,
              "#f0f921"
             ]
            ],
            "type": "histogram2d"
           }
          ],
          "histogram2dcontour": [
           {
            "colorbar": {
             "outlinewidth": 0,
             "ticks": ""
            },
            "colorscale": [
             [
              0,
              "#0d0887"
             ],
             [
              0.1111111111111111,
              "#46039f"
             ],
             [
              0.2222222222222222,
              "#7201a8"
             ],
             [
              0.3333333333333333,
              "#9c179e"
             ],
             [
              0.4444444444444444,
              "#bd3786"
             ],
             [
              0.5555555555555556,
              "#d8576b"
             ],
             [
              0.6666666666666666,
              "#ed7953"
             ],
             [
              0.7777777777777778,
              "#fb9f3a"
             ],
             [
              0.8888888888888888,
              "#fdca26"
             ],
             [
              1,
              "#f0f921"
             ]
            ],
            "type": "histogram2dcontour"
           }
          ],
          "mesh3d": [
           {
            "colorbar": {
             "outlinewidth": 0,
             "ticks": ""
            },
            "type": "mesh3d"
           }
          ],
          "parcoords": [
           {
            "line": {
             "colorbar": {
              "outlinewidth": 0,
              "ticks": ""
             }
            },
            "type": "parcoords"
           }
          ],
          "pie": [
           {
            "automargin": true,
            "type": "pie"
           }
          ],
          "scatter": [
           {
            "marker": {
             "colorbar": {
              "outlinewidth": 0,
              "ticks": ""
             }
            },
            "type": "scatter"
           }
          ],
          "scatter3d": [
           {
            "line": {
             "colorbar": {
              "outlinewidth": 0,
              "ticks": ""
             }
            },
            "marker": {
             "colorbar": {
              "outlinewidth": 0,
              "ticks": ""
             }
            },
            "type": "scatter3d"
           }
          ],
          "scattercarpet": [
           {
            "marker": {
             "colorbar": {
              "outlinewidth": 0,
              "ticks": ""
             }
            },
            "type": "scattercarpet"
           }
          ],
          "scattergeo": [
           {
            "marker": {
             "colorbar": {
              "outlinewidth": 0,
              "ticks": ""
             }
            },
            "type": "scattergeo"
           }
          ],
          "scattergl": [
           {
            "marker": {
             "colorbar": {
              "outlinewidth": 0,
              "ticks": ""
             }
            },
            "type": "scattergl"
           }
          ],
          "scattermapbox": [
           {
            "marker": {
             "colorbar": {
              "outlinewidth": 0,
              "ticks": ""
             }
            },
            "type": "scattermapbox"
           }
          ],
          "scatterpolar": [
           {
            "marker": {
             "colorbar": {
              "outlinewidth": 0,
              "ticks": ""
             }
            },
            "type": "scatterpolar"
           }
          ],
          "scatterpolargl": [
           {
            "marker": {
             "colorbar": {
              "outlinewidth": 0,
              "ticks": ""
             }
            },
            "type": "scatterpolargl"
           }
          ],
          "scatterternary": [
           {
            "marker": {
             "colorbar": {
              "outlinewidth": 0,
              "ticks": ""
             }
            },
            "type": "scatterternary"
           }
          ],
          "surface": [
           {
            "colorbar": {
             "outlinewidth": 0,
             "ticks": ""
            },
            "colorscale": [
             [
              0,
              "#0d0887"
             ],
             [
              0.1111111111111111,
              "#46039f"
             ],
             [
              0.2222222222222222,
              "#7201a8"
             ],
             [
              0.3333333333333333,
              "#9c179e"
             ],
             [
              0.4444444444444444,
              "#bd3786"
             ],
             [
              0.5555555555555556,
              "#d8576b"
             ],
             [
              0.6666666666666666,
              "#ed7953"
             ],
             [
              0.7777777777777778,
              "#fb9f3a"
             ],
             [
              0.8888888888888888,
              "#fdca26"
             ],
             [
              1,
              "#f0f921"
             ]
            ],
            "type": "surface"
           }
          ],
          "table": [
           {
            "cells": {
             "fill": {
              "color": "#EBF0F8"
             },
             "line": {
              "color": "white"
             }
            },
            "header": {
             "fill": {
              "color": "#C8D4E3"
             },
             "line": {
              "color": "white"
             }
            },
            "type": "table"
           }
          ]
         },
         "layout": {
          "annotationdefaults": {
           "arrowcolor": "#2a3f5f",
           "arrowhead": 0,
           "arrowwidth": 1
          },
          "autotypenumbers": "strict",
          "coloraxis": {
           "colorbar": {
            "outlinewidth": 0,
            "ticks": ""
           }
          },
          "colorscale": {
           "diverging": [
            [
             0,
             "#8e0152"
            ],
            [
             0.1,
             "#c51b7d"
            ],
            [
             0.2,
             "#de77ae"
            ],
            [
             0.3,
             "#f1b6da"
            ],
            [
             0.4,
             "#fde0ef"
            ],
            [
             0.5,
             "#f7f7f7"
            ],
            [
             0.6,
             "#e6f5d0"
            ],
            [
             0.7,
             "#b8e186"
            ],
            [
             0.8,
             "#7fbc41"
            ],
            [
             0.9,
             "#4d9221"
            ],
            [
             1,
             "#276419"
            ]
           ],
           "sequential": [
            [
             0,
             "#0d0887"
            ],
            [
             0.1111111111111111,
             "#46039f"
            ],
            [
             0.2222222222222222,
             "#7201a8"
            ],
            [
             0.3333333333333333,
             "#9c179e"
            ],
            [
             0.4444444444444444,
             "#bd3786"
            ],
            [
             0.5555555555555556,
             "#d8576b"
            ],
            [
             0.6666666666666666,
             "#ed7953"
            ],
            [
             0.7777777777777778,
             "#fb9f3a"
            ],
            [
             0.8888888888888888,
             "#fdca26"
            ],
            [
             1,
             "#f0f921"
            ]
           ],
           "sequentialminus": [
            [
             0,
             "#0d0887"
            ],
            [
             0.1111111111111111,
             "#46039f"
            ],
            [
             0.2222222222222222,
             "#7201a8"
            ],
            [
             0.3333333333333333,
             "#9c179e"
            ],
            [
             0.4444444444444444,
             "#bd3786"
            ],
            [
             0.5555555555555556,
             "#d8576b"
            ],
            [
             0.6666666666666666,
             "#ed7953"
            ],
            [
             0.7777777777777778,
             "#fb9f3a"
            ],
            [
             0.8888888888888888,
             "#fdca26"
            ],
            [
             1,
             "#f0f921"
            ]
           ]
          },
          "colorway": [
           "#636efa",
           "#EF553B",
           "#00cc96",
           "#ab63fa",
           "#FFA15A",
           "#19d3f3",
           "#FF6692",
           "#B6E880",
           "#FF97FF",
           "#FECB52"
          ],
          "font": {
           "color": "#2a3f5f"
          },
          "geo": {
           "bgcolor": "white",
           "lakecolor": "white",
           "landcolor": "#E5ECF6",
           "showlakes": true,
           "showland": true,
           "subunitcolor": "white"
          },
          "hoverlabel": {
           "align": "left"
          },
          "hovermode": "closest",
          "mapbox": {
           "style": "light"
          },
          "paper_bgcolor": "white",
          "plot_bgcolor": "#E5ECF6",
          "polar": {
           "angularaxis": {
            "gridcolor": "white",
            "linecolor": "white",
            "ticks": ""
           },
           "bgcolor": "#E5ECF6",
           "radialaxis": {
            "gridcolor": "white",
            "linecolor": "white",
            "ticks": ""
           }
          },
          "scene": {
           "xaxis": {
            "backgroundcolor": "#E5ECF6",
            "gridcolor": "white",
            "gridwidth": 2,
            "linecolor": "white",
            "showbackground": true,
            "ticks": "",
            "zerolinecolor": "white"
           },
           "yaxis": {
            "backgroundcolor": "#E5ECF6",
            "gridcolor": "white",
            "gridwidth": 2,
            "linecolor": "white",
            "showbackground": true,
            "ticks": "",
            "zerolinecolor": "white"
           },
           "zaxis": {
            "backgroundcolor": "#E5ECF6",
            "gridcolor": "white",
            "gridwidth": 2,
            "linecolor": "white",
            "showbackground": true,
            "ticks": "",
            "zerolinecolor": "white"
           }
          },
          "shapedefaults": {
           "line": {
            "color": "#2a3f5f"
           }
          },
          "ternary": {
           "aaxis": {
            "gridcolor": "white",
            "linecolor": "white",
            "ticks": ""
           },
           "baxis": {
            "gridcolor": "white",
            "linecolor": "white",
            "ticks": ""
           },
           "bgcolor": "#E5ECF6",
           "caxis": {
            "gridcolor": "white",
            "linecolor": "white",
            "ticks": ""
           }
          },
          "title": {
           "x": 0.05
          },
          "xaxis": {
           "automargin": true,
           "gridcolor": "white",
           "linecolor": "white",
           "ticks": "",
           "title": {
            "standoff": 15
           },
           "zerolinecolor": "white",
           "zerolinewidth": 2
          },
          "yaxis": {
           "automargin": true,
           "gridcolor": "white",
           "linecolor": "white",
           "ticks": "",
           "title": {
            "standoff": 15
           },
           "zerolinecolor": "white",
           "zerolinewidth": 2
          }
         }
        },
        "title": {
         "font": {
          "color": "#4D5663"
         }
        },
        "xaxis": {
         "gridcolor": "#E1E5ED",
         "showgrid": true,
         "tickfont": {
          "color": "#4D5663"
         },
         "title": {
          "font": {
           "color": "#4D5663"
          },
          "text": ""
         },
         "zerolinecolor": "#E1E5ED"
        },
        "yaxis": {
         "gridcolor": "#E1E5ED",
         "showgrid": true,
         "tickfont": {
          "color": "#4D5663"
         },
         "title": {
          "font": {
           "color": "#4D5663"
          },
          "text": ""
         },
         "zerolinecolor": "#E1E5ED"
        }
       }
      },
      "text/html": "<div>                            <div id=\"6448a41e-aeac-4c6e-9800-485df87316ea\" class=\"plotly-graph-div\" style=\"height:525px; width:100%;\"></div>            <script type=\"text/javascript\">                require([\"plotly\"], function(Plotly) {                    window.PLOTLYENV=window.PLOTLYENV || {};\n                    window.PLOTLYENV.BASE_URL='https://plot.ly';                                    if (document.getElementById(\"6448a41e-aeac-4c6e-9800-485df87316ea\")) {                    Plotly.newPlot(                        \"6448a41e-aeac-4c6e-9800-485df87316ea\",                        [{\"marker\": {\"color\": \"rgba(255, 153, 51, 0.6)\", \"line\": {\"color\": \"rgba(255, 153, 51, 1.0)\", \"width\": 1}}, \"name\": \"None\", \"orientation\": \"v\", \"text\": \"\", \"type\": \"bar\", \"x\": [\"A\", \"B\", \"C\", \"D\"], \"y\": [4.688722771656202, -4.02439534233558, 8.662800235517006, -10.43377084212804]}],                        {\"legend\": {\"bgcolor\": \"#F5F6F9\", \"font\": {\"color\": \"#4D5663\"}}, \"paper_bgcolor\": \"#F5F6F9\", \"plot_bgcolor\": \"#F5F6F9\", \"template\": {\"data\": {\"bar\": [{\"error_x\": {\"color\": \"#2a3f5f\"}, \"error_y\": {\"color\": \"#2a3f5f\"}, \"marker\": {\"line\": {\"color\": \"#E5ECF6\", \"width\": 0.5}}, \"type\": \"bar\"}], \"barpolar\": [{\"marker\": {\"line\": {\"color\": \"#E5ECF6\", \"width\": 0.5}}, \"type\": \"barpolar\"}], \"carpet\": [{\"aaxis\": {\"endlinecolor\": \"#2a3f5f\", \"gridcolor\": \"white\", \"linecolor\": \"white\", \"minorgridcolor\": \"white\", \"startlinecolor\": \"#2a3f5f\"}, \"baxis\": {\"endlinecolor\": \"#2a3f5f\", \"gridcolor\": \"white\", \"linecolor\": \"white\", \"minorgridcolor\": \"white\", \"startlinecolor\": \"#2a3f5f\"}, \"type\": \"carpet\"}], \"choropleth\": [{\"colorbar\": {\"outlinewidth\": 0, \"ticks\": \"\"}, \"type\": \"choropleth\"}], \"contour\": [{\"colorbar\": {\"outlinewidth\": 0, \"ticks\": \"\"}, \"colorscale\": [[0.0, \"#0d0887\"], [0.1111111111111111, \"#46039f\"], [0.2222222222222222, \"#7201a8\"], [0.3333333333333333, \"#9c179e\"], [0.4444444444444444, \"#bd3786\"], [0.5555555555555556, \"#d8576b\"], [0.6666666666666666, \"#ed7953\"], [0.7777777777777778, \"#fb9f3a\"], [0.8888888888888888, \"#fdca26\"], [1.0, \"#f0f921\"]], \"type\": \"contour\"}], \"contourcarpet\": [{\"colorbar\": {\"outlinewidth\": 0, \"ticks\": \"\"}, \"type\": \"contourcarpet\"}], \"heatmap\": [{\"colorbar\": {\"outlinewidth\": 0, \"ticks\": \"\"}, \"colorscale\": [[0.0, \"#0d0887\"], [0.1111111111111111, \"#46039f\"], [0.2222222222222222, \"#7201a8\"], [0.3333333333333333, \"#9c179e\"], [0.4444444444444444, \"#bd3786\"], [0.5555555555555556, \"#d8576b\"], [0.6666666666666666, \"#ed7953\"], [0.7777777777777778, \"#fb9f3a\"], [0.8888888888888888, \"#fdca26\"], [1.0, \"#f0f921\"]], \"type\": \"heatmap\"}], \"heatmapgl\": [{\"colorbar\": {\"outlinewidth\": 0, \"ticks\": \"\"}, \"colorscale\": [[0.0, \"#0d0887\"], [0.1111111111111111, \"#46039f\"], [0.2222222222222222, \"#7201a8\"], [0.3333333333333333, \"#9c179e\"], [0.4444444444444444, \"#bd3786\"], [0.5555555555555556, \"#d8576b\"], [0.6666666666666666, \"#ed7953\"], [0.7777777777777778, \"#fb9f3a\"], [0.8888888888888888, \"#fdca26\"], [1.0, \"#f0f921\"]], \"type\": \"heatmapgl\"}], \"histogram\": [{\"marker\": {\"colorbar\": {\"outlinewidth\": 0, \"ticks\": \"\"}}, \"type\": \"histogram\"}], \"histogram2d\": [{\"colorbar\": {\"outlinewidth\": 0, \"ticks\": \"\"}, \"colorscale\": [[0.0, \"#0d0887\"], [0.1111111111111111, \"#46039f\"], [0.2222222222222222, \"#7201a8\"], [0.3333333333333333, \"#9c179e\"], [0.4444444444444444, \"#bd3786\"], [0.5555555555555556, \"#d8576b\"], [0.6666666666666666, \"#ed7953\"], [0.7777777777777778, \"#fb9f3a\"], [0.8888888888888888, \"#fdca26\"], [1.0, \"#f0f921\"]], \"type\": \"histogram2d\"}], \"histogram2dcontour\": [{\"colorbar\": {\"outlinewidth\": 0, \"ticks\": \"\"}, \"colorscale\": [[0.0, \"#0d0887\"], [0.1111111111111111, \"#46039f\"], [0.2222222222222222, \"#7201a8\"], [0.3333333333333333, \"#9c179e\"], [0.4444444444444444, \"#bd3786\"], [0.5555555555555556, \"#d8576b\"], [0.6666666666666666, \"#ed7953\"], [0.7777777777777778, \"#fb9f3a\"], [0.8888888888888888, \"#fdca26\"], [1.0, \"#f0f921\"]], \"type\": \"histogram2dcontour\"}], \"mesh3d\": [{\"colorbar\": {\"outlinewidth\": 0, \"ticks\": \"\"}, \"type\": \"mesh3d\"}], \"parcoords\": [{\"line\": {\"colorbar\": {\"outlinewidth\": 0, \"ticks\": \"\"}}, \"type\": \"parcoords\"}], \"pie\": [{\"automargin\": true, \"type\": \"pie\"}], \"scatter\": [{\"marker\": {\"colorbar\": {\"outlinewidth\": 0, \"ticks\": \"\"}}, \"type\": \"scatter\"}], \"scatter3d\": [{\"line\": {\"colorbar\": {\"outlinewidth\": 0, \"ticks\": \"\"}}, \"marker\": {\"colorbar\": {\"outlinewidth\": 0, \"ticks\": \"\"}}, \"type\": \"scatter3d\"}], \"scattercarpet\": [{\"marker\": {\"colorbar\": {\"outlinewidth\": 0, \"ticks\": \"\"}}, \"type\": \"scattercarpet\"}], \"scattergeo\": [{\"marker\": {\"colorbar\": {\"outlinewidth\": 0, \"ticks\": \"\"}}, \"type\": \"scattergeo\"}], \"scattergl\": [{\"marker\": {\"colorbar\": {\"outlinewidth\": 0, \"ticks\": \"\"}}, \"type\": \"scattergl\"}], \"scattermapbox\": [{\"marker\": {\"colorbar\": {\"outlinewidth\": 0, \"ticks\": \"\"}}, \"type\": \"scattermapbox\"}], \"scatterpolar\": [{\"marker\": {\"colorbar\": {\"outlinewidth\": 0, \"ticks\": \"\"}}, \"type\": \"scatterpolar\"}], \"scatterpolargl\": [{\"marker\": {\"colorbar\": {\"outlinewidth\": 0, \"ticks\": \"\"}}, \"type\": \"scatterpolargl\"}], \"scatterternary\": [{\"marker\": {\"colorbar\": {\"outlinewidth\": 0, \"ticks\": \"\"}}, \"type\": \"scatterternary\"}], \"surface\": [{\"colorbar\": {\"outlinewidth\": 0, \"ticks\": \"\"}, \"colorscale\": [[0.0, \"#0d0887\"], [0.1111111111111111, \"#46039f\"], [0.2222222222222222, \"#7201a8\"], [0.3333333333333333, \"#9c179e\"], [0.4444444444444444, \"#bd3786\"], [0.5555555555555556, \"#d8576b\"], [0.6666666666666666, \"#ed7953\"], [0.7777777777777778, \"#fb9f3a\"], [0.8888888888888888, \"#fdca26\"], [1.0, \"#f0f921\"]], \"type\": \"surface\"}], \"table\": [{\"cells\": {\"fill\": {\"color\": \"#EBF0F8\"}, \"line\": {\"color\": \"white\"}}, \"header\": {\"fill\": {\"color\": \"#C8D4E3\"}, \"line\": {\"color\": \"white\"}}, \"type\": \"table\"}]}, \"layout\": {\"annotationdefaults\": {\"arrowcolor\": \"#2a3f5f\", \"arrowhead\": 0, \"arrowwidth\": 1}, \"autotypenumbers\": \"strict\", \"coloraxis\": {\"colorbar\": {\"outlinewidth\": 0, \"ticks\": \"\"}}, \"colorscale\": {\"diverging\": [[0, \"#8e0152\"], [0.1, \"#c51b7d\"], [0.2, \"#de77ae\"], [0.3, \"#f1b6da\"], [0.4, \"#fde0ef\"], [0.5, \"#f7f7f7\"], [0.6, \"#e6f5d0\"], [0.7, \"#b8e186\"], [0.8, \"#7fbc41\"], [0.9, \"#4d9221\"], [1, \"#276419\"]], \"sequential\": [[0.0, \"#0d0887\"], [0.1111111111111111, \"#46039f\"], [0.2222222222222222, \"#7201a8\"], [0.3333333333333333, \"#9c179e\"], [0.4444444444444444, \"#bd3786\"], [0.5555555555555556, \"#d8576b\"], [0.6666666666666666, \"#ed7953\"], [0.7777777777777778, \"#fb9f3a\"], [0.8888888888888888, \"#fdca26\"], [1.0, \"#f0f921\"]], \"sequentialminus\": [[0.0, \"#0d0887\"], [0.1111111111111111, \"#46039f\"], [0.2222222222222222, \"#7201a8\"], [0.3333333333333333, \"#9c179e\"], [0.4444444444444444, \"#bd3786\"], [0.5555555555555556, \"#d8576b\"], [0.6666666666666666, \"#ed7953\"], [0.7777777777777778, \"#fb9f3a\"], [0.8888888888888888, \"#fdca26\"], [1.0, \"#f0f921\"]]}, \"colorway\": [\"#636efa\", \"#EF553B\", \"#00cc96\", \"#ab63fa\", \"#FFA15A\", \"#19d3f3\", \"#FF6692\", \"#B6E880\", \"#FF97FF\", \"#FECB52\"], \"font\": {\"color\": \"#2a3f5f\"}, \"geo\": {\"bgcolor\": \"white\", \"lakecolor\": \"white\", \"landcolor\": \"#E5ECF6\", \"showlakes\": true, \"showland\": true, \"subunitcolor\": \"white\"}, \"hoverlabel\": {\"align\": \"left\"}, \"hovermode\": \"closest\", \"mapbox\": {\"style\": \"light\"}, \"paper_bgcolor\": \"white\", \"plot_bgcolor\": \"#E5ECF6\", \"polar\": {\"angularaxis\": {\"gridcolor\": \"white\", \"linecolor\": \"white\", \"ticks\": \"\"}, \"bgcolor\": \"#E5ECF6\", \"radialaxis\": {\"gridcolor\": \"white\", \"linecolor\": \"white\", \"ticks\": \"\"}}, \"scene\": {\"xaxis\": {\"backgroundcolor\": \"#E5ECF6\", \"gridcolor\": \"white\", \"gridwidth\": 2, \"linecolor\": \"white\", \"showbackground\": true, \"ticks\": \"\", \"zerolinecolor\": \"white\"}, \"yaxis\": {\"backgroundcolor\": \"#E5ECF6\", \"gridcolor\": \"white\", \"gridwidth\": 2, \"linecolor\": \"white\", \"showbackground\": true, \"ticks\": \"\", \"zerolinecolor\": \"white\"}, \"zaxis\": {\"backgroundcolor\": \"#E5ECF6\", \"gridcolor\": \"white\", \"gridwidth\": 2, \"linecolor\": \"white\", \"showbackground\": true, \"ticks\": \"\", \"zerolinecolor\": \"white\"}}, \"shapedefaults\": {\"line\": {\"color\": \"#2a3f5f\"}}, \"ternary\": {\"aaxis\": {\"gridcolor\": \"white\", \"linecolor\": \"white\", \"ticks\": \"\"}, \"baxis\": {\"gridcolor\": \"white\", \"linecolor\": \"white\", \"ticks\": \"\"}, \"bgcolor\": \"#E5ECF6\", \"caxis\": {\"gridcolor\": \"white\", \"linecolor\": \"white\", \"ticks\": \"\"}}, \"title\": {\"x\": 0.05}, \"xaxis\": {\"automargin\": true, \"gridcolor\": \"white\", \"linecolor\": \"white\", \"ticks\": \"\", \"title\": {\"standoff\": 15}, \"zerolinecolor\": \"white\", \"zerolinewidth\": 2}, \"yaxis\": {\"automargin\": true, \"gridcolor\": \"white\", \"linecolor\": \"white\", \"ticks\": \"\", \"title\": {\"standoff\": 15}, \"zerolinecolor\": \"white\", \"zerolinewidth\": 2}}}, \"title\": {\"font\": {\"color\": \"#4D5663\"}}, \"xaxis\": {\"gridcolor\": \"#E1E5ED\", \"showgrid\": true, \"tickfont\": {\"color\": \"#4D5663\"}, \"title\": {\"font\": {\"color\": \"#4D5663\"}, \"text\": \"\"}, \"zerolinecolor\": \"#E1E5ED\"}, \"yaxis\": {\"gridcolor\": \"#E1E5ED\", \"showgrid\": true, \"tickfont\": {\"color\": \"#4D5663\"}, \"title\": {\"font\": {\"color\": \"#4D5663\"}, \"text\": \"\"}, \"zerolinecolor\": \"#E1E5ED\"}},                        {\"showLink\": true, \"linkText\": \"Export to plot.ly\", \"plotlyServerURL\": \"https://plot.ly\", \"responsive\": true}                    ).then(function(){\n                            \nvar gd = document.getElementById('6448a41e-aeac-4c6e-9800-485df87316ea');\nvar x = new MutationObserver(function (mutations, observer) {{\n        var display = window.getComputedStyle(gd).display;\n        if (!display || display === 'none') {{\n            console.log([gd, 'removed!']);\n            Plotly.purge(gd);\n            observer.disconnect();\n        }}\n}});\n\n// Listen for the removal of the full notebook cells\nvar notebookContainer = gd.closest('#notebook-container');\nif (notebookContainer) {{\n    x.observe(notebookContainer, {childList: true});\n}}\n\n// Listen for the clearing of the current output cell\nvar outputEl = gd.closest('.output');\nif (outputEl) {{\n    x.observe(outputEl, {childList: true});\n}}\n\n                        })                };                });            </script>        </div>"
     },
     "metadata": {}
    }
   ],
   "source": [
    "#aggregate function \n",
    "df.sum().iplot(kind='bar')"
   ]
  },
  {
   "cell_type": "code",
   "execution_count": 25,
   "metadata": {},
   "outputs": [
    {
     "output_type": "display_data",
     "data": {
      "application/vnd.plotly.v1+json": {
       "config": {
        "linkText": "Export to plot.ly",
        "plotlyServerURL": "https://plot.ly",
        "showLink": true
       },
       "data": [
        {
         "boxpoints": false,
         "line": {
          "width": 1.3
         },
         "marker": {
          "color": "rgba(255, 153, 51, 1.0)"
         },
         "name": "A",
         "orientation": "v",
         "type": "box",
         "y": [
          -0.6156103919659448,
          -1.2624860845503696,
          -0.31140802116504096,
          0.2453469781558024,
          -0.3047427693778525,
          -0.1938769133025758,
          -0.3390513924431758,
          1.5495224843356186,
          -0.9836369725502156,
          -0.23562461797605772,
          0.8067929267569461,
          -0.8477493448990581,
          0.9278122312968577,
          1.323246341063781,
          -0.2036066511292313,
          -0.2821092872358227,
          -2.0965504522807996,
          1.33263460863893,
          -0.8730062749442947,
          -0.21777344944000587,
          -0.7372035421095716,
          -0.5744972691712578,
          0.9076625671382935,
          0.7610440414048033,
          -0.6461292555889644,
          -0.5900878597608552,
          1.725652171536661,
          1.0162788202334525,
          1.8210673215211053,
          0.6325470352743859,
          -1.0947329579554326,
          1.9517195306102926,
          0.23967706103861106,
          0.965985394546088,
          0.15852368966232788,
          0.10870123815921616,
          0.14696594995146783,
          -0.6020170814752861,
          -2.1988768505562195,
          0.4167024137898031,
          2.0543280192487425,
          -1.106173738405013,
          -1.4573434546316546,
          0.21509295230433023,
          -0.44006889224274537,
          0.9157524357694234,
          1.4829297270755881,
          0.20167127512276564,
          0.017180432551903796,
          -0.004031698138674777,
          -0.561990871613196,
          0.3665113985199989,
          1.8845422828466643,
          -0.0603826347550325,
          -1.8269870205652525,
          -0.5075171173939871,
          -0.38711492763209043,
          -2.114692791920225,
          -0.4372265767085458,
          1.2637474277480985,
          0.3496605779891636,
          1.5684009658161446,
          -1.387050190351923,
          0.44359355184557536,
          -0.28779903043026983,
          1.761926219230782,
          -0.03866072911630973,
          1.1281185715490418,
          -2.4951156025924455,
          1.246697677841596,
          -0.19662280856266776,
          -0.03727954581444563,
          0.552292854080817,
          -1.0569325305393944,
          -0.7545348399599937,
          -1.0808953664893906,
          0.2540993659207464,
          0.5077451846314007,
          -0.5938907220819517,
          -0.06990720893502703,
          0.4817857768495659,
          -0.356625977429201,
          -1.1256492380989043,
          0.6142444292828942,
          0.3101873680935744,
          -0.1354708868849027,
          -1.4143634705188226,
          1.590700092082429,
          1.0084567254873549,
          1.0017931015713446,
          2.7545084278062935,
          -1.8652271395589703,
          0.5462421071405258,
          0.21098818368871608,
          -0.21871249152835495,
          -1.0852307654587072,
          0.13725541941488004,
          1.0061247528761237,
          -0.21212535267469518,
          0.30066372306610023
         ]
        },
        {
         "boxpoints": false,
         "line": {
          "width": 1.3
         },
         "marker": {
          "color": "rgba(55, 128, 191, 1.0)"
         },
         "name": "B",
         "orientation": "v",
         "type": "box",
         "y": [
          -1.5157844764829644,
          -0.41217303880693795,
          -0.885537620161897,
          -1.0825116625246325,
          -0.7711514620169873,
          0.11336586975555087,
          -2.037793252704692,
          -1.2431066908082695,
          0.2279630985577041,
          2.285122016115169,
          0.5686612058338246,
          -0.11289094249910886,
          1.0871791334388332,
          -0.9264607664001572,
          -0.23203245030153488,
          1.1978636491657273,
          -1.61049921813411,
          1.0186671150406723,
          -0.830410126643706,
          0.061010127179468195,
          -1.4428710111153462,
          -0.34703951558236673,
          -0.8004712699568765,
          0.9872486636646743,
          -0.11052583039513393,
          -0.521753599429375,
          0.9180609357590939,
          -0.4706314498351323,
          0.1593530936906216,
          -0.34439821179737523,
          0.1260929261261622,
          0.9014891700796437,
          -1.9086325343793984,
          1.3265100906787224,
          -1.016469774207095,
          -1.0075664358751315,
          0.824356905600885,
          0.27100187084226507,
          -2.0531910720757085,
          -0.33096840295790547,
          0.3104043378222117,
          0.3201279405565035,
          0.07138643572302857,
          0.36793695566802753,
          -0.8340584965818486,
          -0.19109136807731775,
          -0.41489317936293635,
          -1.5901195793905352,
          -0.41860282360146844,
          0.25727166901744886,
          1.186585290154861,
          0.01147437217925689,
          1.0938515937475013,
          0.6426173415422843,
          0.7645076934816141,
          1.9665927990300778,
          0.30811626021854516,
          -0.7566852826738959,
          -0.12094518765003719,
          -1.9596422320177858,
          0.3681245349734719,
          -0.45465319992726677,
          1.2866713239735286,
          2.460441459850995,
          1.8473126657480798,
          -0.27141805317652684,
          0.786702020671586,
          0.8539164822407052,
          0.13463426584909585,
          0.4286809506123593,
          -0.16831506587421277,
          -1.0353675736388193,
          1.5391927362068332,
          -0.9642384943504239,
          0.5520580360748376,
          -0.3906983426248046,
          0.32788841514508926,
          -0.8049645750137246,
          -0.2253179772183928,
          -1.5939395645671797,
          -0.5391366490474503,
          0.8104225248406977,
          -0.2493880163743225,
          -0.5634556674177098,
          0.31052738807329744,
          -0.07547020223629892,
          0.39694849620435846,
          -2.307601399367974,
          0.4690059427284225,
          0.36897684664490976,
          -0.38369728493884553,
          0.7383755977764519,
          1.0832043639985331,
          -1.3832746089444825,
          -0.5836772744395085,
          0.8363588903108603,
          0.024321542018380275,
          0.42848927597760655,
          0.04794678043158683,
          0.7961084702479705
         ]
        },
        {
         "boxpoints": false,
         "line": {
          "width": 1.3
         },
         "marker": {
          "color": "rgba(50, 171, 96, 1.0)"
         },
         "name": "C",
         "orientation": "v",
         "type": "box",
         "y": [
          0.772557478686186,
          1.5619374538981845,
          -0.3099869748234525,
          1.0267050315279311,
          1.1956404915812884,
          -2.2034383874763273,
          0.8067077046610623,
          -1.8103300100843542,
          1.5131267189302007,
          1.145080104338141,
          0.4238448308395051,
          0.46992769701196596,
          -1.9729888143204348,
          -1.92898446679836,
          -2.1851006923672283,
          0.177981080341058,
          1.7924561902742222,
          -1.3953030497659535,
          1.1161441034855193,
          1.5254266216808785,
          -1.057982549327903,
          -2.0791601228009595,
          0.020548031171678853,
          1.6394192548300652,
          0.7897561132908015,
          -0.7573833534398482,
          0.8197264596516333,
          0.6210510589986893,
          1.5321503992937031,
          1.909072848879784,
          0.9291167713233864,
          -0.2897681888984046,
          0.6893831787329148,
          1.3811506413193944,
          0.17781360379369673,
          0.28529647423891524,
          1.3960430932538688,
          0.8468332022737332,
          0.17226076748453975,
          -1.2307577851619464,
          0.584180398498998,
          1.4265753028061903,
          1.5894719001527489,
          -0.5067650418253508,
          0.5603073817880679,
          0.05182943991604598,
          -0.4020717440584666,
          1.6142464862336825,
          0.9901356343311106,
          -0.715461960190174,
          -0.8361384942048204,
          1.9609316369543475,
          0.37051011952783747,
          1.1796650544323173,
          1.4909246631038218,
          -0.43675667401264395,
          -0.27762877267643055,
          -2.042024507397647,
          1.363660357916209,
          -1.4396568351103747,
          -0.40023208770273955,
          -0.8069605382383405,
          0.9115786262660264,
          0.543521772211655,
          0.3203734603915574,
          -0.7807415283622873,
          -0.1812203135138396,
          -0.45659447649636226,
          -0.8151869631119836,
          0.3472533446471602,
          -0.34522814052564155,
          -0.5978512282435612,
          -0.09695345656372797,
          0.6259990737607608,
          2.2190615508295393,
          -2.7990178457893067,
          0.8406714292695022,
          -2.612632719299105,
          0.46639623801524654,
          -0.1526765784565968,
          -1.2452582458578734,
          -0.6862113796050994,
          1.5192670707920042,
          0.31365919823521043,
          -0.776883635796296,
          -0.8201130333448449,
          0.1814948226897195,
          -0.6063910158985595,
          -0.0964897309311361,
          -0.4542492642451928,
          1.0622660106243298,
          1.193275113762125,
          1.0721888824180852,
          -1.0091559789130249,
          -0.6515977027632105,
          -2.288894333511839,
          -0.14751702777454642,
          -0.5578495614891594,
          -0.49805503060639866,
          0.8878481019315143
         ]
        },
        {
         "boxpoints": false,
         "line": {
          "width": 1.3
         },
         "marker": {
          "color": "rgba(128, 0, 128, 1.0)"
         },
         "name": "D",
         "orientation": "v",
         "type": "box",
         "y": [
          1.6486816662331822,
          0.5127527941680837,
          -0.45682022340909373,
          2.1021649612,
          -0.7990855629929148,
          0.4857753772751398,
          0.4815860906083117,
          -1.2744356312135072,
          -0.33334735616287786,
          0.05538581977517408,
          -1.5126273539012896,
          0.19339632488793723,
          0.7054632311028051,
          -1.8340851996085326,
          -0.7366515004877121,
          -0.6734292032266896,
          -0.676685774101941,
          0.5512232961403791,
          0.8206992367161917,
          0.7865432202040523,
          3.4644184488191514,
          0.3951465629281341,
          -0.48354084255353336,
          -1.5581103345775005,
          -1.2710047919359644,
          1.0702546826142583,
          -0.949672111341957,
          -2.216929713465729,
          -1.9961865856818644,
          -0.9658677871958201,
          -0.3958461008901219,
          -0.9879091497424247,
          0.10168777245959641,
          0.7040890672529018,
          0.012738971417033285,
          -0.656871427462446,
          -0.3384513518579964,
          0.5630675214455418,
          -1.2329261460910355,
          -1.0095345242430749,
          2.051075780541855,
          -1.1114430424075747,
          0.8213819424432546,
          1.4774860385664552,
          -1.3695699721097088,
          1.8940583040337189,
          0.6392982715691162,
          0.7376353700258274,
          0.4709378312538229,
          -0.07085504170072542,
          1.0898676814593422,
          0.11868141187906694,
          -1.8786330200639423,
          0.5417011107843329,
          -0.7739949128980816,
          -0.6068410879267366,
          0.828221928735691,
          0.47545636639656247,
          0.007993772181831773,
          0.14041824090154645,
          1.4416947872685415,
          1.3237616799692526,
          -2.3777970169955016,
          0.5923666677664033,
          0.3359164990590182,
          -0.5962859323351763,
          -0.4250064485179365,
          -0.016772945841256614,
          -0.5269254239362561,
          -1.31108739074214,
          0.6179665884371213,
          0.4489631120581825,
          0.8267111974126393,
          -0.3732848291661357,
          2.1313610426401954,
          -0.531869502421004,
          -0.9607535438420161,
          -0.11462399514394792,
          -1.2845810072178885,
          0.8021308269304693,
          0.32685228787675885,
          -0.8030267081626514,
          0.6158227844521023,
          -0.7714418392550003,
          -2.6013610686189765,
          1.366753070088446,
          0.19977922081655458,
          -4.5120274063760775,
          0.370997798837073,
          -0.491933431806824,
          -0.32701692644832503,
          -1.0030417657193527,
          -0.5484870568614646,
          0.7164675406003863,
          -0.16609494033713815,
          -0.09701544574085726,
          0.43980493056478,
          -0.15215637559465336,
          -0.6815302536181178,
          -0.09493296897677167
         ]
        }
       ],
       "layout": {
        "legend": {
         "bgcolor": "#F5F6F9",
         "font": {
          "color": "#4D5663"
         }
        },
        "paper_bgcolor": "#F5F6F9",
        "plot_bgcolor": "#F5F6F9",
        "template": {
         "data": {
          "bar": [
           {
            "error_x": {
             "color": "#2a3f5f"
            },
            "error_y": {
             "color": "#2a3f5f"
            },
            "marker": {
             "line": {
              "color": "#E5ECF6",
              "width": 0.5
             }
            },
            "type": "bar"
           }
          ],
          "barpolar": [
           {
            "marker": {
             "line": {
              "color": "#E5ECF6",
              "width": 0.5
             }
            },
            "type": "barpolar"
           }
          ],
          "carpet": [
           {
            "aaxis": {
             "endlinecolor": "#2a3f5f",
             "gridcolor": "white",
             "linecolor": "white",
             "minorgridcolor": "white",
             "startlinecolor": "#2a3f5f"
            },
            "baxis": {
             "endlinecolor": "#2a3f5f",
             "gridcolor": "white",
             "linecolor": "white",
             "minorgridcolor": "white",
             "startlinecolor": "#2a3f5f"
            },
            "type": "carpet"
           }
          ],
          "choropleth": [
           {
            "colorbar": {
             "outlinewidth": 0,
             "ticks": ""
            },
            "type": "choropleth"
           }
          ],
          "contour": [
           {
            "colorbar": {
             "outlinewidth": 0,
             "ticks": ""
            },
            "colorscale": [
             [
              0,
              "#0d0887"
             ],
             [
              0.1111111111111111,
              "#46039f"
             ],
             [
              0.2222222222222222,
              "#7201a8"
             ],
             [
              0.3333333333333333,
              "#9c179e"
             ],
             [
              0.4444444444444444,
              "#bd3786"
             ],
             [
              0.5555555555555556,
              "#d8576b"
             ],
             [
              0.6666666666666666,
              "#ed7953"
             ],
             [
              0.7777777777777778,
              "#fb9f3a"
             ],
             [
              0.8888888888888888,
              "#fdca26"
             ],
             [
              1,
              "#f0f921"
             ]
            ],
            "type": "contour"
           }
          ],
          "contourcarpet": [
           {
            "colorbar": {
             "outlinewidth": 0,
             "ticks": ""
            },
            "type": "contourcarpet"
           }
          ],
          "heatmap": [
           {
            "colorbar": {
             "outlinewidth": 0,
             "ticks": ""
            },
            "colorscale": [
             [
              0,
              "#0d0887"
             ],
             [
              0.1111111111111111,
              "#46039f"
             ],
             [
              0.2222222222222222,
              "#7201a8"
             ],
             [
              0.3333333333333333,
              "#9c179e"
             ],
             [
              0.4444444444444444,
              "#bd3786"
             ],
             [
              0.5555555555555556,
              "#d8576b"
             ],
             [
              0.6666666666666666,
              "#ed7953"
             ],
             [
              0.7777777777777778,
              "#fb9f3a"
             ],
             [
              0.8888888888888888,
              "#fdca26"
             ],
             [
              1,
              "#f0f921"
             ]
            ],
            "type": "heatmap"
           }
          ],
          "heatmapgl": [
           {
            "colorbar": {
             "outlinewidth": 0,
             "ticks": ""
            },
            "colorscale": [
             [
              0,
              "#0d0887"
             ],
             [
              0.1111111111111111,
              "#46039f"
             ],
             [
              0.2222222222222222,
              "#7201a8"
             ],
             [
              0.3333333333333333,
              "#9c179e"
             ],
             [
              0.4444444444444444,
              "#bd3786"
             ],
             [
              0.5555555555555556,
              "#d8576b"
             ],
             [
              0.6666666666666666,
              "#ed7953"
             ],
             [
              0.7777777777777778,
              "#fb9f3a"
             ],
             [
              0.8888888888888888,
              "#fdca26"
             ],
             [
              1,
              "#f0f921"
             ]
            ],
            "type": "heatmapgl"
           }
          ],
          "histogram": [
           {
            "marker": {
             "colorbar": {
              "outlinewidth": 0,
              "ticks": ""
             }
            },
            "type": "histogram"
           }
          ],
          "histogram2d": [
           {
            "colorbar": {
             "outlinewidth": 0,
             "ticks": ""
            },
            "colorscale": [
             [
              0,
              "#0d0887"
             ],
             [
              0.1111111111111111,
              "#46039f"
             ],
             [
              0.2222222222222222,
              "#7201a8"
             ],
             [
              0.3333333333333333,
              "#9c179e"
             ],
             [
              0.4444444444444444,
              "#bd3786"
             ],
             [
              0.5555555555555556,
              "#d8576b"
             ],
             [
              0.6666666666666666,
              "#ed7953"
             ],
             [
              0.7777777777777778,
              "#fb9f3a"
             ],
             [
              0.8888888888888888,
              "#fdca26"
             ],
             [
              1,
              "#f0f921"
             ]
            ],
            "type": "histogram2d"
           }
          ],
          "histogram2dcontour": [
           {
            "colorbar": {
             "outlinewidth": 0,
             "ticks": ""
            },
            "colorscale": [
             [
              0,
              "#0d0887"
             ],
             [
              0.1111111111111111,
              "#46039f"
             ],
             [
              0.2222222222222222,
              "#7201a8"
             ],
             [
              0.3333333333333333,
              "#9c179e"
             ],
             [
              0.4444444444444444,
              "#bd3786"
             ],
             [
              0.5555555555555556,
              "#d8576b"
             ],
             [
              0.6666666666666666,
              "#ed7953"
             ],
             [
              0.7777777777777778,
              "#fb9f3a"
             ],
             [
              0.8888888888888888,
              "#fdca26"
             ],
             [
              1,
              "#f0f921"
             ]
            ],
            "type": "histogram2dcontour"
           }
          ],
          "mesh3d": [
           {
            "colorbar": {
             "outlinewidth": 0,
             "ticks": ""
            },
            "type": "mesh3d"
           }
          ],
          "parcoords": [
           {
            "line": {
             "colorbar": {
              "outlinewidth": 0,
              "ticks": ""
             }
            },
            "type": "parcoords"
           }
          ],
          "pie": [
           {
            "automargin": true,
            "type": "pie"
           }
          ],
          "scatter": [
           {
            "marker": {
             "colorbar": {
              "outlinewidth": 0,
              "ticks": ""
             }
            },
            "type": "scatter"
           }
          ],
          "scatter3d": [
           {
            "line": {
             "colorbar": {
              "outlinewidth": 0,
              "ticks": ""
             }
            },
            "marker": {
             "colorbar": {
              "outlinewidth": 0,
              "ticks": ""
             }
            },
            "type": "scatter3d"
           }
          ],
          "scattercarpet": [
           {
            "marker": {
             "colorbar": {
              "outlinewidth": 0,
              "ticks": ""
             }
            },
            "type": "scattercarpet"
           }
          ],
          "scattergeo": [
           {
            "marker": {
             "colorbar": {
              "outlinewidth": 0,
              "ticks": ""
             }
            },
            "type": "scattergeo"
           }
          ],
          "scattergl": [
           {
            "marker": {
             "colorbar": {
              "outlinewidth": 0,
              "ticks": ""
             }
            },
            "type": "scattergl"
           }
          ],
          "scattermapbox": [
           {
            "marker": {
             "colorbar": {
              "outlinewidth": 0,
              "ticks": ""
             }
            },
            "type": "scattermapbox"
           }
          ],
          "scatterpolar": [
           {
            "marker": {
             "colorbar": {
              "outlinewidth": 0,
              "ticks": ""
             }
            },
            "type": "scatterpolar"
           }
          ],
          "scatterpolargl": [
           {
            "marker": {
             "colorbar": {
              "outlinewidth": 0,
              "ticks": ""
             }
            },
            "type": "scatterpolargl"
           }
          ],
          "scatterternary": [
           {
            "marker": {
             "colorbar": {
              "outlinewidth": 0,
              "ticks": ""
             }
            },
            "type": "scatterternary"
           }
          ],
          "surface": [
           {
            "colorbar": {
             "outlinewidth": 0,
             "ticks": ""
            },
            "colorscale": [
             [
              0,
              "#0d0887"
             ],
             [
              0.1111111111111111,
              "#46039f"
             ],
             [
              0.2222222222222222,
              "#7201a8"
             ],
             [
              0.3333333333333333,
              "#9c179e"
             ],
             [
              0.4444444444444444,
              "#bd3786"
             ],
             [
              0.5555555555555556,
              "#d8576b"
             ],
             [
              0.6666666666666666,
              "#ed7953"
             ],
             [
              0.7777777777777778,
              "#fb9f3a"
             ],
             [
              0.8888888888888888,
              "#fdca26"
             ],
             [
              1,
              "#f0f921"
             ]
            ],
            "type": "surface"
           }
          ],
          "table": [
           {
            "cells": {
             "fill": {
              "color": "#EBF0F8"
             },
             "line": {
              "color": "white"
             }
            },
            "header": {
             "fill": {
              "color": "#C8D4E3"
             },
             "line": {
              "color": "white"
             }
            },
            "type": "table"
           }
          ]
         },
         "layout": {
          "annotationdefaults": {
           "arrowcolor": "#2a3f5f",
           "arrowhead": 0,
           "arrowwidth": 1
          },
          "autotypenumbers": "strict",
          "coloraxis": {
           "colorbar": {
            "outlinewidth": 0,
            "ticks": ""
           }
          },
          "colorscale": {
           "diverging": [
            [
             0,
             "#8e0152"
            ],
            [
             0.1,
             "#c51b7d"
            ],
            [
             0.2,
             "#de77ae"
            ],
            [
             0.3,
             "#f1b6da"
            ],
            [
             0.4,
             "#fde0ef"
            ],
            [
             0.5,
             "#f7f7f7"
            ],
            [
             0.6,
             "#e6f5d0"
            ],
            [
             0.7,
             "#b8e186"
            ],
            [
             0.8,
             "#7fbc41"
            ],
            [
             0.9,
             "#4d9221"
            ],
            [
             1,
             "#276419"
            ]
           ],
           "sequential": [
            [
             0,
             "#0d0887"
            ],
            [
             0.1111111111111111,
             "#46039f"
            ],
            [
             0.2222222222222222,
             "#7201a8"
            ],
            [
             0.3333333333333333,
             "#9c179e"
            ],
            [
             0.4444444444444444,
             "#bd3786"
            ],
            [
             0.5555555555555556,
             "#d8576b"
            ],
            [
             0.6666666666666666,
             "#ed7953"
            ],
            [
             0.7777777777777778,
             "#fb9f3a"
            ],
            [
             0.8888888888888888,
             "#fdca26"
            ],
            [
             1,
             "#f0f921"
            ]
           ],
           "sequentialminus": [
            [
             0,
             "#0d0887"
            ],
            [
             0.1111111111111111,
             "#46039f"
            ],
            [
             0.2222222222222222,
             "#7201a8"
            ],
            [
             0.3333333333333333,
             "#9c179e"
            ],
            [
             0.4444444444444444,
             "#bd3786"
            ],
            [
             0.5555555555555556,
             "#d8576b"
            ],
            [
             0.6666666666666666,
             "#ed7953"
            ],
            [
             0.7777777777777778,
             "#fb9f3a"
            ],
            [
             0.8888888888888888,
             "#fdca26"
            ],
            [
             1,
             "#f0f921"
            ]
           ]
          },
          "colorway": [
           "#636efa",
           "#EF553B",
           "#00cc96",
           "#ab63fa",
           "#FFA15A",
           "#19d3f3",
           "#FF6692",
           "#B6E880",
           "#FF97FF",
           "#FECB52"
          ],
          "font": {
           "color": "#2a3f5f"
          },
          "geo": {
           "bgcolor": "white",
           "lakecolor": "white",
           "landcolor": "#E5ECF6",
           "showlakes": true,
           "showland": true,
           "subunitcolor": "white"
          },
          "hoverlabel": {
           "align": "left"
          },
          "hovermode": "closest",
          "mapbox": {
           "style": "light"
          },
          "paper_bgcolor": "white",
          "plot_bgcolor": "#E5ECF6",
          "polar": {
           "angularaxis": {
            "gridcolor": "white",
            "linecolor": "white",
            "ticks": ""
           },
           "bgcolor": "#E5ECF6",
           "radialaxis": {
            "gridcolor": "white",
            "linecolor": "white",
            "ticks": ""
           }
          },
          "scene": {
           "xaxis": {
            "backgroundcolor": "#E5ECF6",
            "gridcolor": "white",
            "gridwidth": 2,
            "linecolor": "white",
            "showbackground": true,
            "ticks": "",
            "zerolinecolor": "white"
           },
           "yaxis": {
            "backgroundcolor": "#E5ECF6",
            "gridcolor": "white",
            "gridwidth": 2,
            "linecolor": "white",
            "showbackground": true,
            "ticks": "",
            "zerolinecolor": "white"
           },
           "zaxis": {
            "backgroundcolor": "#E5ECF6",
            "gridcolor": "white",
            "gridwidth": 2,
            "linecolor": "white",
            "showbackground": true,
            "ticks": "",
            "zerolinecolor": "white"
           }
          },
          "shapedefaults": {
           "line": {
            "color": "#2a3f5f"
           }
          },
          "ternary": {
           "aaxis": {
            "gridcolor": "white",
            "linecolor": "white",
            "ticks": ""
           },
           "baxis": {
            "gridcolor": "white",
            "linecolor": "white",
            "ticks": ""
           },
           "bgcolor": "#E5ECF6",
           "caxis": {
            "gridcolor": "white",
            "linecolor": "white",
            "ticks": ""
           }
          },
          "title": {
           "x": 0.05
          },
          "xaxis": {
           "automargin": true,
           "gridcolor": "white",
           "linecolor": "white",
           "ticks": "",
           "title": {
            "standoff": 15
           },
           "zerolinecolor": "white",
           "zerolinewidth": 2
          },
          "yaxis": {
           "automargin": true,
           "gridcolor": "white",
           "linecolor": "white",
           "ticks": "",
           "title": {
            "standoff": 15
           },
           "zerolinecolor": "white",
           "zerolinewidth": 2
          }
         }
        },
        "title": {
         "font": {
          "color": "#4D5663"
         }
        },
        "xaxis": {
         "gridcolor": "#E1E5ED",
         "showgrid": true,
         "tickfont": {
          "color": "#4D5663"
         },
         "title": {
          "font": {
           "color": "#4D5663"
          },
          "text": ""
         },
         "zerolinecolor": "#E1E5ED"
        },
        "yaxis": {
         "gridcolor": "#E1E5ED",
         "showgrid": true,
         "tickfont": {
          "color": "#4D5663"
         },
         "title": {
          "font": {
           "color": "#4D5663"
          },
          "text": ""
         },
         "zerolinecolor": "#E1E5ED"
        }
       }
      },
      "text/html": "<div>                            <div id=\"d8c7c94d-1b5b-4e2d-b0ae-fab67c155644\" class=\"plotly-graph-div\" style=\"height:525px; width:100%;\"></div>            <script type=\"text/javascript\">                require([\"plotly\"], function(Plotly) {                    window.PLOTLYENV=window.PLOTLYENV || {};\n                    window.PLOTLYENV.BASE_URL='https://plot.ly';                                    if (document.getElementById(\"d8c7c94d-1b5b-4e2d-b0ae-fab67c155644\")) {                    Plotly.newPlot(                        \"d8c7c94d-1b5b-4e2d-b0ae-fab67c155644\",                        [{\"boxpoints\": false, \"line\": {\"width\": 1.3}, \"marker\": {\"color\": \"rgba(255, 153, 51, 1.0)\"}, \"name\": \"A\", \"orientation\": \"v\", \"type\": \"box\", \"y\": [-0.6156103919659448, -1.2624860845503696, -0.31140802116504096, 0.2453469781558024, -0.3047427693778525, -0.1938769133025758, -0.3390513924431758, 1.5495224843356186, -0.9836369725502156, -0.23562461797605772, 0.8067929267569461, -0.8477493448990581, 0.9278122312968577, 1.323246341063781, -0.2036066511292313, -0.2821092872358227, -2.0965504522807996, 1.33263460863893, -0.8730062749442947, -0.21777344944000587, -0.7372035421095716, -0.5744972691712578, 0.9076625671382935, 0.7610440414048033, -0.6461292555889644, -0.5900878597608552, 1.725652171536661, 1.0162788202334525, 1.8210673215211053, 0.6325470352743859, -1.0947329579554326, 1.9517195306102926, 0.23967706103861106, 0.965985394546088, 0.15852368966232788, 0.10870123815921616, 0.14696594995146783, -0.6020170814752861, -2.1988768505562195, 0.4167024137898031, 2.0543280192487425, -1.106173738405013, -1.4573434546316546, 0.21509295230433023, -0.44006889224274537, 0.9157524357694234, 1.4829297270755881, 0.20167127512276564, 0.017180432551903796, -0.004031698138674777, -0.561990871613196, 0.3665113985199989, 1.8845422828466643, -0.0603826347550325, -1.8269870205652525, -0.5075171173939871, -0.38711492763209043, -2.114692791920225, -0.4372265767085458, 1.2637474277480985, 0.3496605779891636, 1.5684009658161446, -1.387050190351923, 0.44359355184557536, -0.28779903043026983, 1.761926219230782, -0.03866072911630973, 1.1281185715490418, -2.4951156025924455, 1.246697677841596, -0.19662280856266776, -0.03727954581444563, 0.552292854080817, -1.0569325305393944, -0.7545348399599937, -1.0808953664893906, 0.2540993659207464, 0.5077451846314007, -0.5938907220819517, -0.06990720893502703, 0.4817857768495659, -0.356625977429201, -1.1256492380989043, 0.6142444292828942, 0.3101873680935744, -0.1354708868849027, -1.4143634705188226, 1.590700092082429, 1.0084567254873549, 1.0017931015713446, 2.7545084278062935, -1.8652271395589703, 0.5462421071405258, 0.21098818368871608, -0.21871249152835495, -1.0852307654587072, 0.13725541941488004, 1.0061247528761237, -0.21212535267469518, 0.30066372306610023]}, {\"boxpoints\": false, \"line\": {\"width\": 1.3}, \"marker\": {\"color\": \"rgba(55, 128, 191, 1.0)\"}, \"name\": \"B\", \"orientation\": \"v\", \"type\": \"box\", \"y\": [-1.5157844764829644, -0.41217303880693795, -0.885537620161897, -1.0825116625246325, -0.7711514620169873, 0.11336586975555087, -2.037793252704692, -1.2431066908082695, 0.2279630985577041, 2.285122016115169, 0.5686612058338246, -0.11289094249910886, 1.0871791334388332, -0.9264607664001572, -0.23203245030153488, 1.1978636491657273, -1.61049921813411, 1.0186671150406723, -0.830410126643706, 0.061010127179468195, -1.4428710111153462, -0.34703951558236673, -0.8004712699568765, 0.9872486636646743, -0.11052583039513393, -0.521753599429375, 0.9180609357590939, -0.4706314498351323, 0.1593530936906216, -0.34439821179737523, 0.1260929261261622, 0.9014891700796437, -1.9086325343793984, 1.3265100906787224, -1.016469774207095, -1.0075664358751315, 0.824356905600885, 0.27100187084226507, -2.0531910720757085, -0.33096840295790547, 0.3104043378222117, 0.3201279405565035, 0.07138643572302857, 0.36793695566802753, -0.8340584965818486, -0.19109136807731775, -0.41489317936293635, -1.5901195793905352, -0.41860282360146844, 0.25727166901744886, 1.186585290154861, 0.01147437217925689, 1.0938515937475013, 0.6426173415422843, 0.7645076934816141, 1.9665927990300778, 0.30811626021854516, -0.7566852826738959, -0.12094518765003719, -1.9596422320177858, 0.3681245349734719, -0.45465319992726677, 1.2866713239735286, 2.460441459850995, 1.8473126657480798, -0.27141805317652684, 0.786702020671586, 0.8539164822407052, 0.13463426584909585, 0.4286809506123593, -0.16831506587421277, -1.0353675736388193, 1.5391927362068332, -0.9642384943504239, 0.5520580360748376, -0.3906983426248046, 0.32788841514508926, -0.8049645750137246, -0.2253179772183928, -1.5939395645671797, -0.5391366490474503, 0.8104225248406977, -0.2493880163743225, -0.5634556674177098, 0.31052738807329744, -0.07547020223629892, 0.39694849620435846, -2.307601399367974, 0.4690059427284225, 0.36897684664490976, -0.38369728493884553, 0.7383755977764519, 1.0832043639985331, -1.3832746089444825, -0.5836772744395085, 0.8363588903108603, 0.024321542018380275, 0.42848927597760655, 0.04794678043158683, 0.7961084702479705]}, {\"boxpoints\": false, \"line\": {\"width\": 1.3}, \"marker\": {\"color\": \"rgba(50, 171, 96, 1.0)\"}, \"name\": \"C\", \"orientation\": \"v\", \"type\": \"box\", \"y\": [0.772557478686186, 1.5619374538981845, -0.3099869748234525, 1.0267050315279311, 1.1956404915812884, -2.2034383874763273, 0.8067077046610623, -1.8103300100843542, 1.5131267189302007, 1.145080104338141, 0.4238448308395051, 0.46992769701196596, -1.9729888143204348, -1.92898446679836, -2.1851006923672283, 0.177981080341058, 1.7924561902742222, -1.3953030497659535, 1.1161441034855193, 1.5254266216808785, -1.057982549327903, -2.0791601228009595, 0.020548031171678853, 1.6394192548300652, 0.7897561132908015, -0.7573833534398482, 0.8197264596516333, 0.6210510589986893, 1.5321503992937031, 1.909072848879784, 0.9291167713233864, -0.2897681888984046, 0.6893831787329148, 1.3811506413193944, 0.17781360379369673, 0.28529647423891524, 1.3960430932538688, 0.8468332022737332, 0.17226076748453975, -1.2307577851619464, 0.584180398498998, 1.4265753028061903, 1.5894719001527489, -0.5067650418253508, 0.5603073817880679, 0.05182943991604598, -0.4020717440584666, 1.6142464862336825, 0.9901356343311106, -0.715461960190174, -0.8361384942048204, 1.9609316369543475, 0.37051011952783747, 1.1796650544323173, 1.4909246631038218, -0.43675667401264395, -0.27762877267643055, -2.042024507397647, 1.363660357916209, -1.4396568351103747, -0.40023208770273955, -0.8069605382383405, 0.9115786262660264, 0.543521772211655, 0.3203734603915574, -0.7807415283622873, -0.1812203135138396, -0.45659447649636226, -0.8151869631119836, 0.3472533446471602, -0.34522814052564155, -0.5978512282435612, -0.09695345656372797, 0.6259990737607608, 2.2190615508295393, -2.7990178457893067, 0.8406714292695022, -2.612632719299105, 0.46639623801524654, -0.1526765784565968, -1.2452582458578734, -0.6862113796050994, 1.5192670707920042, 0.31365919823521043, -0.776883635796296, -0.8201130333448449, 0.1814948226897195, -0.6063910158985595, -0.0964897309311361, -0.4542492642451928, 1.0622660106243298, 1.193275113762125, 1.0721888824180852, -1.0091559789130249, -0.6515977027632105, -2.288894333511839, -0.14751702777454642, -0.5578495614891594, -0.49805503060639866, 0.8878481019315143]}, {\"boxpoints\": false, \"line\": {\"width\": 1.3}, \"marker\": {\"color\": \"rgba(128, 0, 128, 1.0)\"}, \"name\": \"D\", \"orientation\": \"v\", \"type\": \"box\", \"y\": [1.6486816662331822, 0.5127527941680837, -0.45682022340909373, 2.1021649612, -0.7990855629929148, 0.4857753772751398, 0.4815860906083117, -1.2744356312135072, -0.33334735616287786, 0.05538581977517408, -1.5126273539012896, 0.19339632488793723, 0.7054632311028051, -1.8340851996085326, -0.7366515004877121, -0.6734292032266896, -0.676685774101941, 0.5512232961403791, 0.8206992367161917, 0.7865432202040523, 3.4644184488191514, 0.3951465629281341, -0.48354084255353336, -1.5581103345775005, -1.2710047919359644, 1.0702546826142583, -0.949672111341957, -2.216929713465729, -1.9961865856818644, -0.9658677871958201, -0.3958461008901219, -0.9879091497424247, 0.10168777245959641, 0.7040890672529018, 0.012738971417033285, -0.656871427462446, -0.3384513518579964, 0.5630675214455418, -1.2329261460910355, -1.0095345242430749, 2.051075780541855, -1.1114430424075747, 0.8213819424432546, 1.4774860385664552, -1.3695699721097088, 1.8940583040337189, 0.6392982715691162, 0.7376353700258274, 0.4709378312538229, -0.07085504170072542, 1.0898676814593422, 0.11868141187906694, -1.8786330200639423, 0.5417011107843329, -0.7739949128980816, -0.6068410879267366, 0.828221928735691, 0.47545636639656247, 0.007993772181831773, 0.14041824090154645, 1.4416947872685415, 1.3237616799692526, -2.3777970169955016, 0.5923666677664033, 0.3359164990590182, -0.5962859323351763, -0.4250064485179365, -0.016772945841256614, -0.5269254239362561, -1.31108739074214, 0.6179665884371213, 0.4489631120581825, 0.8267111974126393, -0.3732848291661357, 2.1313610426401954, -0.531869502421004, -0.9607535438420161, -0.11462399514394792, -1.2845810072178885, 0.8021308269304693, 0.32685228787675885, -0.8030267081626514, 0.6158227844521023, -0.7714418392550003, -2.6013610686189765, 1.366753070088446, 0.19977922081655458, -4.5120274063760775, 0.370997798837073, -0.491933431806824, -0.32701692644832503, -1.0030417657193527, -0.5484870568614646, 0.7164675406003863, -0.16609494033713815, -0.09701544574085726, 0.43980493056478, -0.15215637559465336, -0.6815302536181178, -0.09493296897677167]}],                        {\"legend\": {\"bgcolor\": \"#F5F6F9\", \"font\": {\"color\": \"#4D5663\"}}, \"paper_bgcolor\": \"#F5F6F9\", \"plot_bgcolor\": \"#F5F6F9\", \"template\": {\"data\": {\"bar\": [{\"error_x\": {\"color\": \"#2a3f5f\"}, \"error_y\": {\"color\": \"#2a3f5f\"}, \"marker\": {\"line\": {\"color\": \"#E5ECF6\", \"width\": 0.5}}, \"type\": \"bar\"}], \"barpolar\": [{\"marker\": {\"line\": {\"color\": \"#E5ECF6\", \"width\": 0.5}}, \"type\": \"barpolar\"}], \"carpet\": [{\"aaxis\": {\"endlinecolor\": \"#2a3f5f\", \"gridcolor\": \"white\", \"linecolor\": \"white\", \"minorgridcolor\": \"white\", \"startlinecolor\": \"#2a3f5f\"}, \"baxis\": {\"endlinecolor\": \"#2a3f5f\", \"gridcolor\": \"white\", \"linecolor\": \"white\", \"minorgridcolor\": \"white\", \"startlinecolor\": \"#2a3f5f\"}, \"type\": \"carpet\"}], \"choropleth\": [{\"colorbar\": {\"outlinewidth\": 0, \"ticks\": \"\"}, \"type\": \"choropleth\"}], \"contour\": [{\"colorbar\": {\"outlinewidth\": 0, \"ticks\": \"\"}, \"colorscale\": [[0.0, \"#0d0887\"], [0.1111111111111111, \"#46039f\"], [0.2222222222222222, \"#7201a8\"], [0.3333333333333333, \"#9c179e\"], [0.4444444444444444, \"#bd3786\"], [0.5555555555555556, \"#d8576b\"], [0.6666666666666666, \"#ed7953\"], [0.7777777777777778, \"#fb9f3a\"], [0.8888888888888888, \"#fdca26\"], [1.0, \"#f0f921\"]], \"type\": \"contour\"}], \"contourcarpet\": [{\"colorbar\": {\"outlinewidth\": 0, \"ticks\": \"\"}, \"type\": \"contourcarpet\"}], \"heatmap\": [{\"colorbar\": {\"outlinewidth\": 0, \"ticks\": \"\"}, \"colorscale\": [[0.0, \"#0d0887\"], [0.1111111111111111, \"#46039f\"], [0.2222222222222222, \"#7201a8\"], [0.3333333333333333, \"#9c179e\"], [0.4444444444444444, \"#bd3786\"], [0.5555555555555556, \"#d8576b\"], [0.6666666666666666, \"#ed7953\"], [0.7777777777777778, \"#fb9f3a\"], [0.8888888888888888, \"#fdca26\"], [1.0, \"#f0f921\"]], \"type\": \"heatmap\"}], \"heatmapgl\": [{\"colorbar\": {\"outlinewidth\": 0, \"ticks\": \"\"}, \"colorscale\": [[0.0, \"#0d0887\"], [0.1111111111111111, \"#46039f\"], [0.2222222222222222, \"#7201a8\"], [0.3333333333333333, \"#9c179e\"], [0.4444444444444444, \"#bd3786\"], [0.5555555555555556, \"#d8576b\"], [0.6666666666666666, \"#ed7953\"], [0.7777777777777778, \"#fb9f3a\"], [0.8888888888888888, \"#fdca26\"], [1.0, \"#f0f921\"]], \"type\": \"heatmapgl\"}], \"histogram\": [{\"marker\": {\"colorbar\": {\"outlinewidth\": 0, \"ticks\": \"\"}}, \"type\": \"histogram\"}], \"histogram2d\": [{\"colorbar\": {\"outlinewidth\": 0, \"ticks\": \"\"}, \"colorscale\": [[0.0, \"#0d0887\"], [0.1111111111111111, \"#46039f\"], [0.2222222222222222, \"#7201a8\"], [0.3333333333333333, \"#9c179e\"], [0.4444444444444444, \"#bd3786\"], [0.5555555555555556, \"#d8576b\"], [0.6666666666666666, \"#ed7953\"], [0.7777777777777778, \"#fb9f3a\"], [0.8888888888888888, \"#fdca26\"], [1.0, \"#f0f921\"]], \"type\": \"histogram2d\"}], \"histogram2dcontour\": [{\"colorbar\": {\"outlinewidth\": 0, \"ticks\": \"\"}, \"colorscale\": [[0.0, \"#0d0887\"], [0.1111111111111111, \"#46039f\"], [0.2222222222222222, \"#7201a8\"], [0.3333333333333333, \"#9c179e\"], [0.4444444444444444, \"#bd3786\"], [0.5555555555555556, \"#d8576b\"], [0.6666666666666666, \"#ed7953\"], [0.7777777777777778, \"#fb9f3a\"], [0.8888888888888888, \"#fdca26\"], [1.0, \"#f0f921\"]], \"type\": \"histogram2dcontour\"}], \"mesh3d\": [{\"colorbar\": {\"outlinewidth\": 0, \"ticks\": \"\"}, \"type\": \"mesh3d\"}], \"parcoords\": [{\"line\": {\"colorbar\": {\"outlinewidth\": 0, \"ticks\": \"\"}}, \"type\": \"parcoords\"}], \"pie\": [{\"automargin\": true, \"type\": \"pie\"}], \"scatter\": [{\"marker\": {\"colorbar\": {\"outlinewidth\": 0, \"ticks\": \"\"}}, \"type\": \"scatter\"}], \"scatter3d\": [{\"line\": {\"colorbar\": {\"outlinewidth\": 0, \"ticks\": \"\"}}, \"marker\": {\"colorbar\": {\"outlinewidth\": 0, \"ticks\": \"\"}}, \"type\": \"scatter3d\"}], \"scattercarpet\": [{\"marker\": {\"colorbar\": {\"outlinewidth\": 0, \"ticks\": \"\"}}, \"type\": \"scattercarpet\"}], \"scattergeo\": [{\"marker\": {\"colorbar\": {\"outlinewidth\": 0, \"ticks\": \"\"}}, \"type\": \"scattergeo\"}], \"scattergl\": [{\"marker\": {\"colorbar\": {\"outlinewidth\": 0, \"ticks\": \"\"}}, \"type\": \"scattergl\"}], \"scattermapbox\": [{\"marker\": {\"colorbar\": {\"outlinewidth\": 0, \"ticks\": \"\"}}, \"type\": \"scattermapbox\"}], \"scatterpolar\": [{\"marker\": {\"colorbar\": {\"outlinewidth\": 0, \"ticks\": \"\"}}, \"type\": \"scatterpolar\"}], \"scatterpolargl\": [{\"marker\": {\"colorbar\": {\"outlinewidth\": 0, \"ticks\": \"\"}}, \"type\": \"scatterpolargl\"}], \"scatterternary\": [{\"marker\": {\"colorbar\": {\"outlinewidth\": 0, \"ticks\": \"\"}}, \"type\": \"scatterternary\"}], \"surface\": [{\"colorbar\": {\"outlinewidth\": 0, \"ticks\": \"\"}, \"colorscale\": [[0.0, \"#0d0887\"], [0.1111111111111111, \"#46039f\"], [0.2222222222222222, \"#7201a8\"], [0.3333333333333333, \"#9c179e\"], [0.4444444444444444, \"#bd3786\"], [0.5555555555555556, \"#d8576b\"], [0.6666666666666666, \"#ed7953\"], [0.7777777777777778, \"#fb9f3a\"], [0.8888888888888888, \"#fdca26\"], [1.0, \"#f0f921\"]], \"type\": \"surface\"}], \"table\": [{\"cells\": {\"fill\": {\"color\": \"#EBF0F8\"}, \"line\": {\"color\": \"white\"}}, \"header\": {\"fill\": {\"color\": \"#C8D4E3\"}, \"line\": {\"color\": \"white\"}}, \"type\": \"table\"}]}, \"layout\": {\"annotationdefaults\": {\"arrowcolor\": \"#2a3f5f\", \"arrowhead\": 0, \"arrowwidth\": 1}, \"autotypenumbers\": \"strict\", \"coloraxis\": {\"colorbar\": {\"outlinewidth\": 0, \"ticks\": \"\"}}, \"colorscale\": {\"diverging\": [[0, \"#8e0152\"], [0.1, \"#c51b7d\"], [0.2, \"#de77ae\"], [0.3, \"#f1b6da\"], [0.4, \"#fde0ef\"], [0.5, \"#f7f7f7\"], [0.6, \"#e6f5d0\"], [0.7, \"#b8e186\"], [0.8, \"#7fbc41\"], [0.9, \"#4d9221\"], [1, \"#276419\"]], \"sequential\": [[0.0, \"#0d0887\"], [0.1111111111111111, \"#46039f\"], [0.2222222222222222, \"#7201a8\"], [0.3333333333333333, \"#9c179e\"], [0.4444444444444444, \"#bd3786\"], [0.5555555555555556, \"#d8576b\"], [0.6666666666666666, \"#ed7953\"], [0.7777777777777778, \"#fb9f3a\"], [0.8888888888888888, \"#fdca26\"], [1.0, \"#f0f921\"]], \"sequentialminus\": [[0.0, \"#0d0887\"], [0.1111111111111111, \"#46039f\"], [0.2222222222222222, \"#7201a8\"], [0.3333333333333333, \"#9c179e\"], [0.4444444444444444, \"#bd3786\"], [0.5555555555555556, \"#d8576b\"], [0.6666666666666666, \"#ed7953\"], [0.7777777777777778, \"#fb9f3a\"], [0.8888888888888888, \"#fdca26\"], [1.0, \"#f0f921\"]]}, \"colorway\": [\"#636efa\", \"#EF553B\", \"#00cc96\", \"#ab63fa\", \"#FFA15A\", \"#19d3f3\", \"#FF6692\", \"#B6E880\", \"#FF97FF\", \"#FECB52\"], \"font\": {\"color\": \"#2a3f5f\"}, \"geo\": {\"bgcolor\": \"white\", \"lakecolor\": \"white\", \"landcolor\": \"#E5ECF6\", \"showlakes\": true, \"showland\": true, \"subunitcolor\": \"white\"}, \"hoverlabel\": {\"align\": \"left\"}, \"hovermode\": \"closest\", \"mapbox\": {\"style\": \"light\"}, \"paper_bgcolor\": \"white\", \"plot_bgcolor\": \"#E5ECF6\", \"polar\": {\"angularaxis\": {\"gridcolor\": \"white\", \"linecolor\": \"white\", \"ticks\": \"\"}, \"bgcolor\": \"#E5ECF6\", \"radialaxis\": {\"gridcolor\": \"white\", \"linecolor\": \"white\", \"ticks\": \"\"}}, \"scene\": {\"xaxis\": {\"backgroundcolor\": \"#E5ECF6\", \"gridcolor\": \"white\", \"gridwidth\": 2, \"linecolor\": \"white\", \"showbackground\": true, \"ticks\": \"\", \"zerolinecolor\": \"white\"}, \"yaxis\": {\"backgroundcolor\": \"#E5ECF6\", \"gridcolor\": \"white\", \"gridwidth\": 2, \"linecolor\": \"white\", \"showbackground\": true, \"ticks\": \"\", \"zerolinecolor\": \"white\"}, \"zaxis\": {\"backgroundcolor\": \"#E5ECF6\", \"gridcolor\": \"white\", \"gridwidth\": 2, \"linecolor\": \"white\", \"showbackground\": true, \"ticks\": \"\", \"zerolinecolor\": \"white\"}}, \"shapedefaults\": {\"line\": {\"color\": \"#2a3f5f\"}}, \"ternary\": {\"aaxis\": {\"gridcolor\": \"white\", \"linecolor\": \"white\", \"ticks\": \"\"}, \"baxis\": {\"gridcolor\": \"white\", \"linecolor\": \"white\", \"ticks\": \"\"}, \"bgcolor\": \"#E5ECF6\", \"caxis\": {\"gridcolor\": \"white\", \"linecolor\": \"white\", \"ticks\": \"\"}}, \"title\": {\"x\": 0.05}, \"xaxis\": {\"automargin\": true, \"gridcolor\": \"white\", \"linecolor\": \"white\", \"ticks\": \"\", \"title\": {\"standoff\": 15}, \"zerolinecolor\": \"white\", \"zerolinewidth\": 2}, \"yaxis\": {\"automargin\": true, \"gridcolor\": \"white\", \"linecolor\": \"white\", \"ticks\": \"\", \"title\": {\"standoff\": 15}, \"zerolinecolor\": \"white\", \"zerolinewidth\": 2}}}, \"title\": {\"font\": {\"color\": \"#4D5663\"}}, \"xaxis\": {\"gridcolor\": \"#E1E5ED\", \"showgrid\": true, \"tickfont\": {\"color\": \"#4D5663\"}, \"title\": {\"font\": {\"color\": \"#4D5663\"}, \"text\": \"\"}, \"zerolinecolor\": \"#E1E5ED\"}, \"yaxis\": {\"gridcolor\": \"#E1E5ED\", \"showgrid\": true, \"tickfont\": {\"color\": \"#4D5663\"}, \"title\": {\"font\": {\"color\": \"#4D5663\"}, \"text\": \"\"}, \"zerolinecolor\": \"#E1E5ED\"}},                        {\"showLink\": true, \"linkText\": \"Export to plot.ly\", \"plotlyServerURL\": \"https://plot.ly\", \"responsive\": true}                    ).then(function(){\n                            \nvar gd = document.getElementById('d8c7c94d-1b5b-4e2d-b0ae-fab67c155644');\nvar x = new MutationObserver(function (mutations, observer) {{\n        var display = window.getComputedStyle(gd).display;\n        if (!display || display === 'none') {{\n            console.log([gd, 'removed!']);\n            Plotly.purge(gd);\n            observer.disconnect();\n        }}\n}});\n\n// Listen for the removal of the full notebook cells\nvar notebookContainer = gd.closest('#notebook-container');\nif (notebookContainer) {{\n    x.observe(notebookContainer, {childList: true});\n}}\n\n// Listen for the clearing of the current output cell\nvar outputEl = gd.closest('.output');\nif (outputEl) {{\n    x.observe(outputEl, {childList: true});\n}}\n\n                        })                };                });            </script>        </div>"
     },
     "metadata": {}
    }
   ],
   "source": [
    "#boxplot\n",
    "df.iplot(kind='box')"
   ]
  },
  {
   "cell_type": "code",
   "execution_count": 26,
   "metadata": {},
   "outputs": [],
   "source": [
    "df3=pd.DataFrame({'x':[1,2,3,4,5],'y':[10,20,30,20,10], 'z':[500,400,300,200,100]})"
   ]
  },
  {
   "cell_type": "code",
   "execution_count": 27,
   "metadata": {},
   "outputs": [
    {
     "output_type": "execute_result",
     "data": {
      "text/plain": [
       "   x   y    z\n",
       "0  1  10  500\n",
       "1  2  20  400\n",
       "2  3  30  300\n",
       "3  4  20  200\n",
       "4  5  10  100"
      ],
      "text/html": "<div>\n<style scoped>\n    .dataframe tbody tr th:only-of-type {\n        vertical-align: middle;\n    }\n\n    .dataframe tbody tr th {\n        vertical-align: top;\n    }\n\n    .dataframe thead th {\n        text-align: right;\n    }\n</style>\n<table border=\"1\" class=\"dataframe\">\n  <thead>\n    <tr style=\"text-align: right;\">\n      <th></th>\n      <th>x</th>\n      <th>y</th>\n      <th>z</th>\n    </tr>\n  </thead>\n  <tbody>\n    <tr>\n      <th>0</th>\n      <td>1</td>\n      <td>10</td>\n      <td>500</td>\n    </tr>\n    <tr>\n      <th>1</th>\n      <td>2</td>\n      <td>20</td>\n      <td>400</td>\n    </tr>\n    <tr>\n      <th>2</th>\n      <td>3</td>\n      <td>30</td>\n      <td>300</td>\n    </tr>\n    <tr>\n      <th>3</th>\n      <td>4</td>\n      <td>20</td>\n      <td>200</td>\n    </tr>\n    <tr>\n      <th>4</th>\n      <td>5</td>\n      <td>10</td>\n      <td>100</td>\n    </tr>\n  </tbody>\n</table>\n</div>"
     },
     "metadata": {},
     "execution_count": 27
    }
   ],
   "source": [
    "df3"
   ]
  },
  {
   "cell_type": "code",
   "execution_count": 29,
   "metadata": {},
   "outputs": [
    {
     "output_type": "display_data",
     "data": {
      "application/vnd.plotly.v1+json": {
       "config": {
        "linkText": "Export to plot.ly",
        "plotlyServerURL": "https://plot.ly",
        "showLink": true
       },
       "data": [
        {
         "colorscale": [
          [
           0,
           "rgb(165,0,38)"
          ],
          [
           0.1,
           "rgb(215,48,39)"
          ],
          [
           0.2,
           "rgb(244,109,67)"
          ],
          [
           0.3,
           "rgb(253,174,97)"
          ],
          [
           0.4,
           "rgb(254,224,144)"
          ],
          [
           0.5,
           "rgb(255,255,191)"
          ],
          [
           0.6,
           "rgb(224,243,248)"
          ],
          [
           0.7,
           "rgb(171,217,233)"
          ],
          [
           0.8,
           "rgb(116,173,209)"
          ],
          [
           0.9,
           "rgb(69,117,180)"
          ],
          [
           1,
           "rgb(49,54,149)"
          ]
         ],
         "type": "surface",
         "x": [
          0,
          1,
          2,
          3,
          4
         ],
         "y": [
          "x",
          "y",
          "z"
         ],
         "z": [
          [
           1,
           2,
           3,
           4,
           5
          ],
          [
           10,
           20,
           30,
           20,
           10
          ],
          [
           500,
           400,
           300,
           200,
           100
          ]
         ]
        }
       ],
       "layout": {
        "legend": {
         "bgcolor": "#F5F6F9",
         "font": {
          "color": "#4D5663"
         }
        },
        "paper_bgcolor": "#F5F6F9",
        "plot_bgcolor": "#F5F6F9",
        "template": {
         "data": {
          "bar": [
           {
            "error_x": {
             "color": "#2a3f5f"
            },
            "error_y": {
             "color": "#2a3f5f"
            },
            "marker": {
             "line": {
              "color": "#E5ECF6",
              "width": 0.5
             }
            },
            "type": "bar"
           }
          ],
          "barpolar": [
           {
            "marker": {
             "line": {
              "color": "#E5ECF6",
              "width": 0.5
             }
            },
            "type": "barpolar"
           }
          ],
          "carpet": [
           {
            "aaxis": {
             "endlinecolor": "#2a3f5f",
             "gridcolor": "white",
             "linecolor": "white",
             "minorgridcolor": "white",
             "startlinecolor": "#2a3f5f"
            },
            "baxis": {
             "endlinecolor": "#2a3f5f",
             "gridcolor": "white",
             "linecolor": "white",
             "minorgridcolor": "white",
             "startlinecolor": "#2a3f5f"
            },
            "type": "carpet"
           }
          ],
          "choropleth": [
           {
            "colorbar": {
             "outlinewidth": 0,
             "ticks": ""
            },
            "type": "choropleth"
           }
          ],
          "contour": [
           {
            "colorbar": {
             "outlinewidth": 0,
             "ticks": ""
            },
            "colorscale": [
             [
              0,
              "#0d0887"
             ],
             [
              0.1111111111111111,
              "#46039f"
             ],
             [
              0.2222222222222222,
              "#7201a8"
             ],
             [
              0.3333333333333333,
              "#9c179e"
             ],
             [
              0.4444444444444444,
              "#bd3786"
             ],
             [
              0.5555555555555556,
              "#d8576b"
             ],
             [
              0.6666666666666666,
              "#ed7953"
             ],
             [
              0.7777777777777778,
              "#fb9f3a"
             ],
             [
              0.8888888888888888,
              "#fdca26"
             ],
             [
              1,
              "#f0f921"
             ]
            ],
            "type": "contour"
           }
          ],
          "contourcarpet": [
           {
            "colorbar": {
             "outlinewidth": 0,
             "ticks": ""
            },
            "type": "contourcarpet"
           }
          ],
          "heatmap": [
           {
            "colorbar": {
             "outlinewidth": 0,
             "ticks": ""
            },
            "colorscale": [
             [
              0,
              "#0d0887"
             ],
             [
              0.1111111111111111,
              "#46039f"
             ],
             [
              0.2222222222222222,
              "#7201a8"
             ],
             [
              0.3333333333333333,
              "#9c179e"
             ],
             [
              0.4444444444444444,
              "#bd3786"
             ],
             [
              0.5555555555555556,
              "#d8576b"
             ],
             [
              0.6666666666666666,
              "#ed7953"
             ],
             [
              0.7777777777777778,
              "#fb9f3a"
             ],
             [
              0.8888888888888888,
              "#fdca26"
             ],
             [
              1,
              "#f0f921"
             ]
            ],
            "type": "heatmap"
           }
          ],
          "heatmapgl": [
           {
            "colorbar": {
             "outlinewidth": 0,
             "ticks": ""
            },
            "colorscale": [
             [
              0,
              "#0d0887"
             ],
             [
              0.1111111111111111,
              "#46039f"
             ],
             [
              0.2222222222222222,
              "#7201a8"
             ],
             [
              0.3333333333333333,
              "#9c179e"
             ],
             [
              0.4444444444444444,
              "#bd3786"
             ],
             [
              0.5555555555555556,
              "#d8576b"
             ],
             [
              0.6666666666666666,
              "#ed7953"
             ],
             [
              0.7777777777777778,
              "#fb9f3a"
             ],
             [
              0.8888888888888888,
              "#fdca26"
             ],
             [
              1,
              "#f0f921"
             ]
            ],
            "type": "heatmapgl"
           }
          ],
          "histogram": [
           {
            "marker": {
             "colorbar": {
              "outlinewidth": 0,
              "ticks": ""
             }
            },
            "type": "histogram"
           }
          ],
          "histogram2d": [
           {
            "colorbar": {
             "outlinewidth": 0,
             "ticks": ""
            },
            "colorscale": [
             [
              0,
              "#0d0887"
             ],
             [
              0.1111111111111111,
              "#46039f"
             ],
             [
              0.2222222222222222,
              "#7201a8"
             ],
             [
              0.3333333333333333,
              "#9c179e"
             ],
             [
              0.4444444444444444,
              "#bd3786"
             ],
             [
              0.5555555555555556,
              "#d8576b"
             ],
             [
              0.6666666666666666,
              "#ed7953"
             ],
             [
              0.7777777777777778,
              "#fb9f3a"
             ],
             [
              0.8888888888888888,
              "#fdca26"
             ],
             [
              1,
              "#f0f921"
             ]
            ],
            "type": "histogram2d"
           }
          ],
          "histogram2dcontour": [
           {
            "colorbar": {
             "outlinewidth": 0,
             "ticks": ""
            },
            "colorscale": [
             [
              0,
              "#0d0887"
             ],
             [
              0.1111111111111111,
              "#46039f"
             ],
             [
              0.2222222222222222,
              "#7201a8"
             ],
             [
              0.3333333333333333,
              "#9c179e"
             ],
             [
              0.4444444444444444,
              "#bd3786"
             ],
             [
              0.5555555555555556,
              "#d8576b"
             ],
             [
              0.6666666666666666,
              "#ed7953"
             ],
             [
              0.7777777777777778,
              "#fb9f3a"
             ],
             [
              0.8888888888888888,
              "#fdca26"
             ],
             [
              1,
              "#f0f921"
             ]
            ],
            "type": "histogram2dcontour"
           }
          ],
          "mesh3d": [
           {
            "colorbar": {
             "outlinewidth": 0,
             "ticks": ""
            },
            "type": "mesh3d"
           }
          ],
          "parcoords": [
           {
            "line": {
             "colorbar": {
              "outlinewidth": 0,
              "ticks": ""
             }
            },
            "type": "parcoords"
           }
          ],
          "pie": [
           {
            "automargin": true,
            "type": "pie"
           }
          ],
          "scatter": [
           {
            "marker": {
             "colorbar": {
              "outlinewidth": 0,
              "ticks": ""
             }
            },
            "type": "scatter"
           }
          ],
          "scatter3d": [
           {
            "line": {
             "colorbar": {
              "outlinewidth": 0,
              "ticks": ""
             }
            },
            "marker": {
             "colorbar": {
              "outlinewidth": 0,
              "ticks": ""
             }
            },
            "type": "scatter3d"
           }
          ],
          "scattercarpet": [
           {
            "marker": {
             "colorbar": {
              "outlinewidth": 0,
              "ticks": ""
             }
            },
            "type": "scattercarpet"
           }
          ],
          "scattergeo": [
           {
            "marker": {
             "colorbar": {
              "outlinewidth": 0,
              "ticks": ""
             }
            },
            "type": "scattergeo"
           }
          ],
          "scattergl": [
           {
            "marker": {
             "colorbar": {
              "outlinewidth": 0,
              "ticks": ""
             }
            },
            "type": "scattergl"
           }
          ],
          "scattermapbox": [
           {
            "marker": {
             "colorbar": {
              "outlinewidth": 0,
              "ticks": ""
             }
            },
            "type": "scattermapbox"
           }
          ],
          "scatterpolar": [
           {
            "marker": {
             "colorbar": {
              "outlinewidth": 0,
              "ticks": ""
             }
            },
            "type": "scatterpolar"
           }
          ],
          "scatterpolargl": [
           {
            "marker": {
             "colorbar": {
              "outlinewidth": 0,
              "ticks": ""
             }
            },
            "type": "scatterpolargl"
           }
          ],
          "scatterternary": [
           {
            "marker": {
             "colorbar": {
              "outlinewidth": 0,
              "ticks": ""
             }
            },
            "type": "scatterternary"
           }
          ],
          "surface": [
           {
            "colorbar": {
             "outlinewidth": 0,
             "ticks": ""
            },
            "colorscale": [
             [
              0,
              "#0d0887"
             ],
             [
              0.1111111111111111,
              "#46039f"
             ],
             [
              0.2222222222222222,
              "#7201a8"
             ],
             [
              0.3333333333333333,
              "#9c179e"
             ],
             [
              0.4444444444444444,
              "#bd3786"
             ],
             [
              0.5555555555555556,
              "#d8576b"
             ],
             [
              0.6666666666666666,
              "#ed7953"
             ],
             [
              0.7777777777777778,
              "#fb9f3a"
             ],
             [
              0.8888888888888888,
              "#fdca26"
             ],
             [
              1,
              "#f0f921"
             ]
            ],
            "type": "surface"
           }
          ],
          "table": [
           {
            "cells": {
             "fill": {
              "color": "#EBF0F8"
             },
             "line": {
              "color": "white"
             }
            },
            "header": {
             "fill": {
              "color": "#C8D4E3"
             },
             "line": {
              "color": "white"
             }
            },
            "type": "table"
           }
          ]
         },
         "layout": {
          "annotationdefaults": {
           "arrowcolor": "#2a3f5f",
           "arrowhead": 0,
           "arrowwidth": 1
          },
          "autotypenumbers": "strict",
          "coloraxis": {
           "colorbar": {
            "outlinewidth": 0,
            "ticks": ""
           }
          },
          "colorscale": {
           "diverging": [
            [
             0,
             "#8e0152"
            ],
            [
             0.1,
             "#c51b7d"
            ],
            [
             0.2,
             "#de77ae"
            ],
            [
             0.3,
             "#f1b6da"
            ],
            [
             0.4,
             "#fde0ef"
            ],
            [
             0.5,
             "#f7f7f7"
            ],
            [
             0.6,
             "#e6f5d0"
            ],
            [
             0.7,
             "#b8e186"
            ],
            [
             0.8,
             "#7fbc41"
            ],
            [
             0.9,
             "#4d9221"
            ],
            [
             1,
             "#276419"
            ]
           ],
           "sequential": [
            [
             0,
             "#0d0887"
            ],
            [
             0.1111111111111111,
             "#46039f"
            ],
            [
             0.2222222222222222,
             "#7201a8"
            ],
            [
             0.3333333333333333,
             "#9c179e"
            ],
            [
             0.4444444444444444,
             "#bd3786"
            ],
            [
             0.5555555555555556,
             "#d8576b"
            ],
            [
             0.6666666666666666,
             "#ed7953"
            ],
            [
             0.7777777777777778,
             "#fb9f3a"
            ],
            [
             0.8888888888888888,
             "#fdca26"
            ],
            [
             1,
             "#f0f921"
            ]
           ],
           "sequentialminus": [
            [
             0,
             "#0d0887"
            ],
            [
             0.1111111111111111,
             "#46039f"
            ],
            [
             0.2222222222222222,
             "#7201a8"
            ],
            [
             0.3333333333333333,
             "#9c179e"
            ],
            [
             0.4444444444444444,
             "#bd3786"
            ],
            [
             0.5555555555555556,
             "#d8576b"
            ],
            [
             0.6666666666666666,
             "#ed7953"
            ],
            [
             0.7777777777777778,
             "#fb9f3a"
            ],
            [
             0.8888888888888888,
             "#fdca26"
            ],
            [
             1,
             "#f0f921"
            ]
           ]
          },
          "colorway": [
           "#636efa",
           "#EF553B",
           "#00cc96",
           "#ab63fa",
           "#FFA15A",
           "#19d3f3",
           "#FF6692",
           "#B6E880",
           "#FF97FF",
           "#FECB52"
          ],
          "font": {
           "color": "#2a3f5f"
          },
          "geo": {
           "bgcolor": "white",
           "lakecolor": "white",
           "landcolor": "#E5ECF6",
           "showlakes": true,
           "showland": true,
           "subunitcolor": "white"
          },
          "hoverlabel": {
           "align": "left"
          },
          "hovermode": "closest",
          "mapbox": {
           "style": "light"
          },
          "paper_bgcolor": "white",
          "plot_bgcolor": "#E5ECF6",
          "polar": {
           "angularaxis": {
            "gridcolor": "white",
            "linecolor": "white",
            "ticks": ""
           },
           "bgcolor": "#E5ECF6",
           "radialaxis": {
            "gridcolor": "white",
            "linecolor": "white",
            "ticks": ""
           }
          },
          "scene": {
           "xaxis": {
            "backgroundcolor": "#E5ECF6",
            "gridcolor": "white",
            "gridwidth": 2,
            "linecolor": "white",
            "showbackground": true,
            "ticks": "",
            "zerolinecolor": "white"
           },
           "yaxis": {
            "backgroundcolor": "#E5ECF6",
            "gridcolor": "white",
            "gridwidth": 2,
            "linecolor": "white",
            "showbackground": true,
            "ticks": "",
            "zerolinecolor": "white"
           },
           "zaxis": {
            "backgroundcolor": "#E5ECF6",
            "gridcolor": "white",
            "gridwidth": 2,
            "linecolor": "white",
            "showbackground": true,
            "ticks": "",
            "zerolinecolor": "white"
           }
          },
          "shapedefaults": {
           "line": {
            "color": "#2a3f5f"
           }
          },
          "ternary": {
           "aaxis": {
            "gridcolor": "white",
            "linecolor": "white",
            "ticks": ""
           },
           "baxis": {
            "gridcolor": "white",
            "linecolor": "white",
            "ticks": ""
           },
           "bgcolor": "#E5ECF6",
           "caxis": {
            "gridcolor": "white",
            "linecolor": "white",
            "ticks": ""
           }
          },
          "title": {
           "x": 0.05
          },
          "xaxis": {
           "automargin": true,
           "gridcolor": "white",
           "linecolor": "white",
           "ticks": "",
           "title": {
            "standoff": 15
           },
           "zerolinecolor": "white",
           "zerolinewidth": 2
          },
          "yaxis": {
           "automargin": true,
           "gridcolor": "white",
           "linecolor": "white",
           "ticks": "",
           "title": {
            "standoff": 15
           },
           "zerolinecolor": "white",
           "zerolinewidth": 2
          }
         }
        },
        "title": {
         "font": {
          "color": "#4D5663"
         }
        },
        "xaxis": {
         "gridcolor": "#E1E5ED",
         "showgrid": true,
         "tickfont": {
          "color": "#4D5663"
         },
         "title": {
          "font": {
           "color": "#4D5663"
          },
          "text": ""
         },
         "zerolinecolor": "#E1E5ED"
        },
        "yaxis": {
         "gridcolor": "#E1E5ED",
         "showgrid": true,
         "tickfont": {
          "color": "#4D5663"
         },
         "title": {
          "font": {
           "color": "#4D5663"
          },
          "text": ""
         },
         "zerolinecolor": "#E1E5ED"
        }
       }
      },
      "text/html": "<div>                            <div id=\"d1902439-a235-4ea6-9bf0-aca2dced1c0a\" class=\"plotly-graph-div\" style=\"height:525px; width:100%;\"></div>            <script type=\"text/javascript\">                require([\"plotly\"], function(Plotly) {                    window.PLOTLYENV=window.PLOTLYENV || {};\n                    window.PLOTLYENV.BASE_URL='https://plot.ly';                                    if (document.getElementById(\"d1902439-a235-4ea6-9bf0-aca2dced1c0a\")) {                    Plotly.newPlot(                        \"d1902439-a235-4ea6-9bf0-aca2dced1c0a\",                        [{\"colorscale\": [[0.0, \"rgb(165,0,38)\"], [0.1, \"rgb(215,48,39)\"], [0.2, \"rgb(244,109,67)\"], [0.3, \"rgb(253,174,97)\"], [0.4, \"rgb(254,224,144)\"], [0.5, \"rgb(255,255,191)\"], [0.6, \"rgb(224,243,248)\"], [0.7, \"rgb(171,217,233)\"], [0.8, \"rgb(116,173,209)\"], [0.9, \"rgb(69,117,180)\"], [1.0, \"rgb(49,54,149)\"]], \"type\": \"surface\", \"x\": [0, 1, 2, 3, 4], \"y\": [\"x\", \"y\", \"z\"], \"z\": [[1, 2, 3, 4, 5], [10, 20, 30, 20, 10], [500, 400, 300, 200, 100]]}],                        {\"legend\": {\"bgcolor\": \"#F5F6F9\", \"font\": {\"color\": \"#4D5663\"}}, \"paper_bgcolor\": \"#F5F6F9\", \"plot_bgcolor\": \"#F5F6F9\", \"template\": {\"data\": {\"bar\": [{\"error_x\": {\"color\": \"#2a3f5f\"}, \"error_y\": {\"color\": \"#2a3f5f\"}, \"marker\": {\"line\": {\"color\": \"#E5ECF6\", \"width\": 0.5}}, \"type\": \"bar\"}], \"barpolar\": [{\"marker\": {\"line\": {\"color\": \"#E5ECF6\", \"width\": 0.5}}, \"type\": \"barpolar\"}], \"carpet\": [{\"aaxis\": {\"endlinecolor\": \"#2a3f5f\", \"gridcolor\": \"white\", \"linecolor\": \"white\", \"minorgridcolor\": \"white\", \"startlinecolor\": \"#2a3f5f\"}, \"baxis\": {\"endlinecolor\": \"#2a3f5f\", \"gridcolor\": \"white\", \"linecolor\": \"white\", \"minorgridcolor\": \"white\", \"startlinecolor\": \"#2a3f5f\"}, \"type\": \"carpet\"}], \"choropleth\": [{\"colorbar\": {\"outlinewidth\": 0, \"ticks\": \"\"}, \"type\": \"choropleth\"}], \"contour\": [{\"colorbar\": {\"outlinewidth\": 0, \"ticks\": \"\"}, \"colorscale\": [[0.0, \"#0d0887\"], [0.1111111111111111, \"#46039f\"], [0.2222222222222222, \"#7201a8\"], [0.3333333333333333, \"#9c179e\"], [0.4444444444444444, \"#bd3786\"], [0.5555555555555556, \"#d8576b\"], [0.6666666666666666, \"#ed7953\"], [0.7777777777777778, \"#fb9f3a\"], [0.8888888888888888, \"#fdca26\"], [1.0, \"#f0f921\"]], \"type\": \"contour\"}], \"contourcarpet\": [{\"colorbar\": {\"outlinewidth\": 0, \"ticks\": \"\"}, \"type\": \"contourcarpet\"}], \"heatmap\": [{\"colorbar\": {\"outlinewidth\": 0, \"ticks\": \"\"}, \"colorscale\": [[0.0, \"#0d0887\"], [0.1111111111111111, \"#46039f\"], [0.2222222222222222, \"#7201a8\"], [0.3333333333333333, \"#9c179e\"], [0.4444444444444444, \"#bd3786\"], [0.5555555555555556, \"#d8576b\"], [0.6666666666666666, \"#ed7953\"], [0.7777777777777778, \"#fb9f3a\"], [0.8888888888888888, \"#fdca26\"], [1.0, \"#f0f921\"]], \"type\": \"heatmap\"}], \"heatmapgl\": [{\"colorbar\": {\"outlinewidth\": 0, \"ticks\": \"\"}, \"colorscale\": [[0.0, \"#0d0887\"], [0.1111111111111111, \"#46039f\"], [0.2222222222222222, \"#7201a8\"], [0.3333333333333333, \"#9c179e\"], [0.4444444444444444, \"#bd3786\"], [0.5555555555555556, \"#d8576b\"], [0.6666666666666666, \"#ed7953\"], [0.7777777777777778, \"#fb9f3a\"], [0.8888888888888888, \"#fdca26\"], [1.0, \"#f0f921\"]], \"type\": \"heatmapgl\"}], \"histogram\": [{\"marker\": {\"colorbar\": {\"outlinewidth\": 0, \"ticks\": \"\"}}, \"type\": \"histogram\"}], \"histogram2d\": [{\"colorbar\": {\"outlinewidth\": 0, \"ticks\": \"\"}, \"colorscale\": [[0.0, \"#0d0887\"], [0.1111111111111111, \"#46039f\"], [0.2222222222222222, \"#7201a8\"], [0.3333333333333333, \"#9c179e\"], [0.4444444444444444, \"#bd3786\"], [0.5555555555555556, \"#d8576b\"], [0.6666666666666666, \"#ed7953\"], [0.7777777777777778, \"#fb9f3a\"], [0.8888888888888888, \"#fdca26\"], [1.0, \"#f0f921\"]], \"type\": \"histogram2d\"}], \"histogram2dcontour\": [{\"colorbar\": {\"outlinewidth\": 0, \"ticks\": \"\"}, \"colorscale\": [[0.0, \"#0d0887\"], [0.1111111111111111, \"#46039f\"], [0.2222222222222222, \"#7201a8\"], [0.3333333333333333, \"#9c179e\"], [0.4444444444444444, \"#bd3786\"], [0.5555555555555556, \"#d8576b\"], [0.6666666666666666, \"#ed7953\"], [0.7777777777777778, \"#fb9f3a\"], [0.8888888888888888, \"#fdca26\"], [1.0, \"#f0f921\"]], \"type\": \"histogram2dcontour\"}], \"mesh3d\": [{\"colorbar\": {\"outlinewidth\": 0, \"ticks\": \"\"}, \"type\": \"mesh3d\"}], \"parcoords\": [{\"line\": {\"colorbar\": {\"outlinewidth\": 0, \"ticks\": \"\"}}, \"type\": \"parcoords\"}], \"pie\": [{\"automargin\": true, \"type\": \"pie\"}], \"scatter\": [{\"marker\": {\"colorbar\": {\"outlinewidth\": 0, \"ticks\": \"\"}}, \"type\": \"scatter\"}], \"scatter3d\": [{\"line\": {\"colorbar\": {\"outlinewidth\": 0, \"ticks\": \"\"}}, \"marker\": {\"colorbar\": {\"outlinewidth\": 0, \"ticks\": \"\"}}, \"type\": \"scatter3d\"}], \"scattercarpet\": [{\"marker\": {\"colorbar\": {\"outlinewidth\": 0, \"ticks\": \"\"}}, \"type\": \"scattercarpet\"}], \"scattergeo\": [{\"marker\": {\"colorbar\": {\"outlinewidth\": 0, \"ticks\": \"\"}}, \"type\": \"scattergeo\"}], \"scattergl\": [{\"marker\": {\"colorbar\": {\"outlinewidth\": 0, \"ticks\": \"\"}}, \"type\": \"scattergl\"}], \"scattermapbox\": [{\"marker\": {\"colorbar\": {\"outlinewidth\": 0, \"ticks\": \"\"}}, \"type\": \"scattermapbox\"}], \"scatterpolar\": [{\"marker\": {\"colorbar\": {\"outlinewidth\": 0, \"ticks\": \"\"}}, \"type\": \"scatterpolar\"}], \"scatterpolargl\": [{\"marker\": {\"colorbar\": {\"outlinewidth\": 0, \"ticks\": \"\"}}, \"type\": \"scatterpolargl\"}], \"scatterternary\": [{\"marker\": {\"colorbar\": {\"outlinewidth\": 0, \"ticks\": \"\"}}, \"type\": \"scatterternary\"}], \"surface\": [{\"colorbar\": {\"outlinewidth\": 0, \"ticks\": \"\"}, \"colorscale\": [[0.0, \"#0d0887\"], [0.1111111111111111, \"#46039f\"], [0.2222222222222222, \"#7201a8\"], [0.3333333333333333, \"#9c179e\"], [0.4444444444444444, \"#bd3786\"], [0.5555555555555556, \"#d8576b\"], [0.6666666666666666, \"#ed7953\"], [0.7777777777777778, \"#fb9f3a\"], [0.8888888888888888, \"#fdca26\"], [1.0, \"#f0f921\"]], \"type\": \"surface\"}], \"table\": [{\"cells\": {\"fill\": {\"color\": \"#EBF0F8\"}, \"line\": {\"color\": \"white\"}}, \"header\": {\"fill\": {\"color\": \"#C8D4E3\"}, \"line\": {\"color\": \"white\"}}, \"type\": \"table\"}]}, \"layout\": {\"annotationdefaults\": {\"arrowcolor\": \"#2a3f5f\", \"arrowhead\": 0, \"arrowwidth\": 1}, \"autotypenumbers\": \"strict\", \"coloraxis\": {\"colorbar\": {\"outlinewidth\": 0, \"ticks\": \"\"}}, \"colorscale\": {\"diverging\": [[0, \"#8e0152\"], [0.1, \"#c51b7d\"], [0.2, \"#de77ae\"], [0.3, \"#f1b6da\"], [0.4, \"#fde0ef\"], [0.5, \"#f7f7f7\"], [0.6, \"#e6f5d0\"], [0.7, \"#b8e186\"], [0.8, \"#7fbc41\"], [0.9, \"#4d9221\"], [1, \"#276419\"]], \"sequential\": [[0.0, \"#0d0887\"], [0.1111111111111111, \"#46039f\"], [0.2222222222222222, \"#7201a8\"], [0.3333333333333333, \"#9c179e\"], [0.4444444444444444, \"#bd3786\"], [0.5555555555555556, \"#d8576b\"], [0.6666666666666666, \"#ed7953\"], [0.7777777777777778, \"#fb9f3a\"], [0.8888888888888888, \"#fdca26\"], [1.0, \"#f0f921\"]], \"sequentialminus\": [[0.0, \"#0d0887\"], [0.1111111111111111, \"#46039f\"], [0.2222222222222222, \"#7201a8\"], [0.3333333333333333, \"#9c179e\"], [0.4444444444444444, \"#bd3786\"], [0.5555555555555556, \"#d8576b\"], [0.6666666666666666, \"#ed7953\"], [0.7777777777777778, \"#fb9f3a\"], [0.8888888888888888, \"#fdca26\"], [1.0, \"#f0f921\"]]}, \"colorway\": [\"#636efa\", \"#EF553B\", \"#00cc96\", \"#ab63fa\", \"#FFA15A\", \"#19d3f3\", \"#FF6692\", \"#B6E880\", \"#FF97FF\", \"#FECB52\"], \"font\": {\"color\": \"#2a3f5f\"}, \"geo\": {\"bgcolor\": \"white\", \"lakecolor\": \"white\", \"landcolor\": \"#E5ECF6\", \"showlakes\": true, \"showland\": true, \"subunitcolor\": \"white\"}, \"hoverlabel\": {\"align\": \"left\"}, \"hovermode\": \"closest\", \"mapbox\": {\"style\": \"light\"}, \"paper_bgcolor\": \"white\", \"plot_bgcolor\": \"#E5ECF6\", \"polar\": {\"angularaxis\": {\"gridcolor\": \"white\", \"linecolor\": \"white\", \"ticks\": \"\"}, \"bgcolor\": \"#E5ECF6\", \"radialaxis\": {\"gridcolor\": \"white\", \"linecolor\": \"white\", \"ticks\": \"\"}}, \"scene\": {\"xaxis\": {\"backgroundcolor\": \"#E5ECF6\", \"gridcolor\": \"white\", \"gridwidth\": 2, \"linecolor\": \"white\", \"showbackground\": true, \"ticks\": \"\", \"zerolinecolor\": \"white\"}, \"yaxis\": {\"backgroundcolor\": \"#E5ECF6\", \"gridcolor\": \"white\", \"gridwidth\": 2, \"linecolor\": \"white\", \"showbackground\": true, \"ticks\": \"\", \"zerolinecolor\": \"white\"}, \"zaxis\": {\"backgroundcolor\": \"#E5ECF6\", \"gridcolor\": \"white\", \"gridwidth\": 2, \"linecolor\": \"white\", \"showbackground\": true, \"ticks\": \"\", \"zerolinecolor\": \"white\"}}, \"shapedefaults\": {\"line\": {\"color\": \"#2a3f5f\"}}, \"ternary\": {\"aaxis\": {\"gridcolor\": \"white\", \"linecolor\": \"white\", \"ticks\": \"\"}, \"baxis\": {\"gridcolor\": \"white\", \"linecolor\": \"white\", \"ticks\": \"\"}, \"bgcolor\": \"#E5ECF6\", \"caxis\": {\"gridcolor\": \"white\", \"linecolor\": \"white\", \"ticks\": \"\"}}, \"title\": {\"x\": 0.05}, \"xaxis\": {\"automargin\": true, \"gridcolor\": \"white\", \"linecolor\": \"white\", \"ticks\": \"\", \"title\": {\"standoff\": 15}, \"zerolinecolor\": \"white\", \"zerolinewidth\": 2}, \"yaxis\": {\"automargin\": true, \"gridcolor\": \"white\", \"linecolor\": \"white\", \"ticks\": \"\", \"title\": {\"standoff\": 15}, \"zerolinecolor\": \"white\", \"zerolinewidth\": 2}}}, \"title\": {\"font\": {\"color\": \"#4D5663\"}}, \"xaxis\": {\"gridcolor\": \"#E1E5ED\", \"showgrid\": true, \"tickfont\": {\"color\": \"#4D5663\"}, \"title\": {\"font\": {\"color\": \"#4D5663\"}, \"text\": \"\"}, \"zerolinecolor\": \"#E1E5ED\"}, \"yaxis\": {\"gridcolor\": \"#E1E5ED\", \"showgrid\": true, \"tickfont\": {\"color\": \"#4D5663\"}, \"title\": {\"font\": {\"color\": \"#4D5663\"}, \"text\": \"\"}, \"zerolinecolor\": \"#E1E5ED\"}},                        {\"showLink\": true, \"linkText\": \"Export to plot.ly\", \"plotlyServerURL\": \"https://plot.ly\", \"responsive\": true}                    ).then(function(){\n                            \nvar gd = document.getElementById('d1902439-a235-4ea6-9bf0-aca2dced1c0a');\nvar x = new MutationObserver(function (mutations, observer) {{\n        var display = window.getComputedStyle(gd).display;\n        if (!display || display === 'none') {{\n            console.log([gd, 'removed!']);\n            Plotly.purge(gd);\n            observer.disconnect();\n        }}\n}});\n\n// Listen for the removal of the full notebook cells\nvar notebookContainer = gd.closest('#notebook-container');\nif (notebookContainer) {{\n    x.observe(notebookContainer, {childList: true});\n}}\n\n// Listen for the clearing of the current output cell\nvar outputEl = gd.closest('.output');\nif (outputEl) {{\n    x.observe(outputEl, {childList: true});\n}}\n\n                        })                };                });            </script>        </div>"
     },
     "metadata": {}
    }
   ],
   "source": [
    "#3d surface plot\n",
    "df3.iplot(kind='surface',colorscale='rdylbu')"
   ]
  },
  {
   "cell_type": "code",
   "execution_count": 30,
   "metadata": {},
   "outputs": [
    {
     "output_type": "display_data",
     "data": {
      "application/vnd.plotly.v1+json": {
       "config": {
        "linkText": "Export to plot.ly",
        "plotlyServerURL": "https://plot.ly",
        "showLink": true
       },
       "data": [
        {
         "histfunc": "count",
         "histnorm": "",
         "marker": {
          "color": "rgba(255, 153, 51, 1.0)",
          "line": {
           "color": "#4D5663",
           "width": 1.3
          }
         },
         "name": "A",
         "opacity": 0.8,
         "orientation": "v",
         "type": "histogram",
         "x": [
          -0.6156103919659448,
          -1.2624860845503696,
          -0.31140802116504096,
          0.2453469781558024,
          -0.3047427693778525,
          -0.1938769133025758,
          -0.3390513924431758,
          1.5495224843356186,
          -0.9836369725502156,
          -0.23562461797605772,
          0.8067929267569461,
          -0.8477493448990581,
          0.9278122312968577,
          1.323246341063781,
          -0.2036066511292313,
          -0.2821092872358227,
          -2.0965504522807996,
          1.33263460863893,
          -0.8730062749442947,
          -0.21777344944000587,
          -0.7372035421095716,
          -0.5744972691712578,
          0.9076625671382935,
          0.7610440414048033,
          -0.6461292555889644,
          -0.5900878597608552,
          1.725652171536661,
          1.0162788202334525,
          1.8210673215211053,
          0.6325470352743859,
          -1.0947329579554326,
          1.9517195306102926,
          0.23967706103861106,
          0.965985394546088,
          0.15852368966232788,
          0.10870123815921616,
          0.14696594995146783,
          -0.6020170814752861,
          -2.1988768505562195,
          0.4167024137898031,
          2.0543280192487425,
          -1.106173738405013,
          -1.4573434546316546,
          0.21509295230433023,
          -0.44006889224274537,
          0.9157524357694234,
          1.4829297270755881,
          0.20167127512276564,
          0.017180432551903796,
          -0.004031698138674777,
          -0.561990871613196,
          0.3665113985199989,
          1.8845422828466643,
          -0.0603826347550325,
          -1.8269870205652525,
          -0.5075171173939871,
          -0.38711492763209043,
          -2.114692791920225,
          -0.4372265767085458,
          1.2637474277480985,
          0.3496605779891636,
          1.5684009658161446,
          -1.387050190351923,
          0.44359355184557536,
          -0.28779903043026983,
          1.761926219230782,
          -0.03866072911630973,
          1.1281185715490418,
          -2.4951156025924455,
          1.246697677841596,
          -0.19662280856266776,
          -0.03727954581444563,
          0.552292854080817,
          -1.0569325305393944,
          -0.7545348399599937,
          -1.0808953664893906,
          0.2540993659207464,
          0.5077451846314007,
          -0.5938907220819517,
          -0.06990720893502703,
          0.4817857768495659,
          -0.356625977429201,
          -1.1256492380989043,
          0.6142444292828942,
          0.3101873680935744,
          -0.1354708868849027,
          -1.4143634705188226,
          1.590700092082429,
          1.0084567254873549,
          1.0017931015713446,
          2.7545084278062935,
          -1.8652271395589703,
          0.5462421071405258,
          0.21098818368871608,
          -0.21871249152835495,
          -1.0852307654587072,
          0.13725541941488004,
          1.0061247528761237,
          -0.21212535267469518,
          0.30066372306610023
         ]
        }
       ],
       "layout": {
        "barmode": "overlay",
        "legend": {
         "bgcolor": "#F5F6F9",
         "font": {
          "color": "#4D5663"
         }
        },
        "paper_bgcolor": "#F5F6F9",
        "plot_bgcolor": "#F5F6F9",
        "template": {
         "data": {
          "bar": [
           {
            "error_x": {
             "color": "#2a3f5f"
            },
            "error_y": {
             "color": "#2a3f5f"
            },
            "marker": {
             "line": {
              "color": "#E5ECF6",
              "width": 0.5
             }
            },
            "type": "bar"
           }
          ],
          "barpolar": [
           {
            "marker": {
             "line": {
              "color": "#E5ECF6",
              "width": 0.5
             }
            },
            "type": "barpolar"
           }
          ],
          "carpet": [
           {
            "aaxis": {
             "endlinecolor": "#2a3f5f",
             "gridcolor": "white",
             "linecolor": "white",
             "minorgridcolor": "white",
             "startlinecolor": "#2a3f5f"
            },
            "baxis": {
             "endlinecolor": "#2a3f5f",
             "gridcolor": "white",
             "linecolor": "white",
             "minorgridcolor": "white",
             "startlinecolor": "#2a3f5f"
            },
            "type": "carpet"
           }
          ],
          "choropleth": [
           {
            "colorbar": {
             "outlinewidth": 0,
             "ticks": ""
            },
            "type": "choropleth"
           }
          ],
          "contour": [
           {
            "colorbar": {
             "outlinewidth": 0,
             "ticks": ""
            },
            "colorscale": [
             [
              0,
              "#0d0887"
             ],
             [
              0.1111111111111111,
              "#46039f"
             ],
             [
              0.2222222222222222,
              "#7201a8"
             ],
             [
              0.3333333333333333,
              "#9c179e"
             ],
             [
              0.4444444444444444,
              "#bd3786"
             ],
             [
              0.5555555555555556,
              "#d8576b"
             ],
             [
              0.6666666666666666,
              "#ed7953"
             ],
             [
              0.7777777777777778,
              "#fb9f3a"
             ],
             [
              0.8888888888888888,
              "#fdca26"
             ],
             [
              1,
              "#f0f921"
             ]
            ],
            "type": "contour"
           }
          ],
          "contourcarpet": [
           {
            "colorbar": {
             "outlinewidth": 0,
             "ticks": ""
            },
            "type": "contourcarpet"
           }
          ],
          "heatmap": [
           {
            "colorbar": {
             "outlinewidth": 0,
             "ticks": ""
            },
            "colorscale": [
             [
              0,
              "#0d0887"
             ],
             [
              0.1111111111111111,
              "#46039f"
             ],
             [
              0.2222222222222222,
              "#7201a8"
             ],
             [
              0.3333333333333333,
              "#9c179e"
             ],
             [
              0.4444444444444444,
              "#bd3786"
             ],
             [
              0.5555555555555556,
              "#d8576b"
             ],
             [
              0.6666666666666666,
              "#ed7953"
             ],
             [
              0.7777777777777778,
              "#fb9f3a"
             ],
             [
              0.8888888888888888,
              "#fdca26"
             ],
             [
              1,
              "#f0f921"
             ]
            ],
            "type": "heatmap"
           }
          ],
          "heatmapgl": [
           {
            "colorbar": {
             "outlinewidth": 0,
             "ticks": ""
            },
            "colorscale": [
             [
              0,
              "#0d0887"
             ],
             [
              0.1111111111111111,
              "#46039f"
             ],
             [
              0.2222222222222222,
              "#7201a8"
             ],
             [
              0.3333333333333333,
              "#9c179e"
             ],
             [
              0.4444444444444444,
              "#bd3786"
             ],
             [
              0.5555555555555556,
              "#d8576b"
             ],
             [
              0.6666666666666666,
              "#ed7953"
             ],
             [
              0.7777777777777778,
              "#fb9f3a"
             ],
             [
              0.8888888888888888,
              "#fdca26"
             ],
             [
              1,
              "#f0f921"
             ]
            ],
            "type": "heatmapgl"
           }
          ],
          "histogram": [
           {
            "marker": {
             "colorbar": {
              "outlinewidth": 0,
              "ticks": ""
             }
            },
            "type": "histogram"
           }
          ],
          "histogram2d": [
           {
            "colorbar": {
             "outlinewidth": 0,
             "ticks": ""
            },
            "colorscale": [
             [
              0,
              "#0d0887"
             ],
             [
              0.1111111111111111,
              "#46039f"
             ],
             [
              0.2222222222222222,
              "#7201a8"
             ],
             [
              0.3333333333333333,
              "#9c179e"
             ],
             [
              0.4444444444444444,
              "#bd3786"
             ],
             [
              0.5555555555555556,
              "#d8576b"
             ],
             [
              0.6666666666666666,
              "#ed7953"
             ],
             [
              0.7777777777777778,
              "#fb9f3a"
             ],
             [
              0.8888888888888888,
              "#fdca26"
             ],
             [
              1,
              "#f0f921"
             ]
            ],
            "type": "histogram2d"
           }
          ],
          "histogram2dcontour": [
           {
            "colorbar": {
             "outlinewidth": 0,
             "ticks": ""
            },
            "colorscale": [
             [
              0,
              "#0d0887"
             ],
             [
              0.1111111111111111,
              "#46039f"
             ],
             [
              0.2222222222222222,
              "#7201a8"
             ],
             [
              0.3333333333333333,
              "#9c179e"
             ],
             [
              0.4444444444444444,
              "#bd3786"
             ],
             [
              0.5555555555555556,
              "#d8576b"
             ],
             [
              0.6666666666666666,
              "#ed7953"
             ],
             [
              0.7777777777777778,
              "#fb9f3a"
             ],
             [
              0.8888888888888888,
              "#fdca26"
             ],
             [
              1,
              "#f0f921"
             ]
            ],
            "type": "histogram2dcontour"
           }
          ],
          "mesh3d": [
           {
            "colorbar": {
             "outlinewidth": 0,
             "ticks": ""
            },
            "type": "mesh3d"
           }
          ],
          "parcoords": [
           {
            "line": {
             "colorbar": {
              "outlinewidth": 0,
              "ticks": ""
             }
            },
            "type": "parcoords"
           }
          ],
          "pie": [
           {
            "automargin": true,
            "type": "pie"
           }
          ],
          "scatter": [
           {
            "marker": {
             "colorbar": {
              "outlinewidth": 0,
              "ticks": ""
             }
            },
            "type": "scatter"
           }
          ],
          "scatter3d": [
           {
            "line": {
             "colorbar": {
              "outlinewidth": 0,
              "ticks": ""
             }
            },
            "marker": {
             "colorbar": {
              "outlinewidth": 0,
              "ticks": ""
             }
            },
            "type": "scatter3d"
           }
          ],
          "scattercarpet": [
           {
            "marker": {
             "colorbar": {
              "outlinewidth": 0,
              "ticks": ""
             }
            },
            "type": "scattercarpet"
           }
          ],
          "scattergeo": [
           {
            "marker": {
             "colorbar": {
              "outlinewidth": 0,
              "ticks": ""
             }
            },
            "type": "scattergeo"
           }
          ],
          "scattergl": [
           {
            "marker": {
             "colorbar": {
              "outlinewidth": 0,
              "ticks": ""
             }
            },
            "type": "scattergl"
           }
          ],
          "scattermapbox": [
           {
            "marker": {
             "colorbar": {
              "outlinewidth": 0,
              "ticks": ""
             }
            },
            "type": "scattermapbox"
           }
          ],
          "scatterpolar": [
           {
            "marker": {
             "colorbar": {
              "outlinewidth": 0,
              "ticks": ""
             }
            },
            "type": "scatterpolar"
           }
          ],
          "scatterpolargl": [
           {
            "marker": {
             "colorbar": {
              "outlinewidth": 0,
              "ticks": ""
             }
            },
            "type": "scatterpolargl"
           }
          ],
          "scatterternary": [
           {
            "marker": {
             "colorbar": {
              "outlinewidth": 0,
              "ticks": ""
             }
            },
            "type": "scatterternary"
           }
          ],
          "surface": [
           {
            "colorbar": {
             "outlinewidth": 0,
             "ticks": ""
            },
            "colorscale": [
             [
              0,
              "#0d0887"
             ],
             [
              0.1111111111111111,
              "#46039f"
             ],
             [
              0.2222222222222222,
              "#7201a8"
             ],
             [
              0.3333333333333333,
              "#9c179e"
             ],
             [
              0.4444444444444444,
              "#bd3786"
             ],
             [
              0.5555555555555556,
              "#d8576b"
             ],
             [
              0.6666666666666666,
              "#ed7953"
             ],
             [
              0.7777777777777778,
              "#fb9f3a"
             ],
             [
              0.8888888888888888,
              "#fdca26"
             ],
             [
              1,
              "#f0f921"
             ]
            ],
            "type": "surface"
           }
          ],
          "table": [
           {
            "cells": {
             "fill": {
              "color": "#EBF0F8"
             },
             "line": {
              "color": "white"
             }
            },
            "header": {
             "fill": {
              "color": "#C8D4E3"
             },
             "line": {
              "color": "white"
             }
            },
            "type": "table"
           }
          ]
         },
         "layout": {
          "annotationdefaults": {
           "arrowcolor": "#2a3f5f",
           "arrowhead": 0,
           "arrowwidth": 1
          },
          "autotypenumbers": "strict",
          "coloraxis": {
           "colorbar": {
            "outlinewidth": 0,
            "ticks": ""
           }
          },
          "colorscale": {
           "diverging": [
            [
             0,
             "#8e0152"
            ],
            [
             0.1,
             "#c51b7d"
            ],
            [
             0.2,
             "#de77ae"
            ],
            [
             0.3,
             "#f1b6da"
            ],
            [
             0.4,
             "#fde0ef"
            ],
            [
             0.5,
             "#f7f7f7"
            ],
            [
             0.6,
             "#e6f5d0"
            ],
            [
             0.7,
             "#b8e186"
            ],
            [
             0.8,
             "#7fbc41"
            ],
            [
             0.9,
             "#4d9221"
            ],
            [
             1,
             "#276419"
            ]
           ],
           "sequential": [
            [
             0,
             "#0d0887"
            ],
            [
             0.1111111111111111,
             "#46039f"
            ],
            [
             0.2222222222222222,
             "#7201a8"
            ],
            [
             0.3333333333333333,
             "#9c179e"
            ],
            [
             0.4444444444444444,
             "#bd3786"
            ],
            [
             0.5555555555555556,
             "#d8576b"
            ],
            [
             0.6666666666666666,
             "#ed7953"
            ],
            [
             0.7777777777777778,
             "#fb9f3a"
            ],
            [
             0.8888888888888888,
             "#fdca26"
            ],
            [
             1,
             "#f0f921"
            ]
           ],
           "sequentialminus": [
            [
             0,
             "#0d0887"
            ],
            [
             0.1111111111111111,
             "#46039f"
            ],
            [
             0.2222222222222222,
             "#7201a8"
            ],
            [
             0.3333333333333333,
             "#9c179e"
            ],
            [
             0.4444444444444444,
             "#bd3786"
            ],
            [
             0.5555555555555556,
             "#d8576b"
            ],
            [
             0.6666666666666666,
             "#ed7953"
            ],
            [
             0.7777777777777778,
             "#fb9f3a"
            ],
            [
             0.8888888888888888,
             "#fdca26"
            ],
            [
             1,
             "#f0f921"
            ]
           ]
          },
          "colorway": [
           "#636efa",
           "#EF553B",
           "#00cc96",
           "#ab63fa",
           "#FFA15A",
           "#19d3f3",
           "#FF6692",
           "#B6E880",
           "#FF97FF",
           "#FECB52"
          ],
          "font": {
           "color": "#2a3f5f"
          },
          "geo": {
           "bgcolor": "white",
           "lakecolor": "white",
           "landcolor": "#E5ECF6",
           "showlakes": true,
           "showland": true,
           "subunitcolor": "white"
          },
          "hoverlabel": {
           "align": "left"
          },
          "hovermode": "closest",
          "mapbox": {
           "style": "light"
          },
          "paper_bgcolor": "white",
          "plot_bgcolor": "#E5ECF6",
          "polar": {
           "angularaxis": {
            "gridcolor": "white",
            "linecolor": "white",
            "ticks": ""
           },
           "bgcolor": "#E5ECF6",
           "radialaxis": {
            "gridcolor": "white",
            "linecolor": "white",
            "ticks": ""
           }
          },
          "scene": {
           "xaxis": {
            "backgroundcolor": "#E5ECF6",
            "gridcolor": "white",
            "gridwidth": 2,
            "linecolor": "white",
            "showbackground": true,
            "ticks": "",
            "zerolinecolor": "white"
           },
           "yaxis": {
            "backgroundcolor": "#E5ECF6",
            "gridcolor": "white",
            "gridwidth": 2,
            "linecolor": "white",
            "showbackground": true,
            "ticks": "",
            "zerolinecolor": "white"
           },
           "zaxis": {
            "backgroundcolor": "#E5ECF6",
            "gridcolor": "white",
            "gridwidth": 2,
            "linecolor": "white",
            "showbackground": true,
            "ticks": "",
            "zerolinecolor": "white"
           }
          },
          "shapedefaults": {
           "line": {
            "color": "#2a3f5f"
           }
          },
          "ternary": {
           "aaxis": {
            "gridcolor": "white",
            "linecolor": "white",
            "ticks": ""
           },
           "baxis": {
            "gridcolor": "white",
            "linecolor": "white",
            "ticks": ""
           },
           "bgcolor": "#E5ECF6",
           "caxis": {
            "gridcolor": "white",
            "linecolor": "white",
            "ticks": ""
           }
          },
          "title": {
           "x": 0.05
          },
          "xaxis": {
           "automargin": true,
           "gridcolor": "white",
           "linecolor": "white",
           "ticks": "",
           "title": {
            "standoff": 15
           },
           "zerolinecolor": "white",
           "zerolinewidth": 2
          },
          "yaxis": {
           "automargin": true,
           "gridcolor": "white",
           "linecolor": "white",
           "ticks": "",
           "title": {
            "standoff": 15
           },
           "zerolinecolor": "white",
           "zerolinewidth": 2
          }
         }
        },
        "title": {
         "font": {
          "color": "#4D5663"
         }
        },
        "xaxis": {
         "gridcolor": "#E1E5ED",
         "showgrid": true,
         "tickfont": {
          "color": "#4D5663"
         },
         "title": {
          "font": {
           "color": "#4D5663"
          },
          "text": ""
         },
         "zerolinecolor": "#E1E5ED"
        },
        "yaxis": {
         "gridcolor": "#E1E5ED",
         "showgrid": true,
         "tickfont": {
          "color": "#4D5663"
         },
         "title": {
          "font": {
           "color": "#4D5663"
          },
          "text": ""
         },
         "zerolinecolor": "#E1E5ED"
        }
       }
      },
      "text/html": "<div>                            <div id=\"1da15df0-e427-4e5f-9c6a-1b28e57a0aaf\" class=\"plotly-graph-div\" style=\"height:525px; width:100%;\"></div>            <script type=\"text/javascript\">                require([\"plotly\"], function(Plotly) {                    window.PLOTLYENV=window.PLOTLYENV || {};\n                    window.PLOTLYENV.BASE_URL='https://plot.ly';                                    if (document.getElementById(\"1da15df0-e427-4e5f-9c6a-1b28e57a0aaf\")) {                    Plotly.newPlot(                        \"1da15df0-e427-4e5f-9c6a-1b28e57a0aaf\",                        [{\"histfunc\": \"count\", \"histnorm\": \"\", \"marker\": {\"color\": \"rgba(255, 153, 51, 1.0)\", \"line\": {\"color\": \"#4D5663\", \"width\": 1.3}}, \"name\": \"A\", \"opacity\": 0.8, \"orientation\": \"v\", \"type\": \"histogram\", \"x\": [-0.6156103919659448, -1.2624860845503696, -0.31140802116504096, 0.2453469781558024, -0.3047427693778525, -0.1938769133025758, -0.3390513924431758, 1.5495224843356186, -0.9836369725502156, -0.23562461797605772, 0.8067929267569461, -0.8477493448990581, 0.9278122312968577, 1.323246341063781, -0.2036066511292313, -0.2821092872358227, -2.0965504522807996, 1.33263460863893, -0.8730062749442947, -0.21777344944000587, -0.7372035421095716, -0.5744972691712578, 0.9076625671382935, 0.7610440414048033, -0.6461292555889644, -0.5900878597608552, 1.725652171536661, 1.0162788202334525, 1.8210673215211053, 0.6325470352743859, -1.0947329579554326, 1.9517195306102926, 0.23967706103861106, 0.965985394546088, 0.15852368966232788, 0.10870123815921616, 0.14696594995146783, -0.6020170814752861, -2.1988768505562195, 0.4167024137898031, 2.0543280192487425, -1.106173738405013, -1.4573434546316546, 0.21509295230433023, -0.44006889224274537, 0.9157524357694234, 1.4829297270755881, 0.20167127512276564, 0.017180432551903796, -0.004031698138674777, -0.561990871613196, 0.3665113985199989, 1.8845422828466643, -0.0603826347550325, -1.8269870205652525, -0.5075171173939871, -0.38711492763209043, -2.114692791920225, -0.4372265767085458, 1.2637474277480985, 0.3496605779891636, 1.5684009658161446, -1.387050190351923, 0.44359355184557536, -0.28779903043026983, 1.761926219230782, -0.03866072911630973, 1.1281185715490418, -2.4951156025924455, 1.246697677841596, -0.19662280856266776, -0.03727954581444563, 0.552292854080817, -1.0569325305393944, -0.7545348399599937, -1.0808953664893906, 0.2540993659207464, 0.5077451846314007, -0.5938907220819517, -0.06990720893502703, 0.4817857768495659, -0.356625977429201, -1.1256492380989043, 0.6142444292828942, 0.3101873680935744, -0.1354708868849027, -1.4143634705188226, 1.590700092082429, 1.0084567254873549, 1.0017931015713446, 2.7545084278062935, -1.8652271395589703, 0.5462421071405258, 0.21098818368871608, -0.21871249152835495, -1.0852307654587072, 0.13725541941488004, 1.0061247528761237, -0.21212535267469518, 0.30066372306610023]}],                        {\"barmode\": \"overlay\", \"legend\": {\"bgcolor\": \"#F5F6F9\", \"font\": {\"color\": \"#4D5663\"}}, \"paper_bgcolor\": \"#F5F6F9\", \"plot_bgcolor\": \"#F5F6F9\", \"template\": {\"data\": {\"bar\": [{\"error_x\": {\"color\": \"#2a3f5f\"}, \"error_y\": {\"color\": \"#2a3f5f\"}, \"marker\": {\"line\": {\"color\": \"#E5ECF6\", \"width\": 0.5}}, \"type\": \"bar\"}], \"barpolar\": [{\"marker\": {\"line\": {\"color\": \"#E5ECF6\", \"width\": 0.5}}, \"type\": \"barpolar\"}], \"carpet\": [{\"aaxis\": {\"endlinecolor\": \"#2a3f5f\", \"gridcolor\": \"white\", \"linecolor\": \"white\", \"minorgridcolor\": \"white\", \"startlinecolor\": \"#2a3f5f\"}, \"baxis\": {\"endlinecolor\": \"#2a3f5f\", \"gridcolor\": \"white\", \"linecolor\": \"white\", \"minorgridcolor\": \"white\", \"startlinecolor\": \"#2a3f5f\"}, \"type\": \"carpet\"}], \"choropleth\": [{\"colorbar\": {\"outlinewidth\": 0, \"ticks\": \"\"}, \"type\": \"choropleth\"}], \"contour\": [{\"colorbar\": {\"outlinewidth\": 0, \"ticks\": \"\"}, \"colorscale\": [[0.0, \"#0d0887\"], [0.1111111111111111, \"#46039f\"], [0.2222222222222222, \"#7201a8\"], [0.3333333333333333, \"#9c179e\"], [0.4444444444444444, \"#bd3786\"], [0.5555555555555556, \"#d8576b\"], [0.6666666666666666, \"#ed7953\"], [0.7777777777777778, \"#fb9f3a\"], [0.8888888888888888, \"#fdca26\"], [1.0, \"#f0f921\"]], \"type\": \"contour\"}], \"contourcarpet\": [{\"colorbar\": {\"outlinewidth\": 0, \"ticks\": \"\"}, \"type\": \"contourcarpet\"}], \"heatmap\": [{\"colorbar\": {\"outlinewidth\": 0, \"ticks\": \"\"}, \"colorscale\": [[0.0, \"#0d0887\"], [0.1111111111111111, \"#46039f\"], [0.2222222222222222, \"#7201a8\"], [0.3333333333333333, \"#9c179e\"], [0.4444444444444444, \"#bd3786\"], [0.5555555555555556, \"#d8576b\"], [0.6666666666666666, \"#ed7953\"], [0.7777777777777778, \"#fb9f3a\"], [0.8888888888888888, \"#fdca26\"], [1.0, \"#f0f921\"]], \"type\": \"heatmap\"}], \"heatmapgl\": [{\"colorbar\": {\"outlinewidth\": 0, \"ticks\": \"\"}, \"colorscale\": [[0.0, \"#0d0887\"], [0.1111111111111111, \"#46039f\"], [0.2222222222222222, \"#7201a8\"], [0.3333333333333333, \"#9c179e\"], [0.4444444444444444, \"#bd3786\"], [0.5555555555555556, \"#d8576b\"], [0.6666666666666666, \"#ed7953\"], [0.7777777777777778, \"#fb9f3a\"], [0.8888888888888888, \"#fdca26\"], [1.0, \"#f0f921\"]], \"type\": \"heatmapgl\"}], \"histogram\": [{\"marker\": {\"colorbar\": {\"outlinewidth\": 0, \"ticks\": \"\"}}, \"type\": \"histogram\"}], \"histogram2d\": [{\"colorbar\": {\"outlinewidth\": 0, \"ticks\": \"\"}, \"colorscale\": [[0.0, \"#0d0887\"], [0.1111111111111111, \"#46039f\"], [0.2222222222222222, \"#7201a8\"], [0.3333333333333333, \"#9c179e\"], [0.4444444444444444, \"#bd3786\"], [0.5555555555555556, \"#d8576b\"], [0.6666666666666666, \"#ed7953\"], [0.7777777777777778, \"#fb9f3a\"], [0.8888888888888888, \"#fdca26\"], [1.0, \"#f0f921\"]], \"type\": \"histogram2d\"}], \"histogram2dcontour\": [{\"colorbar\": {\"outlinewidth\": 0, \"ticks\": \"\"}, \"colorscale\": [[0.0, \"#0d0887\"], [0.1111111111111111, \"#46039f\"], [0.2222222222222222, \"#7201a8\"], [0.3333333333333333, \"#9c179e\"], [0.4444444444444444, \"#bd3786\"], [0.5555555555555556, \"#d8576b\"], [0.6666666666666666, \"#ed7953\"], [0.7777777777777778, \"#fb9f3a\"], [0.8888888888888888, \"#fdca26\"], [1.0, \"#f0f921\"]], \"type\": \"histogram2dcontour\"}], \"mesh3d\": [{\"colorbar\": {\"outlinewidth\": 0, \"ticks\": \"\"}, \"type\": \"mesh3d\"}], \"parcoords\": [{\"line\": {\"colorbar\": {\"outlinewidth\": 0, \"ticks\": \"\"}}, \"type\": \"parcoords\"}], \"pie\": [{\"automargin\": true, \"type\": \"pie\"}], \"scatter\": [{\"marker\": {\"colorbar\": {\"outlinewidth\": 0, \"ticks\": \"\"}}, \"type\": \"scatter\"}], \"scatter3d\": [{\"line\": {\"colorbar\": {\"outlinewidth\": 0, \"ticks\": \"\"}}, \"marker\": {\"colorbar\": {\"outlinewidth\": 0, \"ticks\": \"\"}}, \"type\": \"scatter3d\"}], \"scattercarpet\": [{\"marker\": {\"colorbar\": {\"outlinewidth\": 0, \"ticks\": \"\"}}, \"type\": \"scattercarpet\"}], \"scattergeo\": [{\"marker\": {\"colorbar\": {\"outlinewidth\": 0, \"ticks\": \"\"}}, \"type\": \"scattergeo\"}], \"scattergl\": [{\"marker\": {\"colorbar\": {\"outlinewidth\": 0, \"ticks\": \"\"}}, \"type\": \"scattergl\"}], \"scattermapbox\": [{\"marker\": {\"colorbar\": {\"outlinewidth\": 0, \"ticks\": \"\"}}, \"type\": \"scattermapbox\"}], \"scatterpolar\": [{\"marker\": {\"colorbar\": {\"outlinewidth\": 0, \"ticks\": \"\"}}, \"type\": \"scatterpolar\"}], \"scatterpolargl\": [{\"marker\": {\"colorbar\": {\"outlinewidth\": 0, \"ticks\": \"\"}}, \"type\": \"scatterpolargl\"}], \"scatterternary\": [{\"marker\": {\"colorbar\": {\"outlinewidth\": 0, \"ticks\": \"\"}}, \"type\": \"scatterternary\"}], \"surface\": [{\"colorbar\": {\"outlinewidth\": 0, \"ticks\": \"\"}, \"colorscale\": [[0.0, \"#0d0887\"], [0.1111111111111111, \"#46039f\"], [0.2222222222222222, \"#7201a8\"], [0.3333333333333333, \"#9c179e\"], [0.4444444444444444, \"#bd3786\"], [0.5555555555555556, \"#d8576b\"], [0.6666666666666666, \"#ed7953\"], [0.7777777777777778, \"#fb9f3a\"], [0.8888888888888888, \"#fdca26\"], [1.0, \"#f0f921\"]], \"type\": \"surface\"}], \"table\": [{\"cells\": {\"fill\": {\"color\": \"#EBF0F8\"}, \"line\": {\"color\": \"white\"}}, \"header\": {\"fill\": {\"color\": \"#C8D4E3\"}, \"line\": {\"color\": \"white\"}}, \"type\": \"table\"}]}, \"layout\": {\"annotationdefaults\": {\"arrowcolor\": \"#2a3f5f\", \"arrowhead\": 0, \"arrowwidth\": 1}, \"autotypenumbers\": \"strict\", \"coloraxis\": {\"colorbar\": {\"outlinewidth\": 0, \"ticks\": \"\"}}, \"colorscale\": {\"diverging\": [[0, \"#8e0152\"], [0.1, \"#c51b7d\"], [0.2, \"#de77ae\"], [0.3, \"#f1b6da\"], [0.4, \"#fde0ef\"], [0.5, \"#f7f7f7\"], [0.6, \"#e6f5d0\"], [0.7, \"#b8e186\"], [0.8, \"#7fbc41\"], [0.9, \"#4d9221\"], [1, \"#276419\"]], \"sequential\": [[0.0, \"#0d0887\"], [0.1111111111111111, \"#46039f\"], [0.2222222222222222, \"#7201a8\"], [0.3333333333333333, \"#9c179e\"], [0.4444444444444444, \"#bd3786\"], [0.5555555555555556, \"#d8576b\"], [0.6666666666666666, \"#ed7953\"], [0.7777777777777778, \"#fb9f3a\"], [0.8888888888888888, \"#fdca26\"], [1.0, \"#f0f921\"]], \"sequentialminus\": [[0.0, \"#0d0887\"], [0.1111111111111111, \"#46039f\"], [0.2222222222222222, \"#7201a8\"], [0.3333333333333333, \"#9c179e\"], [0.4444444444444444, \"#bd3786\"], [0.5555555555555556, \"#d8576b\"], [0.6666666666666666, \"#ed7953\"], [0.7777777777777778, \"#fb9f3a\"], [0.8888888888888888, \"#fdca26\"], [1.0, \"#f0f921\"]]}, \"colorway\": [\"#636efa\", \"#EF553B\", \"#00cc96\", \"#ab63fa\", \"#FFA15A\", \"#19d3f3\", \"#FF6692\", \"#B6E880\", \"#FF97FF\", \"#FECB52\"], \"font\": {\"color\": \"#2a3f5f\"}, \"geo\": {\"bgcolor\": \"white\", \"lakecolor\": \"white\", \"landcolor\": \"#E5ECF6\", \"showlakes\": true, \"showland\": true, \"subunitcolor\": \"white\"}, \"hoverlabel\": {\"align\": \"left\"}, \"hovermode\": \"closest\", \"mapbox\": {\"style\": \"light\"}, \"paper_bgcolor\": \"white\", \"plot_bgcolor\": \"#E5ECF6\", \"polar\": {\"angularaxis\": {\"gridcolor\": \"white\", \"linecolor\": \"white\", \"ticks\": \"\"}, \"bgcolor\": \"#E5ECF6\", \"radialaxis\": {\"gridcolor\": \"white\", \"linecolor\": \"white\", \"ticks\": \"\"}}, \"scene\": {\"xaxis\": {\"backgroundcolor\": \"#E5ECF6\", \"gridcolor\": \"white\", \"gridwidth\": 2, \"linecolor\": \"white\", \"showbackground\": true, \"ticks\": \"\", \"zerolinecolor\": \"white\"}, \"yaxis\": {\"backgroundcolor\": \"#E5ECF6\", \"gridcolor\": \"white\", \"gridwidth\": 2, \"linecolor\": \"white\", \"showbackground\": true, \"ticks\": \"\", \"zerolinecolor\": \"white\"}, \"zaxis\": {\"backgroundcolor\": \"#E5ECF6\", \"gridcolor\": \"white\", \"gridwidth\": 2, \"linecolor\": \"white\", \"showbackground\": true, \"ticks\": \"\", \"zerolinecolor\": \"white\"}}, \"shapedefaults\": {\"line\": {\"color\": \"#2a3f5f\"}}, \"ternary\": {\"aaxis\": {\"gridcolor\": \"white\", \"linecolor\": \"white\", \"ticks\": \"\"}, \"baxis\": {\"gridcolor\": \"white\", \"linecolor\": \"white\", \"ticks\": \"\"}, \"bgcolor\": \"#E5ECF6\", \"caxis\": {\"gridcolor\": \"white\", \"linecolor\": \"white\", \"ticks\": \"\"}}, \"title\": {\"x\": 0.05}, \"xaxis\": {\"automargin\": true, \"gridcolor\": \"white\", \"linecolor\": \"white\", \"ticks\": \"\", \"title\": {\"standoff\": 15}, \"zerolinecolor\": \"white\", \"zerolinewidth\": 2}, \"yaxis\": {\"automargin\": true, \"gridcolor\": \"white\", \"linecolor\": \"white\", \"ticks\": \"\", \"title\": {\"standoff\": 15}, \"zerolinecolor\": \"white\", \"zerolinewidth\": 2}}}, \"title\": {\"font\": {\"color\": \"#4D5663\"}}, \"xaxis\": {\"gridcolor\": \"#E1E5ED\", \"showgrid\": true, \"tickfont\": {\"color\": \"#4D5663\"}, \"title\": {\"font\": {\"color\": \"#4D5663\"}, \"text\": \"\"}, \"zerolinecolor\": \"#E1E5ED\"}, \"yaxis\": {\"gridcolor\": \"#E1E5ED\", \"showgrid\": true, \"tickfont\": {\"color\": \"#4D5663\"}, \"title\": {\"font\": {\"color\": \"#4D5663\"}, \"text\": \"\"}, \"zerolinecolor\": \"#E1E5ED\"}},                        {\"showLink\": true, \"linkText\": \"Export to plot.ly\", \"plotlyServerURL\": \"https://plot.ly\", \"responsive\": true}                    ).then(function(){\n                            \nvar gd = document.getElementById('1da15df0-e427-4e5f-9c6a-1b28e57a0aaf');\nvar x = new MutationObserver(function (mutations, observer) {{\n        var display = window.getComputedStyle(gd).display;\n        if (!display || display === 'none') {{\n            console.log([gd, 'removed!']);\n            Plotly.purge(gd);\n            observer.disconnect();\n        }}\n}});\n\n// Listen for the removal of the full notebook cells\nvar notebookContainer = gd.closest('#notebook-container');\nif (notebookContainer) {{\n    x.observe(notebookContainer, {childList: true});\n}}\n\n// Listen for the clearing of the current output cell\nvar outputEl = gd.closest('.output');\nif (outputEl) {{\n    x.observe(outputEl, {childList: true});\n}}\n\n                        })                };                });            </script>        </div>"
     },
     "metadata": {}
    }
   ],
   "source": [
    "#histogram\n",
    "df['A'].iplot(kind='hist')"
   ]
  },
  {
   "cell_type": "code",
   "execution_count": 32,
   "metadata": {},
   "outputs": [
    {
     "output_type": "stream",
     "name": "stderr",
     "text": [
      "C:\\Users\\jelia\\anaconda3\\lib\\site-packages\\cufflinks\\plotlytools.py:849: FutureWarning:\n\nThe pandas.np module is deprecated and will be removed from pandas in a future version. Import numpy directly instead\n\nC:\\Users\\jelia\\anaconda3\\lib\\site-packages\\cufflinks\\plotlytools.py:850: FutureWarning:\n\nThe pandas.np module is deprecated and will be removed from pandas in a future version. Import numpy directly instead\n\n"
     ]
    },
    {
     "output_type": "display_data",
     "data": {
      "application/vnd.plotly.v1+json": {
       "config": {
        "linkText": "Export to plot.ly",
        "plotlyServerURL": "https://plot.ly",
        "showLink": true
       },
       "data": [
        {
         "line": {
          "color": "rgba(255, 153, 51, 1.0)",
          "dash": "solid",
          "shape": "linear",
          "width": 1.3
         },
         "mode": "lines",
         "name": "A",
         "text": "",
         "type": "scatter",
         "x": [
          0,
          1,
          2,
          3,
          4,
          5,
          6,
          7,
          8,
          9,
          10,
          11,
          12,
          13,
          14,
          15,
          16,
          17,
          18,
          19,
          20,
          21,
          22,
          23,
          24,
          25,
          26,
          27,
          28,
          29,
          30,
          31,
          32,
          33,
          34,
          35,
          36,
          37,
          38,
          39,
          40,
          41,
          42,
          43,
          44,
          45,
          46,
          47,
          48,
          49,
          50,
          51,
          52,
          53,
          54,
          55,
          56,
          57,
          58,
          59,
          60,
          61,
          62,
          63,
          64,
          65,
          66,
          67,
          68,
          69,
          70,
          71,
          72,
          73,
          74,
          75,
          76,
          77,
          78,
          79,
          80,
          81,
          82,
          83,
          84,
          85,
          86,
          87,
          88,
          89,
          90,
          91,
          92,
          93,
          94,
          95,
          96,
          97,
          98,
          99
         ],
         "y": [
          -0.6156103919659448,
          -1.2624860845503696,
          -0.31140802116504096,
          0.2453469781558024,
          -0.3047427693778525,
          -0.1938769133025758,
          -0.3390513924431758,
          1.5495224843356186,
          -0.9836369725502156,
          -0.23562461797605772,
          0.8067929267569461,
          -0.8477493448990581,
          0.9278122312968577,
          1.323246341063781,
          -0.2036066511292313,
          -0.2821092872358227,
          -2.0965504522807996,
          1.33263460863893,
          -0.8730062749442947,
          -0.21777344944000587,
          -0.7372035421095716,
          -0.5744972691712578,
          0.9076625671382935,
          0.7610440414048033,
          -0.6461292555889644,
          -0.5900878597608552,
          1.725652171536661,
          1.0162788202334525,
          1.8210673215211053,
          0.6325470352743859,
          -1.0947329579554326,
          1.9517195306102926,
          0.23967706103861106,
          0.965985394546088,
          0.15852368966232788,
          0.10870123815921616,
          0.14696594995146783,
          -0.6020170814752861,
          -2.1988768505562195,
          0.4167024137898031,
          2.0543280192487425,
          -1.106173738405013,
          -1.4573434546316546,
          0.21509295230433023,
          -0.44006889224274537,
          0.9157524357694234,
          1.4829297270755881,
          0.20167127512276564,
          0.017180432551903796,
          -0.004031698138674777,
          -0.561990871613196,
          0.3665113985199989,
          1.8845422828466643,
          -0.0603826347550325,
          -1.8269870205652525,
          -0.5075171173939871,
          -0.38711492763209043,
          -2.114692791920225,
          -0.4372265767085458,
          1.2637474277480985,
          0.3496605779891636,
          1.5684009658161446,
          -1.387050190351923,
          0.44359355184557536,
          -0.28779903043026983,
          1.761926219230782,
          -0.03866072911630973,
          1.1281185715490418,
          -2.4951156025924455,
          1.246697677841596,
          -0.19662280856266776,
          -0.03727954581444563,
          0.552292854080817,
          -1.0569325305393944,
          -0.7545348399599937,
          -1.0808953664893906,
          0.2540993659207464,
          0.5077451846314007,
          -0.5938907220819517,
          -0.06990720893502703,
          0.4817857768495659,
          -0.356625977429201,
          -1.1256492380989043,
          0.6142444292828942,
          0.3101873680935744,
          -0.1354708868849027,
          -1.4143634705188226,
          1.590700092082429,
          1.0084567254873549,
          1.0017931015713446,
          2.7545084278062935,
          -1.8652271395589703,
          0.5462421071405258,
          0.21098818368871608,
          -0.21871249152835495,
          -1.0852307654587072,
          0.13725541941488004,
          1.0061247528761237,
          -0.21212535267469518,
          0.30066372306610023
         ]
        },
        {
         "line": {
          "color": "rgba(55, 128, 191, 1.0)",
          "dash": "solid",
          "shape": "linear",
          "width": 1.3
         },
         "mode": "lines",
         "name": "B",
         "text": "",
         "type": "scatter",
         "x": [
          0,
          1,
          2,
          3,
          4,
          5,
          6,
          7,
          8,
          9,
          10,
          11,
          12,
          13,
          14,
          15,
          16,
          17,
          18,
          19,
          20,
          21,
          22,
          23,
          24,
          25,
          26,
          27,
          28,
          29,
          30,
          31,
          32,
          33,
          34,
          35,
          36,
          37,
          38,
          39,
          40,
          41,
          42,
          43,
          44,
          45,
          46,
          47,
          48,
          49,
          50,
          51,
          52,
          53,
          54,
          55,
          56,
          57,
          58,
          59,
          60,
          61,
          62,
          63,
          64,
          65,
          66,
          67,
          68,
          69,
          70,
          71,
          72,
          73,
          74,
          75,
          76,
          77,
          78,
          79,
          80,
          81,
          82,
          83,
          84,
          85,
          86,
          87,
          88,
          89,
          90,
          91,
          92,
          93,
          94,
          95,
          96,
          97,
          98,
          99
         ],
         "y": [
          -1.5157844764829644,
          -0.41217303880693795,
          -0.885537620161897,
          -1.0825116625246325,
          -0.7711514620169873,
          0.11336586975555087,
          -2.037793252704692,
          -1.2431066908082695,
          0.2279630985577041,
          2.285122016115169,
          0.5686612058338246,
          -0.11289094249910886,
          1.0871791334388332,
          -0.9264607664001572,
          -0.23203245030153488,
          1.1978636491657273,
          -1.61049921813411,
          1.0186671150406723,
          -0.830410126643706,
          0.061010127179468195,
          -1.4428710111153462,
          -0.34703951558236673,
          -0.8004712699568765,
          0.9872486636646743,
          -0.11052583039513393,
          -0.521753599429375,
          0.9180609357590939,
          -0.4706314498351323,
          0.1593530936906216,
          -0.34439821179737523,
          0.1260929261261622,
          0.9014891700796437,
          -1.9086325343793984,
          1.3265100906787224,
          -1.016469774207095,
          -1.0075664358751315,
          0.824356905600885,
          0.27100187084226507,
          -2.0531910720757085,
          -0.33096840295790547,
          0.3104043378222117,
          0.3201279405565035,
          0.07138643572302857,
          0.36793695566802753,
          -0.8340584965818486,
          -0.19109136807731775,
          -0.41489317936293635,
          -1.5901195793905352,
          -0.41860282360146844,
          0.25727166901744886,
          1.186585290154861,
          0.01147437217925689,
          1.0938515937475013,
          0.6426173415422843,
          0.7645076934816141,
          1.9665927990300778,
          0.30811626021854516,
          -0.7566852826738959,
          -0.12094518765003719,
          -1.9596422320177858,
          0.3681245349734719,
          -0.45465319992726677,
          1.2866713239735286,
          2.460441459850995,
          1.8473126657480798,
          -0.27141805317652684,
          0.786702020671586,
          0.8539164822407052,
          0.13463426584909585,
          0.4286809506123593,
          -0.16831506587421277,
          -1.0353675736388193,
          1.5391927362068332,
          -0.9642384943504239,
          0.5520580360748376,
          -0.3906983426248046,
          0.32788841514508926,
          -0.8049645750137246,
          -0.2253179772183928,
          -1.5939395645671797,
          -0.5391366490474503,
          0.8104225248406977,
          -0.2493880163743225,
          -0.5634556674177098,
          0.31052738807329744,
          -0.07547020223629892,
          0.39694849620435846,
          -2.307601399367974,
          0.4690059427284225,
          0.36897684664490976,
          -0.38369728493884553,
          0.7383755977764519,
          1.0832043639985331,
          -1.3832746089444825,
          -0.5836772744395085,
          0.8363588903108603,
          0.024321542018380275,
          0.42848927597760655,
          0.04794678043158683,
          0.7961084702479705
         ]
        },
        {
         "connectgaps": false,
         "fill": "tozeroy",
         "line": {
          "color": "green",
          "dash": "solid",
          "shape": "linear",
          "width": 0.5
         },
         "mode": "lines",
         "name": "Spread",
         "showlegend": false,
         "type": "scatter",
         "x": [
          0,
          1,
          2,
          3,
          4,
          5,
          6,
          7,
          8,
          9,
          10,
          11,
          12,
          13,
          14,
          15,
          16,
          17,
          18,
          19,
          20,
          21,
          22,
          23,
          24,
          25,
          26,
          27,
          28,
          29,
          30,
          31,
          32,
          33,
          34,
          35,
          36,
          37,
          38,
          39,
          40,
          41,
          42,
          43,
          44,
          45,
          46,
          47,
          48,
          49,
          50,
          51,
          52,
          53,
          54,
          55,
          56,
          57,
          58,
          59,
          60,
          61,
          62,
          63,
          64,
          65,
          66,
          67,
          68,
          69,
          70,
          71,
          72,
          73,
          74,
          75,
          76,
          77,
          78,
          79,
          80,
          81,
          82,
          83,
          84,
          85,
          86,
          87,
          88,
          89,
          90,
          91,
          92,
          93,
          94,
          95,
          96,
          97,
          98,
          99
         ],
         "xaxis": "x2",
         "y": [
          0.9001740845170196,
          "",
          0.574129598996856,
          1.327858640680435,
          0.46640869263913476,
          "",
          1.6987418602615163,
          2.792629175143888,
          "",
          "",
          0.23813172092312151,
          "",
          "",
          2.249707107463938,
          0.02842579917230359,
          "",
          "",
          0.3139674935982577,
          "",
          "",
          0.7056674690057746,
          "",
          1.70813383709517,
          "",
          "",
          "",
          0.8075912357775672,
          1.4869102700685848,
          1.6617142278304837,
          0.9769452470717612,
          "",
          1.0502303605306489,
          2.1483095954180094,
          "",
          1.1749934638694228,
          1.1162676740343476,
          "",
          "",
          "",
          0.7476708167477086,
          1.7439236814265309,
          "",
          "",
          "",
          0.39398960433910324,
          1.1068438038467412,
          1.8978229064385244,
          1.7917908545133008,
          0.4357832561533722,
          "",
          "",
          0.355037026340742,
          0.790690689099163,
          "",
          "",
          "",
          "",
          "",
          "",
          3.223389659765884,
          "",
          2.0230541657434116,
          "",
          "",
          "",
          2.0333442724073088,
          "",
          0.27420208930833667,
          "",
          0.8180167272292367,
          "",
          0.9980880278243737,
          "",
          "",
          "",
          "",
          "",
          1.3127097596451254,
          "",
          1.5240323556321527,
          1.0209224258970162,
          "",
          "",
          1.1777000967006042,
          "",
          "",
          "",
          3.898301491450403,
          0.5394507827589323,
          0.6328162549264349,
          3.138205712745139,
          "",
          "",
          1.5942627926331987,
          0.36496478291115353,
          "",
          0.11293387739649977,
          0.5776354768985171,
          "",
          ""
         ],
         "yaxis": "y2"
        },
        {
         "connectgaps": false,
         "fill": "tozeroy",
         "line": {
          "color": "red",
          "dash": "solid",
          "shape": "linear",
          "width": 0.5
         },
         "mode": "lines",
         "name": "Spread",
         "showlegend": false,
         "type": "scatter",
         "x": [
          0,
          1,
          2,
          3,
          4,
          5,
          6,
          7,
          8,
          9,
          10,
          11,
          12,
          13,
          14,
          15,
          16,
          17,
          18,
          19,
          20,
          21,
          22,
          23,
          24,
          25,
          26,
          27,
          28,
          29,
          30,
          31,
          32,
          33,
          34,
          35,
          36,
          37,
          38,
          39,
          40,
          41,
          42,
          43,
          44,
          45,
          46,
          47,
          48,
          49,
          50,
          51,
          52,
          53,
          54,
          55,
          56,
          57,
          58,
          59,
          60,
          61,
          62,
          63,
          64,
          65,
          66,
          67,
          68,
          69,
          70,
          71,
          72,
          73,
          74,
          75,
          76,
          77,
          78,
          79,
          80,
          81,
          82,
          83,
          84,
          85,
          86,
          87,
          88,
          89,
          90,
          91,
          92,
          93,
          94,
          95,
          96,
          97,
          98,
          99
         ],
         "xaxis": "x2",
         "y": [
          "",
          -0.8503130457434316,
          "",
          "",
          "",
          -0.3072427830581267,
          "",
          "",
          -1.2116000711079198,
          -2.5207466340912266,
          "",
          -0.7348584023999492,
          -0.15936690214197546,
          "",
          "",
          -1.47997293640155,
          -0.4860512341466896,
          "",
          -0.042596148300588776,
          -0.27878357661947406,
          "",
          -0.22745775358889103,
          "",
          -0.22620462225987104,
          -0.5356034251938304,
          -0.06833426033148016,
          "",
          "",
          "",
          "",
          -1.2208258840815949,
          "",
          "",
          -0.3605246961326344,
          "",
          "",
          -0.6773909556494172,
          -0.8730189523175511,
          -0.145685778480511,
          "",
          "",
          -1.4263016789615164,
          -1.528729890354683,
          -0.1528440033636973,
          "",
          "",
          "",
          "",
          "",
          -0.2613033671561236,
          -1.748576161768057,
          "",
          "",
          -0.7029999762973168,
          -2.5914947140468665,
          -2.474109916424065,
          -0.6952311878506356,
          -1.3580075092463293,
          -0.3162813890585086,
          "",
          -0.018463956984308305,
          "",
          -2.6737215143254516,
          -2.0168479080054196,
          -2.13511169617835,
          "",
          -0.8253627497878957,
          "",
          -2.6297498684415412,
          "",
          -0.028307742688454984,
          "",
          -0.9868998821260162,
          -0.09269403618897054,
          -1.3065928760348313,
          -0.690197023864586,
          -0.07378904922434287,
          "",
          -0.3685727448635589,
          "",
          "",
          -1.1670485022698986,
          -0.8762612217245818,
          "",
          -0.00034001997972304965,
          -0.060000684648603766,
          -1.811311966723181,
          "",
          "",
          "",
          "",
          -2.6036027373354225,
          -0.5369622568580074,
          "",
          "",
          -1.9215896557695675,
          "",
          "",
          -0.260072133106282,
          -0.49544474718187026
         ],
         "yaxis": "y2"
        }
       ],
       "layout": {
        "hovermode": "x",
        "legend": {
         "bgcolor": "#F5F6F9",
         "font": {
          "color": "#4D5663"
         }
        },
        "paper_bgcolor": "#F5F6F9",
        "plot_bgcolor": "#F5F6F9",
        "template": {
         "data": {
          "bar": [
           {
            "error_x": {
             "color": "#2a3f5f"
            },
            "error_y": {
             "color": "#2a3f5f"
            },
            "marker": {
             "line": {
              "color": "#E5ECF6",
              "width": 0.5
             }
            },
            "type": "bar"
           }
          ],
          "barpolar": [
           {
            "marker": {
             "line": {
              "color": "#E5ECF6",
              "width": 0.5
             }
            },
            "type": "barpolar"
           }
          ],
          "carpet": [
           {
            "aaxis": {
             "endlinecolor": "#2a3f5f",
             "gridcolor": "white",
             "linecolor": "white",
             "minorgridcolor": "white",
             "startlinecolor": "#2a3f5f"
            },
            "baxis": {
             "endlinecolor": "#2a3f5f",
             "gridcolor": "white",
             "linecolor": "white",
             "minorgridcolor": "white",
             "startlinecolor": "#2a3f5f"
            },
            "type": "carpet"
           }
          ],
          "choropleth": [
           {
            "colorbar": {
             "outlinewidth": 0,
             "ticks": ""
            },
            "type": "choropleth"
           }
          ],
          "contour": [
           {
            "colorbar": {
             "outlinewidth": 0,
             "ticks": ""
            },
            "colorscale": [
             [
              0,
              "#0d0887"
             ],
             [
              0.1111111111111111,
              "#46039f"
             ],
             [
              0.2222222222222222,
              "#7201a8"
             ],
             [
              0.3333333333333333,
              "#9c179e"
             ],
             [
              0.4444444444444444,
              "#bd3786"
             ],
             [
              0.5555555555555556,
              "#d8576b"
             ],
             [
              0.6666666666666666,
              "#ed7953"
             ],
             [
              0.7777777777777778,
              "#fb9f3a"
             ],
             [
              0.8888888888888888,
              "#fdca26"
             ],
             [
              1,
              "#f0f921"
             ]
            ],
            "type": "contour"
           }
          ],
          "contourcarpet": [
           {
            "colorbar": {
             "outlinewidth": 0,
             "ticks": ""
            },
            "type": "contourcarpet"
           }
          ],
          "heatmap": [
           {
            "colorbar": {
             "outlinewidth": 0,
             "ticks": ""
            },
            "colorscale": [
             [
              0,
              "#0d0887"
             ],
             [
              0.1111111111111111,
              "#46039f"
             ],
             [
              0.2222222222222222,
              "#7201a8"
             ],
             [
              0.3333333333333333,
              "#9c179e"
             ],
             [
              0.4444444444444444,
              "#bd3786"
             ],
             [
              0.5555555555555556,
              "#d8576b"
             ],
             [
              0.6666666666666666,
              "#ed7953"
             ],
             [
              0.7777777777777778,
              "#fb9f3a"
             ],
             [
              0.8888888888888888,
              "#fdca26"
             ],
             [
              1,
              "#f0f921"
             ]
            ],
            "type": "heatmap"
           }
          ],
          "heatmapgl": [
           {
            "colorbar": {
             "outlinewidth": 0,
             "ticks": ""
            },
            "colorscale": [
             [
              0,
              "#0d0887"
             ],
             [
              0.1111111111111111,
              "#46039f"
             ],
             [
              0.2222222222222222,
              "#7201a8"
             ],
             [
              0.3333333333333333,
              "#9c179e"
             ],
             [
              0.4444444444444444,
              "#bd3786"
             ],
             [
              0.5555555555555556,
              "#d8576b"
             ],
             [
              0.6666666666666666,
              "#ed7953"
             ],
             [
              0.7777777777777778,
              "#fb9f3a"
             ],
             [
              0.8888888888888888,
              "#fdca26"
             ],
             [
              1,
              "#f0f921"
             ]
            ],
            "type": "heatmapgl"
           }
          ],
          "histogram": [
           {
            "marker": {
             "colorbar": {
              "outlinewidth": 0,
              "ticks": ""
             }
            },
            "type": "histogram"
           }
          ],
          "histogram2d": [
           {
            "colorbar": {
             "outlinewidth": 0,
             "ticks": ""
            },
            "colorscale": [
             [
              0,
              "#0d0887"
             ],
             [
              0.1111111111111111,
              "#46039f"
             ],
             [
              0.2222222222222222,
              "#7201a8"
             ],
             [
              0.3333333333333333,
              "#9c179e"
             ],
             [
              0.4444444444444444,
              "#bd3786"
             ],
             [
              0.5555555555555556,
              "#d8576b"
             ],
             [
              0.6666666666666666,
              "#ed7953"
             ],
             [
              0.7777777777777778,
              "#fb9f3a"
             ],
             [
              0.8888888888888888,
              "#fdca26"
             ],
             [
              1,
              "#f0f921"
             ]
            ],
            "type": "histogram2d"
           }
          ],
          "histogram2dcontour": [
           {
            "colorbar": {
             "outlinewidth": 0,
             "ticks": ""
            },
            "colorscale": [
             [
              0,
              "#0d0887"
             ],
             [
              0.1111111111111111,
              "#46039f"
             ],
             [
              0.2222222222222222,
              "#7201a8"
             ],
             [
              0.3333333333333333,
              "#9c179e"
             ],
             [
              0.4444444444444444,
              "#bd3786"
             ],
             [
              0.5555555555555556,
              "#d8576b"
             ],
             [
              0.6666666666666666,
              "#ed7953"
             ],
             [
              0.7777777777777778,
              "#fb9f3a"
             ],
             [
              0.8888888888888888,
              "#fdca26"
             ],
             [
              1,
              "#f0f921"
             ]
            ],
            "type": "histogram2dcontour"
           }
          ],
          "mesh3d": [
           {
            "colorbar": {
             "outlinewidth": 0,
             "ticks": ""
            },
            "type": "mesh3d"
           }
          ],
          "parcoords": [
           {
            "line": {
             "colorbar": {
              "outlinewidth": 0,
              "ticks": ""
             }
            },
            "type": "parcoords"
           }
          ],
          "pie": [
           {
            "automargin": true,
            "type": "pie"
           }
          ],
          "scatter": [
           {
            "marker": {
             "colorbar": {
              "outlinewidth": 0,
              "ticks": ""
             }
            },
            "type": "scatter"
           }
          ],
          "scatter3d": [
           {
            "line": {
             "colorbar": {
              "outlinewidth": 0,
              "ticks": ""
             }
            },
            "marker": {
             "colorbar": {
              "outlinewidth": 0,
              "ticks": ""
             }
            },
            "type": "scatter3d"
           }
          ],
          "scattercarpet": [
           {
            "marker": {
             "colorbar": {
              "outlinewidth": 0,
              "ticks": ""
             }
            },
            "type": "scattercarpet"
           }
          ],
          "scattergeo": [
           {
            "marker": {
             "colorbar": {
              "outlinewidth": 0,
              "ticks": ""
             }
            },
            "type": "scattergeo"
           }
          ],
          "scattergl": [
           {
            "marker": {
             "colorbar": {
              "outlinewidth": 0,
              "ticks": ""
             }
            },
            "type": "scattergl"
           }
          ],
          "scattermapbox": [
           {
            "marker": {
             "colorbar": {
              "outlinewidth": 0,
              "ticks": ""
             }
            },
            "type": "scattermapbox"
           }
          ],
          "scatterpolar": [
           {
            "marker": {
             "colorbar": {
              "outlinewidth": 0,
              "ticks": ""
             }
            },
            "type": "scatterpolar"
           }
          ],
          "scatterpolargl": [
           {
            "marker": {
             "colorbar": {
              "outlinewidth": 0,
              "ticks": ""
             }
            },
            "type": "scatterpolargl"
           }
          ],
          "scatterternary": [
           {
            "marker": {
             "colorbar": {
              "outlinewidth": 0,
              "ticks": ""
             }
            },
            "type": "scatterternary"
           }
          ],
          "surface": [
           {
            "colorbar": {
             "outlinewidth": 0,
             "ticks": ""
            },
            "colorscale": [
             [
              0,
              "#0d0887"
             ],
             [
              0.1111111111111111,
              "#46039f"
             ],
             [
              0.2222222222222222,
              "#7201a8"
             ],
             [
              0.3333333333333333,
              "#9c179e"
             ],
             [
              0.4444444444444444,
              "#bd3786"
             ],
             [
              0.5555555555555556,
              "#d8576b"
             ],
             [
              0.6666666666666666,
              "#ed7953"
             ],
             [
              0.7777777777777778,
              "#fb9f3a"
             ],
             [
              0.8888888888888888,
              "#fdca26"
             ],
             [
              1,
              "#f0f921"
             ]
            ],
            "type": "surface"
           }
          ],
          "table": [
           {
            "cells": {
             "fill": {
              "color": "#EBF0F8"
             },
             "line": {
              "color": "white"
             }
            },
            "header": {
             "fill": {
              "color": "#C8D4E3"
             },
             "line": {
              "color": "white"
             }
            },
            "type": "table"
           }
          ]
         },
         "layout": {
          "annotationdefaults": {
           "arrowcolor": "#2a3f5f",
           "arrowhead": 0,
           "arrowwidth": 1
          },
          "autotypenumbers": "strict",
          "coloraxis": {
           "colorbar": {
            "outlinewidth": 0,
            "ticks": ""
           }
          },
          "colorscale": {
           "diverging": [
            [
             0,
             "#8e0152"
            ],
            [
             0.1,
             "#c51b7d"
            ],
            [
             0.2,
             "#de77ae"
            ],
            [
             0.3,
             "#f1b6da"
            ],
            [
             0.4,
             "#fde0ef"
            ],
            [
             0.5,
             "#f7f7f7"
            ],
            [
             0.6,
             "#e6f5d0"
            ],
            [
             0.7,
             "#b8e186"
            ],
            [
             0.8,
             "#7fbc41"
            ],
            [
             0.9,
             "#4d9221"
            ],
            [
             1,
             "#276419"
            ]
           ],
           "sequential": [
            [
             0,
             "#0d0887"
            ],
            [
             0.1111111111111111,
             "#46039f"
            ],
            [
             0.2222222222222222,
             "#7201a8"
            ],
            [
             0.3333333333333333,
             "#9c179e"
            ],
            [
             0.4444444444444444,
             "#bd3786"
            ],
            [
             0.5555555555555556,
             "#d8576b"
            ],
            [
             0.6666666666666666,
             "#ed7953"
            ],
            [
             0.7777777777777778,
             "#fb9f3a"
            ],
            [
             0.8888888888888888,
             "#fdca26"
            ],
            [
             1,
             "#f0f921"
            ]
           ],
           "sequentialminus": [
            [
             0,
             "#0d0887"
            ],
            [
             0.1111111111111111,
             "#46039f"
            ],
            [
             0.2222222222222222,
             "#7201a8"
            ],
            [
             0.3333333333333333,
             "#9c179e"
            ],
            [
             0.4444444444444444,
             "#bd3786"
            ],
            [
             0.5555555555555556,
             "#d8576b"
            ],
            [
             0.6666666666666666,
             "#ed7953"
            ],
            [
             0.7777777777777778,
             "#fb9f3a"
            ],
            [
             0.8888888888888888,
             "#fdca26"
            ],
            [
             1,
             "#f0f921"
            ]
           ]
          },
          "colorway": [
           "#636efa",
           "#EF553B",
           "#00cc96",
           "#ab63fa",
           "#FFA15A",
           "#19d3f3",
           "#FF6692",
           "#B6E880",
           "#FF97FF",
           "#FECB52"
          ],
          "font": {
           "color": "#2a3f5f"
          },
          "geo": {
           "bgcolor": "white",
           "lakecolor": "white",
           "landcolor": "#E5ECF6",
           "showlakes": true,
           "showland": true,
           "subunitcolor": "white"
          },
          "hoverlabel": {
           "align": "left"
          },
          "hovermode": "closest",
          "mapbox": {
           "style": "light"
          },
          "paper_bgcolor": "white",
          "plot_bgcolor": "#E5ECF6",
          "polar": {
           "angularaxis": {
            "gridcolor": "white",
            "linecolor": "white",
            "ticks": ""
           },
           "bgcolor": "#E5ECF6",
           "radialaxis": {
            "gridcolor": "white",
            "linecolor": "white",
            "ticks": ""
           }
          },
          "scene": {
           "xaxis": {
            "backgroundcolor": "#E5ECF6",
            "gridcolor": "white",
            "gridwidth": 2,
            "linecolor": "white",
            "showbackground": true,
            "ticks": "",
            "zerolinecolor": "white"
           },
           "yaxis": {
            "backgroundcolor": "#E5ECF6",
            "gridcolor": "white",
            "gridwidth": 2,
            "linecolor": "white",
            "showbackground": true,
            "ticks": "",
            "zerolinecolor": "white"
           },
           "zaxis": {
            "backgroundcolor": "#E5ECF6",
            "gridcolor": "white",
            "gridwidth": 2,
            "linecolor": "white",
            "showbackground": true,
            "ticks": "",
            "zerolinecolor": "white"
           }
          },
          "shapedefaults": {
           "line": {
            "color": "#2a3f5f"
           }
          },
          "ternary": {
           "aaxis": {
            "gridcolor": "white",
            "linecolor": "white",
            "ticks": ""
           },
           "baxis": {
            "gridcolor": "white",
            "linecolor": "white",
            "ticks": ""
           },
           "bgcolor": "#E5ECF6",
           "caxis": {
            "gridcolor": "white",
            "linecolor": "white",
            "ticks": ""
           }
          },
          "title": {
           "x": 0.05
          },
          "xaxis": {
           "automargin": true,
           "gridcolor": "white",
           "linecolor": "white",
           "ticks": "",
           "title": {
            "standoff": 15
           },
           "zerolinecolor": "white",
           "zerolinewidth": 2
          },
          "yaxis": {
           "automargin": true,
           "gridcolor": "white",
           "linecolor": "white",
           "ticks": "",
           "title": {
            "standoff": 15
           },
           "zerolinecolor": "white",
           "zerolinewidth": 2
          }
         }
        },
        "title": {
         "font": {
          "color": "#4D5663"
         }
        },
        "xaxis": {
         "gridcolor": "#E1E5ED",
         "showgrid": true,
         "tickfont": {
          "color": "#4D5663"
         },
         "title": {
          "font": {
           "color": "#4D5663"
          },
          "text": ""
         },
         "zerolinecolor": "#E1E5ED"
        },
        "xaxis2": {
         "anchor": "y2",
         "gridcolor": "#E1E5ED",
         "showgrid": true,
         "showticklabels": false,
         "tickfont": {
          "color": "#4D5663"
         },
         "title": {
          "font": {
           "color": "#4D5663"
          },
          "text": ""
         },
         "zerolinecolor": "#E1E5ED"
        },
        "yaxis": {
         "domain": [
          0.3,
          1
         ],
         "gridcolor": "#E1E5ED",
         "showgrid": true,
         "tickfont": {
          "color": "#4D5663"
         },
         "title": {
          "font": {
           "color": "#4D5663"
          },
          "text": ""
         },
         "zerolinecolor": "#E1E5ED"
        },
        "yaxis2": {
         "domain": [
          0,
          0.25
         ],
         "gridcolor": "#E1E5ED",
         "showgrid": true,
         "tickfont": {
          "color": "#4D5663"
         },
         "title": {
          "font": {
           "color": "#4D5663"
          },
          "text": "Spread"
         },
         "zerolinecolor": "#E1E5ED"
        }
       }
      },
      "text/html": "<div>                            <div id=\"52177ea2-6117-4844-9791-ca8bfadc344a\" class=\"plotly-graph-div\" style=\"height:525px; width:100%;\"></div>            <script type=\"text/javascript\">                require([\"plotly\"], function(Plotly) {                    window.PLOTLYENV=window.PLOTLYENV || {};\n                    window.PLOTLYENV.BASE_URL='https://plot.ly';                                    if (document.getElementById(\"52177ea2-6117-4844-9791-ca8bfadc344a\")) {                    Plotly.newPlot(                        \"52177ea2-6117-4844-9791-ca8bfadc344a\",                        [{\"line\": {\"color\": \"rgba(255, 153, 51, 1.0)\", \"dash\": \"solid\", \"shape\": \"linear\", \"width\": 1.3}, \"mode\": \"lines\", \"name\": \"A\", \"text\": \"\", \"type\": \"scatter\", \"x\": [0, 1, 2, 3, 4, 5, 6, 7, 8, 9, 10, 11, 12, 13, 14, 15, 16, 17, 18, 19, 20, 21, 22, 23, 24, 25, 26, 27, 28, 29, 30, 31, 32, 33, 34, 35, 36, 37, 38, 39, 40, 41, 42, 43, 44, 45, 46, 47, 48, 49, 50, 51, 52, 53, 54, 55, 56, 57, 58, 59, 60, 61, 62, 63, 64, 65, 66, 67, 68, 69, 70, 71, 72, 73, 74, 75, 76, 77, 78, 79, 80, 81, 82, 83, 84, 85, 86, 87, 88, 89, 90, 91, 92, 93, 94, 95, 96, 97, 98, 99], \"y\": [-0.6156103919659448, -1.2624860845503696, -0.31140802116504096, 0.2453469781558024, -0.3047427693778525, -0.1938769133025758, -0.3390513924431758, 1.5495224843356186, -0.9836369725502156, -0.23562461797605772, 0.8067929267569461, -0.8477493448990581, 0.9278122312968577, 1.323246341063781, -0.2036066511292313, -0.2821092872358227, -2.0965504522807996, 1.33263460863893, -0.8730062749442947, -0.21777344944000587, -0.7372035421095716, -0.5744972691712578, 0.9076625671382935, 0.7610440414048033, -0.6461292555889644, -0.5900878597608552, 1.725652171536661, 1.0162788202334525, 1.8210673215211053, 0.6325470352743859, -1.0947329579554326, 1.9517195306102926, 0.23967706103861106, 0.965985394546088, 0.15852368966232788, 0.10870123815921616, 0.14696594995146783, -0.6020170814752861, -2.1988768505562195, 0.4167024137898031, 2.0543280192487425, -1.106173738405013, -1.4573434546316546, 0.21509295230433023, -0.44006889224274537, 0.9157524357694234, 1.4829297270755881, 0.20167127512276564, 0.017180432551903796, -0.004031698138674777, -0.561990871613196, 0.3665113985199989, 1.8845422828466643, -0.0603826347550325, -1.8269870205652525, -0.5075171173939871, -0.38711492763209043, -2.114692791920225, -0.4372265767085458, 1.2637474277480985, 0.3496605779891636, 1.5684009658161446, -1.387050190351923, 0.44359355184557536, -0.28779903043026983, 1.761926219230782, -0.03866072911630973, 1.1281185715490418, -2.4951156025924455, 1.246697677841596, -0.19662280856266776, -0.03727954581444563, 0.552292854080817, -1.0569325305393944, -0.7545348399599937, -1.0808953664893906, 0.2540993659207464, 0.5077451846314007, -0.5938907220819517, -0.06990720893502703, 0.4817857768495659, -0.356625977429201, -1.1256492380989043, 0.6142444292828942, 0.3101873680935744, -0.1354708868849027, -1.4143634705188226, 1.590700092082429, 1.0084567254873549, 1.0017931015713446, 2.7545084278062935, -1.8652271395589703, 0.5462421071405258, 0.21098818368871608, -0.21871249152835495, -1.0852307654587072, 0.13725541941488004, 1.0061247528761237, -0.21212535267469518, 0.30066372306610023]}, {\"line\": {\"color\": \"rgba(55, 128, 191, 1.0)\", \"dash\": \"solid\", \"shape\": \"linear\", \"width\": 1.3}, \"mode\": \"lines\", \"name\": \"B\", \"text\": \"\", \"type\": \"scatter\", \"x\": [0, 1, 2, 3, 4, 5, 6, 7, 8, 9, 10, 11, 12, 13, 14, 15, 16, 17, 18, 19, 20, 21, 22, 23, 24, 25, 26, 27, 28, 29, 30, 31, 32, 33, 34, 35, 36, 37, 38, 39, 40, 41, 42, 43, 44, 45, 46, 47, 48, 49, 50, 51, 52, 53, 54, 55, 56, 57, 58, 59, 60, 61, 62, 63, 64, 65, 66, 67, 68, 69, 70, 71, 72, 73, 74, 75, 76, 77, 78, 79, 80, 81, 82, 83, 84, 85, 86, 87, 88, 89, 90, 91, 92, 93, 94, 95, 96, 97, 98, 99], \"y\": [-1.5157844764829644, -0.41217303880693795, -0.885537620161897, -1.0825116625246325, -0.7711514620169873, 0.11336586975555087, -2.037793252704692, -1.2431066908082695, 0.2279630985577041, 2.285122016115169, 0.5686612058338246, -0.11289094249910886, 1.0871791334388332, -0.9264607664001572, -0.23203245030153488, 1.1978636491657273, -1.61049921813411, 1.0186671150406723, -0.830410126643706, 0.061010127179468195, -1.4428710111153462, -0.34703951558236673, -0.8004712699568765, 0.9872486636646743, -0.11052583039513393, -0.521753599429375, 0.9180609357590939, -0.4706314498351323, 0.1593530936906216, -0.34439821179737523, 0.1260929261261622, 0.9014891700796437, -1.9086325343793984, 1.3265100906787224, -1.016469774207095, -1.0075664358751315, 0.824356905600885, 0.27100187084226507, -2.0531910720757085, -0.33096840295790547, 0.3104043378222117, 0.3201279405565035, 0.07138643572302857, 0.36793695566802753, -0.8340584965818486, -0.19109136807731775, -0.41489317936293635, -1.5901195793905352, -0.41860282360146844, 0.25727166901744886, 1.186585290154861, 0.01147437217925689, 1.0938515937475013, 0.6426173415422843, 0.7645076934816141, 1.9665927990300778, 0.30811626021854516, -0.7566852826738959, -0.12094518765003719, -1.9596422320177858, 0.3681245349734719, -0.45465319992726677, 1.2866713239735286, 2.460441459850995, 1.8473126657480798, -0.27141805317652684, 0.786702020671586, 0.8539164822407052, 0.13463426584909585, 0.4286809506123593, -0.16831506587421277, -1.0353675736388193, 1.5391927362068332, -0.9642384943504239, 0.5520580360748376, -0.3906983426248046, 0.32788841514508926, -0.8049645750137246, -0.2253179772183928, -1.5939395645671797, -0.5391366490474503, 0.8104225248406977, -0.2493880163743225, -0.5634556674177098, 0.31052738807329744, -0.07547020223629892, 0.39694849620435846, -2.307601399367974, 0.4690059427284225, 0.36897684664490976, -0.38369728493884553, 0.7383755977764519, 1.0832043639985331, -1.3832746089444825, -0.5836772744395085, 0.8363588903108603, 0.024321542018380275, 0.42848927597760655, 0.04794678043158683, 0.7961084702479705]}, {\"connectgaps\": false, \"fill\": \"tozeroy\", \"line\": {\"color\": \"green\", \"dash\": \"solid\", \"shape\": \"linear\", \"width\": 0.5}, \"mode\": \"lines\", \"name\": \"Spread\", \"showlegend\": false, \"type\": \"scatter\", \"x\": [0, 1, 2, 3, 4, 5, 6, 7, 8, 9, 10, 11, 12, 13, 14, 15, 16, 17, 18, 19, 20, 21, 22, 23, 24, 25, 26, 27, 28, 29, 30, 31, 32, 33, 34, 35, 36, 37, 38, 39, 40, 41, 42, 43, 44, 45, 46, 47, 48, 49, 50, 51, 52, 53, 54, 55, 56, 57, 58, 59, 60, 61, 62, 63, 64, 65, 66, 67, 68, 69, 70, 71, 72, 73, 74, 75, 76, 77, 78, 79, 80, 81, 82, 83, 84, 85, 86, 87, 88, 89, 90, 91, 92, 93, 94, 95, 96, 97, 98, 99], \"xaxis\": \"x2\", \"y\": [0.9001740845170196, \"\", 0.574129598996856, 1.327858640680435, 0.46640869263913476, \"\", 1.6987418602615163, 2.792629175143888, \"\", \"\", 0.23813172092312151, \"\", \"\", 2.249707107463938, 0.02842579917230359, \"\", \"\", 0.3139674935982577, \"\", \"\", 0.7056674690057746, \"\", 1.70813383709517, \"\", \"\", \"\", 0.8075912357775672, 1.4869102700685848, 1.6617142278304837, 0.9769452470717612, \"\", 1.0502303605306489, 2.1483095954180094, \"\", 1.1749934638694228, 1.1162676740343476, \"\", \"\", \"\", 0.7476708167477086, 1.7439236814265309, \"\", \"\", \"\", 0.39398960433910324, 1.1068438038467412, 1.8978229064385244, 1.7917908545133008, 0.4357832561533722, \"\", \"\", 0.355037026340742, 0.790690689099163, \"\", \"\", \"\", \"\", \"\", \"\", 3.223389659765884, \"\", 2.0230541657434116, \"\", \"\", \"\", 2.0333442724073088, \"\", 0.27420208930833667, \"\", 0.8180167272292367, \"\", 0.9980880278243737, \"\", \"\", \"\", \"\", \"\", 1.3127097596451254, \"\", 1.5240323556321527, 1.0209224258970162, \"\", \"\", 1.1777000967006042, \"\", \"\", \"\", 3.898301491450403, 0.5394507827589323, 0.6328162549264349, 3.138205712745139, \"\", \"\", 1.5942627926331987, 0.36496478291115353, \"\", 0.11293387739649977, 0.5776354768985171, \"\", \"\"], \"yaxis\": \"y2\"}, {\"connectgaps\": false, \"fill\": \"tozeroy\", \"line\": {\"color\": \"red\", \"dash\": \"solid\", \"shape\": \"linear\", \"width\": 0.5}, \"mode\": \"lines\", \"name\": \"Spread\", \"showlegend\": false, \"type\": \"scatter\", \"x\": [0, 1, 2, 3, 4, 5, 6, 7, 8, 9, 10, 11, 12, 13, 14, 15, 16, 17, 18, 19, 20, 21, 22, 23, 24, 25, 26, 27, 28, 29, 30, 31, 32, 33, 34, 35, 36, 37, 38, 39, 40, 41, 42, 43, 44, 45, 46, 47, 48, 49, 50, 51, 52, 53, 54, 55, 56, 57, 58, 59, 60, 61, 62, 63, 64, 65, 66, 67, 68, 69, 70, 71, 72, 73, 74, 75, 76, 77, 78, 79, 80, 81, 82, 83, 84, 85, 86, 87, 88, 89, 90, 91, 92, 93, 94, 95, 96, 97, 98, 99], \"xaxis\": \"x2\", \"y\": [\"\", -0.8503130457434316, \"\", \"\", \"\", -0.3072427830581267, \"\", \"\", -1.2116000711079198, -2.5207466340912266, \"\", -0.7348584023999492, -0.15936690214197546, \"\", \"\", -1.47997293640155, -0.4860512341466896, \"\", -0.042596148300588776, -0.27878357661947406, \"\", -0.22745775358889103, \"\", -0.22620462225987104, -0.5356034251938304, -0.06833426033148016, \"\", \"\", \"\", \"\", -1.2208258840815949, \"\", \"\", -0.3605246961326344, \"\", \"\", -0.6773909556494172, -0.8730189523175511, -0.145685778480511, \"\", \"\", -1.4263016789615164, -1.528729890354683, -0.1528440033636973, \"\", \"\", \"\", \"\", \"\", -0.2613033671561236, -1.748576161768057, \"\", \"\", -0.7029999762973168, -2.5914947140468665, -2.474109916424065, -0.6952311878506356, -1.3580075092463293, -0.3162813890585086, \"\", -0.018463956984308305, \"\", -2.6737215143254516, -2.0168479080054196, -2.13511169617835, \"\", -0.8253627497878957, \"\", -2.6297498684415412, \"\", -0.028307742688454984, \"\", -0.9868998821260162, -0.09269403618897054, -1.3065928760348313, -0.690197023864586, -0.07378904922434287, \"\", -0.3685727448635589, \"\", \"\", -1.1670485022698986, -0.8762612217245818, \"\", -0.00034001997972304965, -0.060000684648603766, -1.811311966723181, \"\", \"\", \"\", \"\", -2.6036027373354225, -0.5369622568580074, \"\", \"\", -1.9215896557695675, \"\", \"\", -0.260072133106282, -0.49544474718187026], \"yaxis\": \"y2\"}],                        {\"hovermode\": \"x\", \"legend\": {\"bgcolor\": \"#F5F6F9\", \"font\": {\"color\": \"#4D5663\"}}, \"paper_bgcolor\": \"#F5F6F9\", \"plot_bgcolor\": \"#F5F6F9\", \"template\": {\"data\": {\"bar\": [{\"error_x\": {\"color\": \"#2a3f5f\"}, \"error_y\": {\"color\": \"#2a3f5f\"}, \"marker\": {\"line\": {\"color\": \"#E5ECF6\", \"width\": 0.5}}, \"type\": \"bar\"}], \"barpolar\": [{\"marker\": {\"line\": {\"color\": \"#E5ECF6\", \"width\": 0.5}}, \"type\": \"barpolar\"}], \"carpet\": [{\"aaxis\": {\"endlinecolor\": \"#2a3f5f\", \"gridcolor\": \"white\", \"linecolor\": \"white\", \"minorgridcolor\": \"white\", \"startlinecolor\": \"#2a3f5f\"}, \"baxis\": {\"endlinecolor\": \"#2a3f5f\", \"gridcolor\": \"white\", \"linecolor\": \"white\", \"minorgridcolor\": \"white\", \"startlinecolor\": \"#2a3f5f\"}, \"type\": \"carpet\"}], \"choropleth\": [{\"colorbar\": {\"outlinewidth\": 0, \"ticks\": \"\"}, \"type\": \"choropleth\"}], \"contour\": [{\"colorbar\": {\"outlinewidth\": 0, \"ticks\": \"\"}, \"colorscale\": [[0.0, \"#0d0887\"], [0.1111111111111111, \"#46039f\"], [0.2222222222222222, \"#7201a8\"], [0.3333333333333333, \"#9c179e\"], [0.4444444444444444, \"#bd3786\"], [0.5555555555555556, \"#d8576b\"], [0.6666666666666666, \"#ed7953\"], [0.7777777777777778, \"#fb9f3a\"], [0.8888888888888888, \"#fdca26\"], [1.0, \"#f0f921\"]], \"type\": \"contour\"}], \"contourcarpet\": [{\"colorbar\": {\"outlinewidth\": 0, \"ticks\": \"\"}, \"type\": \"contourcarpet\"}], \"heatmap\": [{\"colorbar\": {\"outlinewidth\": 0, \"ticks\": \"\"}, \"colorscale\": [[0.0, \"#0d0887\"], [0.1111111111111111, \"#46039f\"], [0.2222222222222222, \"#7201a8\"], [0.3333333333333333, \"#9c179e\"], [0.4444444444444444, \"#bd3786\"], [0.5555555555555556, \"#d8576b\"], [0.6666666666666666, \"#ed7953\"], [0.7777777777777778, \"#fb9f3a\"], [0.8888888888888888, \"#fdca26\"], [1.0, \"#f0f921\"]], \"type\": \"heatmap\"}], \"heatmapgl\": [{\"colorbar\": {\"outlinewidth\": 0, \"ticks\": \"\"}, \"colorscale\": [[0.0, \"#0d0887\"], [0.1111111111111111, \"#46039f\"], [0.2222222222222222, \"#7201a8\"], [0.3333333333333333, \"#9c179e\"], [0.4444444444444444, \"#bd3786\"], [0.5555555555555556, \"#d8576b\"], [0.6666666666666666, \"#ed7953\"], [0.7777777777777778, \"#fb9f3a\"], [0.8888888888888888, \"#fdca26\"], [1.0, \"#f0f921\"]], \"type\": \"heatmapgl\"}], \"histogram\": [{\"marker\": {\"colorbar\": {\"outlinewidth\": 0, \"ticks\": \"\"}}, \"type\": \"histogram\"}], \"histogram2d\": [{\"colorbar\": {\"outlinewidth\": 0, \"ticks\": \"\"}, \"colorscale\": [[0.0, \"#0d0887\"], [0.1111111111111111, \"#46039f\"], [0.2222222222222222, \"#7201a8\"], [0.3333333333333333, \"#9c179e\"], [0.4444444444444444, \"#bd3786\"], [0.5555555555555556, \"#d8576b\"], [0.6666666666666666, \"#ed7953\"], [0.7777777777777778, \"#fb9f3a\"], [0.8888888888888888, \"#fdca26\"], [1.0, \"#f0f921\"]], \"type\": \"histogram2d\"}], \"histogram2dcontour\": [{\"colorbar\": {\"outlinewidth\": 0, \"ticks\": \"\"}, \"colorscale\": [[0.0, \"#0d0887\"], [0.1111111111111111, \"#46039f\"], [0.2222222222222222, \"#7201a8\"], [0.3333333333333333, \"#9c179e\"], [0.4444444444444444, \"#bd3786\"], [0.5555555555555556, \"#d8576b\"], [0.6666666666666666, \"#ed7953\"], [0.7777777777777778, \"#fb9f3a\"], [0.8888888888888888, \"#fdca26\"], [1.0, \"#f0f921\"]], \"type\": \"histogram2dcontour\"}], \"mesh3d\": [{\"colorbar\": {\"outlinewidth\": 0, \"ticks\": \"\"}, \"type\": \"mesh3d\"}], \"parcoords\": [{\"line\": {\"colorbar\": {\"outlinewidth\": 0, \"ticks\": \"\"}}, \"type\": \"parcoords\"}], \"pie\": [{\"automargin\": true, \"type\": \"pie\"}], \"scatter\": [{\"marker\": {\"colorbar\": {\"outlinewidth\": 0, \"ticks\": \"\"}}, \"type\": \"scatter\"}], \"scatter3d\": [{\"line\": {\"colorbar\": {\"outlinewidth\": 0, \"ticks\": \"\"}}, \"marker\": {\"colorbar\": {\"outlinewidth\": 0, \"ticks\": \"\"}}, \"type\": \"scatter3d\"}], \"scattercarpet\": [{\"marker\": {\"colorbar\": {\"outlinewidth\": 0, \"ticks\": \"\"}}, \"type\": \"scattercarpet\"}], \"scattergeo\": [{\"marker\": {\"colorbar\": {\"outlinewidth\": 0, \"ticks\": \"\"}}, \"type\": \"scattergeo\"}], \"scattergl\": [{\"marker\": {\"colorbar\": {\"outlinewidth\": 0, \"ticks\": \"\"}}, \"type\": \"scattergl\"}], \"scattermapbox\": [{\"marker\": {\"colorbar\": {\"outlinewidth\": 0, \"ticks\": \"\"}}, \"type\": \"scattermapbox\"}], \"scatterpolar\": [{\"marker\": {\"colorbar\": {\"outlinewidth\": 0, \"ticks\": \"\"}}, \"type\": \"scatterpolar\"}], \"scatterpolargl\": [{\"marker\": {\"colorbar\": {\"outlinewidth\": 0, \"ticks\": \"\"}}, \"type\": \"scatterpolargl\"}], \"scatterternary\": [{\"marker\": {\"colorbar\": {\"outlinewidth\": 0, \"ticks\": \"\"}}, \"type\": \"scatterternary\"}], \"surface\": [{\"colorbar\": {\"outlinewidth\": 0, \"ticks\": \"\"}, \"colorscale\": [[0.0, \"#0d0887\"], [0.1111111111111111, \"#46039f\"], [0.2222222222222222, \"#7201a8\"], [0.3333333333333333, \"#9c179e\"], [0.4444444444444444, \"#bd3786\"], [0.5555555555555556, \"#d8576b\"], [0.6666666666666666, \"#ed7953\"], [0.7777777777777778, \"#fb9f3a\"], [0.8888888888888888, \"#fdca26\"], [1.0, \"#f0f921\"]], \"type\": \"surface\"}], \"table\": [{\"cells\": {\"fill\": {\"color\": \"#EBF0F8\"}, \"line\": {\"color\": \"white\"}}, \"header\": {\"fill\": {\"color\": \"#C8D4E3\"}, \"line\": {\"color\": \"white\"}}, \"type\": \"table\"}]}, \"layout\": {\"annotationdefaults\": {\"arrowcolor\": \"#2a3f5f\", \"arrowhead\": 0, \"arrowwidth\": 1}, \"autotypenumbers\": \"strict\", \"coloraxis\": {\"colorbar\": {\"outlinewidth\": 0, \"ticks\": \"\"}}, \"colorscale\": {\"diverging\": [[0, \"#8e0152\"], [0.1, \"#c51b7d\"], [0.2, \"#de77ae\"], [0.3, \"#f1b6da\"], [0.4, \"#fde0ef\"], [0.5, \"#f7f7f7\"], [0.6, \"#e6f5d0\"], [0.7, \"#b8e186\"], [0.8, \"#7fbc41\"], [0.9, \"#4d9221\"], [1, \"#276419\"]], \"sequential\": [[0.0, \"#0d0887\"], [0.1111111111111111, \"#46039f\"], [0.2222222222222222, \"#7201a8\"], [0.3333333333333333, \"#9c179e\"], [0.4444444444444444, \"#bd3786\"], [0.5555555555555556, \"#d8576b\"], [0.6666666666666666, \"#ed7953\"], [0.7777777777777778, \"#fb9f3a\"], [0.8888888888888888, \"#fdca26\"], [1.0, \"#f0f921\"]], \"sequentialminus\": [[0.0, \"#0d0887\"], [0.1111111111111111, \"#46039f\"], [0.2222222222222222, \"#7201a8\"], [0.3333333333333333, \"#9c179e\"], [0.4444444444444444, \"#bd3786\"], [0.5555555555555556, \"#d8576b\"], [0.6666666666666666, \"#ed7953\"], [0.7777777777777778, \"#fb9f3a\"], [0.8888888888888888, \"#fdca26\"], [1.0, \"#f0f921\"]]}, \"colorway\": [\"#636efa\", \"#EF553B\", \"#00cc96\", \"#ab63fa\", \"#FFA15A\", \"#19d3f3\", \"#FF6692\", \"#B6E880\", \"#FF97FF\", \"#FECB52\"], \"font\": {\"color\": \"#2a3f5f\"}, \"geo\": {\"bgcolor\": \"white\", \"lakecolor\": \"white\", \"landcolor\": \"#E5ECF6\", \"showlakes\": true, \"showland\": true, \"subunitcolor\": \"white\"}, \"hoverlabel\": {\"align\": \"left\"}, \"hovermode\": \"closest\", \"mapbox\": {\"style\": \"light\"}, \"paper_bgcolor\": \"white\", \"plot_bgcolor\": \"#E5ECF6\", \"polar\": {\"angularaxis\": {\"gridcolor\": \"white\", \"linecolor\": \"white\", \"ticks\": \"\"}, \"bgcolor\": \"#E5ECF6\", \"radialaxis\": {\"gridcolor\": \"white\", \"linecolor\": \"white\", \"ticks\": \"\"}}, \"scene\": {\"xaxis\": {\"backgroundcolor\": \"#E5ECF6\", \"gridcolor\": \"white\", \"gridwidth\": 2, \"linecolor\": \"white\", \"showbackground\": true, \"ticks\": \"\", \"zerolinecolor\": \"white\"}, \"yaxis\": {\"backgroundcolor\": \"#E5ECF6\", \"gridcolor\": \"white\", \"gridwidth\": 2, \"linecolor\": \"white\", \"showbackground\": true, \"ticks\": \"\", \"zerolinecolor\": \"white\"}, \"zaxis\": {\"backgroundcolor\": \"#E5ECF6\", \"gridcolor\": \"white\", \"gridwidth\": 2, \"linecolor\": \"white\", \"showbackground\": true, \"ticks\": \"\", \"zerolinecolor\": \"white\"}}, \"shapedefaults\": {\"line\": {\"color\": \"#2a3f5f\"}}, \"ternary\": {\"aaxis\": {\"gridcolor\": \"white\", \"linecolor\": \"white\", \"ticks\": \"\"}, \"baxis\": {\"gridcolor\": \"white\", \"linecolor\": \"white\", \"ticks\": \"\"}, \"bgcolor\": \"#E5ECF6\", \"caxis\": {\"gridcolor\": \"white\", \"linecolor\": \"white\", \"ticks\": \"\"}}, \"title\": {\"x\": 0.05}, \"xaxis\": {\"automargin\": true, \"gridcolor\": \"white\", \"linecolor\": \"white\", \"ticks\": \"\", \"title\": {\"standoff\": 15}, \"zerolinecolor\": \"white\", \"zerolinewidth\": 2}, \"yaxis\": {\"automargin\": true, \"gridcolor\": \"white\", \"linecolor\": \"white\", \"ticks\": \"\", \"title\": {\"standoff\": 15}, \"zerolinecolor\": \"white\", \"zerolinewidth\": 2}}}, \"title\": {\"font\": {\"color\": \"#4D5663\"}}, \"xaxis\": {\"gridcolor\": \"#E1E5ED\", \"showgrid\": true, \"tickfont\": {\"color\": \"#4D5663\"}, \"title\": {\"font\": {\"color\": \"#4D5663\"}, \"text\": \"\"}, \"zerolinecolor\": \"#E1E5ED\"}, \"xaxis2\": {\"anchor\": \"y2\", \"gridcolor\": \"#E1E5ED\", \"showgrid\": true, \"showticklabels\": false, \"tickfont\": {\"color\": \"#4D5663\"}, \"title\": {\"font\": {\"color\": \"#4D5663\"}, \"text\": \"\"}, \"zerolinecolor\": \"#E1E5ED\"}, \"yaxis\": {\"domain\": [0.3, 1], \"gridcolor\": \"#E1E5ED\", \"showgrid\": true, \"tickfont\": {\"color\": \"#4D5663\"}, \"title\": {\"font\": {\"color\": \"#4D5663\"}, \"text\": \"\"}, \"zerolinecolor\": \"#E1E5ED\"}, \"yaxis2\": {\"domain\": [0, 0.25], \"gridcolor\": \"#E1E5ED\", \"showgrid\": true, \"tickfont\": {\"color\": \"#4D5663\"}, \"title\": {\"font\": {\"color\": \"#4D5663\"}, \"text\": \"Spread\"}, \"zerolinecolor\": \"#E1E5ED\"}},                        {\"showLink\": true, \"linkText\": \"Export to plot.ly\", \"plotlyServerURL\": \"https://plot.ly\", \"responsive\": true}                    ).then(function(){\n                            \nvar gd = document.getElementById('52177ea2-6117-4844-9791-ca8bfadc344a');\nvar x = new MutationObserver(function (mutations, observer) {{\n        var display = window.getComputedStyle(gd).display;\n        if (!display || display === 'none') {{\n            console.log([gd, 'removed!']);\n            Plotly.purge(gd);\n            observer.disconnect();\n        }}\n}});\n\n// Listen for the removal of the full notebook cells\nvar notebookContainer = gd.closest('#notebook-container');\nif (notebookContainer) {{\n    x.observe(notebookContainer, {childList: true});\n}}\n\n// Listen for the clearing of the current output cell\nvar outputEl = gd.closest('.output');\nif (outputEl) {{\n    x.observe(outputEl, {childList: true});\n}}\n\n                        })                };                });            </script>        </div>"
     },
     "metadata": {}
    }
   ],
   "source": [
    "#spread - for stock data\n",
    "df[['A','B']].iplot(kind='spread')"
   ]
  },
  {
   "cell_type": "code",
   "execution_count": 33,
   "metadata": {},
   "outputs": [
    {
     "output_type": "display_data",
     "data": {
      "application/vnd.plotly.v1+json": {
       "config": {
        "linkText": "Export to plot.ly",
        "plotlyServerURL": "https://plot.ly",
        "showLink": true
       },
       "data": [
        {
         "marker": {
          "color": [
           "rgb(255, 153, 51)",
           "rgb(55, 128, 191)",
           "rgb(50, 171, 96)",
           "rgb(128, 0, 128)",
           "rgb(219, 64, 82)",
           "rgb(0, 128, 128)",
           "rgb(255, 255, 51)",
           "rgb(128, 128, 0)",
           "rgb(251, 128, 114)",
           "rgb(128, 177, 211)"
          ],
          "line": {
           "width": 1.3
          },
          "size": [
           83,
           98,
           61,
           88,
           91,
           23,
           83,
           31,
           97,
           90,
           76,
           77,
           28,
           29,
           24,
           71,
           103,
           39,
           90,
           98,
           46,
           26,
           68,
           100,
           83,
           52,
           84,
           80,
           98,
           105,
           86,
           62,
           81,
           95,
           71,
           73,
           95,
           84,
           71,
           43,
           79,
           96,
           99,
           57,
           78,
           68,
           59,
           99,
           87,
           53,
           51,
           106,
           75,
           91,
           97,
           59,
           62,
           27,
           94,
           39,
           59,
           51,
           85,
           78,
           74,
           52,
           64,
           58,
           51,
           74,
           60,
           55,
           65,
           80,
           112,
           12,
           84,
           15,
           77,
           64,
           42,
           54,
           98,
           74,
           52,
           51,
           71,
           55,
           65,
           58,
           88,
           91,
           89,
           47,
           54,
           22,
           64,
           56,
           57,
           85
          ],
          "symbol": "circle"
         },
         "mode": "markers",
         "text": "",
         "type": "scatter",
         "x": [
          -0.6156103919659448,
          -1.2624860845503696,
          -0.31140802116504096,
          0.2453469781558024,
          -0.3047427693778525,
          -0.1938769133025758,
          -0.3390513924431758,
          1.5495224843356186,
          -0.9836369725502156,
          -0.23562461797605772,
          0.8067929267569461,
          -0.8477493448990581,
          0.9278122312968577,
          1.323246341063781,
          -0.2036066511292313,
          -0.2821092872358227,
          -2.0965504522807996,
          1.33263460863893,
          -0.8730062749442947,
          -0.21777344944000587,
          -0.7372035421095716,
          -0.5744972691712578,
          0.9076625671382935,
          0.7610440414048033,
          -0.6461292555889644,
          -0.5900878597608552,
          1.725652171536661,
          1.0162788202334525,
          1.8210673215211053,
          0.6325470352743859,
          -1.0947329579554326,
          1.9517195306102926,
          0.23967706103861106,
          0.965985394546088,
          0.15852368966232788,
          0.10870123815921616,
          0.14696594995146783,
          -0.6020170814752861,
          -2.1988768505562195,
          0.4167024137898031,
          2.0543280192487425,
          -1.106173738405013,
          -1.4573434546316546,
          0.21509295230433023,
          -0.44006889224274537,
          0.9157524357694234,
          1.4829297270755881,
          0.20167127512276564,
          0.017180432551903796,
          -0.004031698138674777,
          -0.561990871613196,
          0.3665113985199989,
          1.8845422828466643,
          -0.0603826347550325,
          -1.8269870205652525,
          -0.5075171173939871,
          -0.38711492763209043,
          -2.114692791920225,
          -0.4372265767085458,
          1.2637474277480985,
          0.3496605779891636,
          1.5684009658161446,
          -1.387050190351923,
          0.44359355184557536,
          -0.28779903043026983,
          1.761926219230782,
          -0.03866072911630973,
          1.1281185715490418,
          -2.4951156025924455,
          1.246697677841596,
          -0.19662280856266776,
          -0.03727954581444563,
          0.552292854080817,
          -1.0569325305393944,
          -0.7545348399599937,
          -1.0808953664893906,
          0.2540993659207464,
          0.5077451846314007,
          -0.5938907220819517,
          -0.06990720893502703,
          0.4817857768495659,
          -0.356625977429201,
          -1.1256492380989043,
          0.6142444292828942,
          0.3101873680935744,
          -0.1354708868849027,
          -1.4143634705188226,
          1.590700092082429,
          1.0084567254873549,
          1.0017931015713446,
          2.7545084278062935,
          -1.8652271395589703,
          0.5462421071405258,
          0.21098818368871608,
          -0.21871249152835495,
          -1.0852307654587072,
          0.13725541941488004,
          1.0061247528761237,
          -0.21212535267469518,
          0.30066372306610023
         ],
         "y": [
          -1.5157844764829644,
          -0.41217303880693795,
          -0.885537620161897,
          -1.0825116625246325,
          -0.7711514620169873,
          0.11336586975555087,
          -2.037793252704692,
          -1.2431066908082695,
          0.2279630985577041,
          2.285122016115169,
          0.5686612058338246,
          -0.11289094249910886,
          1.0871791334388332,
          -0.9264607664001572,
          -0.23203245030153488,
          1.1978636491657273,
          -1.61049921813411,
          1.0186671150406723,
          -0.830410126643706,
          0.061010127179468195,
          -1.4428710111153462,
          -0.34703951558236673,
          -0.8004712699568765,
          0.9872486636646743,
          -0.11052583039513393,
          -0.521753599429375,
          0.9180609357590939,
          -0.4706314498351323,
          0.1593530936906216,
          -0.34439821179737523,
          0.1260929261261622,
          0.9014891700796437,
          -1.9086325343793984,
          1.3265100906787224,
          -1.016469774207095,
          -1.0075664358751315,
          0.824356905600885,
          0.27100187084226507,
          -2.0531910720757085,
          -0.33096840295790547,
          0.3104043378222117,
          0.3201279405565035,
          0.07138643572302857,
          0.36793695566802753,
          -0.8340584965818486,
          -0.19109136807731775,
          -0.41489317936293635,
          -1.5901195793905352,
          -0.41860282360146844,
          0.25727166901744886,
          1.186585290154861,
          0.01147437217925689,
          1.0938515937475013,
          0.6426173415422843,
          0.7645076934816141,
          1.9665927990300778,
          0.30811626021854516,
          -0.7566852826738959,
          -0.12094518765003719,
          -1.9596422320177858,
          0.3681245349734719,
          -0.45465319992726677,
          1.2866713239735286,
          2.460441459850995,
          1.8473126657480798,
          -0.27141805317652684,
          0.786702020671586,
          0.8539164822407052,
          0.13463426584909585,
          0.4286809506123593,
          -0.16831506587421277,
          -1.0353675736388193,
          1.5391927362068332,
          -0.9642384943504239,
          0.5520580360748376,
          -0.3906983426248046,
          0.32788841514508926,
          -0.8049645750137246,
          -0.2253179772183928,
          -1.5939395645671797,
          -0.5391366490474503,
          0.8104225248406977,
          -0.2493880163743225,
          -0.5634556674177098,
          0.31052738807329744,
          -0.07547020223629892,
          0.39694849620435846,
          -2.307601399367974,
          0.4690059427284225,
          0.36897684664490976,
          -0.38369728493884553,
          0.7383755977764519,
          1.0832043639985331,
          -1.3832746089444825,
          -0.5836772744395085,
          0.8363588903108603,
          0.024321542018380275,
          0.42848927597760655,
          0.04794678043158683,
          0.7961084702479705
         ]
        }
       ],
       "layout": {
        "legend": {
         "bgcolor": "#F5F6F9",
         "font": {
          "color": "#4D5663"
         }
        },
        "paper_bgcolor": "#F5F6F9",
        "plot_bgcolor": "#F5F6F9",
        "template": {
         "data": {
          "bar": [
           {
            "error_x": {
             "color": "#2a3f5f"
            },
            "error_y": {
             "color": "#2a3f5f"
            },
            "marker": {
             "line": {
              "color": "#E5ECF6",
              "width": 0.5
             }
            },
            "type": "bar"
           }
          ],
          "barpolar": [
           {
            "marker": {
             "line": {
              "color": "#E5ECF6",
              "width": 0.5
             }
            },
            "type": "barpolar"
           }
          ],
          "carpet": [
           {
            "aaxis": {
             "endlinecolor": "#2a3f5f",
             "gridcolor": "white",
             "linecolor": "white",
             "minorgridcolor": "white",
             "startlinecolor": "#2a3f5f"
            },
            "baxis": {
             "endlinecolor": "#2a3f5f",
             "gridcolor": "white",
             "linecolor": "white",
             "minorgridcolor": "white",
             "startlinecolor": "#2a3f5f"
            },
            "type": "carpet"
           }
          ],
          "choropleth": [
           {
            "colorbar": {
             "outlinewidth": 0,
             "ticks": ""
            },
            "type": "choropleth"
           }
          ],
          "contour": [
           {
            "colorbar": {
             "outlinewidth": 0,
             "ticks": ""
            },
            "colorscale": [
             [
              0,
              "#0d0887"
             ],
             [
              0.1111111111111111,
              "#46039f"
             ],
             [
              0.2222222222222222,
              "#7201a8"
             ],
             [
              0.3333333333333333,
              "#9c179e"
             ],
             [
              0.4444444444444444,
              "#bd3786"
             ],
             [
              0.5555555555555556,
              "#d8576b"
             ],
             [
              0.6666666666666666,
              "#ed7953"
             ],
             [
              0.7777777777777778,
              "#fb9f3a"
             ],
             [
              0.8888888888888888,
              "#fdca26"
             ],
             [
              1,
              "#f0f921"
             ]
            ],
            "type": "contour"
           }
          ],
          "contourcarpet": [
           {
            "colorbar": {
             "outlinewidth": 0,
             "ticks": ""
            },
            "type": "contourcarpet"
           }
          ],
          "heatmap": [
           {
            "colorbar": {
             "outlinewidth": 0,
             "ticks": ""
            },
            "colorscale": [
             [
              0,
              "#0d0887"
             ],
             [
              0.1111111111111111,
              "#46039f"
             ],
             [
              0.2222222222222222,
              "#7201a8"
             ],
             [
              0.3333333333333333,
              "#9c179e"
             ],
             [
              0.4444444444444444,
              "#bd3786"
             ],
             [
              0.5555555555555556,
              "#d8576b"
             ],
             [
              0.6666666666666666,
              "#ed7953"
             ],
             [
              0.7777777777777778,
              "#fb9f3a"
             ],
             [
              0.8888888888888888,
              "#fdca26"
             ],
             [
              1,
              "#f0f921"
             ]
            ],
            "type": "heatmap"
           }
          ],
          "heatmapgl": [
           {
            "colorbar": {
             "outlinewidth": 0,
             "ticks": ""
            },
            "colorscale": [
             [
              0,
              "#0d0887"
             ],
             [
              0.1111111111111111,
              "#46039f"
             ],
             [
              0.2222222222222222,
              "#7201a8"
             ],
             [
              0.3333333333333333,
              "#9c179e"
             ],
             [
              0.4444444444444444,
              "#bd3786"
             ],
             [
              0.5555555555555556,
              "#d8576b"
             ],
             [
              0.6666666666666666,
              "#ed7953"
             ],
             [
              0.7777777777777778,
              "#fb9f3a"
             ],
             [
              0.8888888888888888,
              "#fdca26"
             ],
             [
              1,
              "#f0f921"
             ]
            ],
            "type": "heatmapgl"
           }
          ],
          "histogram": [
           {
            "marker": {
             "colorbar": {
              "outlinewidth": 0,
              "ticks": ""
             }
            },
            "type": "histogram"
           }
          ],
          "histogram2d": [
           {
            "colorbar": {
             "outlinewidth": 0,
             "ticks": ""
            },
            "colorscale": [
             [
              0,
              "#0d0887"
             ],
             [
              0.1111111111111111,
              "#46039f"
             ],
             [
              0.2222222222222222,
              "#7201a8"
             ],
             [
              0.3333333333333333,
              "#9c179e"
             ],
             [
              0.4444444444444444,
              "#bd3786"
             ],
             [
              0.5555555555555556,
              "#d8576b"
             ],
             [
              0.6666666666666666,
              "#ed7953"
             ],
             [
              0.7777777777777778,
              "#fb9f3a"
             ],
             [
              0.8888888888888888,
              "#fdca26"
             ],
             [
              1,
              "#f0f921"
             ]
            ],
            "type": "histogram2d"
           }
          ],
          "histogram2dcontour": [
           {
            "colorbar": {
             "outlinewidth": 0,
             "ticks": ""
            },
            "colorscale": [
             [
              0,
              "#0d0887"
             ],
             [
              0.1111111111111111,
              "#46039f"
             ],
             [
              0.2222222222222222,
              "#7201a8"
             ],
             [
              0.3333333333333333,
              "#9c179e"
             ],
             [
              0.4444444444444444,
              "#bd3786"
             ],
             [
              0.5555555555555556,
              "#d8576b"
             ],
             [
              0.6666666666666666,
              "#ed7953"
             ],
             [
              0.7777777777777778,
              "#fb9f3a"
             ],
             [
              0.8888888888888888,
              "#fdca26"
             ],
             [
              1,
              "#f0f921"
             ]
            ],
            "type": "histogram2dcontour"
           }
          ],
          "mesh3d": [
           {
            "colorbar": {
             "outlinewidth": 0,
             "ticks": ""
            },
            "type": "mesh3d"
           }
          ],
          "parcoords": [
           {
            "line": {
             "colorbar": {
              "outlinewidth": 0,
              "ticks": ""
             }
            },
            "type": "parcoords"
           }
          ],
          "pie": [
           {
            "automargin": true,
            "type": "pie"
           }
          ],
          "scatter": [
           {
            "marker": {
             "colorbar": {
              "outlinewidth": 0,
              "ticks": ""
             }
            },
            "type": "scatter"
           }
          ],
          "scatter3d": [
           {
            "line": {
             "colorbar": {
              "outlinewidth": 0,
              "ticks": ""
             }
            },
            "marker": {
             "colorbar": {
              "outlinewidth": 0,
              "ticks": ""
             }
            },
            "type": "scatter3d"
           }
          ],
          "scattercarpet": [
           {
            "marker": {
             "colorbar": {
              "outlinewidth": 0,
              "ticks": ""
             }
            },
            "type": "scattercarpet"
           }
          ],
          "scattergeo": [
           {
            "marker": {
             "colorbar": {
              "outlinewidth": 0,
              "ticks": ""
             }
            },
            "type": "scattergeo"
           }
          ],
          "scattergl": [
           {
            "marker": {
             "colorbar": {
              "outlinewidth": 0,
              "ticks": ""
             }
            },
            "type": "scattergl"
           }
          ],
          "scattermapbox": [
           {
            "marker": {
             "colorbar": {
              "outlinewidth": 0,
              "ticks": ""
             }
            },
            "type": "scattermapbox"
           }
          ],
          "scatterpolar": [
           {
            "marker": {
             "colorbar": {
              "outlinewidth": 0,
              "ticks": ""
             }
            },
            "type": "scatterpolar"
           }
          ],
          "scatterpolargl": [
           {
            "marker": {
             "colorbar": {
              "outlinewidth": 0,
              "ticks": ""
             }
            },
            "type": "scatterpolargl"
           }
          ],
          "scatterternary": [
           {
            "marker": {
             "colorbar": {
              "outlinewidth": 0,
              "ticks": ""
             }
            },
            "type": "scatterternary"
           }
          ],
          "surface": [
           {
            "colorbar": {
             "outlinewidth": 0,
             "ticks": ""
            },
            "colorscale": [
             [
              0,
              "#0d0887"
             ],
             [
              0.1111111111111111,
              "#46039f"
             ],
             [
              0.2222222222222222,
              "#7201a8"
             ],
             [
              0.3333333333333333,
              "#9c179e"
             ],
             [
              0.4444444444444444,
              "#bd3786"
             ],
             [
              0.5555555555555556,
              "#d8576b"
             ],
             [
              0.6666666666666666,
              "#ed7953"
             ],
             [
              0.7777777777777778,
              "#fb9f3a"
             ],
             [
              0.8888888888888888,
              "#fdca26"
             ],
             [
              1,
              "#f0f921"
             ]
            ],
            "type": "surface"
           }
          ],
          "table": [
           {
            "cells": {
             "fill": {
              "color": "#EBF0F8"
             },
             "line": {
              "color": "white"
             }
            },
            "header": {
             "fill": {
              "color": "#C8D4E3"
             },
             "line": {
              "color": "white"
             }
            },
            "type": "table"
           }
          ]
         },
         "layout": {
          "annotationdefaults": {
           "arrowcolor": "#2a3f5f",
           "arrowhead": 0,
           "arrowwidth": 1
          },
          "autotypenumbers": "strict",
          "coloraxis": {
           "colorbar": {
            "outlinewidth": 0,
            "ticks": ""
           }
          },
          "colorscale": {
           "diverging": [
            [
             0,
             "#8e0152"
            ],
            [
             0.1,
             "#c51b7d"
            ],
            [
             0.2,
             "#de77ae"
            ],
            [
             0.3,
             "#f1b6da"
            ],
            [
             0.4,
             "#fde0ef"
            ],
            [
             0.5,
             "#f7f7f7"
            ],
            [
             0.6,
             "#e6f5d0"
            ],
            [
             0.7,
             "#b8e186"
            ],
            [
             0.8,
             "#7fbc41"
            ],
            [
             0.9,
             "#4d9221"
            ],
            [
             1,
             "#276419"
            ]
           ],
           "sequential": [
            [
             0,
             "#0d0887"
            ],
            [
             0.1111111111111111,
             "#46039f"
            ],
            [
             0.2222222222222222,
             "#7201a8"
            ],
            [
             0.3333333333333333,
             "#9c179e"
            ],
            [
             0.4444444444444444,
             "#bd3786"
            ],
            [
             0.5555555555555556,
             "#d8576b"
            ],
            [
             0.6666666666666666,
             "#ed7953"
            ],
            [
             0.7777777777777778,
             "#fb9f3a"
            ],
            [
             0.8888888888888888,
             "#fdca26"
            ],
            [
             1,
             "#f0f921"
            ]
           ],
           "sequentialminus": [
            [
             0,
             "#0d0887"
            ],
            [
             0.1111111111111111,
             "#46039f"
            ],
            [
             0.2222222222222222,
             "#7201a8"
            ],
            [
             0.3333333333333333,
             "#9c179e"
            ],
            [
             0.4444444444444444,
             "#bd3786"
            ],
            [
             0.5555555555555556,
             "#d8576b"
            ],
            [
             0.6666666666666666,
             "#ed7953"
            ],
            [
             0.7777777777777778,
             "#fb9f3a"
            ],
            [
             0.8888888888888888,
             "#fdca26"
            ],
            [
             1,
             "#f0f921"
            ]
           ]
          },
          "colorway": [
           "#636efa",
           "#EF553B",
           "#00cc96",
           "#ab63fa",
           "#FFA15A",
           "#19d3f3",
           "#FF6692",
           "#B6E880",
           "#FF97FF",
           "#FECB52"
          ],
          "font": {
           "color": "#2a3f5f"
          },
          "geo": {
           "bgcolor": "white",
           "lakecolor": "white",
           "landcolor": "#E5ECF6",
           "showlakes": true,
           "showland": true,
           "subunitcolor": "white"
          },
          "hoverlabel": {
           "align": "left"
          },
          "hovermode": "closest",
          "mapbox": {
           "style": "light"
          },
          "paper_bgcolor": "white",
          "plot_bgcolor": "#E5ECF6",
          "polar": {
           "angularaxis": {
            "gridcolor": "white",
            "linecolor": "white",
            "ticks": ""
           },
           "bgcolor": "#E5ECF6",
           "radialaxis": {
            "gridcolor": "white",
            "linecolor": "white",
            "ticks": ""
           }
          },
          "scene": {
           "xaxis": {
            "backgroundcolor": "#E5ECF6",
            "gridcolor": "white",
            "gridwidth": 2,
            "linecolor": "white",
            "showbackground": true,
            "ticks": "",
            "zerolinecolor": "white"
           },
           "yaxis": {
            "backgroundcolor": "#E5ECF6",
            "gridcolor": "white",
            "gridwidth": 2,
            "linecolor": "white",
            "showbackground": true,
            "ticks": "",
            "zerolinecolor": "white"
           },
           "zaxis": {
            "backgroundcolor": "#E5ECF6",
            "gridcolor": "white",
            "gridwidth": 2,
            "linecolor": "white",
            "showbackground": true,
            "ticks": "",
            "zerolinecolor": "white"
           }
          },
          "shapedefaults": {
           "line": {
            "color": "#2a3f5f"
           }
          },
          "ternary": {
           "aaxis": {
            "gridcolor": "white",
            "linecolor": "white",
            "ticks": ""
           },
           "baxis": {
            "gridcolor": "white",
            "linecolor": "white",
            "ticks": ""
           },
           "bgcolor": "#E5ECF6",
           "caxis": {
            "gridcolor": "white",
            "linecolor": "white",
            "ticks": ""
           }
          },
          "title": {
           "x": 0.05
          },
          "xaxis": {
           "automargin": true,
           "gridcolor": "white",
           "linecolor": "white",
           "ticks": "",
           "title": {
            "standoff": 15
           },
           "zerolinecolor": "white",
           "zerolinewidth": 2
          },
          "yaxis": {
           "automargin": true,
           "gridcolor": "white",
           "linecolor": "white",
           "ticks": "",
           "title": {
            "standoff": 15
           },
           "zerolinecolor": "white",
           "zerolinewidth": 2
          }
         }
        },
        "title": {
         "font": {
          "color": "#4D5663"
         }
        },
        "xaxis": {
         "gridcolor": "#E1E5ED",
         "showgrid": true,
         "tickfont": {
          "color": "#4D5663"
         },
         "title": {
          "font": {
           "color": "#4D5663"
          },
          "text": ""
         },
         "zerolinecolor": "#E1E5ED"
        },
        "yaxis": {
         "gridcolor": "#E1E5ED",
         "showgrid": true,
         "tickfont": {
          "color": "#4D5663"
         },
         "title": {
          "font": {
           "color": "#4D5663"
          },
          "text": ""
         },
         "zerolinecolor": "#E1E5ED"
        }
       }
      },
      "text/html": "<div>                            <div id=\"d9cbdf5e-8399-4636-aa61-d697596d923d\" class=\"plotly-graph-div\" style=\"height:525px; width:100%;\"></div>            <script type=\"text/javascript\">                require([\"plotly\"], function(Plotly) {                    window.PLOTLYENV=window.PLOTLYENV || {};\n                    window.PLOTLYENV.BASE_URL='https://plot.ly';                                    if (document.getElementById(\"d9cbdf5e-8399-4636-aa61-d697596d923d\")) {                    Plotly.newPlot(                        \"d9cbdf5e-8399-4636-aa61-d697596d923d\",                        [{\"marker\": {\"color\": [\"rgb(255, 153, 51)\", \"rgb(55, 128, 191)\", \"rgb(50, 171, 96)\", \"rgb(128, 0, 128)\", \"rgb(219, 64, 82)\", \"rgb(0, 128, 128)\", \"rgb(255, 255, 51)\", \"rgb(128, 128, 0)\", \"rgb(251, 128, 114)\", \"rgb(128, 177, 211)\"], \"line\": {\"width\": 1.3}, \"size\": [83, 98, 61, 88, 91, 23, 83, 31, 97, 90, 76, 77, 28, 29, 24, 71, 103, 39, 90, 98, 46, 26, 68, 100, 83, 52, 84, 80, 98, 105, 86, 62, 81, 95, 71, 73, 95, 84, 71, 43, 79, 96, 99, 57, 78, 68, 59, 99, 87, 53, 51, 106, 75, 91, 97, 59, 62, 27, 94, 39, 59, 51, 85, 78, 74, 52, 64, 58, 51, 74, 60, 55, 65, 80, 112, 12, 84, 15, 77, 64, 42, 54, 98, 74, 52, 51, 71, 55, 65, 58, 88, 91, 89, 47, 54, 22, 64, 56, 57, 85], \"symbol\": \"circle\"}, \"mode\": \"markers\", \"text\": \"\", \"type\": \"scatter\", \"x\": [-0.6156103919659448, -1.2624860845503696, -0.31140802116504096, 0.2453469781558024, -0.3047427693778525, -0.1938769133025758, -0.3390513924431758, 1.5495224843356186, -0.9836369725502156, -0.23562461797605772, 0.8067929267569461, -0.8477493448990581, 0.9278122312968577, 1.323246341063781, -0.2036066511292313, -0.2821092872358227, -2.0965504522807996, 1.33263460863893, -0.8730062749442947, -0.21777344944000587, -0.7372035421095716, -0.5744972691712578, 0.9076625671382935, 0.7610440414048033, -0.6461292555889644, -0.5900878597608552, 1.725652171536661, 1.0162788202334525, 1.8210673215211053, 0.6325470352743859, -1.0947329579554326, 1.9517195306102926, 0.23967706103861106, 0.965985394546088, 0.15852368966232788, 0.10870123815921616, 0.14696594995146783, -0.6020170814752861, -2.1988768505562195, 0.4167024137898031, 2.0543280192487425, -1.106173738405013, -1.4573434546316546, 0.21509295230433023, -0.44006889224274537, 0.9157524357694234, 1.4829297270755881, 0.20167127512276564, 0.017180432551903796, -0.004031698138674777, -0.561990871613196, 0.3665113985199989, 1.8845422828466643, -0.0603826347550325, -1.8269870205652525, -0.5075171173939871, -0.38711492763209043, -2.114692791920225, -0.4372265767085458, 1.2637474277480985, 0.3496605779891636, 1.5684009658161446, -1.387050190351923, 0.44359355184557536, -0.28779903043026983, 1.761926219230782, -0.03866072911630973, 1.1281185715490418, -2.4951156025924455, 1.246697677841596, -0.19662280856266776, -0.03727954581444563, 0.552292854080817, -1.0569325305393944, -0.7545348399599937, -1.0808953664893906, 0.2540993659207464, 0.5077451846314007, -0.5938907220819517, -0.06990720893502703, 0.4817857768495659, -0.356625977429201, -1.1256492380989043, 0.6142444292828942, 0.3101873680935744, -0.1354708868849027, -1.4143634705188226, 1.590700092082429, 1.0084567254873549, 1.0017931015713446, 2.7545084278062935, -1.8652271395589703, 0.5462421071405258, 0.21098818368871608, -0.21871249152835495, -1.0852307654587072, 0.13725541941488004, 1.0061247528761237, -0.21212535267469518, 0.30066372306610023], \"y\": [-1.5157844764829644, -0.41217303880693795, -0.885537620161897, -1.0825116625246325, -0.7711514620169873, 0.11336586975555087, -2.037793252704692, -1.2431066908082695, 0.2279630985577041, 2.285122016115169, 0.5686612058338246, -0.11289094249910886, 1.0871791334388332, -0.9264607664001572, -0.23203245030153488, 1.1978636491657273, -1.61049921813411, 1.0186671150406723, -0.830410126643706, 0.061010127179468195, -1.4428710111153462, -0.34703951558236673, -0.8004712699568765, 0.9872486636646743, -0.11052583039513393, -0.521753599429375, 0.9180609357590939, -0.4706314498351323, 0.1593530936906216, -0.34439821179737523, 0.1260929261261622, 0.9014891700796437, -1.9086325343793984, 1.3265100906787224, -1.016469774207095, -1.0075664358751315, 0.824356905600885, 0.27100187084226507, -2.0531910720757085, -0.33096840295790547, 0.3104043378222117, 0.3201279405565035, 0.07138643572302857, 0.36793695566802753, -0.8340584965818486, -0.19109136807731775, -0.41489317936293635, -1.5901195793905352, -0.41860282360146844, 0.25727166901744886, 1.186585290154861, 0.01147437217925689, 1.0938515937475013, 0.6426173415422843, 0.7645076934816141, 1.9665927990300778, 0.30811626021854516, -0.7566852826738959, -0.12094518765003719, -1.9596422320177858, 0.3681245349734719, -0.45465319992726677, 1.2866713239735286, 2.460441459850995, 1.8473126657480798, -0.27141805317652684, 0.786702020671586, 0.8539164822407052, 0.13463426584909585, 0.4286809506123593, -0.16831506587421277, -1.0353675736388193, 1.5391927362068332, -0.9642384943504239, 0.5520580360748376, -0.3906983426248046, 0.32788841514508926, -0.8049645750137246, -0.2253179772183928, -1.5939395645671797, -0.5391366490474503, 0.8104225248406977, -0.2493880163743225, -0.5634556674177098, 0.31052738807329744, -0.07547020223629892, 0.39694849620435846, -2.307601399367974, 0.4690059427284225, 0.36897684664490976, -0.38369728493884553, 0.7383755977764519, 1.0832043639985331, -1.3832746089444825, -0.5836772744395085, 0.8363588903108603, 0.024321542018380275, 0.42848927597760655, 0.04794678043158683, 0.7961084702479705]}],                        {\"legend\": {\"bgcolor\": \"#F5F6F9\", \"font\": {\"color\": \"#4D5663\"}}, \"paper_bgcolor\": \"#F5F6F9\", \"plot_bgcolor\": \"#F5F6F9\", \"template\": {\"data\": {\"bar\": [{\"error_x\": {\"color\": \"#2a3f5f\"}, \"error_y\": {\"color\": \"#2a3f5f\"}, \"marker\": {\"line\": {\"color\": \"#E5ECF6\", \"width\": 0.5}}, \"type\": \"bar\"}], \"barpolar\": [{\"marker\": {\"line\": {\"color\": \"#E5ECF6\", \"width\": 0.5}}, \"type\": \"barpolar\"}], \"carpet\": [{\"aaxis\": {\"endlinecolor\": \"#2a3f5f\", \"gridcolor\": \"white\", \"linecolor\": \"white\", \"minorgridcolor\": \"white\", \"startlinecolor\": \"#2a3f5f\"}, \"baxis\": {\"endlinecolor\": \"#2a3f5f\", \"gridcolor\": \"white\", \"linecolor\": \"white\", \"minorgridcolor\": \"white\", \"startlinecolor\": \"#2a3f5f\"}, \"type\": \"carpet\"}], \"choropleth\": [{\"colorbar\": {\"outlinewidth\": 0, \"ticks\": \"\"}, \"type\": \"choropleth\"}], \"contour\": [{\"colorbar\": {\"outlinewidth\": 0, \"ticks\": \"\"}, \"colorscale\": [[0.0, \"#0d0887\"], [0.1111111111111111, \"#46039f\"], [0.2222222222222222, \"#7201a8\"], [0.3333333333333333, \"#9c179e\"], [0.4444444444444444, \"#bd3786\"], [0.5555555555555556, \"#d8576b\"], [0.6666666666666666, \"#ed7953\"], [0.7777777777777778, \"#fb9f3a\"], [0.8888888888888888, \"#fdca26\"], [1.0, \"#f0f921\"]], \"type\": \"contour\"}], \"contourcarpet\": [{\"colorbar\": {\"outlinewidth\": 0, \"ticks\": \"\"}, \"type\": \"contourcarpet\"}], \"heatmap\": [{\"colorbar\": {\"outlinewidth\": 0, \"ticks\": \"\"}, \"colorscale\": [[0.0, \"#0d0887\"], [0.1111111111111111, \"#46039f\"], [0.2222222222222222, \"#7201a8\"], [0.3333333333333333, \"#9c179e\"], [0.4444444444444444, \"#bd3786\"], [0.5555555555555556, \"#d8576b\"], [0.6666666666666666, \"#ed7953\"], [0.7777777777777778, \"#fb9f3a\"], [0.8888888888888888, \"#fdca26\"], [1.0, \"#f0f921\"]], \"type\": \"heatmap\"}], \"heatmapgl\": [{\"colorbar\": {\"outlinewidth\": 0, \"ticks\": \"\"}, \"colorscale\": [[0.0, \"#0d0887\"], [0.1111111111111111, \"#46039f\"], [0.2222222222222222, \"#7201a8\"], [0.3333333333333333, \"#9c179e\"], [0.4444444444444444, \"#bd3786\"], [0.5555555555555556, \"#d8576b\"], [0.6666666666666666, \"#ed7953\"], [0.7777777777777778, \"#fb9f3a\"], [0.8888888888888888, \"#fdca26\"], [1.0, \"#f0f921\"]], \"type\": \"heatmapgl\"}], \"histogram\": [{\"marker\": {\"colorbar\": {\"outlinewidth\": 0, \"ticks\": \"\"}}, \"type\": \"histogram\"}], \"histogram2d\": [{\"colorbar\": {\"outlinewidth\": 0, \"ticks\": \"\"}, \"colorscale\": [[0.0, \"#0d0887\"], [0.1111111111111111, \"#46039f\"], [0.2222222222222222, \"#7201a8\"], [0.3333333333333333, \"#9c179e\"], [0.4444444444444444, \"#bd3786\"], [0.5555555555555556, \"#d8576b\"], [0.6666666666666666, \"#ed7953\"], [0.7777777777777778, \"#fb9f3a\"], [0.8888888888888888, \"#fdca26\"], [1.0, \"#f0f921\"]], \"type\": \"histogram2d\"}], \"histogram2dcontour\": [{\"colorbar\": {\"outlinewidth\": 0, \"ticks\": \"\"}, \"colorscale\": [[0.0, \"#0d0887\"], [0.1111111111111111, \"#46039f\"], [0.2222222222222222, \"#7201a8\"], [0.3333333333333333, \"#9c179e\"], [0.4444444444444444, \"#bd3786\"], [0.5555555555555556, \"#d8576b\"], [0.6666666666666666, \"#ed7953\"], [0.7777777777777778, \"#fb9f3a\"], [0.8888888888888888, \"#fdca26\"], [1.0, \"#f0f921\"]], \"type\": \"histogram2dcontour\"}], \"mesh3d\": [{\"colorbar\": {\"outlinewidth\": 0, \"ticks\": \"\"}, \"type\": \"mesh3d\"}], \"parcoords\": [{\"line\": {\"colorbar\": {\"outlinewidth\": 0, \"ticks\": \"\"}}, \"type\": \"parcoords\"}], \"pie\": [{\"automargin\": true, \"type\": \"pie\"}], \"scatter\": [{\"marker\": {\"colorbar\": {\"outlinewidth\": 0, \"ticks\": \"\"}}, \"type\": \"scatter\"}], \"scatter3d\": [{\"line\": {\"colorbar\": {\"outlinewidth\": 0, \"ticks\": \"\"}}, \"marker\": {\"colorbar\": {\"outlinewidth\": 0, \"ticks\": \"\"}}, \"type\": \"scatter3d\"}], \"scattercarpet\": [{\"marker\": {\"colorbar\": {\"outlinewidth\": 0, \"ticks\": \"\"}}, \"type\": \"scattercarpet\"}], \"scattergeo\": [{\"marker\": {\"colorbar\": {\"outlinewidth\": 0, \"ticks\": \"\"}}, \"type\": \"scattergeo\"}], \"scattergl\": [{\"marker\": {\"colorbar\": {\"outlinewidth\": 0, \"ticks\": \"\"}}, \"type\": \"scattergl\"}], \"scattermapbox\": [{\"marker\": {\"colorbar\": {\"outlinewidth\": 0, \"ticks\": \"\"}}, \"type\": \"scattermapbox\"}], \"scatterpolar\": [{\"marker\": {\"colorbar\": {\"outlinewidth\": 0, \"ticks\": \"\"}}, \"type\": \"scatterpolar\"}], \"scatterpolargl\": [{\"marker\": {\"colorbar\": {\"outlinewidth\": 0, \"ticks\": \"\"}}, \"type\": \"scatterpolargl\"}], \"scatterternary\": [{\"marker\": {\"colorbar\": {\"outlinewidth\": 0, \"ticks\": \"\"}}, \"type\": \"scatterternary\"}], \"surface\": [{\"colorbar\": {\"outlinewidth\": 0, \"ticks\": \"\"}, \"colorscale\": [[0.0, \"#0d0887\"], [0.1111111111111111, \"#46039f\"], [0.2222222222222222, \"#7201a8\"], [0.3333333333333333, \"#9c179e\"], [0.4444444444444444, \"#bd3786\"], [0.5555555555555556, \"#d8576b\"], [0.6666666666666666, \"#ed7953\"], [0.7777777777777778, \"#fb9f3a\"], [0.8888888888888888, \"#fdca26\"], [1.0, \"#f0f921\"]], \"type\": \"surface\"}], \"table\": [{\"cells\": {\"fill\": {\"color\": \"#EBF0F8\"}, \"line\": {\"color\": \"white\"}}, \"header\": {\"fill\": {\"color\": \"#C8D4E3\"}, \"line\": {\"color\": \"white\"}}, \"type\": \"table\"}]}, \"layout\": {\"annotationdefaults\": {\"arrowcolor\": \"#2a3f5f\", \"arrowhead\": 0, \"arrowwidth\": 1}, \"autotypenumbers\": \"strict\", \"coloraxis\": {\"colorbar\": {\"outlinewidth\": 0, \"ticks\": \"\"}}, \"colorscale\": {\"diverging\": [[0, \"#8e0152\"], [0.1, \"#c51b7d\"], [0.2, \"#de77ae\"], [0.3, \"#f1b6da\"], [0.4, \"#fde0ef\"], [0.5, \"#f7f7f7\"], [0.6, \"#e6f5d0\"], [0.7, \"#b8e186\"], [0.8, \"#7fbc41\"], [0.9, \"#4d9221\"], [1, \"#276419\"]], \"sequential\": [[0.0, \"#0d0887\"], [0.1111111111111111, \"#46039f\"], [0.2222222222222222, \"#7201a8\"], [0.3333333333333333, \"#9c179e\"], [0.4444444444444444, \"#bd3786\"], [0.5555555555555556, \"#d8576b\"], [0.6666666666666666, \"#ed7953\"], [0.7777777777777778, \"#fb9f3a\"], [0.8888888888888888, \"#fdca26\"], [1.0, \"#f0f921\"]], \"sequentialminus\": [[0.0, \"#0d0887\"], [0.1111111111111111, \"#46039f\"], [0.2222222222222222, \"#7201a8\"], [0.3333333333333333, \"#9c179e\"], [0.4444444444444444, \"#bd3786\"], [0.5555555555555556, \"#d8576b\"], [0.6666666666666666, \"#ed7953\"], [0.7777777777777778, \"#fb9f3a\"], [0.8888888888888888, \"#fdca26\"], [1.0, \"#f0f921\"]]}, \"colorway\": [\"#636efa\", \"#EF553B\", \"#00cc96\", \"#ab63fa\", \"#FFA15A\", \"#19d3f3\", \"#FF6692\", \"#B6E880\", \"#FF97FF\", \"#FECB52\"], \"font\": {\"color\": \"#2a3f5f\"}, \"geo\": {\"bgcolor\": \"white\", \"lakecolor\": \"white\", \"landcolor\": \"#E5ECF6\", \"showlakes\": true, \"showland\": true, \"subunitcolor\": \"white\"}, \"hoverlabel\": {\"align\": \"left\"}, \"hovermode\": \"closest\", \"mapbox\": {\"style\": \"light\"}, \"paper_bgcolor\": \"white\", \"plot_bgcolor\": \"#E5ECF6\", \"polar\": {\"angularaxis\": {\"gridcolor\": \"white\", \"linecolor\": \"white\", \"ticks\": \"\"}, \"bgcolor\": \"#E5ECF6\", \"radialaxis\": {\"gridcolor\": \"white\", \"linecolor\": \"white\", \"ticks\": \"\"}}, \"scene\": {\"xaxis\": {\"backgroundcolor\": \"#E5ECF6\", \"gridcolor\": \"white\", \"gridwidth\": 2, \"linecolor\": \"white\", \"showbackground\": true, \"ticks\": \"\", \"zerolinecolor\": \"white\"}, \"yaxis\": {\"backgroundcolor\": \"#E5ECF6\", \"gridcolor\": \"white\", \"gridwidth\": 2, \"linecolor\": \"white\", \"showbackground\": true, \"ticks\": \"\", \"zerolinecolor\": \"white\"}, \"zaxis\": {\"backgroundcolor\": \"#E5ECF6\", \"gridcolor\": \"white\", \"gridwidth\": 2, \"linecolor\": \"white\", \"showbackground\": true, \"ticks\": \"\", \"zerolinecolor\": \"white\"}}, \"shapedefaults\": {\"line\": {\"color\": \"#2a3f5f\"}}, \"ternary\": {\"aaxis\": {\"gridcolor\": \"white\", \"linecolor\": \"white\", \"ticks\": \"\"}, \"baxis\": {\"gridcolor\": \"white\", \"linecolor\": \"white\", \"ticks\": \"\"}, \"bgcolor\": \"#E5ECF6\", \"caxis\": {\"gridcolor\": \"white\", \"linecolor\": \"white\", \"ticks\": \"\"}}, \"title\": {\"x\": 0.05}, \"xaxis\": {\"automargin\": true, \"gridcolor\": \"white\", \"linecolor\": \"white\", \"ticks\": \"\", \"title\": {\"standoff\": 15}, \"zerolinecolor\": \"white\", \"zerolinewidth\": 2}, \"yaxis\": {\"automargin\": true, \"gridcolor\": \"white\", \"linecolor\": \"white\", \"ticks\": \"\", \"title\": {\"standoff\": 15}, \"zerolinecolor\": \"white\", \"zerolinewidth\": 2}}}, \"title\": {\"font\": {\"color\": \"#4D5663\"}}, \"xaxis\": {\"gridcolor\": \"#E1E5ED\", \"showgrid\": true, \"tickfont\": {\"color\": \"#4D5663\"}, \"title\": {\"font\": {\"color\": \"#4D5663\"}, \"text\": \"\"}, \"zerolinecolor\": \"#E1E5ED\"}, \"yaxis\": {\"gridcolor\": \"#E1E5ED\", \"showgrid\": true, \"tickfont\": {\"color\": \"#4D5663\"}, \"title\": {\"font\": {\"color\": \"#4D5663\"}, \"text\": \"\"}, \"zerolinecolor\": \"#E1E5ED\"}},                        {\"showLink\": true, \"linkText\": \"Export to plot.ly\", \"plotlyServerURL\": \"https://plot.ly\", \"responsive\": true}                    ).then(function(){\n                            \nvar gd = document.getElementById('d9cbdf5e-8399-4636-aa61-d697596d923d');\nvar x = new MutationObserver(function (mutations, observer) {{\n        var display = window.getComputedStyle(gd).display;\n        if (!display || display === 'none') {{\n            console.log([gd, 'removed!']);\n            Plotly.purge(gd);\n            observer.disconnect();\n        }}\n}});\n\n// Listen for the removal of the full notebook cells\nvar notebookContainer = gd.closest('#notebook-container');\nif (notebookContainer) {{\n    x.observe(notebookContainer, {childList: true});\n}}\n\n// Listen for the clearing of the current output cell\nvar outputEl = gd.closest('.output');\nif (outputEl) {{\n    x.observe(outputEl, {childList: true});\n}}\n\n                        })                };                });            </script>        </div>"
     },
     "metadata": {}
    }
   ],
   "source": [
    "#bubble plot - similar to scatter plot, but will change size of points based off of another variable\n",
    "df.iplot(kind='bubble', x='A', y='B', size='C')"
   ]
  },
  {
   "cell_type": "code",
   "execution_count": 35,
   "metadata": {},
   "outputs": [
    {
     "output_type": "display_data",
     "data": {
      "application/vnd.plotly.v1+json": {
       "config": {
        "linkText": "Export to plot.ly",
        "plotlyServerURL": "https://plot.ly",
        "showLink": true
       },
       "data": [
        {
         "histfunc": "count",
         "histnorm": "",
         "marker": {
          "color": "rgba(255, 153, 51, 1.0)",
          "line": {
           "color": "#4D5663",
           "width": 1.3
          }
         },
         "name": "A",
         "nbinsx": 10,
         "opacity": 0.8,
         "orientation": "v",
         "type": "histogram",
         "x": [
          -0.6156103919659448,
          -1.2624860845503696,
          -0.31140802116504096,
          0.2453469781558024,
          -0.3047427693778525,
          -0.1938769133025758,
          -0.3390513924431758,
          1.5495224843356186,
          -0.9836369725502156,
          -0.23562461797605772,
          0.8067929267569461,
          -0.8477493448990581,
          0.9278122312968577,
          1.323246341063781,
          -0.2036066511292313,
          -0.2821092872358227,
          -2.0965504522807996,
          1.33263460863893,
          -0.8730062749442947,
          -0.21777344944000587,
          -0.7372035421095716,
          -0.5744972691712578,
          0.9076625671382935,
          0.7610440414048033,
          -0.6461292555889644,
          -0.5900878597608552,
          1.725652171536661,
          1.0162788202334525,
          1.8210673215211053,
          0.6325470352743859,
          -1.0947329579554326,
          1.9517195306102926,
          0.23967706103861106,
          0.965985394546088,
          0.15852368966232788,
          0.10870123815921616,
          0.14696594995146783,
          -0.6020170814752861,
          -2.1988768505562195,
          0.4167024137898031,
          2.0543280192487425,
          -1.106173738405013,
          -1.4573434546316546,
          0.21509295230433023,
          -0.44006889224274537,
          0.9157524357694234,
          1.4829297270755881,
          0.20167127512276564,
          0.017180432551903796,
          -0.004031698138674777,
          -0.561990871613196,
          0.3665113985199989,
          1.8845422828466643,
          -0.0603826347550325,
          -1.8269870205652525,
          -0.5075171173939871,
          -0.38711492763209043,
          -2.114692791920225,
          -0.4372265767085458,
          1.2637474277480985,
          0.3496605779891636,
          1.5684009658161446,
          -1.387050190351923,
          0.44359355184557536,
          -0.28779903043026983,
          1.761926219230782,
          -0.03866072911630973,
          1.1281185715490418,
          -2.4951156025924455,
          1.246697677841596,
          -0.19662280856266776,
          -0.03727954581444563,
          0.552292854080817,
          -1.0569325305393944,
          -0.7545348399599937,
          -1.0808953664893906,
          0.2540993659207464,
          0.5077451846314007,
          -0.5938907220819517,
          -0.06990720893502703,
          0.4817857768495659,
          -0.356625977429201,
          -1.1256492380989043,
          0.6142444292828942,
          0.3101873680935744,
          -0.1354708868849027,
          -1.4143634705188226,
          1.590700092082429,
          1.0084567254873549,
          1.0017931015713446,
          2.7545084278062935,
          -1.8652271395589703,
          0.5462421071405258,
          0.21098818368871608,
          -0.21871249152835495,
          -1.0852307654587072,
          0.13725541941488004,
          1.0061247528761237,
          -0.21212535267469518,
          0.30066372306610023
         ],
         "xaxis": "x",
         "yaxis": "y"
        },
        {
         "line": {
          "color": "rgba(128, 128, 128, 1.0)",
          "dash": "solid",
          "shape": "linear",
          "width": 1.3
         },
         "marker": {
          "size": 2,
          "symbol": "circle"
         },
         "mode": "markers",
         "name": "A",
         "text": "",
         "type": "scatter",
         "x": [
          -1.5157844764829644,
          -0.41217303880693795,
          -0.885537620161897,
          -1.0825116625246325,
          -0.7711514620169873,
          0.11336586975555087,
          -2.037793252704692,
          -1.2431066908082695,
          0.2279630985577041,
          2.285122016115169,
          0.5686612058338246,
          -0.11289094249910886,
          1.0871791334388332,
          -0.9264607664001572,
          -0.23203245030153488,
          1.1978636491657273,
          -1.61049921813411,
          1.0186671150406723,
          -0.830410126643706,
          0.061010127179468195,
          -1.4428710111153462,
          -0.34703951558236673,
          -0.8004712699568765,
          0.9872486636646743,
          -0.11052583039513393,
          -0.521753599429375,
          0.9180609357590939,
          -0.4706314498351323,
          0.1593530936906216,
          -0.34439821179737523,
          0.1260929261261622,
          0.9014891700796437,
          -1.9086325343793984,
          1.3265100906787224,
          -1.016469774207095,
          -1.0075664358751315,
          0.824356905600885,
          0.27100187084226507,
          -2.0531910720757085,
          -0.33096840295790547,
          0.3104043378222117,
          0.3201279405565035,
          0.07138643572302857,
          0.36793695566802753,
          -0.8340584965818486,
          -0.19109136807731775,
          -0.41489317936293635,
          -1.5901195793905352,
          -0.41860282360146844,
          0.25727166901744886,
          1.186585290154861,
          0.01147437217925689,
          1.0938515937475013,
          0.6426173415422843,
          0.7645076934816141,
          1.9665927990300778,
          0.30811626021854516,
          -0.7566852826738959,
          -0.12094518765003719,
          -1.9596422320177858,
          0.3681245349734719,
          -0.45465319992726677,
          1.2866713239735286,
          2.460441459850995,
          1.8473126657480798,
          -0.27141805317652684,
          0.786702020671586,
          0.8539164822407052,
          0.13463426584909585,
          0.4286809506123593,
          -0.16831506587421277,
          -1.0353675736388193,
          1.5391927362068332,
          -0.9642384943504239,
          0.5520580360748376,
          -0.3906983426248046,
          0.32788841514508926,
          -0.8049645750137246,
          -0.2253179772183928,
          -1.5939395645671797,
          -0.5391366490474503,
          0.8104225248406977,
          -0.2493880163743225,
          -0.5634556674177098,
          0.31052738807329744,
          -0.07547020223629892,
          0.39694849620435846,
          -2.307601399367974,
          0.4690059427284225,
          0.36897684664490976,
          -0.38369728493884553,
          0.7383755977764519,
          1.0832043639985331,
          -1.3832746089444825,
          -0.5836772744395085,
          0.8363588903108603,
          0.024321542018380275,
          0.42848927597760655,
          0.04794678043158683,
          0.7961084702479705
         ],
         "xaxis": "x2",
         "y": [
          -0.6156103919659448,
          -1.2624860845503696,
          -0.31140802116504096,
          0.2453469781558024,
          -0.3047427693778525,
          -0.1938769133025758,
          -0.3390513924431758,
          1.5495224843356186,
          -0.9836369725502156,
          -0.23562461797605772,
          0.8067929267569461,
          -0.8477493448990581,
          0.9278122312968577,
          1.323246341063781,
          -0.2036066511292313,
          -0.2821092872358227,
          -2.0965504522807996,
          1.33263460863893,
          -0.8730062749442947,
          -0.21777344944000587,
          -0.7372035421095716,
          -0.5744972691712578,
          0.9076625671382935,
          0.7610440414048033,
          -0.6461292555889644,
          -0.5900878597608552,
          1.725652171536661,
          1.0162788202334525,
          1.8210673215211053,
          0.6325470352743859,
          -1.0947329579554326,
          1.9517195306102926,
          0.23967706103861106,
          0.965985394546088,
          0.15852368966232788,
          0.10870123815921616,
          0.14696594995146783,
          -0.6020170814752861,
          -2.1988768505562195,
          0.4167024137898031,
          2.0543280192487425,
          -1.106173738405013,
          -1.4573434546316546,
          0.21509295230433023,
          -0.44006889224274537,
          0.9157524357694234,
          1.4829297270755881,
          0.20167127512276564,
          0.017180432551903796,
          -0.004031698138674777,
          -0.561990871613196,
          0.3665113985199989,
          1.8845422828466643,
          -0.0603826347550325,
          -1.8269870205652525,
          -0.5075171173939871,
          -0.38711492763209043,
          -2.114692791920225,
          -0.4372265767085458,
          1.2637474277480985,
          0.3496605779891636,
          1.5684009658161446,
          -1.387050190351923,
          0.44359355184557536,
          -0.28779903043026983,
          1.761926219230782,
          -0.03866072911630973,
          1.1281185715490418,
          -2.4951156025924455,
          1.246697677841596,
          -0.19662280856266776,
          -0.03727954581444563,
          0.552292854080817,
          -1.0569325305393944,
          -0.7545348399599937,
          -1.0808953664893906,
          0.2540993659207464,
          0.5077451846314007,
          -0.5938907220819517,
          -0.06990720893502703,
          0.4817857768495659,
          -0.356625977429201,
          -1.1256492380989043,
          0.6142444292828942,
          0.3101873680935744,
          -0.1354708868849027,
          -1.4143634705188226,
          1.590700092082429,
          1.0084567254873549,
          1.0017931015713446,
          2.7545084278062935,
          -1.8652271395589703,
          0.5462421071405258,
          0.21098818368871608,
          -0.21871249152835495,
          -1.0852307654587072,
          0.13725541941488004,
          1.0061247528761237,
          -0.21212535267469518,
          0.30066372306610023
         ],
         "yaxis": "y2"
        },
        {
         "line": {
          "color": "rgba(128, 128, 128, 1.0)",
          "dash": "solid",
          "shape": "linear",
          "width": 1.3
         },
         "marker": {
          "size": 2,
          "symbol": "circle"
         },
         "mode": "markers",
         "name": "A",
         "text": "",
         "type": "scatter",
         "x": [
          0.772557478686186,
          1.5619374538981845,
          -0.3099869748234525,
          1.0267050315279311,
          1.1956404915812884,
          -2.2034383874763273,
          0.8067077046610623,
          -1.8103300100843542,
          1.5131267189302007,
          1.145080104338141,
          0.4238448308395051,
          0.46992769701196596,
          -1.9729888143204348,
          -1.92898446679836,
          -2.1851006923672283,
          0.177981080341058,
          1.7924561902742222,
          -1.3953030497659535,
          1.1161441034855193,
          1.5254266216808785,
          -1.057982549327903,
          -2.0791601228009595,
          0.020548031171678853,
          1.6394192548300652,
          0.7897561132908015,
          -0.7573833534398482,
          0.8197264596516333,
          0.6210510589986893,
          1.5321503992937031,
          1.909072848879784,
          0.9291167713233864,
          -0.2897681888984046,
          0.6893831787329148,
          1.3811506413193944,
          0.17781360379369673,
          0.28529647423891524,
          1.3960430932538688,
          0.8468332022737332,
          0.17226076748453975,
          -1.2307577851619464,
          0.584180398498998,
          1.4265753028061903,
          1.5894719001527489,
          -0.5067650418253508,
          0.5603073817880679,
          0.05182943991604598,
          -0.4020717440584666,
          1.6142464862336825,
          0.9901356343311106,
          -0.715461960190174,
          -0.8361384942048204,
          1.9609316369543475,
          0.37051011952783747,
          1.1796650544323173,
          1.4909246631038218,
          -0.43675667401264395,
          -0.27762877267643055,
          -2.042024507397647,
          1.363660357916209,
          -1.4396568351103747,
          -0.40023208770273955,
          -0.8069605382383405,
          0.9115786262660264,
          0.543521772211655,
          0.3203734603915574,
          -0.7807415283622873,
          -0.1812203135138396,
          -0.45659447649636226,
          -0.8151869631119836,
          0.3472533446471602,
          -0.34522814052564155,
          -0.5978512282435612,
          -0.09695345656372797,
          0.6259990737607608,
          2.2190615508295393,
          -2.7990178457893067,
          0.8406714292695022,
          -2.612632719299105,
          0.46639623801524654,
          -0.1526765784565968,
          -1.2452582458578734,
          -0.6862113796050994,
          1.5192670707920042,
          0.31365919823521043,
          -0.776883635796296,
          -0.8201130333448449,
          0.1814948226897195,
          -0.6063910158985595,
          -0.0964897309311361,
          -0.4542492642451928,
          1.0622660106243298,
          1.193275113762125,
          1.0721888824180852,
          -1.0091559789130249,
          -0.6515977027632105,
          -2.288894333511839,
          -0.14751702777454642,
          -0.5578495614891594,
          -0.49805503060639866,
          0.8878481019315143
         ],
         "xaxis": "x3",
         "y": [
          -0.6156103919659448,
          -1.2624860845503696,
          -0.31140802116504096,
          0.2453469781558024,
          -0.3047427693778525,
          -0.1938769133025758,
          -0.3390513924431758,
          1.5495224843356186,
          -0.9836369725502156,
          -0.23562461797605772,
          0.8067929267569461,
          -0.8477493448990581,
          0.9278122312968577,
          1.323246341063781,
          -0.2036066511292313,
          -0.2821092872358227,
          -2.0965504522807996,
          1.33263460863893,
          -0.8730062749442947,
          -0.21777344944000587,
          -0.7372035421095716,
          -0.5744972691712578,
          0.9076625671382935,
          0.7610440414048033,
          -0.6461292555889644,
          -0.5900878597608552,
          1.725652171536661,
          1.0162788202334525,
          1.8210673215211053,
          0.6325470352743859,
          -1.0947329579554326,
          1.9517195306102926,
          0.23967706103861106,
          0.965985394546088,
          0.15852368966232788,
          0.10870123815921616,
          0.14696594995146783,
          -0.6020170814752861,
          -2.1988768505562195,
          0.4167024137898031,
          2.0543280192487425,
          -1.106173738405013,
          -1.4573434546316546,
          0.21509295230433023,
          -0.44006889224274537,
          0.9157524357694234,
          1.4829297270755881,
          0.20167127512276564,
          0.017180432551903796,
          -0.004031698138674777,
          -0.561990871613196,
          0.3665113985199989,
          1.8845422828466643,
          -0.0603826347550325,
          -1.8269870205652525,
          -0.5075171173939871,
          -0.38711492763209043,
          -2.114692791920225,
          -0.4372265767085458,
          1.2637474277480985,
          0.3496605779891636,
          1.5684009658161446,
          -1.387050190351923,
          0.44359355184557536,
          -0.28779903043026983,
          1.761926219230782,
          -0.03866072911630973,
          1.1281185715490418,
          -2.4951156025924455,
          1.246697677841596,
          -0.19662280856266776,
          -0.03727954581444563,
          0.552292854080817,
          -1.0569325305393944,
          -0.7545348399599937,
          -1.0808953664893906,
          0.2540993659207464,
          0.5077451846314007,
          -0.5938907220819517,
          -0.06990720893502703,
          0.4817857768495659,
          -0.356625977429201,
          -1.1256492380989043,
          0.6142444292828942,
          0.3101873680935744,
          -0.1354708868849027,
          -1.4143634705188226,
          1.590700092082429,
          1.0084567254873549,
          1.0017931015713446,
          2.7545084278062935,
          -1.8652271395589703,
          0.5462421071405258,
          0.21098818368871608,
          -0.21871249152835495,
          -1.0852307654587072,
          0.13725541941488004,
          1.0061247528761237,
          -0.21212535267469518,
          0.30066372306610023
         ],
         "yaxis": "y3"
        },
        {
         "line": {
          "color": "rgba(128, 128, 128, 1.0)",
          "dash": "solid",
          "shape": "linear",
          "width": 1.3
         },
         "marker": {
          "size": 2,
          "symbol": "circle"
         },
         "mode": "markers",
         "name": "A",
         "text": "",
         "type": "scatter",
         "x": [
          1.6486816662331822,
          0.5127527941680837,
          -0.45682022340909373,
          2.1021649612,
          -0.7990855629929148,
          0.4857753772751398,
          0.4815860906083117,
          -1.2744356312135072,
          -0.33334735616287786,
          0.05538581977517408,
          -1.5126273539012896,
          0.19339632488793723,
          0.7054632311028051,
          -1.8340851996085326,
          -0.7366515004877121,
          -0.6734292032266896,
          -0.676685774101941,
          0.5512232961403791,
          0.8206992367161917,
          0.7865432202040523,
          3.4644184488191514,
          0.3951465629281341,
          -0.48354084255353336,
          -1.5581103345775005,
          -1.2710047919359644,
          1.0702546826142583,
          -0.949672111341957,
          -2.216929713465729,
          -1.9961865856818644,
          -0.9658677871958201,
          -0.3958461008901219,
          -0.9879091497424247,
          0.10168777245959641,
          0.7040890672529018,
          0.012738971417033285,
          -0.656871427462446,
          -0.3384513518579964,
          0.5630675214455418,
          -1.2329261460910355,
          -1.0095345242430749,
          2.051075780541855,
          -1.1114430424075747,
          0.8213819424432546,
          1.4774860385664552,
          -1.3695699721097088,
          1.8940583040337189,
          0.6392982715691162,
          0.7376353700258274,
          0.4709378312538229,
          -0.07085504170072542,
          1.0898676814593422,
          0.11868141187906694,
          -1.8786330200639423,
          0.5417011107843329,
          -0.7739949128980816,
          -0.6068410879267366,
          0.828221928735691,
          0.47545636639656247,
          0.007993772181831773,
          0.14041824090154645,
          1.4416947872685415,
          1.3237616799692526,
          -2.3777970169955016,
          0.5923666677664033,
          0.3359164990590182,
          -0.5962859323351763,
          -0.4250064485179365,
          -0.016772945841256614,
          -0.5269254239362561,
          -1.31108739074214,
          0.6179665884371213,
          0.4489631120581825,
          0.8267111974126393,
          -0.3732848291661357,
          2.1313610426401954,
          -0.531869502421004,
          -0.9607535438420161,
          -0.11462399514394792,
          -1.2845810072178885,
          0.8021308269304693,
          0.32685228787675885,
          -0.8030267081626514,
          0.6158227844521023,
          -0.7714418392550003,
          -2.6013610686189765,
          1.366753070088446,
          0.19977922081655458,
          -4.5120274063760775,
          0.370997798837073,
          -0.491933431806824,
          -0.32701692644832503,
          -1.0030417657193527,
          -0.5484870568614646,
          0.7164675406003863,
          -0.16609494033713815,
          -0.09701544574085726,
          0.43980493056478,
          -0.15215637559465336,
          -0.6815302536181178,
          -0.09493296897677167
         ],
         "xaxis": "x4",
         "y": [
          -0.6156103919659448,
          -1.2624860845503696,
          -0.31140802116504096,
          0.2453469781558024,
          -0.3047427693778525,
          -0.1938769133025758,
          -0.3390513924431758,
          1.5495224843356186,
          -0.9836369725502156,
          -0.23562461797605772,
          0.8067929267569461,
          -0.8477493448990581,
          0.9278122312968577,
          1.323246341063781,
          -0.2036066511292313,
          -0.2821092872358227,
          -2.0965504522807996,
          1.33263460863893,
          -0.8730062749442947,
          -0.21777344944000587,
          -0.7372035421095716,
          -0.5744972691712578,
          0.9076625671382935,
          0.7610440414048033,
          -0.6461292555889644,
          -0.5900878597608552,
          1.725652171536661,
          1.0162788202334525,
          1.8210673215211053,
          0.6325470352743859,
          -1.0947329579554326,
          1.9517195306102926,
          0.23967706103861106,
          0.965985394546088,
          0.15852368966232788,
          0.10870123815921616,
          0.14696594995146783,
          -0.6020170814752861,
          -2.1988768505562195,
          0.4167024137898031,
          2.0543280192487425,
          -1.106173738405013,
          -1.4573434546316546,
          0.21509295230433023,
          -0.44006889224274537,
          0.9157524357694234,
          1.4829297270755881,
          0.20167127512276564,
          0.017180432551903796,
          -0.004031698138674777,
          -0.561990871613196,
          0.3665113985199989,
          1.8845422828466643,
          -0.0603826347550325,
          -1.8269870205652525,
          -0.5075171173939871,
          -0.38711492763209043,
          -2.114692791920225,
          -0.4372265767085458,
          1.2637474277480985,
          0.3496605779891636,
          1.5684009658161446,
          -1.387050190351923,
          0.44359355184557536,
          -0.28779903043026983,
          1.761926219230782,
          -0.03866072911630973,
          1.1281185715490418,
          -2.4951156025924455,
          1.246697677841596,
          -0.19662280856266776,
          -0.03727954581444563,
          0.552292854080817,
          -1.0569325305393944,
          -0.7545348399599937,
          -1.0808953664893906,
          0.2540993659207464,
          0.5077451846314007,
          -0.5938907220819517,
          -0.06990720893502703,
          0.4817857768495659,
          -0.356625977429201,
          -1.1256492380989043,
          0.6142444292828942,
          0.3101873680935744,
          -0.1354708868849027,
          -1.4143634705188226,
          1.590700092082429,
          1.0084567254873549,
          1.0017931015713446,
          2.7545084278062935,
          -1.8652271395589703,
          0.5462421071405258,
          0.21098818368871608,
          -0.21871249152835495,
          -1.0852307654587072,
          0.13725541941488004,
          1.0061247528761237,
          -0.21212535267469518,
          0.30066372306610023
         ],
         "yaxis": "y4"
        },
        {
         "line": {
          "color": "rgba(128, 128, 128, 1.0)",
          "dash": "solid",
          "shape": "linear",
          "width": 1.3
         },
         "marker": {
          "size": 2,
          "symbol": "circle"
         },
         "mode": "markers",
         "name": "B",
         "text": "",
         "type": "scatter",
         "x": [
          -0.6156103919659448,
          -1.2624860845503696,
          -0.31140802116504096,
          0.2453469781558024,
          -0.3047427693778525,
          -0.1938769133025758,
          -0.3390513924431758,
          1.5495224843356186,
          -0.9836369725502156,
          -0.23562461797605772,
          0.8067929267569461,
          -0.8477493448990581,
          0.9278122312968577,
          1.323246341063781,
          -0.2036066511292313,
          -0.2821092872358227,
          -2.0965504522807996,
          1.33263460863893,
          -0.8730062749442947,
          -0.21777344944000587,
          -0.7372035421095716,
          -0.5744972691712578,
          0.9076625671382935,
          0.7610440414048033,
          -0.6461292555889644,
          -0.5900878597608552,
          1.725652171536661,
          1.0162788202334525,
          1.8210673215211053,
          0.6325470352743859,
          -1.0947329579554326,
          1.9517195306102926,
          0.23967706103861106,
          0.965985394546088,
          0.15852368966232788,
          0.10870123815921616,
          0.14696594995146783,
          -0.6020170814752861,
          -2.1988768505562195,
          0.4167024137898031,
          2.0543280192487425,
          -1.106173738405013,
          -1.4573434546316546,
          0.21509295230433023,
          -0.44006889224274537,
          0.9157524357694234,
          1.4829297270755881,
          0.20167127512276564,
          0.017180432551903796,
          -0.004031698138674777,
          -0.561990871613196,
          0.3665113985199989,
          1.8845422828466643,
          -0.0603826347550325,
          -1.8269870205652525,
          -0.5075171173939871,
          -0.38711492763209043,
          -2.114692791920225,
          -0.4372265767085458,
          1.2637474277480985,
          0.3496605779891636,
          1.5684009658161446,
          -1.387050190351923,
          0.44359355184557536,
          -0.28779903043026983,
          1.761926219230782,
          -0.03866072911630973,
          1.1281185715490418,
          -2.4951156025924455,
          1.246697677841596,
          -0.19662280856266776,
          -0.03727954581444563,
          0.552292854080817,
          -1.0569325305393944,
          -0.7545348399599937,
          -1.0808953664893906,
          0.2540993659207464,
          0.5077451846314007,
          -0.5938907220819517,
          -0.06990720893502703,
          0.4817857768495659,
          -0.356625977429201,
          -1.1256492380989043,
          0.6142444292828942,
          0.3101873680935744,
          -0.1354708868849027,
          -1.4143634705188226,
          1.590700092082429,
          1.0084567254873549,
          1.0017931015713446,
          2.7545084278062935,
          -1.8652271395589703,
          0.5462421071405258,
          0.21098818368871608,
          -0.21871249152835495,
          -1.0852307654587072,
          0.13725541941488004,
          1.0061247528761237,
          -0.21212535267469518,
          0.30066372306610023
         ],
         "xaxis": "x5",
         "y": [
          -1.5157844764829644,
          -0.41217303880693795,
          -0.885537620161897,
          -1.0825116625246325,
          -0.7711514620169873,
          0.11336586975555087,
          -2.037793252704692,
          -1.2431066908082695,
          0.2279630985577041,
          2.285122016115169,
          0.5686612058338246,
          -0.11289094249910886,
          1.0871791334388332,
          -0.9264607664001572,
          -0.23203245030153488,
          1.1978636491657273,
          -1.61049921813411,
          1.0186671150406723,
          -0.830410126643706,
          0.061010127179468195,
          -1.4428710111153462,
          -0.34703951558236673,
          -0.8004712699568765,
          0.9872486636646743,
          -0.11052583039513393,
          -0.521753599429375,
          0.9180609357590939,
          -0.4706314498351323,
          0.1593530936906216,
          -0.34439821179737523,
          0.1260929261261622,
          0.9014891700796437,
          -1.9086325343793984,
          1.3265100906787224,
          -1.016469774207095,
          -1.0075664358751315,
          0.824356905600885,
          0.27100187084226507,
          -2.0531910720757085,
          -0.33096840295790547,
          0.3104043378222117,
          0.3201279405565035,
          0.07138643572302857,
          0.36793695566802753,
          -0.8340584965818486,
          -0.19109136807731775,
          -0.41489317936293635,
          -1.5901195793905352,
          -0.41860282360146844,
          0.25727166901744886,
          1.186585290154861,
          0.01147437217925689,
          1.0938515937475013,
          0.6426173415422843,
          0.7645076934816141,
          1.9665927990300778,
          0.30811626021854516,
          -0.7566852826738959,
          -0.12094518765003719,
          -1.9596422320177858,
          0.3681245349734719,
          -0.45465319992726677,
          1.2866713239735286,
          2.460441459850995,
          1.8473126657480798,
          -0.27141805317652684,
          0.786702020671586,
          0.8539164822407052,
          0.13463426584909585,
          0.4286809506123593,
          -0.16831506587421277,
          -1.0353675736388193,
          1.5391927362068332,
          -0.9642384943504239,
          0.5520580360748376,
          -0.3906983426248046,
          0.32788841514508926,
          -0.8049645750137246,
          -0.2253179772183928,
          -1.5939395645671797,
          -0.5391366490474503,
          0.8104225248406977,
          -0.2493880163743225,
          -0.5634556674177098,
          0.31052738807329744,
          -0.07547020223629892,
          0.39694849620435846,
          -2.307601399367974,
          0.4690059427284225,
          0.36897684664490976,
          -0.38369728493884553,
          0.7383755977764519,
          1.0832043639985331,
          -1.3832746089444825,
          -0.5836772744395085,
          0.8363588903108603,
          0.024321542018380275,
          0.42848927597760655,
          0.04794678043158683,
          0.7961084702479705
         ],
         "yaxis": "y5"
        },
        {
         "histfunc": "count",
         "histnorm": "",
         "marker": {
          "color": "rgba(55, 128, 191, 1.0)",
          "line": {
           "color": "#4D5663",
           "width": 1.3
          }
         },
         "name": "B",
         "nbinsx": 10,
         "opacity": 0.8,
         "orientation": "v",
         "type": "histogram",
         "x": [
          -1.5157844764829644,
          -0.41217303880693795,
          -0.885537620161897,
          -1.0825116625246325,
          -0.7711514620169873,
          0.11336586975555087,
          -2.037793252704692,
          -1.2431066908082695,
          0.2279630985577041,
          2.285122016115169,
          0.5686612058338246,
          -0.11289094249910886,
          1.0871791334388332,
          -0.9264607664001572,
          -0.23203245030153488,
          1.1978636491657273,
          -1.61049921813411,
          1.0186671150406723,
          -0.830410126643706,
          0.061010127179468195,
          -1.4428710111153462,
          -0.34703951558236673,
          -0.8004712699568765,
          0.9872486636646743,
          -0.11052583039513393,
          -0.521753599429375,
          0.9180609357590939,
          -0.4706314498351323,
          0.1593530936906216,
          -0.34439821179737523,
          0.1260929261261622,
          0.9014891700796437,
          -1.9086325343793984,
          1.3265100906787224,
          -1.016469774207095,
          -1.0075664358751315,
          0.824356905600885,
          0.27100187084226507,
          -2.0531910720757085,
          -0.33096840295790547,
          0.3104043378222117,
          0.3201279405565035,
          0.07138643572302857,
          0.36793695566802753,
          -0.8340584965818486,
          -0.19109136807731775,
          -0.41489317936293635,
          -1.5901195793905352,
          -0.41860282360146844,
          0.25727166901744886,
          1.186585290154861,
          0.01147437217925689,
          1.0938515937475013,
          0.6426173415422843,
          0.7645076934816141,
          1.9665927990300778,
          0.30811626021854516,
          -0.7566852826738959,
          -0.12094518765003719,
          -1.9596422320177858,
          0.3681245349734719,
          -0.45465319992726677,
          1.2866713239735286,
          2.460441459850995,
          1.8473126657480798,
          -0.27141805317652684,
          0.786702020671586,
          0.8539164822407052,
          0.13463426584909585,
          0.4286809506123593,
          -0.16831506587421277,
          -1.0353675736388193,
          1.5391927362068332,
          -0.9642384943504239,
          0.5520580360748376,
          -0.3906983426248046,
          0.32788841514508926,
          -0.8049645750137246,
          -0.2253179772183928,
          -1.5939395645671797,
          -0.5391366490474503,
          0.8104225248406977,
          -0.2493880163743225,
          -0.5634556674177098,
          0.31052738807329744,
          -0.07547020223629892,
          0.39694849620435846,
          -2.307601399367974,
          0.4690059427284225,
          0.36897684664490976,
          -0.38369728493884553,
          0.7383755977764519,
          1.0832043639985331,
          -1.3832746089444825,
          -0.5836772744395085,
          0.8363588903108603,
          0.024321542018380275,
          0.42848927597760655,
          0.04794678043158683,
          0.7961084702479705
         ],
         "xaxis": "x6",
         "yaxis": "y6"
        },
        {
         "line": {
          "color": "rgba(128, 128, 128, 1.0)",
          "dash": "solid",
          "shape": "linear",
          "width": 1.3
         },
         "marker": {
          "size": 2,
          "symbol": "circle"
         },
         "mode": "markers",
         "name": "B",
         "text": "",
         "type": "scatter",
         "x": [
          0.772557478686186,
          1.5619374538981845,
          -0.3099869748234525,
          1.0267050315279311,
          1.1956404915812884,
          -2.2034383874763273,
          0.8067077046610623,
          -1.8103300100843542,
          1.5131267189302007,
          1.145080104338141,
          0.4238448308395051,
          0.46992769701196596,
          -1.9729888143204348,
          -1.92898446679836,
          -2.1851006923672283,
          0.177981080341058,
          1.7924561902742222,
          -1.3953030497659535,
          1.1161441034855193,
          1.5254266216808785,
          -1.057982549327903,
          -2.0791601228009595,
          0.020548031171678853,
          1.6394192548300652,
          0.7897561132908015,
          -0.7573833534398482,
          0.8197264596516333,
          0.6210510589986893,
          1.5321503992937031,
          1.909072848879784,
          0.9291167713233864,
          -0.2897681888984046,
          0.6893831787329148,
          1.3811506413193944,
          0.17781360379369673,
          0.28529647423891524,
          1.3960430932538688,
          0.8468332022737332,
          0.17226076748453975,
          -1.2307577851619464,
          0.584180398498998,
          1.4265753028061903,
          1.5894719001527489,
          -0.5067650418253508,
          0.5603073817880679,
          0.05182943991604598,
          -0.4020717440584666,
          1.6142464862336825,
          0.9901356343311106,
          -0.715461960190174,
          -0.8361384942048204,
          1.9609316369543475,
          0.37051011952783747,
          1.1796650544323173,
          1.4909246631038218,
          -0.43675667401264395,
          -0.27762877267643055,
          -2.042024507397647,
          1.363660357916209,
          -1.4396568351103747,
          -0.40023208770273955,
          -0.8069605382383405,
          0.9115786262660264,
          0.543521772211655,
          0.3203734603915574,
          -0.7807415283622873,
          -0.1812203135138396,
          -0.45659447649636226,
          -0.8151869631119836,
          0.3472533446471602,
          -0.34522814052564155,
          -0.5978512282435612,
          -0.09695345656372797,
          0.6259990737607608,
          2.2190615508295393,
          -2.7990178457893067,
          0.8406714292695022,
          -2.612632719299105,
          0.46639623801524654,
          -0.1526765784565968,
          -1.2452582458578734,
          -0.6862113796050994,
          1.5192670707920042,
          0.31365919823521043,
          -0.776883635796296,
          -0.8201130333448449,
          0.1814948226897195,
          -0.6063910158985595,
          -0.0964897309311361,
          -0.4542492642451928,
          1.0622660106243298,
          1.193275113762125,
          1.0721888824180852,
          -1.0091559789130249,
          -0.6515977027632105,
          -2.288894333511839,
          -0.14751702777454642,
          -0.5578495614891594,
          -0.49805503060639866,
          0.8878481019315143
         ],
         "xaxis": "x7",
         "y": [
          -1.5157844764829644,
          -0.41217303880693795,
          -0.885537620161897,
          -1.0825116625246325,
          -0.7711514620169873,
          0.11336586975555087,
          -2.037793252704692,
          -1.2431066908082695,
          0.2279630985577041,
          2.285122016115169,
          0.5686612058338246,
          -0.11289094249910886,
          1.0871791334388332,
          -0.9264607664001572,
          -0.23203245030153488,
          1.1978636491657273,
          -1.61049921813411,
          1.0186671150406723,
          -0.830410126643706,
          0.061010127179468195,
          -1.4428710111153462,
          -0.34703951558236673,
          -0.8004712699568765,
          0.9872486636646743,
          -0.11052583039513393,
          -0.521753599429375,
          0.9180609357590939,
          -0.4706314498351323,
          0.1593530936906216,
          -0.34439821179737523,
          0.1260929261261622,
          0.9014891700796437,
          -1.9086325343793984,
          1.3265100906787224,
          -1.016469774207095,
          -1.0075664358751315,
          0.824356905600885,
          0.27100187084226507,
          -2.0531910720757085,
          -0.33096840295790547,
          0.3104043378222117,
          0.3201279405565035,
          0.07138643572302857,
          0.36793695566802753,
          -0.8340584965818486,
          -0.19109136807731775,
          -0.41489317936293635,
          -1.5901195793905352,
          -0.41860282360146844,
          0.25727166901744886,
          1.186585290154861,
          0.01147437217925689,
          1.0938515937475013,
          0.6426173415422843,
          0.7645076934816141,
          1.9665927990300778,
          0.30811626021854516,
          -0.7566852826738959,
          -0.12094518765003719,
          -1.9596422320177858,
          0.3681245349734719,
          -0.45465319992726677,
          1.2866713239735286,
          2.460441459850995,
          1.8473126657480798,
          -0.27141805317652684,
          0.786702020671586,
          0.8539164822407052,
          0.13463426584909585,
          0.4286809506123593,
          -0.16831506587421277,
          -1.0353675736388193,
          1.5391927362068332,
          -0.9642384943504239,
          0.5520580360748376,
          -0.3906983426248046,
          0.32788841514508926,
          -0.8049645750137246,
          -0.2253179772183928,
          -1.5939395645671797,
          -0.5391366490474503,
          0.8104225248406977,
          -0.2493880163743225,
          -0.5634556674177098,
          0.31052738807329744,
          -0.07547020223629892,
          0.39694849620435846,
          -2.307601399367974,
          0.4690059427284225,
          0.36897684664490976,
          -0.38369728493884553,
          0.7383755977764519,
          1.0832043639985331,
          -1.3832746089444825,
          -0.5836772744395085,
          0.8363588903108603,
          0.024321542018380275,
          0.42848927597760655,
          0.04794678043158683,
          0.7961084702479705
         ],
         "yaxis": "y7"
        },
        {
         "line": {
          "color": "rgba(128, 128, 128, 1.0)",
          "dash": "solid",
          "shape": "linear",
          "width": 1.3
         },
         "marker": {
          "size": 2,
          "symbol": "circle"
         },
         "mode": "markers",
         "name": "B",
         "text": "",
         "type": "scatter",
         "x": [
          1.6486816662331822,
          0.5127527941680837,
          -0.45682022340909373,
          2.1021649612,
          -0.7990855629929148,
          0.4857753772751398,
          0.4815860906083117,
          -1.2744356312135072,
          -0.33334735616287786,
          0.05538581977517408,
          -1.5126273539012896,
          0.19339632488793723,
          0.7054632311028051,
          -1.8340851996085326,
          -0.7366515004877121,
          -0.6734292032266896,
          -0.676685774101941,
          0.5512232961403791,
          0.8206992367161917,
          0.7865432202040523,
          3.4644184488191514,
          0.3951465629281341,
          -0.48354084255353336,
          -1.5581103345775005,
          -1.2710047919359644,
          1.0702546826142583,
          -0.949672111341957,
          -2.216929713465729,
          -1.9961865856818644,
          -0.9658677871958201,
          -0.3958461008901219,
          -0.9879091497424247,
          0.10168777245959641,
          0.7040890672529018,
          0.012738971417033285,
          -0.656871427462446,
          -0.3384513518579964,
          0.5630675214455418,
          -1.2329261460910355,
          -1.0095345242430749,
          2.051075780541855,
          -1.1114430424075747,
          0.8213819424432546,
          1.4774860385664552,
          -1.3695699721097088,
          1.8940583040337189,
          0.6392982715691162,
          0.7376353700258274,
          0.4709378312538229,
          -0.07085504170072542,
          1.0898676814593422,
          0.11868141187906694,
          -1.8786330200639423,
          0.5417011107843329,
          -0.7739949128980816,
          -0.6068410879267366,
          0.828221928735691,
          0.47545636639656247,
          0.007993772181831773,
          0.14041824090154645,
          1.4416947872685415,
          1.3237616799692526,
          -2.3777970169955016,
          0.5923666677664033,
          0.3359164990590182,
          -0.5962859323351763,
          -0.4250064485179365,
          -0.016772945841256614,
          -0.5269254239362561,
          -1.31108739074214,
          0.6179665884371213,
          0.4489631120581825,
          0.8267111974126393,
          -0.3732848291661357,
          2.1313610426401954,
          -0.531869502421004,
          -0.9607535438420161,
          -0.11462399514394792,
          -1.2845810072178885,
          0.8021308269304693,
          0.32685228787675885,
          -0.8030267081626514,
          0.6158227844521023,
          -0.7714418392550003,
          -2.6013610686189765,
          1.366753070088446,
          0.19977922081655458,
          -4.5120274063760775,
          0.370997798837073,
          -0.491933431806824,
          -0.32701692644832503,
          -1.0030417657193527,
          -0.5484870568614646,
          0.7164675406003863,
          -0.16609494033713815,
          -0.09701544574085726,
          0.43980493056478,
          -0.15215637559465336,
          -0.6815302536181178,
          -0.09493296897677167
         ],
         "xaxis": "x8",
         "y": [
          -1.5157844764829644,
          -0.41217303880693795,
          -0.885537620161897,
          -1.0825116625246325,
          -0.7711514620169873,
          0.11336586975555087,
          -2.037793252704692,
          -1.2431066908082695,
          0.2279630985577041,
          2.285122016115169,
          0.5686612058338246,
          -0.11289094249910886,
          1.0871791334388332,
          -0.9264607664001572,
          -0.23203245030153488,
          1.1978636491657273,
          -1.61049921813411,
          1.0186671150406723,
          -0.830410126643706,
          0.061010127179468195,
          -1.4428710111153462,
          -0.34703951558236673,
          -0.8004712699568765,
          0.9872486636646743,
          -0.11052583039513393,
          -0.521753599429375,
          0.9180609357590939,
          -0.4706314498351323,
          0.1593530936906216,
          -0.34439821179737523,
          0.1260929261261622,
          0.9014891700796437,
          -1.9086325343793984,
          1.3265100906787224,
          -1.016469774207095,
          -1.0075664358751315,
          0.824356905600885,
          0.27100187084226507,
          -2.0531910720757085,
          -0.33096840295790547,
          0.3104043378222117,
          0.3201279405565035,
          0.07138643572302857,
          0.36793695566802753,
          -0.8340584965818486,
          -0.19109136807731775,
          -0.41489317936293635,
          -1.5901195793905352,
          -0.41860282360146844,
          0.25727166901744886,
          1.186585290154861,
          0.01147437217925689,
          1.0938515937475013,
          0.6426173415422843,
          0.7645076934816141,
          1.9665927990300778,
          0.30811626021854516,
          -0.7566852826738959,
          -0.12094518765003719,
          -1.9596422320177858,
          0.3681245349734719,
          -0.45465319992726677,
          1.2866713239735286,
          2.460441459850995,
          1.8473126657480798,
          -0.27141805317652684,
          0.786702020671586,
          0.8539164822407052,
          0.13463426584909585,
          0.4286809506123593,
          -0.16831506587421277,
          -1.0353675736388193,
          1.5391927362068332,
          -0.9642384943504239,
          0.5520580360748376,
          -0.3906983426248046,
          0.32788841514508926,
          -0.8049645750137246,
          -0.2253179772183928,
          -1.5939395645671797,
          -0.5391366490474503,
          0.8104225248406977,
          -0.2493880163743225,
          -0.5634556674177098,
          0.31052738807329744,
          -0.07547020223629892,
          0.39694849620435846,
          -2.307601399367974,
          0.4690059427284225,
          0.36897684664490976,
          -0.38369728493884553,
          0.7383755977764519,
          1.0832043639985331,
          -1.3832746089444825,
          -0.5836772744395085,
          0.8363588903108603,
          0.024321542018380275,
          0.42848927597760655,
          0.04794678043158683,
          0.7961084702479705
         ],
         "yaxis": "y8"
        },
        {
         "line": {
          "color": "rgba(128, 128, 128, 1.0)",
          "dash": "solid",
          "shape": "linear",
          "width": 1.3
         },
         "marker": {
          "size": 2,
          "symbol": "circle"
         },
         "mode": "markers",
         "name": "C",
         "text": "",
         "type": "scatter",
         "x": [
          -0.6156103919659448,
          -1.2624860845503696,
          -0.31140802116504096,
          0.2453469781558024,
          -0.3047427693778525,
          -0.1938769133025758,
          -0.3390513924431758,
          1.5495224843356186,
          -0.9836369725502156,
          -0.23562461797605772,
          0.8067929267569461,
          -0.8477493448990581,
          0.9278122312968577,
          1.323246341063781,
          -0.2036066511292313,
          -0.2821092872358227,
          -2.0965504522807996,
          1.33263460863893,
          -0.8730062749442947,
          -0.21777344944000587,
          -0.7372035421095716,
          -0.5744972691712578,
          0.9076625671382935,
          0.7610440414048033,
          -0.6461292555889644,
          -0.5900878597608552,
          1.725652171536661,
          1.0162788202334525,
          1.8210673215211053,
          0.6325470352743859,
          -1.0947329579554326,
          1.9517195306102926,
          0.23967706103861106,
          0.965985394546088,
          0.15852368966232788,
          0.10870123815921616,
          0.14696594995146783,
          -0.6020170814752861,
          -2.1988768505562195,
          0.4167024137898031,
          2.0543280192487425,
          -1.106173738405013,
          -1.4573434546316546,
          0.21509295230433023,
          -0.44006889224274537,
          0.9157524357694234,
          1.4829297270755881,
          0.20167127512276564,
          0.017180432551903796,
          -0.004031698138674777,
          -0.561990871613196,
          0.3665113985199989,
          1.8845422828466643,
          -0.0603826347550325,
          -1.8269870205652525,
          -0.5075171173939871,
          -0.38711492763209043,
          -2.114692791920225,
          -0.4372265767085458,
          1.2637474277480985,
          0.3496605779891636,
          1.5684009658161446,
          -1.387050190351923,
          0.44359355184557536,
          -0.28779903043026983,
          1.761926219230782,
          -0.03866072911630973,
          1.1281185715490418,
          -2.4951156025924455,
          1.246697677841596,
          -0.19662280856266776,
          -0.03727954581444563,
          0.552292854080817,
          -1.0569325305393944,
          -0.7545348399599937,
          -1.0808953664893906,
          0.2540993659207464,
          0.5077451846314007,
          -0.5938907220819517,
          -0.06990720893502703,
          0.4817857768495659,
          -0.356625977429201,
          -1.1256492380989043,
          0.6142444292828942,
          0.3101873680935744,
          -0.1354708868849027,
          -1.4143634705188226,
          1.590700092082429,
          1.0084567254873549,
          1.0017931015713446,
          2.7545084278062935,
          -1.8652271395589703,
          0.5462421071405258,
          0.21098818368871608,
          -0.21871249152835495,
          -1.0852307654587072,
          0.13725541941488004,
          1.0061247528761237,
          -0.21212535267469518,
          0.30066372306610023
         ],
         "xaxis": "x9",
         "y": [
          0.772557478686186,
          1.5619374538981845,
          -0.3099869748234525,
          1.0267050315279311,
          1.1956404915812884,
          -2.2034383874763273,
          0.8067077046610623,
          -1.8103300100843542,
          1.5131267189302007,
          1.145080104338141,
          0.4238448308395051,
          0.46992769701196596,
          -1.9729888143204348,
          -1.92898446679836,
          -2.1851006923672283,
          0.177981080341058,
          1.7924561902742222,
          -1.3953030497659535,
          1.1161441034855193,
          1.5254266216808785,
          -1.057982549327903,
          -2.0791601228009595,
          0.020548031171678853,
          1.6394192548300652,
          0.7897561132908015,
          -0.7573833534398482,
          0.8197264596516333,
          0.6210510589986893,
          1.5321503992937031,
          1.909072848879784,
          0.9291167713233864,
          -0.2897681888984046,
          0.6893831787329148,
          1.3811506413193944,
          0.17781360379369673,
          0.28529647423891524,
          1.3960430932538688,
          0.8468332022737332,
          0.17226076748453975,
          -1.2307577851619464,
          0.584180398498998,
          1.4265753028061903,
          1.5894719001527489,
          -0.5067650418253508,
          0.5603073817880679,
          0.05182943991604598,
          -0.4020717440584666,
          1.6142464862336825,
          0.9901356343311106,
          -0.715461960190174,
          -0.8361384942048204,
          1.9609316369543475,
          0.37051011952783747,
          1.1796650544323173,
          1.4909246631038218,
          -0.43675667401264395,
          -0.27762877267643055,
          -2.042024507397647,
          1.363660357916209,
          -1.4396568351103747,
          -0.40023208770273955,
          -0.8069605382383405,
          0.9115786262660264,
          0.543521772211655,
          0.3203734603915574,
          -0.7807415283622873,
          -0.1812203135138396,
          -0.45659447649636226,
          -0.8151869631119836,
          0.3472533446471602,
          -0.34522814052564155,
          -0.5978512282435612,
          -0.09695345656372797,
          0.6259990737607608,
          2.2190615508295393,
          -2.7990178457893067,
          0.8406714292695022,
          -2.612632719299105,
          0.46639623801524654,
          -0.1526765784565968,
          -1.2452582458578734,
          -0.6862113796050994,
          1.5192670707920042,
          0.31365919823521043,
          -0.776883635796296,
          -0.8201130333448449,
          0.1814948226897195,
          -0.6063910158985595,
          -0.0964897309311361,
          -0.4542492642451928,
          1.0622660106243298,
          1.193275113762125,
          1.0721888824180852,
          -1.0091559789130249,
          -0.6515977027632105,
          -2.288894333511839,
          -0.14751702777454642,
          -0.5578495614891594,
          -0.49805503060639866,
          0.8878481019315143
         ],
         "yaxis": "y9"
        },
        {
         "line": {
          "color": "rgba(128, 128, 128, 1.0)",
          "dash": "solid",
          "shape": "linear",
          "width": 1.3
         },
         "marker": {
          "size": 2,
          "symbol": "circle"
         },
         "mode": "markers",
         "name": "C",
         "text": "",
         "type": "scatter",
         "x": [
          -1.5157844764829644,
          -0.41217303880693795,
          -0.885537620161897,
          -1.0825116625246325,
          -0.7711514620169873,
          0.11336586975555087,
          -2.037793252704692,
          -1.2431066908082695,
          0.2279630985577041,
          2.285122016115169,
          0.5686612058338246,
          -0.11289094249910886,
          1.0871791334388332,
          -0.9264607664001572,
          -0.23203245030153488,
          1.1978636491657273,
          -1.61049921813411,
          1.0186671150406723,
          -0.830410126643706,
          0.061010127179468195,
          -1.4428710111153462,
          -0.34703951558236673,
          -0.8004712699568765,
          0.9872486636646743,
          -0.11052583039513393,
          -0.521753599429375,
          0.9180609357590939,
          -0.4706314498351323,
          0.1593530936906216,
          -0.34439821179737523,
          0.1260929261261622,
          0.9014891700796437,
          -1.9086325343793984,
          1.3265100906787224,
          -1.016469774207095,
          -1.0075664358751315,
          0.824356905600885,
          0.27100187084226507,
          -2.0531910720757085,
          -0.33096840295790547,
          0.3104043378222117,
          0.3201279405565035,
          0.07138643572302857,
          0.36793695566802753,
          -0.8340584965818486,
          -0.19109136807731775,
          -0.41489317936293635,
          -1.5901195793905352,
          -0.41860282360146844,
          0.25727166901744886,
          1.186585290154861,
          0.01147437217925689,
          1.0938515937475013,
          0.6426173415422843,
          0.7645076934816141,
          1.9665927990300778,
          0.30811626021854516,
          -0.7566852826738959,
          -0.12094518765003719,
          -1.9596422320177858,
          0.3681245349734719,
          -0.45465319992726677,
          1.2866713239735286,
          2.460441459850995,
          1.8473126657480798,
          -0.27141805317652684,
          0.786702020671586,
          0.8539164822407052,
          0.13463426584909585,
          0.4286809506123593,
          -0.16831506587421277,
          -1.0353675736388193,
          1.5391927362068332,
          -0.9642384943504239,
          0.5520580360748376,
          -0.3906983426248046,
          0.32788841514508926,
          -0.8049645750137246,
          -0.2253179772183928,
          -1.5939395645671797,
          -0.5391366490474503,
          0.8104225248406977,
          -0.2493880163743225,
          -0.5634556674177098,
          0.31052738807329744,
          -0.07547020223629892,
          0.39694849620435846,
          -2.307601399367974,
          0.4690059427284225,
          0.36897684664490976,
          -0.38369728493884553,
          0.7383755977764519,
          1.0832043639985331,
          -1.3832746089444825,
          -0.5836772744395085,
          0.8363588903108603,
          0.024321542018380275,
          0.42848927597760655,
          0.04794678043158683,
          0.7961084702479705
         ],
         "xaxis": "x10",
         "y": [
          0.772557478686186,
          1.5619374538981845,
          -0.3099869748234525,
          1.0267050315279311,
          1.1956404915812884,
          -2.2034383874763273,
          0.8067077046610623,
          -1.8103300100843542,
          1.5131267189302007,
          1.145080104338141,
          0.4238448308395051,
          0.46992769701196596,
          -1.9729888143204348,
          -1.92898446679836,
          -2.1851006923672283,
          0.177981080341058,
          1.7924561902742222,
          -1.3953030497659535,
          1.1161441034855193,
          1.5254266216808785,
          -1.057982549327903,
          -2.0791601228009595,
          0.020548031171678853,
          1.6394192548300652,
          0.7897561132908015,
          -0.7573833534398482,
          0.8197264596516333,
          0.6210510589986893,
          1.5321503992937031,
          1.909072848879784,
          0.9291167713233864,
          -0.2897681888984046,
          0.6893831787329148,
          1.3811506413193944,
          0.17781360379369673,
          0.28529647423891524,
          1.3960430932538688,
          0.8468332022737332,
          0.17226076748453975,
          -1.2307577851619464,
          0.584180398498998,
          1.4265753028061903,
          1.5894719001527489,
          -0.5067650418253508,
          0.5603073817880679,
          0.05182943991604598,
          -0.4020717440584666,
          1.6142464862336825,
          0.9901356343311106,
          -0.715461960190174,
          -0.8361384942048204,
          1.9609316369543475,
          0.37051011952783747,
          1.1796650544323173,
          1.4909246631038218,
          -0.43675667401264395,
          -0.27762877267643055,
          -2.042024507397647,
          1.363660357916209,
          -1.4396568351103747,
          -0.40023208770273955,
          -0.8069605382383405,
          0.9115786262660264,
          0.543521772211655,
          0.3203734603915574,
          -0.7807415283622873,
          -0.1812203135138396,
          -0.45659447649636226,
          -0.8151869631119836,
          0.3472533446471602,
          -0.34522814052564155,
          -0.5978512282435612,
          -0.09695345656372797,
          0.6259990737607608,
          2.2190615508295393,
          -2.7990178457893067,
          0.8406714292695022,
          -2.612632719299105,
          0.46639623801524654,
          -0.1526765784565968,
          -1.2452582458578734,
          -0.6862113796050994,
          1.5192670707920042,
          0.31365919823521043,
          -0.776883635796296,
          -0.8201130333448449,
          0.1814948226897195,
          -0.6063910158985595,
          -0.0964897309311361,
          -0.4542492642451928,
          1.0622660106243298,
          1.193275113762125,
          1.0721888824180852,
          -1.0091559789130249,
          -0.6515977027632105,
          -2.288894333511839,
          -0.14751702777454642,
          -0.5578495614891594,
          -0.49805503060639866,
          0.8878481019315143
         ],
         "yaxis": "y10"
        },
        {
         "histfunc": "count",
         "histnorm": "",
         "marker": {
          "color": "rgba(50, 171, 96, 1.0)",
          "line": {
           "color": "#4D5663",
           "width": 1.3
          }
         },
         "name": "C",
         "nbinsx": 10,
         "opacity": 0.8,
         "orientation": "v",
         "type": "histogram",
         "x": [
          0.772557478686186,
          1.5619374538981845,
          -0.3099869748234525,
          1.0267050315279311,
          1.1956404915812884,
          -2.2034383874763273,
          0.8067077046610623,
          -1.8103300100843542,
          1.5131267189302007,
          1.145080104338141,
          0.4238448308395051,
          0.46992769701196596,
          -1.9729888143204348,
          -1.92898446679836,
          -2.1851006923672283,
          0.177981080341058,
          1.7924561902742222,
          -1.3953030497659535,
          1.1161441034855193,
          1.5254266216808785,
          -1.057982549327903,
          -2.0791601228009595,
          0.020548031171678853,
          1.6394192548300652,
          0.7897561132908015,
          -0.7573833534398482,
          0.8197264596516333,
          0.6210510589986893,
          1.5321503992937031,
          1.909072848879784,
          0.9291167713233864,
          -0.2897681888984046,
          0.6893831787329148,
          1.3811506413193944,
          0.17781360379369673,
          0.28529647423891524,
          1.3960430932538688,
          0.8468332022737332,
          0.17226076748453975,
          -1.2307577851619464,
          0.584180398498998,
          1.4265753028061903,
          1.5894719001527489,
          -0.5067650418253508,
          0.5603073817880679,
          0.05182943991604598,
          -0.4020717440584666,
          1.6142464862336825,
          0.9901356343311106,
          -0.715461960190174,
          -0.8361384942048204,
          1.9609316369543475,
          0.37051011952783747,
          1.1796650544323173,
          1.4909246631038218,
          -0.43675667401264395,
          -0.27762877267643055,
          -2.042024507397647,
          1.363660357916209,
          -1.4396568351103747,
          -0.40023208770273955,
          -0.8069605382383405,
          0.9115786262660264,
          0.543521772211655,
          0.3203734603915574,
          -0.7807415283622873,
          -0.1812203135138396,
          -0.45659447649636226,
          -0.8151869631119836,
          0.3472533446471602,
          -0.34522814052564155,
          -0.5978512282435612,
          -0.09695345656372797,
          0.6259990737607608,
          2.2190615508295393,
          -2.7990178457893067,
          0.8406714292695022,
          -2.612632719299105,
          0.46639623801524654,
          -0.1526765784565968,
          -1.2452582458578734,
          -0.6862113796050994,
          1.5192670707920042,
          0.31365919823521043,
          -0.776883635796296,
          -0.8201130333448449,
          0.1814948226897195,
          -0.6063910158985595,
          -0.0964897309311361,
          -0.4542492642451928,
          1.0622660106243298,
          1.193275113762125,
          1.0721888824180852,
          -1.0091559789130249,
          -0.6515977027632105,
          -2.288894333511839,
          -0.14751702777454642,
          -0.5578495614891594,
          -0.49805503060639866,
          0.8878481019315143
         ],
         "xaxis": "x11",
         "yaxis": "y11"
        },
        {
         "line": {
          "color": "rgba(128, 128, 128, 1.0)",
          "dash": "solid",
          "shape": "linear",
          "width": 1.3
         },
         "marker": {
          "size": 2,
          "symbol": "circle"
         },
         "mode": "markers",
         "name": "C",
         "text": "",
         "type": "scatter",
         "x": [
          1.6486816662331822,
          0.5127527941680837,
          -0.45682022340909373,
          2.1021649612,
          -0.7990855629929148,
          0.4857753772751398,
          0.4815860906083117,
          -1.2744356312135072,
          -0.33334735616287786,
          0.05538581977517408,
          -1.5126273539012896,
          0.19339632488793723,
          0.7054632311028051,
          -1.8340851996085326,
          -0.7366515004877121,
          -0.6734292032266896,
          -0.676685774101941,
          0.5512232961403791,
          0.8206992367161917,
          0.7865432202040523,
          3.4644184488191514,
          0.3951465629281341,
          -0.48354084255353336,
          -1.5581103345775005,
          -1.2710047919359644,
          1.0702546826142583,
          -0.949672111341957,
          -2.216929713465729,
          -1.9961865856818644,
          -0.9658677871958201,
          -0.3958461008901219,
          -0.9879091497424247,
          0.10168777245959641,
          0.7040890672529018,
          0.012738971417033285,
          -0.656871427462446,
          -0.3384513518579964,
          0.5630675214455418,
          -1.2329261460910355,
          -1.0095345242430749,
          2.051075780541855,
          -1.1114430424075747,
          0.8213819424432546,
          1.4774860385664552,
          -1.3695699721097088,
          1.8940583040337189,
          0.6392982715691162,
          0.7376353700258274,
          0.4709378312538229,
          -0.07085504170072542,
          1.0898676814593422,
          0.11868141187906694,
          -1.8786330200639423,
          0.5417011107843329,
          -0.7739949128980816,
          -0.6068410879267366,
          0.828221928735691,
          0.47545636639656247,
          0.007993772181831773,
          0.14041824090154645,
          1.4416947872685415,
          1.3237616799692526,
          -2.3777970169955016,
          0.5923666677664033,
          0.3359164990590182,
          -0.5962859323351763,
          -0.4250064485179365,
          -0.016772945841256614,
          -0.5269254239362561,
          -1.31108739074214,
          0.6179665884371213,
          0.4489631120581825,
          0.8267111974126393,
          -0.3732848291661357,
          2.1313610426401954,
          -0.531869502421004,
          -0.9607535438420161,
          -0.11462399514394792,
          -1.2845810072178885,
          0.8021308269304693,
          0.32685228787675885,
          -0.8030267081626514,
          0.6158227844521023,
          -0.7714418392550003,
          -2.6013610686189765,
          1.366753070088446,
          0.19977922081655458,
          -4.5120274063760775,
          0.370997798837073,
          -0.491933431806824,
          -0.32701692644832503,
          -1.0030417657193527,
          -0.5484870568614646,
          0.7164675406003863,
          -0.16609494033713815,
          -0.09701544574085726,
          0.43980493056478,
          -0.15215637559465336,
          -0.6815302536181178,
          -0.09493296897677167
         ],
         "xaxis": "x12",
         "y": [
          0.772557478686186,
          1.5619374538981845,
          -0.3099869748234525,
          1.0267050315279311,
          1.1956404915812884,
          -2.2034383874763273,
          0.8067077046610623,
          -1.8103300100843542,
          1.5131267189302007,
          1.145080104338141,
          0.4238448308395051,
          0.46992769701196596,
          -1.9729888143204348,
          -1.92898446679836,
          -2.1851006923672283,
          0.177981080341058,
          1.7924561902742222,
          -1.3953030497659535,
          1.1161441034855193,
          1.5254266216808785,
          -1.057982549327903,
          -2.0791601228009595,
          0.020548031171678853,
          1.6394192548300652,
          0.7897561132908015,
          -0.7573833534398482,
          0.8197264596516333,
          0.6210510589986893,
          1.5321503992937031,
          1.909072848879784,
          0.9291167713233864,
          -0.2897681888984046,
          0.6893831787329148,
          1.3811506413193944,
          0.17781360379369673,
          0.28529647423891524,
          1.3960430932538688,
          0.8468332022737332,
          0.17226076748453975,
          -1.2307577851619464,
          0.584180398498998,
          1.4265753028061903,
          1.5894719001527489,
          -0.5067650418253508,
          0.5603073817880679,
          0.05182943991604598,
          -0.4020717440584666,
          1.6142464862336825,
          0.9901356343311106,
          -0.715461960190174,
          -0.8361384942048204,
          1.9609316369543475,
          0.37051011952783747,
          1.1796650544323173,
          1.4909246631038218,
          -0.43675667401264395,
          -0.27762877267643055,
          -2.042024507397647,
          1.363660357916209,
          -1.4396568351103747,
          -0.40023208770273955,
          -0.8069605382383405,
          0.9115786262660264,
          0.543521772211655,
          0.3203734603915574,
          -0.7807415283622873,
          -0.1812203135138396,
          -0.45659447649636226,
          -0.8151869631119836,
          0.3472533446471602,
          -0.34522814052564155,
          -0.5978512282435612,
          -0.09695345656372797,
          0.6259990737607608,
          2.2190615508295393,
          -2.7990178457893067,
          0.8406714292695022,
          -2.612632719299105,
          0.46639623801524654,
          -0.1526765784565968,
          -1.2452582458578734,
          -0.6862113796050994,
          1.5192670707920042,
          0.31365919823521043,
          -0.776883635796296,
          -0.8201130333448449,
          0.1814948226897195,
          -0.6063910158985595,
          -0.0964897309311361,
          -0.4542492642451928,
          1.0622660106243298,
          1.193275113762125,
          1.0721888824180852,
          -1.0091559789130249,
          -0.6515977027632105,
          -2.288894333511839,
          -0.14751702777454642,
          -0.5578495614891594,
          -0.49805503060639866,
          0.8878481019315143
         ],
         "yaxis": "y12"
        },
        {
         "line": {
          "color": "rgba(128, 128, 128, 1.0)",
          "dash": "solid",
          "shape": "linear",
          "width": 1.3
         },
         "marker": {
          "size": 2,
          "symbol": "circle"
         },
         "mode": "markers",
         "name": "D",
         "text": "",
         "type": "scatter",
         "x": [
          -0.6156103919659448,
          -1.2624860845503696,
          -0.31140802116504096,
          0.2453469781558024,
          -0.3047427693778525,
          -0.1938769133025758,
          -0.3390513924431758,
          1.5495224843356186,
          -0.9836369725502156,
          -0.23562461797605772,
          0.8067929267569461,
          -0.8477493448990581,
          0.9278122312968577,
          1.323246341063781,
          -0.2036066511292313,
          -0.2821092872358227,
          -2.0965504522807996,
          1.33263460863893,
          -0.8730062749442947,
          -0.21777344944000587,
          -0.7372035421095716,
          -0.5744972691712578,
          0.9076625671382935,
          0.7610440414048033,
          -0.6461292555889644,
          -0.5900878597608552,
          1.725652171536661,
          1.0162788202334525,
          1.8210673215211053,
          0.6325470352743859,
          -1.0947329579554326,
          1.9517195306102926,
          0.23967706103861106,
          0.965985394546088,
          0.15852368966232788,
          0.10870123815921616,
          0.14696594995146783,
          -0.6020170814752861,
          -2.1988768505562195,
          0.4167024137898031,
          2.0543280192487425,
          -1.106173738405013,
          -1.4573434546316546,
          0.21509295230433023,
          -0.44006889224274537,
          0.9157524357694234,
          1.4829297270755881,
          0.20167127512276564,
          0.017180432551903796,
          -0.004031698138674777,
          -0.561990871613196,
          0.3665113985199989,
          1.8845422828466643,
          -0.0603826347550325,
          -1.8269870205652525,
          -0.5075171173939871,
          -0.38711492763209043,
          -2.114692791920225,
          -0.4372265767085458,
          1.2637474277480985,
          0.3496605779891636,
          1.5684009658161446,
          -1.387050190351923,
          0.44359355184557536,
          -0.28779903043026983,
          1.761926219230782,
          -0.03866072911630973,
          1.1281185715490418,
          -2.4951156025924455,
          1.246697677841596,
          -0.19662280856266776,
          -0.03727954581444563,
          0.552292854080817,
          -1.0569325305393944,
          -0.7545348399599937,
          -1.0808953664893906,
          0.2540993659207464,
          0.5077451846314007,
          -0.5938907220819517,
          -0.06990720893502703,
          0.4817857768495659,
          -0.356625977429201,
          -1.1256492380989043,
          0.6142444292828942,
          0.3101873680935744,
          -0.1354708868849027,
          -1.4143634705188226,
          1.590700092082429,
          1.0084567254873549,
          1.0017931015713446,
          2.7545084278062935,
          -1.8652271395589703,
          0.5462421071405258,
          0.21098818368871608,
          -0.21871249152835495,
          -1.0852307654587072,
          0.13725541941488004,
          1.0061247528761237,
          -0.21212535267469518,
          0.30066372306610023
         ],
         "xaxis": "x13",
         "y": [
          1.6486816662331822,
          0.5127527941680837,
          -0.45682022340909373,
          2.1021649612,
          -0.7990855629929148,
          0.4857753772751398,
          0.4815860906083117,
          -1.2744356312135072,
          -0.33334735616287786,
          0.05538581977517408,
          -1.5126273539012896,
          0.19339632488793723,
          0.7054632311028051,
          -1.8340851996085326,
          -0.7366515004877121,
          -0.6734292032266896,
          -0.676685774101941,
          0.5512232961403791,
          0.8206992367161917,
          0.7865432202040523,
          3.4644184488191514,
          0.3951465629281341,
          -0.48354084255353336,
          -1.5581103345775005,
          -1.2710047919359644,
          1.0702546826142583,
          -0.949672111341957,
          -2.216929713465729,
          -1.9961865856818644,
          -0.9658677871958201,
          -0.3958461008901219,
          -0.9879091497424247,
          0.10168777245959641,
          0.7040890672529018,
          0.012738971417033285,
          -0.656871427462446,
          -0.3384513518579964,
          0.5630675214455418,
          -1.2329261460910355,
          -1.0095345242430749,
          2.051075780541855,
          -1.1114430424075747,
          0.8213819424432546,
          1.4774860385664552,
          -1.3695699721097088,
          1.8940583040337189,
          0.6392982715691162,
          0.7376353700258274,
          0.4709378312538229,
          -0.07085504170072542,
          1.0898676814593422,
          0.11868141187906694,
          -1.8786330200639423,
          0.5417011107843329,
          -0.7739949128980816,
          -0.6068410879267366,
          0.828221928735691,
          0.47545636639656247,
          0.007993772181831773,
          0.14041824090154645,
          1.4416947872685415,
          1.3237616799692526,
          -2.3777970169955016,
          0.5923666677664033,
          0.3359164990590182,
          -0.5962859323351763,
          -0.4250064485179365,
          -0.016772945841256614,
          -0.5269254239362561,
          -1.31108739074214,
          0.6179665884371213,
          0.4489631120581825,
          0.8267111974126393,
          -0.3732848291661357,
          2.1313610426401954,
          -0.531869502421004,
          -0.9607535438420161,
          -0.11462399514394792,
          -1.2845810072178885,
          0.8021308269304693,
          0.32685228787675885,
          -0.8030267081626514,
          0.6158227844521023,
          -0.7714418392550003,
          -2.6013610686189765,
          1.366753070088446,
          0.19977922081655458,
          -4.5120274063760775,
          0.370997798837073,
          -0.491933431806824,
          -0.32701692644832503,
          -1.0030417657193527,
          -0.5484870568614646,
          0.7164675406003863,
          -0.16609494033713815,
          -0.09701544574085726,
          0.43980493056478,
          -0.15215637559465336,
          -0.6815302536181178,
          -0.09493296897677167
         ],
         "yaxis": "y13"
        },
        {
         "line": {
          "color": "rgba(128, 128, 128, 1.0)",
          "dash": "solid",
          "shape": "linear",
          "width": 1.3
         },
         "marker": {
          "size": 2,
          "symbol": "circle"
         },
         "mode": "markers",
         "name": "D",
         "text": "",
         "type": "scatter",
         "x": [
          -1.5157844764829644,
          -0.41217303880693795,
          -0.885537620161897,
          -1.0825116625246325,
          -0.7711514620169873,
          0.11336586975555087,
          -2.037793252704692,
          -1.2431066908082695,
          0.2279630985577041,
          2.285122016115169,
          0.5686612058338246,
          -0.11289094249910886,
          1.0871791334388332,
          -0.9264607664001572,
          -0.23203245030153488,
          1.1978636491657273,
          -1.61049921813411,
          1.0186671150406723,
          -0.830410126643706,
          0.061010127179468195,
          -1.4428710111153462,
          -0.34703951558236673,
          -0.8004712699568765,
          0.9872486636646743,
          -0.11052583039513393,
          -0.521753599429375,
          0.9180609357590939,
          -0.4706314498351323,
          0.1593530936906216,
          -0.34439821179737523,
          0.1260929261261622,
          0.9014891700796437,
          -1.9086325343793984,
          1.3265100906787224,
          -1.016469774207095,
          -1.0075664358751315,
          0.824356905600885,
          0.27100187084226507,
          -2.0531910720757085,
          -0.33096840295790547,
          0.3104043378222117,
          0.3201279405565035,
          0.07138643572302857,
          0.36793695566802753,
          -0.8340584965818486,
          -0.19109136807731775,
          -0.41489317936293635,
          -1.5901195793905352,
          -0.41860282360146844,
          0.25727166901744886,
          1.186585290154861,
          0.01147437217925689,
          1.0938515937475013,
          0.6426173415422843,
          0.7645076934816141,
          1.9665927990300778,
          0.30811626021854516,
          -0.7566852826738959,
          -0.12094518765003719,
          -1.9596422320177858,
          0.3681245349734719,
          -0.45465319992726677,
          1.2866713239735286,
          2.460441459850995,
          1.8473126657480798,
          -0.27141805317652684,
          0.786702020671586,
          0.8539164822407052,
          0.13463426584909585,
          0.4286809506123593,
          -0.16831506587421277,
          -1.0353675736388193,
          1.5391927362068332,
          -0.9642384943504239,
          0.5520580360748376,
          -0.3906983426248046,
          0.32788841514508926,
          -0.8049645750137246,
          -0.2253179772183928,
          -1.5939395645671797,
          -0.5391366490474503,
          0.8104225248406977,
          -0.2493880163743225,
          -0.5634556674177098,
          0.31052738807329744,
          -0.07547020223629892,
          0.39694849620435846,
          -2.307601399367974,
          0.4690059427284225,
          0.36897684664490976,
          -0.38369728493884553,
          0.7383755977764519,
          1.0832043639985331,
          -1.3832746089444825,
          -0.5836772744395085,
          0.8363588903108603,
          0.024321542018380275,
          0.42848927597760655,
          0.04794678043158683,
          0.7961084702479705
         ],
         "xaxis": "x14",
         "y": [
          1.6486816662331822,
          0.5127527941680837,
          -0.45682022340909373,
          2.1021649612,
          -0.7990855629929148,
          0.4857753772751398,
          0.4815860906083117,
          -1.2744356312135072,
          -0.33334735616287786,
          0.05538581977517408,
          -1.5126273539012896,
          0.19339632488793723,
          0.7054632311028051,
          -1.8340851996085326,
          -0.7366515004877121,
          -0.6734292032266896,
          -0.676685774101941,
          0.5512232961403791,
          0.8206992367161917,
          0.7865432202040523,
          3.4644184488191514,
          0.3951465629281341,
          -0.48354084255353336,
          -1.5581103345775005,
          -1.2710047919359644,
          1.0702546826142583,
          -0.949672111341957,
          -2.216929713465729,
          -1.9961865856818644,
          -0.9658677871958201,
          -0.3958461008901219,
          -0.9879091497424247,
          0.10168777245959641,
          0.7040890672529018,
          0.012738971417033285,
          -0.656871427462446,
          -0.3384513518579964,
          0.5630675214455418,
          -1.2329261460910355,
          -1.0095345242430749,
          2.051075780541855,
          -1.1114430424075747,
          0.8213819424432546,
          1.4774860385664552,
          -1.3695699721097088,
          1.8940583040337189,
          0.6392982715691162,
          0.7376353700258274,
          0.4709378312538229,
          -0.07085504170072542,
          1.0898676814593422,
          0.11868141187906694,
          -1.8786330200639423,
          0.5417011107843329,
          -0.7739949128980816,
          -0.6068410879267366,
          0.828221928735691,
          0.47545636639656247,
          0.007993772181831773,
          0.14041824090154645,
          1.4416947872685415,
          1.3237616799692526,
          -2.3777970169955016,
          0.5923666677664033,
          0.3359164990590182,
          -0.5962859323351763,
          -0.4250064485179365,
          -0.016772945841256614,
          -0.5269254239362561,
          -1.31108739074214,
          0.6179665884371213,
          0.4489631120581825,
          0.8267111974126393,
          -0.3732848291661357,
          2.1313610426401954,
          -0.531869502421004,
          -0.9607535438420161,
          -0.11462399514394792,
          -1.2845810072178885,
          0.8021308269304693,
          0.32685228787675885,
          -0.8030267081626514,
          0.6158227844521023,
          -0.7714418392550003,
          -2.6013610686189765,
          1.366753070088446,
          0.19977922081655458,
          -4.5120274063760775,
          0.370997798837073,
          -0.491933431806824,
          -0.32701692644832503,
          -1.0030417657193527,
          -0.5484870568614646,
          0.7164675406003863,
          -0.16609494033713815,
          -0.09701544574085726,
          0.43980493056478,
          -0.15215637559465336,
          -0.6815302536181178,
          -0.09493296897677167
         ],
         "yaxis": "y14"
        },
        {
         "line": {
          "color": "rgba(128, 128, 128, 1.0)",
          "dash": "solid",
          "shape": "linear",
          "width": 1.3
         },
         "marker": {
          "size": 2,
          "symbol": "circle"
         },
         "mode": "markers",
         "name": "D",
         "text": "",
         "type": "scatter",
         "x": [
          0.772557478686186,
          1.5619374538981845,
          -0.3099869748234525,
          1.0267050315279311,
          1.1956404915812884,
          -2.2034383874763273,
          0.8067077046610623,
          -1.8103300100843542,
          1.5131267189302007,
          1.145080104338141,
          0.4238448308395051,
          0.46992769701196596,
          -1.9729888143204348,
          -1.92898446679836,
          -2.1851006923672283,
          0.177981080341058,
          1.7924561902742222,
          -1.3953030497659535,
          1.1161441034855193,
          1.5254266216808785,
          -1.057982549327903,
          -2.0791601228009595,
          0.020548031171678853,
          1.6394192548300652,
          0.7897561132908015,
          -0.7573833534398482,
          0.8197264596516333,
          0.6210510589986893,
          1.5321503992937031,
          1.909072848879784,
          0.9291167713233864,
          -0.2897681888984046,
          0.6893831787329148,
          1.3811506413193944,
          0.17781360379369673,
          0.28529647423891524,
          1.3960430932538688,
          0.8468332022737332,
          0.17226076748453975,
          -1.2307577851619464,
          0.584180398498998,
          1.4265753028061903,
          1.5894719001527489,
          -0.5067650418253508,
          0.5603073817880679,
          0.05182943991604598,
          -0.4020717440584666,
          1.6142464862336825,
          0.9901356343311106,
          -0.715461960190174,
          -0.8361384942048204,
          1.9609316369543475,
          0.37051011952783747,
          1.1796650544323173,
          1.4909246631038218,
          -0.43675667401264395,
          -0.27762877267643055,
          -2.042024507397647,
          1.363660357916209,
          -1.4396568351103747,
          -0.40023208770273955,
          -0.8069605382383405,
          0.9115786262660264,
          0.543521772211655,
          0.3203734603915574,
          -0.7807415283622873,
          -0.1812203135138396,
          -0.45659447649636226,
          -0.8151869631119836,
          0.3472533446471602,
          -0.34522814052564155,
          -0.5978512282435612,
          -0.09695345656372797,
          0.6259990737607608,
          2.2190615508295393,
          -2.7990178457893067,
          0.8406714292695022,
          -2.612632719299105,
          0.46639623801524654,
          -0.1526765784565968,
          -1.2452582458578734,
          -0.6862113796050994,
          1.5192670707920042,
          0.31365919823521043,
          -0.776883635796296,
          -0.8201130333448449,
          0.1814948226897195,
          -0.6063910158985595,
          -0.0964897309311361,
          -0.4542492642451928,
          1.0622660106243298,
          1.193275113762125,
          1.0721888824180852,
          -1.0091559789130249,
          -0.6515977027632105,
          -2.288894333511839,
          -0.14751702777454642,
          -0.5578495614891594,
          -0.49805503060639866,
          0.8878481019315143
         ],
         "xaxis": "x15",
         "y": [
          1.6486816662331822,
          0.5127527941680837,
          -0.45682022340909373,
          2.1021649612,
          -0.7990855629929148,
          0.4857753772751398,
          0.4815860906083117,
          -1.2744356312135072,
          -0.33334735616287786,
          0.05538581977517408,
          -1.5126273539012896,
          0.19339632488793723,
          0.7054632311028051,
          -1.8340851996085326,
          -0.7366515004877121,
          -0.6734292032266896,
          -0.676685774101941,
          0.5512232961403791,
          0.8206992367161917,
          0.7865432202040523,
          3.4644184488191514,
          0.3951465629281341,
          -0.48354084255353336,
          -1.5581103345775005,
          -1.2710047919359644,
          1.0702546826142583,
          -0.949672111341957,
          -2.216929713465729,
          -1.9961865856818644,
          -0.9658677871958201,
          -0.3958461008901219,
          -0.9879091497424247,
          0.10168777245959641,
          0.7040890672529018,
          0.012738971417033285,
          -0.656871427462446,
          -0.3384513518579964,
          0.5630675214455418,
          -1.2329261460910355,
          -1.0095345242430749,
          2.051075780541855,
          -1.1114430424075747,
          0.8213819424432546,
          1.4774860385664552,
          -1.3695699721097088,
          1.8940583040337189,
          0.6392982715691162,
          0.7376353700258274,
          0.4709378312538229,
          -0.07085504170072542,
          1.0898676814593422,
          0.11868141187906694,
          -1.8786330200639423,
          0.5417011107843329,
          -0.7739949128980816,
          -0.6068410879267366,
          0.828221928735691,
          0.47545636639656247,
          0.007993772181831773,
          0.14041824090154645,
          1.4416947872685415,
          1.3237616799692526,
          -2.3777970169955016,
          0.5923666677664033,
          0.3359164990590182,
          -0.5962859323351763,
          -0.4250064485179365,
          -0.016772945841256614,
          -0.5269254239362561,
          -1.31108739074214,
          0.6179665884371213,
          0.4489631120581825,
          0.8267111974126393,
          -0.3732848291661357,
          2.1313610426401954,
          -0.531869502421004,
          -0.9607535438420161,
          -0.11462399514394792,
          -1.2845810072178885,
          0.8021308269304693,
          0.32685228787675885,
          -0.8030267081626514,
          0.6158227844521023,
          -0.7714418392550003,
          -2.6013610686189765,
          1.366753070088446,
          0.19977922081655458,
          -4.5120274063760775,
          0.370997798837073,
          -0.491933431806824,
          -0.32701692644832503,
          -1.0030417657193527,
          -0.5484870568614646,
          0.7164675406003863,
          -0.16609494033713815,
          -0.09701544574085726,
          0.43980493056478,
          -0.15215637559465336,
          -0.6815302536181178,
          -0.09493296897677167
         ],
         "yaxis": "y15"
        },
        {
         "histfunc": "count",
         "histnorm": "",
         "marker": {
          "color": "rgba(128, 0, 128, 1.0)",
          "line": {
           "color": "#4D5663",
           "width": 1.3
          }
         },
         "name": "D",
         "nbinsx": 10,
         "opacity": 0.8,
         "orientation": "v",
         "type": "histogram",
         "x": [
          1.6486816662331822,
          0.5127527941680837,
          -0.45682022340909373,
          2.1021649612,
          -0.7990855629929148,
          0.4857753772751398,
          0.4815860906083117,
          -1.2744356312135072,
          -0.33334735616287786,
          0.05538581977517408,
          -1.5126273539012896,
          0.19339632488793723,
          0.7054632311028051,
          -1.8340851996085326,
          -0.7366515004877121,
          -0.6734292032266896,
          -0.676685774101941,
          0.5512232961403791,
          0.8206992367161917,
          0.7865432202040523,
          3.4644184488191514,
          0.3951465629281341,
          -0.48354084255353336,
          -1.5581103345775005,
          -1.2710047919359644,
          1.0702546826142583,
          -0.949672111341957,
          -2.216929713465729,
          -1.9961865856818644,
          -0.9658677871958201,
          -0.3958461008901219,
          -0.9879091497424247,
          0.10168777245959641,
          0.7040890672529018,
          0.012738971417033285,
          -0.656871427462446,
          -0.3384513518579964,
          0.5630675214455418,
          -1.2329261460910355,
          -1.0095345242430749,
          2.051075780541855,
          -1.1114430424075747,
          0.8213819424432546,
          1.4774860385664552,
          -1.3695699721097088,
          1.8940583040337189,
          0.6392982715691162,
          0.7376353700258274,
          0.4709378312538229,
          -0.07085504170072542,
          1.0898676814593422,
          0.11868141187906694,
          -1.8786330200639423,
          0.5417011107843329,
          -0.7739949128980816,
          -0.6068410879267366,
          0.828221928735691,
          0.47545636639656247,
          0.007993772181831773,
          0.14041824090154645,
          1.4416947872685415,
          1.3237616799692526,
          -2.3777970169955016,
          0.5923666677664033,
          0.3359164990590182,
          -0.5962859323351763,
          -0.4250064485179365,
          -0.016772945841256614,
          -0.5269254239362561,
          -1.31108739074214,
          0.6179665884371213,
          0.4489631120581825,
          0.8267111974126393,
          -0.3732848291661357,
          2.1313610426401954,
          -0.531869502421004,
          -0.9607535438420161,
          -0.11462399514394792,
          -1.2845810072178885,
          0.8021308269304693,
          0.32685228787675885,
          -0.8030267081626514,
          0.6158227844521023,
          -0.7714418392550003,
          -2.6013610686189765,
          1.366753070088446,
          0.19977922081655458,
          -4.5120274063760775,
          0.370997798837073,
          -0.491933431806824,
          -0.32701692644832503,
          -1.0030417657193527,
          -0.5484870568614646,
          0.7164675406003863,
          -0.16609494033713815,
          -0.09701544574085726,
          0.43980493056478,
          -0.15215637559465336,
          -0.6815302536181178,
          -0.09493296897677167
         ],
         "xaxis": "x16",
         "yaxis": "y16"
        }
       ],
       "layout": {
        "bargap": 0.02,
        "legend": {
         "bgcolor": "#F5F6F9",
         "font": {
          "color": "#4D5663"
         }
        },
        "paper_bgcolor": "#F5F6F9",
        "plot_bgcolor": "#F5F6F9",
        "showlegend": false,
        "template": {
         "data": {
          "bar": [
           {
            "error_x": {
             "color": "#2a3f5f"
            },
            "error_y": {
             "color": "#2a3f5f"
            },
            "marker": {
             "line": {
              "color": "#E5ECF6",
              "width": 0.5
             }
            },
            "type": "bar"
           }
          ],
          "barpolar": [
           {
            "marker": {
             "line": {
              "color": "#E5ECF6",
              "width": 0.5
             }
            },
            "type": "barpolar"
           }
          ],
          "carpet": [
           {
            "aaxis": {
             "endlinecolor": "#2a3f5f",
             "gridcolor": "white",
             "linecolor": "white",
             "minorgridcolor": "white",
             "startlinecolor": "#2a3f5f"
            },
            "baxis": {
             "endlinecolor": "#2a3f5f",
             "gridcolor": "white",
             "linecolor": "white",
             "minorgridcolor": "white",
             "startlinecolor": "#2a3f5f"
            },
            "type": "carpet"
           }
          ],
          "choropleth": [
           {
            "colorbar": {
             "outlinewidth": 0,
             "ticks": ""
            },
            "type": "choropleth"
           }
          ],
          "contour": [
           {
            "colorbar": {
             "outlinewidth": 0,
             "ticks": ""
            },
            "colorscale": [
             [
              0,
              "#0d0887"
             ],
             [
              0.1111111111111111,
              "#46039f"
             ],
             [
              0.2222222222222222,
              "#7201a8"
             ],
             [
              0.3333333333333333,
              "#9c179e"
             ],
             [
              0.4444444444444444,
              "#bd3786"
             ],
             [
              0.5555555555555556,
              "#d8576b"
             ],
             [
              0.6666666666666666,
              "#ed7953"
             ],
             [
              0.7777777777777778,
              "#fb9f3a"
             ],
             [
              0.8888888888888888,
              "#fdca26"
             ],
             [
              1,
              "#f0f921"
             ]
            ],
            "type": "contour"
           }
          ],
          "contourcarpet": [
           {
            "colorbar": {
             "outlinewidth": 0,
             "ticks": ""
            },
            "type": "contourcarpet"
           }
          ],
          "heatmap": [
           {
            "colorbar": {
             "outlinewidth": 0,
             "ticks": ""
            },
            "colorscale": [
             [
              0,
              "#0d0887"
             ],
             [
              0.1111111111111111,
              "#46039f"
             ],
             [
              0.2222222222222222,
              "#7201a8"
             ],
             [
              0.3333333333333333,
              "#9c179e"
             ],
             [
              0.4444444444444444,
              "#bd3786"
             ],
             [
              0.5555555555555556,
              "#d8576b"
             ],
             [
              0.6666666666666666,
              "#ed7953"
             ],
             [
              0.7777777777777778,
              "#fb9f3a"
             ],
             [
              0.8888888888888888,
              "#fdca26"
             ],
             [
              1,
              "#f0f921"
             ]
            ],
            "type": "heatmap"
           }
          ],
          "heatmapgl": [
           {
            "colorbar": {
             "outlinewidth": 0,
             "ticks": ""
            },
            "colorscale": [
             [
              0,
              "#0d0887"
             ],
             [
              0.1111111111111111,
              "#46039f"
             ],
             [
              0.2222222222222222,
              "#7201a8"
             ],
             [
              0.3333333333333333,
              "#9c179e"
             ],
             [
              0.4444444444444444,
              "#bd3786"
             ],
             [
              0.5555555555555556,
              "#d8576b"
             ],
             [
              0.6666666666666666,
              "#ed7953"
             ],
             [
              0.7777777777777778,
              "#fb9f3a"
             ],
             [
              0.8888888888888888,
              "#fdca26"
             ],
             [
              1,
              "#f0f921"
             ]
            ],
            "type": "heatmapgl"
           }
          ],
          "histogram": [
           {
            "marker": {
             "colorbar": {
              "outlinewidth": 0,
              "ticks": ""
             }
            },
            "type": "histogram"
           }
          ],
          "histogram2d": [
           {
            "colorbar": {
             "outlinewidth": 0,
             "ticks": ""
            },
            "colorscale": [
             [
              0,
              "#0d0887"
             ],
             [
              0.1111111111111111,
              "#46039f"
             ],
             [
              0.2222222222222222,
              "#7201a8"
             ],
             [
              0.3333333333333333,
              "#9c179e"
             ],
             [
              0.4444444444444444,
              "#bd3786"
             ],
             [
              0.5555555555555556,
              "#d8576b"
             ],
             [
              0.6666666666666666,
              "#ed7953"
             ],
             [
              0.7777777777777778,
              "#fb9f3a"
             ],
             [
              0.8888888888888888,
              "#fdca26"
             ],
             [
              1,
              "#f0f921"
             ]
            ],
            "type": "histogram2d"
           }
          ],
          "histogram2dcontour": [
           {
            "colorbar": {
             "outlinewidth": 0,
             "ticks": ""
            },
            "colorscale": [
             [
              0,
              "#0d0887"
             ],
             [
              0.1111111111111111,
              "#46039f"
             ],
             [
              0.2222222222222222,
              "#7201a8"
             ],
             [
              0.3333333333333333,
              "#9c179e"
             ],
             [
              0.4444444444444444,
              "#bd3786"
             ],
             [
              0.5555555555555556,
              "#d8576b"
             ],
             [
              0.6666666666666666,
              "#ed7953"
             ],
             [
              0.7777777777777778,
              "#fb9f3a"
             ],
             [
              0.8888888888888888,
              "#fdca26"
             ],
             [
              1,
              "#f0f921"
             ]
            ],
            "type": "histogram2dcontour"
           }
          ],
          "mesh3d": [
           {
            "colorbar": {
             "outlinewidth": 0,
             "ticks": ""
            },
            "type": "mesh3d"
           }
          ],
          "parcoords": [
           {
            "line": {
             "colorbar": {
              "outlinewidth": 0,
              "ticks": ""
             }
            },
            "type": "parcoords"
           }
          ],
          "pie": [
           {
            "automargin": true,
            "type": "pie"
           }
          ],
          "scatter": [
           {
            "marker": {
             "colorbar": {
              "outlinewidth": 0,
              "ticks": ""
             }
            },
            "type": "scatter"
           }
          ],
          "scatter3d": [
           {
            "line": {
             "colorbar": {
              "outlinewidth": 0,
              "ticks": ""
             }
            },
            "marker": {
             "colorbar": {
              "outlinewidth": 0,
              "ticks": ""
             }
            },
            "type": "scatter3d"
           }
          ],
          "scattercarpet": [
           {
            "marker": {
             "colorbar": {
              "outlinewidth": 0,
              "ticks": ""
             }
            },
            "type": "scattercarpet"
           }
          ],
          "scattergeo": [
           {
            "marker": {
             "colorbar": {
              "outlinewidth": 0,
              "ticks": ""
             }
            },
            "type": "scattergeo"
           }
          ],
          "scattergl": [
           {
            "marker": {
             "colorbar": {
              "outlinewidth": 0,
              "ticks": ""
             }
            },
            "type": "scattergl"
           }
          ],
          "scattermapbox": [
           {
            "marker": {
             "colorbar": {
              "outlinewidth": 0,
              "ticks": ""
             }
            },
            "type": "scattermapbox"
           }
          ],
          "scatterpolar": [
           {
            "marker": {
             "colorbar": {
              "outlinewidth": 0,
              "ticks": ""
             }
            },
            "type": "scatterpolar"
           }
          ],
          "scatterpolargl": [
           {
            "marker": {
             "colorbar": {
              "outlinewidth": 0,
              "ticks": ""
             }
            },
            "type": "scatterpolargl"
           }
          ],
          "scatterternary": [
           {
            "marker": {
             "colorbar": {
              "outlinewidth": 0,
              "ticks": ""
             }
            },
            "type": "scatterternary"
           }
          ],
          "surface": [
           {
            "colorbar": {
             "outlinewidth": 0,
             "ticks": ""
            },
            "colorscale": [
             [
              0,
              "#0d0887"
             ],
             [
              0.1111111111111111,
              "#46039f"
             ],
             [
              0.2222222222222222,
              "#7201a8"
             ],
             [
              0.3333333333333333,
              "#9c179e"
             ],
             [
              0.4444444444444444,
              "#bd3786"
             ],
             [
              0.5555555555555556,
              "#d8576b"
             ],
             [
              0.6666666666666666,
              "#ed7953"
             ],
             [
              0.7777777777777778,
              "#fb9f3a"
             ],
             [
              0.8888888888888888,
              "#fdca26"
             ],
             [
              1,
              "#f0f921"
             ]
            ],
            "type": "surface"
           }
          ],
          "table": [
           {
            "cells": {
             "fill": {
              "color": "#EBF0F8"
             },
             "line": {
              "color": "white"
             }
            },
            "header": {
             "fill": {
              "color": "#C8D4E3"
             },
             "line": {
              "color": "white"
             }
            },
            "type": "table"
           }
          ]
         },
         "layout": {
          "annotationdefaults": {
           "arrowcolor": "#2a3f5f",
           "arrowhead": 0,
           "arrowwidth": 1
          },
          "autotypenumbers": "strict",
          "coloraxis": {
           "colorbar": {
            "outlinewidth": 0,
            "ticks": ""
           }
          },
          "colorscale": {
           "diverging": [
            [
             0,
             "#8e0152"
            ],
            [
             0.1,
             "#c51b7d"
            ],
            [
             0.2,
             "#de77ae"
            ],
            [
             0.3,
             "#f1b6da"
            ],
            [
             0.4,
             "#fde0ef"
            ],
            [
             0.5,
             "#f7f7f7"
            ],
            [
             0.6,
             "#e6f5d0"
            ],
            [
             0.7,
             "#b8e186"
            ],
            [
             0.8,
             "#7fbc41"
            ],
            [
             0.9,
             "#4d9221"
            ],
            [
             1,
             "#276419"
            ]
           ],
           "sequential": [
            [
             0,
             "#0d0887"
            ],
            [
             0.1111111111111111,
             "#46039f"
            ],
            [
             0.2222222222222222,
             "#7201a8"
            ],
            [
             0.3333333333333333,
             "#9c179e"
            ],
            [
             0.4444444444444444,
             "#bd3786"
            ],
            [
             0.5555555555555556,
             "#d8576b"
            ],
            [
             0.6666666666666666,
             "#ed7953"
            ],
            [
             0.7777777777777778,
             "#fb9f3a"
            ],
            [
             0.8888888888888888,
             "#fdca26"
            ],
            [
             1,
             "#f0f921"
            ]
           ],
           "sequentialminus": [
            [
             0,
             "#0d0887"
            ],
            [
             0.1111111111111111,
             "#46039f"
            ],
            [
             0.2222222222222222,
             "#7201a8"
            ],
            [
             0.3333333333333333,
             "#9c179e"
            ],
            [
             0.4444444444444444,
             "#bd3786"
            ],
            [
             0.5555555555555556,
             "#d8576b"
            ],
            [
             0.6666666666666666,
             "#ed7953"
            ],
            [
             0.7777777777777778,
             "#fb9f3a"
            ],
            [
             0.8888888888888888,
             "#fdca26"
            ],
            [
             1,
             "#f0f921"
            ]
           ]
          },
          "colorway": [
           "#636efa",
           "#EF553B",
           "#00cc96",
           "#ab63fa",
           "#FFA15A",
           "#19d3f3",
           "#FF6692",
           "#B6E880",
           "#FF97FF",
           "#FECB52"
          ],
          "font": {
           "color": "#2a3f5f"
          },
          "geo": {
           "bgcolor": "white",
           "lakecolor": "white",
           "landcolor": "#E5ECF6",
           "showlakes": true,
           "showland": true,
           "subunitcolor": "white"
          },
          "hoverlabel": {
           "align": "left"
          },
          "hovermode": "closest",
          "mapbox": {
           "style": "light"
          },
          "paper_bgcolor": "white",
          "plot_bgcolor": "#E5ECF6",
          "polar": {
           "angularaxis": {
            "gridcolor": "white",
            "linecolor": "white",
            "ticks": ""
           },
           "bgcolor": "#E5ECF6",
           "radialaxis": {
            "gridcolor": "white",
            "linecolor": "white",
            "ticks": ""
           }
          },
          "scene": {
           "xaxis": {
            "backgroundcolor": "#E5ECF6",
            "gridcolor": "white",
            "gridwidth": 2,
            "linecolor": "white",
            "showbackground": true,
            "ticks": "",
            "zerolinecolor": "white"
           },
           "yaxis": {
            "backgroundcolor": "#E5ECF6",
            "gridcolor": "white",
            "gridwidth": 2,
            "linecolor": "white",
            "showbackground": true,
            "ticks": "",
            "zerolinecolor": "white"
           },
           "zaxis": {
            "backgroundcolor": "#E5ECF6",
            "gridcolor": "white",
            "gridwidth": 2,
            "linecolor": "white",
            "showbackground": true,
            "ticks": "",
            "zerolinecolor": "white"
           }
          },
          "shapedefaults": {
           "line": {
            "color": "#2a3f5f"
           }
          },
          "ternary": {
           "aaxis": {
            "gridcolor": "white",
            "linecolor": "white",
            "ticks": ""
           },
           "baxis": {
            "gridcolor": "white",
            "linecolor": "white",
            "ticks": ""
           },
           "bgcolor": "#E5ECF6",
           "caxis": {
            "gridcolor": "white",
            "linecolor": "white",
            "ticks": ""
           }
          },
          "title": {
           "x": 0.05
          },
          "xaxis": {
           "automargin": true,
           "gridcolor": "white",
           "linecolor": "white",
           "ticks": "",
           "title": {
            "standoff": 15
           },
           "zerolinecolor": "white",
           "zerolinewidth": 2
          },
          "yaxis": {
           "automargin": true,
           "gridcolor": "white",
           "linecolor": "white",
           "ticks": "",
           "title": {
            "standoff": 15
           },
           "zerolinecolor": "white",
           "zerolinewidth": 2
          }
         }
        },
        "title": {
         "font": {
          "color": "#4D5663"
         }
        },
        "xaxis": {
         "anchor": "y",
         "domain": [
          0,
          0.2125
         ],
         "gridcolor": "#E1E5ED",
         "showgrid": false,
         "tickfont": {
          "color": "#4D5663"
         },
         "title": {
          "font": {
           "color": "#4D5663"
          },
          "text": ""
         },
         "zerolinecolor": "#E1E5ED"
        },
        "xaxis10": {
         "anchor": "y10",
         "domain": [
          0.2625,
          0.475
         ],
         "gridcolor": "#E1E5ED",
         "showgrid": false,
         "tickfont": {
          "color": "#4D5663"
         },
         "title": {
          "font": {
           "color": "#4D5663"
          },
          "text": ""
         },
         "zerolinecolor": "#E1E5ED"
        },
        "xaxis11": {
         "anchor": "y11",
         "domain": [
          0.525,
          0.7375
         ],
         "gridcolor": "#E1E5ED",
         "showgrid": false,
         "tickfont": {
          "color": "#4D5663"
         },
         "title": {
          "font": {
           "color": "#4D5663"
          },
          "text": ""
         },
         "zerolinecolor": "#E1E5ED"
        },
        "xaxis12": {
         "anchor": "y12",
         "domain": [
          0.7875,
          1
         ],
         "gridcolor": "#E1E5ED",
         "showgrid": false,
         "tickfont": {
          "color": "#4D5663"
         },
         "title": {
          "font": {
           "color": "#4D5663"
          },
          "text": ""
         },
         "zerolinecolor": "#E1E5ED"
        },
        "xaxis13": {
         "anchor": "y13",
         "domain": [
          0,
          0.2125
         ],
         "gridcolor": "#E1E5ED",
         "showgrid": false,
         "tickfont": {
          "color": "#4D5663"
         },
         "title": {
          "font": {
           "color": "#4D5663"
          },
          "text": ""
         },
         "zerolinecolor": "#E1E5ED"
        },
        "xaxis14": {
         "anchor": "y14",
         "domain": [
          0.2625,
          0.475
         ],
         "gridcolor": "#E1E5ED",
         "showgrid": false,
         "tickfont": {
          "color": "#4D5663"
         },
         "title": {
          "font": {
           "color": "#4D5663"
          },
          "text": ""
         },
         "zerolinecolor": "#E1E5ED"
        },
        "xaxis15": {
         "anchor": "y15",
         "domain": [
          0.525,
          0.7375
         ],
         "gridcolor": "#E1E5ED",
         "showgrid": false,
         "tickfont": {
          "color": "#4D5663"
         },
         "title": {
          "font": {
           "color": "#4D5663"
          },
          "text": ""
         },
         "zerolinecolor": "#E1E5ED"
        },
        "xaxis16": {
         "anchor": "y16",
         "domain": [
          0.7875,
          1
         ],
         "gridcolor": "#E1E5ED",
         "showgrid": false,
         "tickfont": {
          "color": "#4D5663"
         },
         "title": {
          "font": {
           "color": "#4D5663"
          },
          "text": ""
         },
         "zerolinecolor": "#E1E5ED"
        },
        "xaxis2": {
         "anchor": "y2",
         "domain": [
          0.2625,
          0.475
         ],
         "gridcolor": "#E1E5ED",
         "showgrid": false,
         "tickfont": {
          "color": "#4D5663"
         },
         "title": {
          "font": {
           "color": "#4D5663"
          },
          "text": ""
         },
         "zerolinecolor": "#E1E5ED"
        },
        "xaxis3": {
         "anchor": "y3",
         "domain": [
          0.525,
          0.7375
         ],
         "gridcolor": "#E1E5ED",
         "showgrid": false,
         "tickfont": {
          "color": "#4D5663"
         },
         "title": {
          "font": {
           "color": "#4D5663"
          },
          "text": ""
         },
         "zerolinecolor": "#E1E5ED"
        },
        "xaxis4": {
         "anchor": "y4",
         "domain": [
          0.7875,
          1
         ],
         "gridcolor": "#E1E5ED",
         "showgrid": false,
         "tickfont": {
          "color": "#4D5663"
         },
         "title": {
          "font": {
           "color": "#4D5663"
          },
          "text": ""
         },
         "zerolinecolor": "#E1E5ED"
        },
        "xaxis5": {
         "anchor": "y5",
         "domain": [
          0,
          0.2125
         ],
         "gridcolor": "#E1E5ED",
         "showgrid": false,
         "tickfont": {
          "color": "#4D5663"
         },
         "title": {
          "font": {
           "color": "#4D5663"
          },
          "text": ""
         },
         "zerolinecolor": "#E1E5ED"
        },
        "xaxis6": {
         "anchor": "y6",
         "domain": [
          0.2625,
          0.475
         ],
         "gridcolor": "#E1E5ED",
         "showgrid": false,
         "tickfont": {
          "color": "#4D5663"
         },
         "title": {
          "font": {
           "color": "#4D5663"
          },
          "text": ""
         },
         "zerolinecolor": "#E1E5ED"
        },
        "xaxis7": {
         "anchor": "y7",
         "domain": [
          0.525,
          0.7375
         ],
         "gridcolor": "#E1E5ED",
         "showgrid": false,
         "tickfont": {
          "color": "#4D5663"
         },
         "title": {
          "font": {
           "color": "#4D5663"
          },
          "text": ""
         },
         "zerolinecolor": "#E1E5ED"
        },
        "xaxis8": {
         "anchor": "y8",
         "domain": [
          0.7875,
          1
         ],
         "gridcolor": "#E1E5ED",
         "showgrid": false,
         "tickfont": {
          "color": "#4D5663"
         },
         "title": {
          "font": {
           "color": "#4D5663"
          },
          "text": ""
         },
         "zerolinecolor": "#E1E5ED"
        },
        "xaxis9": {
         "anchor": "y9",
         "domain": [
          0,
          0.2125
         ],
         "gridcolor": "#E1E5ED",
         "showgrid": false,
         "tickfont": {
          "color": "#4D5663"
         },
         "title": {
          "font": {
           "color": "#4D5663"
          },
          "text": ""
         },
         "zerolinecolor": "#E1E5ED"
        },
        "yaxis": {
         "anchor": "x",
         "domain": [
          0.8025,
          1
         ],
         "gridcolor": "#E1E5ED",
         "showgrid": false,
         "tickfont": {
          "color": "#4D5663"
         },
         "title": {
          "font": {
           "color": "#4D5663"
          },
          "text": ""
         },
         "zerolinecolor": "#E1E5ED"
        },
        "yaxis10": {
         "anchor": "x10",
         "domain": [
          0.2675,
          0.465
         ],
         "gridcolor": "#E1E5ED",
         "showgrid": false,
         "tickfont": {
          "color": "#4D5663"
         },
         "title": {
          "font": {
           "color": "#4D5663"
          },
          "text": ""
         },
         "zerolinecolor": "#E1E5ED"
        },
        "yaxis11": {
         "anchor": "x11",
         "domain": [
          0.2675,
          0.465
         ],
         "gridcolor": "#E1E5ED",
         "showgrid": false,
         "tickfont": {
          "color": "#4D5663"
         },
         "title": {
          "font": {
           "color": "#4D5663"
          },
          "text": ""
         },
         "zerolinecolor": "#E1E5ED"
        },
        "yaxis12": {
         "anchor": "x12",
         "domain": [
          0.2675,
          0.465
         ],
         "gridcolor": "#E1E5ED",
         "showgrid": false,
         "tickfont": {
          "color": "#4D5663"
         },
         "title": {
          "font": {
           "color": "#4D5663"
          },
          "text": ""
         },
         "zerolinecolor": "#E1E5ED"
        },
        "yaxis13": {
         "anchor": "x13",
         "domain": [
          0,
          0.1975
         ],
         "gridcolor": "#E1E5ED",
         "showgrid": false,
         "tickfont": {
          "color": "#4D5663"
         },
         "title": {
          "font": {
           "color": "#4D5663"
          },
          "text": ""
         },
         "zerolinecolor": "#E1E5ED"
        },
        "yaxis14": {
         "anchor": "x14",
         "domain": [
          0,
          0.1975
         ],
         "gridcolor": "#E1E5ED",
         "showgrid": false,
         "tickfont": {
          "color": "#4D5663"
         },
         "title": {
          "font": {
           "color": "#4D5663"
          },
          "text": ""
         },
         "zerolinecolor": "#E1E5ED"
        },
        "yaxis15": {
         "anchor": "x15",
         "domain": [
          0,
          0.1975
         ],
         "gridcolor": "#E1E5ED",
         "showgrid": false,
         "tickfont": {
          "color": "#4D5663"
         },
         "title": {
          "font": {
           "color": "#4D5663"
          },
          "text": ""
         },
         "zerolinecolor": "#E1E5ED"
        },
        "yaxis16": {
         "anchor": "x16",
         "domain": [
          0,
          0.1975
         ],
         "gridcolor": "#E1E5ED",
         "showgrid": false,
         "tickfont": {
          "color": "#4D5663"
         },
         "title": {
          "font": {
           "color": "#4D5663"
          },
          "text": ""
         },
         "zerolinecolor": "#E1E5ED"
        },
        "yaxis2": {
         "anchor": "x2",
         "domain": [
          0.8025,
          1
         ],
         "gridcolor": "#E1E5ED",
         "showgrid": false,
         "tickfont": {
          "color": "#4D5663"
         },
         "title": {
          "font": {
           "color": "#4D5663"
          },
          "text": ""
         },
         "zerolinecolor": "#E1E5ED"
        },
        "yaxis3": {
         "anchor": "x3",
         "domain": [
          0.8025,
          1
         ],
         "gridcolor": "#E1E5ED",
         "showgrid": false,
         "tickfont": {
          "color": "#4D5663"
         },
         "title": {
          "font": {
           "color": "#4D5663"
          },
          "text": ""
         },
         "zerolinecolor": "#E1E5ED"
        },
        "yaxis4": {
         "anchor": "x4",
         "domain": [
          0.8025,
          1
         ],
         "gridcolor": "#E1E5ED",
         "showgrid": false,
         "tickfont": {
          "color": "#4D5663"
         },
         "title": {
          "font": {
           "color": "#4D5663"
          },
          "text": ""
         },
         "zerolinecolor": "#E1E5ED"
        },
        "yaxis5": {
         "anchor": "x5",
         "domain": [
          0.535,
          0.7325
         ],
         "gridcolor": "#E1E5ED",
         "showgrid": false,
         "tickfont": {
          "color": "#4D5663"
         },
         "title": {
          "font": {
           "color": "#4D5663"
          },
          "text": ""
         },
         "zerolinecolor": "#E1E5ED"
        },
        "yaxis6": {
         "anchor": "x6",
         "domain": [
          0.535,
          0.7325
         ],
         "gridcolor": "#E1E5ED",
         "showgrid": false,
         "tickfont": {
          "color": "#4D5663"
         },
         "title": {
          "font": {
           "color": "#4D5663"
          },
          "text": ""
         },
         "zerolinecolor": "#E1E5ED"
        },
        "yaxis7": {
         "anchor": "x7",
         "domain": [
          0.535,
          0.7325
         ],
         "gridcolor": "#E1E5ED",
         "showgrid": false,
         "tickfont": {
          "color": "#4D5663"
         },
         "title": {
          "font": {
           "color": "#4D5663"
          },
          "text": ""
         },
         "zerolinecolor": "#E1E5ED"
        },
        "yaxis8": {
         "anchor": "x8",
         "domain": [
          0.535,
          0.7325
         ],
         "gridcolor": "#E1E5ED",
         "showgrid": false,
         "tickfont": {
          "color": "#4D5663"
         },
         "title": {
          "font": {
           "color": "#4D5663"
          },
          "text": ""
         },
         "zerolinecolor": "#E1E5ED"
        },
        "yaxis9": {
         "anchor": "x9",
         "domain": [
          0.2675,
          0.465
         ],
         "gridcolor": "#E1E5ED",
         "showgrid": false,
         "tickfont": {
          "color": "#4D5663"
         },
         "title": {
          "font": {
           "color": "#4D5663"
          },
          "text": ""
         },
         "zerolinecolor": "#E1E5ED"
        }
       }
      },
      "text/html": "<div>                            <div id=\"d280c295-b93e-4bc3-a297-cbdb4fbd6793\" class=\"plotly-graph-div\" style=\"height:525px; width:100%;\"></div>            <script type=\"text/javascript\">                require([\"plotly\"], function(Plotly) {                    window.PLOTLYENV=window.PLOTLYENV || {};\n                    window.PLOTLYENV.BASE_URL='https://plot.ly';                                    if (document.getElementById(\"d280c295-b93e-4bc3-a297-cbdb4fbd6793\")) {                    Plotly.newPlot(                        \"d280c295-b93e-4bc3-a297-cbdb4fbd6793\",                        [{\"histfunc\": \"count\", \"histnorm\": \"\", \"marker\": {\"color\": \"rgba(255, 153, 51, 1.0)\", \"line\": {\"color\": \"#4D5663\", \"width\": 1.3}}, \"name\": \"A\", \"nbinsx\": 10, \"opacity\": 0.8, \"orientation\": \"v\", \"type\": \"histogram\", \"x\": [-0.6156103919659448, -1.2624860845503696, -0.31140802116504096, 0.2453469781558024, -0.3047427693778525, -0.1938769133025758, -0.3390513924431758, 1.5495224843356186, -0.9836369725502156, -0.23562461797605772, 0.8067929267569461, -0.8477493448990581, 0.9278122312968577, 1.323246341063781, -0.2036066511292313, -0.2821092872358227, -2.0965504522807996, 1.33263460863893, -0.8730062749442947, -0.21777344944000587, -0.7372035421095716, -0.5744972691712578, 0.9076625671382935, 0.7610440414048033, -0.6461292555889644, -0.5900878597608552, 1.725652171536661, 1.0162788202334525, 1.8210673215211053, 0.6325470352743859, -1.0947329579554326, 1.9517195306102926, 0.23967706103861106, 0.965985394546088, 0.15852368966232788, 0.10870123815921616, 0.14696594995146783, -0.6020170814752861, -2.1988768505562195, 0.4167024137898031, 2.0543280192487425, -1.106173738405013, -1.4573434546316546, 0.21509295230433023, -0.44006889224274537, 0.9157524357694234, 1.4829297270755881, 0.20167127512276564, 0.017180432551903796, -0.004031698138674777, -0.561990871613196, 0.3665113985199989, 1.8845422828466643, -0.0603826347550325, -1.8269870205652525, -0.5075171173939871, -0.38711492763209043, -2.114692791920225, -0.4372265767085458, 1.2637474277480985, 0.3496605779891636, 1.5684009658161446, -1.387050190351923, 0.44359355184557536, -0.28779903043026983, 1.761926219230782, -0.03866072911630973, 1.1281185715490418, -2.4951156025924455, 1.246697677841596, -0.19662280856266776, -0.03727954581444563, 0.552292854080817, -1.0569325305393944, -0.7545348399599937, -1.0808953664893906, 0.2540993659207464, 0.5077451846314007, -0.5938907220819517, -0.06990720893502703, 0.4817857768495659, -0.356625977429201, -1.1256492380989043, 0.6142444292828942, 0.3101873680935744, -0.1354708868849027, -1.4143634705188226, 1.590700092082429, 1.0084567254873549, 1.0017931015713446, 2.7545084278062935, -1.8652271395589703, 0.5462421071405258, 0.21098818368871608, -0.21871249152835495, -1.0852307654587072, 0.13725541941488004, 1.0061247528761237, -0.21212535267469518, 0.30066372306610023], \"xaxis\": \"x\", \"yaxis\": \"y\"}, {\"line\": {\"color\": \"rgba(128, 128, 128, 1.0)\", \"dash\": \"solid\", \"shape\": \"linear\", \"width\": 1.3}, \"marker\": {\"size\": 2, \"symbol\": \"circle\"}, \"mode\": \"markers\", \"name\": \"A\", \"text\": \"\", \"type\": \"scatter\", \"x\": [-1.5157844764829644, -0.41217303880693795, -0.885537620161897, -1.0825116625246325, -0.7711514620169873, 0.11336586975555087, -2.037793252704692, -1.2431066908082695, 0.2279630985577041, 2.285122016115169, 0.5686612058338246, -0.11289094249910886, 1.0871791334388332, -0.9264607664001572, -0.23203245030153488, 1.1978636491657273, -1.61049921813411, 1.0186671150406723, -0.830410126643706, 0.061010127179468195, -1.4428710111153462, -0.34703951558236673, -0.8004712699568765, 0.9872486636646743, -0.11052583039513393, -0.521753599429375, 0.9180609357590939, -0.4706314498351323, 0.1593530936906216, -0.34439821179737523, 0.1260929261261622, 0.9014891700796437, -1.9086325343793984, 1.3265100906787224, -1.016469774207095, -1.0075664358751315, 0.824356905600885, 0.27100187084226507, -2.0531910720757085, -0.33096840295790547, 0.3104043378222117, 0.3201279405565035, 0.07138643572302857, 0.36793695566802753, -0.8340584965818486, -0.19109136807731775, -0.41489317936293635, -1.5901195793905352, -0.41860282360146844, 0.25727166901744886, 1.186585290154861, 0.01147437217925689, 1.0938515937475013, 0.6426173415422843, 0.7645076934816141, 1.9665927990300778, 0.30811626021854516, -0.7566852826738959, -0.12094518765003719, -1.9596422320177858, 0.3681245349734719, -0.45465319992726677, 1.2866713239735286, 2.460441459850995, 1.8473126657480798, -0.27141805317652684, 0.786702020671586, 0.8539164822407052, 0.13463426584909585, 0.4286809506123593, -0.16831506587421277, -1.0353675736388193, 1.5391927362068332, -0.9642384943504239, 0.5520580360748376, -0.3906983426248046, 0.32788841514508926, -0.8049645750137246, -0.2253179772183928, -1.5939395645671797, -0.5391366490474503, 0.8104225248406977, -0.2493880163743225, -0.5634556674177098, 0.31052738807329744, -0.07547020223629892, 0.39694849620435846, -2.307601399367974, 0.4690059427284225, 0.36897684664490976, -0.38369728493884553, 0.7383755977764519, 1.0832043639985331, -1.3832746089444825, -0.5836772744395085, 0.8363588903108603, 0.024321542018380275, 0.42848927597760655, 0.04794678043158683, 0.7961084702479705], \"xaxis\": \"x2\", \"y\": [-0.6156103919659448, -1.2624860845503696, -0.31140802116504096, 0.2453469781558024, -0.3047427693778525, -0.1938769133025758, -0.3390513924431758, 1.5495224843356186, -0.9836369725502156, -0.23562461797605772, 0.8067929267569461, -0.8477493448990581, 0.9278122312968577, 1.323246341063781, -0.2036066511292313, -0.2821092872358227, -2.0965504522807996, 1.33263460863893, -0.8730062749442947, -0.21777344944000587, -0.7372035421095716, -0.5744972691712578, 0.9076625671382935, 0.7610440414048033, -0.6461292555889644, -0.5900878597608552, 1.725652171536661, 1.0162788202334525, 1.8210673215211053, 0.6325470352743859, -1.0947329579554326, 1.9517195306102926, 0.23967706103861106, 0.965985394546088, 0.15852368966232788, 0.10870123815921616, 0.14696594995146783, -0.6020170814752861, -2.1988768505562195, 0.4167024137898031, 2.0543280192487425, -1.106173738405013, -1.4573434546316546, 0.21509295230433023, -0.44006889224274537, 0.9157524357694234, 1.4829297270755881, 0.20167127512276564, 0.017180432551903796, -0.004031698138674777, -0.561990871613196, 0.3665113985199989, 1.8845422828466643, -0.0603826347550325, -1.8269870205652525, -0.5075171173939871, -0.38711492763209043, -2.114692791920225, -0.4372265767085458, 1.2637474277480985, 0.3496605779891636, 1.5684009658161446, -1.387050190351923, 0.44359355184557536, -0.28779903043026983, 1.761926219230782, -0.03866072911630973, 1.1281185715490418, -2.4951156025924455, 1.246697677841596, -0.19662280856266776, -0.03727954581444563, 0.552292854080817, -1.0569325305393944, -0.7545348399599937, -1.0808953664893906, 0.2540993659207464, 0.5077451846314007, -0.5938907220819517, -0.06990720893502703, 0.4817857768495659, -0.356625977429201, -1.1256492380989043, 0.6142444292828942, 0.3101873680935744, -0.1354708868849027, -1.4143634705188226, 1.590700092082429, 1.0084567254873549, 1.0017931015713446, 2.7545084278062935, -1.8652271395589703, 0.5462421071405258, 0.21098818368871608, -0.21871249152835495, -1.0852307654587072, 0.13725541941488004, 1.0061247528761237, -0.21212535267469518, 0.30066372306610023], \"yaxis\": \"y2\"}, {\"line\": {\"color\": \"rgba(128, 128, 128, 1.0)\", \"dash\": \"solid\", \"shape\": \"linear\", \"width\": 1.3}, \"marker\": {\"size\": 2, \"symbol\": \"circle\"}, \"mode\": \"markers\", \"name\": \"A\", \"text\": \"\", \"type\": \"scatter\", \"x\": [0.772557478686186, 1.5619374538981845, -0.3099869748234525, 1.0267050315279311, 1.1956404915812884, -2.2034383874763273, 0.8067077046610623, -1.8103300100843542, 1.5131267189302007, 1.145080104338141, 0.4238448308395051, 0.46992769701196596, -1.9729888143204348, -1.92898446679836, -2.1851006923672283, 0.177981080341058, 1.7924561902742222, -1.3953030497659535, 1.1161441034855193, 1.5254266216808785, -1.057982549327903, -2.0791601228009595, 0.020548031171678853, 1.6394192548300652, 0.7897561132908015, -0.7573833534398482, 0.8197264596516333, 0.6210510589986893, 1.5321503992937031, 1.909072848879784, 0.9291167713233864, -0.2897681888984046, 0.6893831787329148, 1.3811506413193944, 0.17781360379369673, 0.28529647423891524, 1.3960430932538688, 0.8468332022737332, 0.17226076748453975, -1.2307577851619464, 0.584180398498998, 1.4265753028061903, 1.5894719001527489, -0.5067650418253508, 0.5603073817880679, 0.05182943991604598, -0.4020717440584666, 1.6142464862336825, 0.9901356343311106, -0.715461960190174, -0.8361384942048204, 1.9609316369543475, 0.37051011952783747, 1.1796650544323173, 1.4909246631038218, -0.43675667401264395, -0.27762877267643055, -2.042024507397647, 1.363660357916209, -1.4396568351103747, -0.40023208770273955, -0.8069605382383405, 0.9115786262660264, 0.543521772211655, 0.3203734603915574, -0.7807415283622873, -0.1812203135138396, -0.45659447649636226, -0.8151869631119836, 0.3472533446471602, -0.34522814052564155, -0.5978512282435612, -0.09695345656372797, 0.6259990737607608, 2.2190615508295393, -2.7990178457893067, 0.8406714292695022, -2.612632719299105, 0.46639623801524654, -0.1526765784565968, -1.2452582458578734, -0.6862113796050994, 1.5192670707920042, 0.31365919823521043, -0.776883635796296, -0.8201130333448449, 0.1814948226897195, -0.6063910158985595, -0.0964897309311361, -0.4542492642451928, 1.0622660106243298, 1.193275113762125, 1.0721888824180852, -1.0091559789130249, -0.6515977027632105, -2.288894333511839, -0.14751702777454642, -0.5578495614891594, -0.49805503060639866, 0.8878481019315143], \"xaxis\": \"x3\", \"y\": [-0.6156103919659448, -1.2624860845503696, -0.31140802116504096, 0.2453469781558024, -0.3047427693778525, -0.1938769133025758, -0.3390513924431758, 1.5495224843356186, -0.9836369725502156, -0.23562461797605772, 0.8067929267569461, -0.8477493448990581, 0.9278122312968577, 1.323246341063781, -0.2036066511292313, -0.2821092872358227, -2.0965504522807996, 1.33263460863893, -0.8730062749442947, -0.21777344944000587, -0.7372035421095716, -0.5744972691712578, 0.9076625671382935, 0.7610440414048033, -0.6461292555889644, -0.5900878597608552, 1.725652171536661, 1.0162788202334525, 1.8210673215211053, 0.6325470352743859, -1.0947329579554326, 1.9517195306102926, 0.23967706103861106, 0.965985394546088, 0.15852368966232788, 0.10870123815921616, 0.14696594995146783, -0.6020170814752861, -2.1988768505562195, 0.4167024137898031, 2.0543280192487425, -1.106173738405013, -1.4573434546316546, 0.21509295230433023, -0.44006889224274537, 0.9157524357694234, 1.4829297270755881, 0.20167127512276564, 0.017180432551903796, -0.004031698138674777, -0.561990871613196, 0.3665113985199989, 1.8845422828466643, -0.0603826347550325, -1.8269870205652525, -0.5075171173939871, -0.38711492763209043, -2.114692791920225, -0.4372265767085458, 1.2637474277480985, 0.3496605779891636, 1.5684009658161446, -1.387050190351923, 0.44359355184557536, -0.28779903043026983, 1.761926219230782, -0.03866072911630973, 1.1281185715490418, -2.4951156025924455, 1.246697677841596, -0.19662280856266776, -0.03727954581444563, 0.552292854080817, -1.0569325305393944, -0.7545348399599937, -1.0808953664893906, 0.2540993659207464, 0.5077451846314007, -0.5938907220819517, -0.06990720893502703, 0.4817857768495659, -0.356625977429201, -1.1256492380989043, 0.6142444292828942, 0.3101873680935744, -0.1354708868849027, -1.4143634705188226, 1.590700092082429, 1.0084567254873549, 1.0017931015713446, 2.7545084278062935, -1.8652271395589703, 0.5462421071405258, 0.21098818368871608, -0.21871249152835495, -1.0852307654587072, 0.13725541941488004, 1.0061247528761237, -0.21212535267469518, 0.30066372306610023], \"yaxis\": \"y3\"}, {\"line\": {\"color\": \"rgba(128, 128, 128, 1.0)\", \"dash\": \"solid\", \"shape\": \"linear\", \"width\": 1.3}, \"marker\": {\"size\": 2, \"symbol\": \"circle\"}, \"mode\": \"markers\", \"name\": \"A\", \"text\": \"\", \"type\": \"scatter\", \"x\": [1.6486816662331822, 0.5127527941680837, -0.45682022340909373, 2.1021649612, -0.7990855629929148, 0.4857753772751398, 0.4815860906083117, -1.2744356312135072, -0.33334735616287786, 0.05538581977517408, -1.5126273539012896, 0.19339632488793723, 0.7054632311028051, -1.8340851996085326, -0.7366515004877121, -0.6734292032266896, -0.676685774101941, 0.5512232961403791, 0.8206992367161917, 0.7865432202040523, 3.4644184488191514, 0.3951465629281341, -0.48354084255353336, -1.5581103345775005, -1.2710047919359644, 1.0702546826142583, -0.949672111341957, -2.216929713465729, -1.9961865856818644, -0.9658677871958201, -0.3958461008901219, -0.9879091497424247, 0.10168777245959641, 0.7040890672529018, 0.012738971417033285, -0.656871427462446, -0.3384513518579964, 0.5630675214455418, -1.2329261460910355, -1.0095345242430749, 2.051075780541855, -1.1114430424075747, 0.8213819424432546, 1.4774860385664552, -1.3695699721097088, 1.8940583040337189, 0.6392982715691162, 0.7376353700258274, 0.4709378312538229, -0.07085504170072542, 1.0898676814593422, 0.11868141187906694, -1.8786330200639423, 0.5417011107843329, -0.7739949128980816, -0.6068410879267366, 0.828221928735691, 0.47545636639656247, 0.007993772181831773, 0.14041824090154645, 1.4416947872685415, 1.3237616799692526, -2.3777970169955016, 0.5923666677664033, 0.3359164990590182, -0.5962859323351763, -0.4250064485179365, -0.016772945841256614, -0.5269254239362561, -1.31108739074214, 0.6179665884371213, 0.4489631120581825, 0.8267111974126393, -0.3732848291661357, 2.1313610426401954, -0.531869502421004, -0.9607535438420161, -0.11462399514394792, -1.2845810072178885, 0.8021308269304693, 0.32685228787675885, -0.8030267081626514, 0.6158227844521023, -0.7714418392550003, -2.6013610686189765, 1.366753070088446, 0.19977922081655458, -4.5120274063760775, 0.370997798837073, -0.491933431806824, -0.32701692644832503, -1.0030417657193527, -0.5484870568614646, 0.7164675406003863, -0.16609494033713815, -0.09701544574085726, 0.43980493056478, -0.15215637559465336, -0.6815302536181178, -0.09493296897677167], \"xaxis\": \"x4\", \"y\": [-0.6156103919659448, -1.2624860845503696, -0.31140802116504096, 0.2453469781558024, -0.3047427693778525, -0.1938769133025758, -0.3390513924431758, 1.5495224843356186, -0.9836369725502156, -0.23562461797605772, 0.8067929267569461, -0.8477493448990581, 0.9278122312968577, 1.323246341063781, -0.2036066511292313, -0.2821092872358227, -2.0965504522807996, 1.33263460863893, -0.8730062749442947, -0.21777344944000587, -0.7372035421095716, -0.5744972691712578, 0.9076625671382935, 0.7610440414048033, -0.6461292555889644, -0.5900878597608552, 1.725652171536661, 1.0162788202334525, 1.8210673215211053, 0.6325470352743859, -1.0947329579554326, 1.9517195306102926, 0.23967706103861106, 0.965985394546088, 0.15852368966232788, 0.10870123815921616, 0.14696594995146783, -0.6020170814752861, -2.1988768505562195, 0.4167024137898031, 2.0543280192487425, -1.106173738405013, -1.4573434546316546, 0.21509295230433023, -0.44006889224274537, 0.9157524357694234, 1.4829297270755881, 0.20167127512276564, 0.017180432551903796, -0.004031698138674777, -0.561990871613196, 0.3665113985199989, 1.8845422828466643, -0.0603826347550325, -1.8269870205652525, -0.5075171173939871, -0.38711492763209043, -2.114692791920225, -0.4372265767085458, 1.2637474277480985, 0.3496605779891636, 1.5684009658161446, -1.387050190351923, 0.44359355184557536, -0.28779903043026983, 1.761926219230782, -0.03866072911630973, 1.1281185715490418, -2.4951156025924455, 1.246697677841596, -0.19662280856266776, -0.03727954581444563, 0.552292854080817, -1.0569325305393944, -0.7545348399599937, -1.0808953664893906, 0.2540993659207464, 0.5077451846314007, -0.5938907220819517, -0.06990720893502703, 0.4817857768495659, -0.356625977429201, -1.1256492380989043, 0.6142444292828942, 0.3101873680935744, -0.1354708868849027, -1.4143634705188226, 1.590700092082429, 1.0084567254873549, 1.0017931015713446, 2.7545084278062935, -1.8652271395589703, 0.5462421071405258, 0.21098818368871608, -0.21871249152835495, -1.0852307654587072, 0.13725541941488004, 1.0061247528761237, -0.21212535267469518, 0.30066372306610023], \"yaxis\": \"y4\"}, {\"line\": {\"color\": \"rgba(128, 128, 128, 1.0)\", \"dash\": \"solid\", \"shape\": \"linear\", \"width\": 1.3}, \"marker\": {\"size\": 2, \"symbol\": \"circle\"}, \"mode\": \"markers\", \"name\": \"B\", \"text\": \"\", \"type\": \"scatter\", \"x\": [-0.6156103919659448, -1.2624860845503696, -0.31140802116504096, 0.2453469781558024, -0.3047427693778525, -0.1938769133025758, -0.3390513924431758, 1.5495224843356186, -0.9836369725502156, -0.23562461797605772, 0.8067929267569461, -0.8477493448990581, 0.9278122312968577, 1.323246341063781, -0.2036066511292313, -0.2821092872358227, -2.0965504522807996, 1.33263460863893, -0.8730062749442947, -0.21777344944000587, -0.7372035421095716, -0.5744972691712578, 0.9076625671382935, 0.7610440414048033, -0.6461292555889644, -0.5900878597608552, 1.725652171536661, 1.0162788202334525, 1.8210673215211053, 0.6325470352743859, -1.0947329579554326, 1.9517195306102926, 0.23967706103861106, 0.965985394546088, 0.15852368966232788, 0.10870123815921616, 0.14696594995146783, -0.6020170814752861, -2.1988768505562195, 0.4167024137898031, 2.0543280192487425, -1.106173738405013, -1.4573434546316546, 0.21509295230433023, -0.44006889224274537, 0.9157524357694234, 1.4829297270755881, 0.20167127512276564, 0.017180432551903796, -0.004031698138674777, -0.561990871613196, 0.3665113985199989, 1.8845422828466643, -0.0603826347550325, -1.8269870205652525, -0.5075171173939871, -0.38711492763209043, -2.114692791920225, -0.4372265767085458, 1.2637474277480985, 0.3496605779891636, 1.5684009658161446, -1.387050190351923, 0.44359355184557536, -0.28779903043026983, 1.761926219230782, -0.03866072911630973, 1.1281185715490418, -2.4951156025924455, 1.246697677841596, -0.19662280856266776, -0.03727954581444563, 0.552292854080817, -1.0569325305393944, -0.7545348399599937, -1.0808953664893906, 0.2540993659207464, 0.5077451846314007, -0.5938907220819517, -0.06990720893502703, 0.4817857768495659, -0.356625977429201, -1.1256492380989043, 0.6142444292828942, 0.3101873680935744, -0.1354708868849027, -1.4143634705188226, 1.590700092082429, 1.0084567254873549, 1.0017931015713446, 2.7545084278062935, -1.8652271395589703, 0.5462421071405258, 0.21098818368871608, -0.21871249152835495, -1.0852307654587072, 0.13725541941488004, 1.0061247528761237, -0.21212535267469518, 0.30066372306610023], \"xaxis\": \"x5\", \"y\": [-1.5157844764829644, -0.41217303880693795, -0.885537620161897, -1.0825116625246325, -0.7711514620169873, 0.11336586975555087, -2.037793252704692, -1.2431066908082695, 0.2279630985577041, 2.285122016115169, 0.5686612058338246, -0.11289094249910886, 1.0871791334388332, -0.9264607664001572, -0.23203245030153488, 1.1978636491657273, -1.61049921813411, 1.0186671150406723, -0.830410126643706, 0.061010127179468195, -1.4428710111153462, -0.34703951558236673, -0.8004712699568765, 0.9872486636646743, -0.11052583039513393, -0.521753599429375, 0.9180609357590939, -0.4706314498351323, 0.1593530936906216, -0.34439821179737523, 0.1260929261261622, 0.9014891700796437, -1.9086325343793984, 1.3265100906787224, -1.016469774207095, -1.0075664358751315, 0.824356905600885, 0.27100187084226507, -2.0531910720757085, -0.33096840295790547, 0.3104043378222117, 0.3201279405565035, 0.07138643572302857, 0.36793695566802753, -0.8340584965818486, -0.19109136807731775, -0.41489317936293635, -1.5901195793905352, -0.41860282360146844, 0.25727166901744886, 1.186585290154861, 0.01147437217925689, 1.0938515937475013, 0.6426173415422843, 0.7645076934816141, 1.9665927990300778, 0.30811626021854516, -0.7566852826738959, -0.12094518765003719, -1.9596422320177858, 0.3681245349734719, -0.45465319992726677, 1.2866713239735286, 2.460441459850995, 1.8473126657480798, -0.27141805317652684, 0.786702020671586, 0.8539164822407052, 0.13463426584909585, 0.4286809506123593, -0.16831506587421277, -1.0353675736388193, 1.5391927362068332, -0.9642384943504239, 0.5520580360748376, -0.3906983426248046, 0.32788841514508926, -0.8049645750137246, -0.2253179772183928, -1.5939395645671797, -0.5391366490474503, 0.8104225248406977, -0.2493880163743225, -0.5634556674177098, 0.31052738807329744, -0.07547020223629892, 0.39694849620435846, -2.307601399367974, 0.4690059427284225, 0.36897684664490976, -0.38369728493884553, 0.7383755977764519, 1.0832043639985331, -1.3832746089444825, -0.5836772744395085, 0.8363588903108603, 0.024321542018380275, 0.42848927597760655, 0.04794678043158683, 0.7961084702479705], \"yaxis\": \"y5\"}, {\"histfunc\": \"count\", \"histnorm\": \"\", \"marker\": {\"color\": \"rgba(55, 128, 191, 1.0)\", \"line\": {\"color\": \"#4D5663\", \"width\": 1.3}}, \"name\": \"B\", \"nbinsx\": 10, \"opacity\": 0.8, \"orientation\": \"v\", \"type\": \"histogram\", \"x\": [-1.5157844764829644, -0.41217303880693795, -0.885537620161897, -1.0825116625246325, -0.7711514620169873, 0.11336586975555087, -2.037793252704692, -1.2431066908082695, 0.2279630985577041, 2.285122016115169, 0.5686612058338246, -0.11289094249910886, 1.0871791334388332, -0.9264607664001572, -0.23203245030153488, 1.1978636491657273, -1.61049921813411, 1.0186671150406723, -0.830410126643706, 0.061010127179468195, -1.4428710111153462, -0.34703951558236673, -0.8004712699568765, 0.9872486636646743, -0.11052583039513393, -0.521753599429375, 0.9180609357590939, -0.4706314498351323, 0.1593530936906216, -0.34439821179737523, 0.1260929261261622, 0.9014891700796437, -1.9086325343793984, 1.3265100906787224, -1.016469774207095, -1.0075664358751315, 0.824356905600885, 0.27100187084226507, -2.0531910720757085, -0.33096840295790547, 0.3104043378222117, 0.3201279405565035, 0.07138643572302857, 0.36793695566802753, -0.8340584965818486, -0.19109136807731775, -0.41489317936293635, -1.5901195793905352, -0.41860282360146844, 0.25727166901744886, 1.186585290154861, 0.01147437217925689, 1.0938515937475013, 0.6426173415422843, 0.7645076934816141, 1.9665927990300778, 0.30811626021854516, -0.7566852826738959, -0.12094518765003719, -1.9596422320177858, 0.3681245349734719, -0.45465319992726677, 1.2866713239735286, 2.460441459850995, 1.8473126657480798, -0.27141805317652684, 0.786702020671586, 0.8539164822407052, 0.13463426584909585, 0.4286809506123593, -0.16831506587421277, -1.0353675736388193, 1.5391927362068332, -0.9642384943504239, 0.5520580360748376, -0.3906983426248046, 0.32788841514508926, -0.8049645750137246, -0.2253179772183928, -1.5939395645671797, -0.5391366490474503, 0.8104225248406977, -0.2493880163743225, -0.5634556674177098, 0.31052738807329744, -0.07547020223629892, 0.39694849620435846, -2.307601399367974, 0.4690059427284225, 0.36897684664490976, -0.38369728493884553, 0.7383755977764519, 1.0832043639985331, -1.3832746089444825, -0.5836772744395085, 0.8363588903108603, 0.024321542018380275, 0.42848927597760655, 0.04794678043158683, 0.7961084702479705], \"xaxis\": \"x6\", \"yaxis\": \"y6\"}, {\"line\": {\"color\": \"rgba(128, 128, 128, 1.0)\", \"dash\": \"solid\", \"shape\": \"linear\", \"width\": 1.3}, \"marker\": {\"size\": 2, \"symbol\": \"circle\"}, \"mode\": \"markers\", \"name\": \"B\", \"text\": \"\", \"type\": \"scatter\", \"x\": [0.772557478686186, 1.5619374538981845, -0.3099869748234525, 1.0267050315279311, 1.1956404915812884, -2.2034383874763273, 0.8067077046610623, -1.8103300100843542, 1.5131267189302007, 1.145080104338141, 0.4238448308395051, 0.46992769701196596, -1.9729888143204348, -1.92898446679836, -2.1851006923672283, 0.177981080341058, 1.7924561902742222, -1.3953030497659535, 1.1161441034855193, 1.5254266216808785, -1.057982549327903, -2.0791601228009595, 0.020548031171678853, 1.6394192548300652, 0.7897561132908015, -0.7573833534398482, 0.8197264596516333, 0.6210510589986893, 1.5321503992937031, 1.909072848879784, 0.9291167713233864, -0.2897681888984046, 0.6893831787329148, 1.3811506413193944, 0.17781360379369673, 0.28529647423891524, 1.3960430932538688, 0.8468332022737332, 0.17226076748453975, -1.2307577851619464, 0.584180398498998, 1.4265753028061903, 1.5894719001527489, -0.5067650418253508, 0.5603073817880679, 0.05182943991604598, -0.4020717440584666, 1.6142464862336825, 0.9901356343311106, -0.715461960190174, -0.8361384942048204, 1.9609316369543475, 0.37051011952783747, 1.1796650544323173, 1.4909246631038218, -0.43675667401264395, -0.27762877267643055, -2.042024507397647, 1.363660357916209, -1.4396568351103747, -0.40023208770273955, -0.8069605382383405, 0.9115786262660264, 0.543521772211655, 0.3203734603915574, -0.7807415283622873, -0.1812203135138396, -0.45659447649636226, -0.8151869631119836, 0.3472533446471602, -0.34522814052564155, -0.5978512282435612, -0.09695345656372797, 0.6259990737607608, 2.2190615508295393, -2.7990178457893067, 0.8406714292695022, -2.612632719299105, 0.46639623801524654, -0.1526765784565968, -1.2452582458578734, -0.6862113796050994, 1.5192670707920042, 0.31365919823521043, -0.776883635796296, -0.8201130333448449, 0.1814948226897195, -0.6063910158985595, -0.0964897309311361, -0.4542492642451928, 1.0622660106243298, 1.193275113762125, 1.0721888824180852, -1.0091559789130249, -0.6515977027632105, -2.288894333511839, -0.14751702777454642, -0.5578495614891594, -0.49805503060639866, 0.8878481019315143], \"xaxis\": \"x7\", \"y\": [-1.5157844764829644, -0.41217303880693795, -0.885537620161897, -1.0825116625246325, -0.7711514620169873, 0.11336586975555087, -2.037793252704692, -1.2431066908082695, 0.2279630985577041, 2.285122016115169, 0.5686612058338246, -0.11289094249910886, 1.0871791334388332, -0.9264607664001572, -0.23203245030153488, 1.1978636491657273, -1.61049921813411, 1.0186671150406723, -0.830410126643706, 0.061010127179468195, -1.4428710111153462, -0.34703951558236673, -0.8004712699568765, 0.9872486636646743, -0.11052583039513393, -0.521753599429375, 0.9180609357590939, -0.4706314498351323, 0.1593530936906216, -0.34439821179737523, 0.1260929261261622, 0.9014891700796437, -1.9086325343793984, 1.3265100906787224, -1.016469774207095, -1.0075664358751315, 0.824356905600885, 0.27100187084226507, -2.0531910720757085, -0.33096840295790547, 0.3104043378222117, 0.3201279405565035, 0.07138643572302857, 0.36793695566802753, -0.8340584965818486, -0.19109136807731775, -0.41489317936293635, -1.5901195793905352, -0.41860282360146844, 0.25727166901744886, 1.186585290154861, 0.01147437217925689, 1.0938515937475013, 0.6426173415422843, 0.7645076934816141, 1.9665927990300778, 0.30811626021854516, -0.7566852826738959, -0.12094518765003719, -1.9596422320177858, 0.3681245349734719, -0.45465319992726677, 1.2866713239735286, 2.460441459850995, 1.8473126657480798, -0.27141805317652684, 0.786702020671586, 0.8539164822407052, 0.13463426584909585, 0.4286809506123593, -0.16831506587421277, -1.0353675736388193, 1.5391927362068332, -0.9642384943504239, 0.5520580360748376, -0.3906983426248046, 0.32788841514508926, -0.8049645750137246, -0.2253179772183928, -1.5939395645671797, -0.5391366490474503, 0.8104225248406977, -0.2493880163743225, -0.5634556674177098, 0.31052738807329744, -0.07547020223629892, 0.39694849620435846, -2.307601399367974, 0.4690059427284225, 0.36897684664490976, -0.38369728493884553, 0.7383755977764519, 1.0832043639985331, -1.3832746089444825, -0.5836772744395085, 0.8363588903108603, 0.024321542018380275, 0.42848927597760655, 0.04794678043158683, 0.7961084702479705], \"yaxis\": \"y7\"}, {\"line\": {\"color\": \"rgba(128, 128, 128, 1.0)\", \"dash\": \"solid\", \"shape\": \"linear\", \"width\": 1.3}, \"marker\": {\"size\": 2, \"symbol\": \"circle\"}, \"mode\": \"markers\", \"name\": \"B\", \"text\": \"\", \"type\": \"scatter\", \"x\": [1.6486816662331822, 0.5127527941680837, -0.45682022340909373, 2.1021649612, -0.7990855629929148, 0.4857753772751398, 0.4815860906083117, -1.2744356312135072, -0.33334735616287786, 0.05538581977517408, -1.5126273539012896, 0.19339632488793723, 0.7054632311028051, -1.8340851996085326, -0.7366515004877121, -0.6734292032266896, -0.676685774101941, 0.5512232961403791, 0.8206992367161917, 0.7865432202040523, 3.4644184488191514, 0.3951465629281341, -0.48354084255353336, -1.5581103345775005, -1.2710047919359644, 1.0702546826142583, -0.949672111341957, -2.216929713465729, -1.9961865856818644, -0.9658677871958201, -0.3958461008901219, -0.9879091497424247, 0.10168777245959641, 0.7040890672529018, 0.012738971417033285, -0.656871427462446, -0.3384513518579964, 0.5630675214455418, -1.2329261460910355, -1.0095345242430749, 2.051075780541855, -1.1114430424075747, 0.8213819424432546, 1.4774860385664552, -1.3695699721097088, 1.8940583040337189, 0.6392982715691162, 0.7376353700258274, 0.4709378312538229, -0.07085504170072542, 1.0898676814593422, 0.11868141187906694, -1.8786330200639423, 0.5417011107843329, -0.7739949128980816, -0.6068410879267366, 0.828221928735691, 0.47545636639656247, 0.007993772181831773, 0.14041824090154645, 1.4416947872685415, 1.3237616799692526, -2.3777970169955016, 0.5923666677664033, 0.3359164990590182, -0.5962859323351763, -0.4250064485179365, -0.016772945841256614, -0.5269254239362561, -1.31108739074214, 0.6179665884371213, 0.4489631120581825, 0.8267111974126393, -0.3732848291661357, 2.1313610426401954, -0.531869502421004, -0.9607535438420161, -0.11462399514394792, -1.2845810072178885, 0.8021308269304693, 0.32685228787675885, -0.8030267081626514, 0.6158227844521023, -0.7714418392550003, -2.6013610686189765, 1.366753070088446, 0.19977922081655458, -4.5120274063760775, 0.370997798837073, -0.491933431806824, -0.32701692644832503, -1.0030417657193527, -0.5484870568614646, 0.7164675406003863, -0.16609494033713815, -0.09701544574085726, 0.43980493056478, -0.15215637559465336, -0.6815302536181178, -0.09493296897677167], \"xaxis\": \"x8\", \"y\": [-1.5157844764829644, -0.41217303880693795, -0.885537620161897, -1.0825116625246325, -0.7711514620169873, 0.11336586975555087, -2.037793252704692, -1.2431066908082695, 0.2279630985577041, 2.285122016115169, 0.5686612058338246, -0.11289094249910886, 1.0871791334388332, -0.9264607664001572, -0.23203245030153488, 1.1978636491657273, -1.61049921813411, 1.0186671150406723, -0.830410126643706, 0.061010127179468195, -1.4428710111153462, -0.34703951558236673, -0.8004712699568765, 0.9872486636646743, -0.11052583039513393, -0.521753599429375, 0.9180609357590939, -0.4706314498351323, 0.1593530936906216, -0.34439821179737523, 0.1260929261261622, 0.9014891700796437, -1.9086325343793984, 1.3265100906787224, -1.016469774207095, -1.0075664358751315, 0.824356905600885, 0.27100187084226507, -2.0531910720757085, -0.33096840295790547, 0.3104043378222117, 0.3201279405565035, 0.07138643572302857, 0.36793695566802753, -0.8340584965818486, -0.19109136807731775, -0.41489317936293635, -1.5901195793905352, -0.41860282360146844, 0.25727166901744886, 1.186585290154861, 0.01147437217925689, 1.0938515937475013, 0.6426173415422843, 0.7645076934816141, 1.9665927990300778, 0.30811626021854516, -0.7566852826738959, -0.12094518765003719, -1.9596422320177858, 0.3681245349734719, -0.45465319992726677, 1.2866713239735286, 2.460441459850995, 1.8473126657480798, -0.27141805317652684, 0.786702020671586, 0.8539164822407052, 0.13463426584909585, 0.4286809506123593, -0.16831506587421277, -1.0353675736388193, 1.5391927362068332, -0.9642384943504239, 0.5520580360748376, -0.3906983426248046, 0.32788841514508926, -0.8049645750137246, -0.2253179772183928, -1.5939395645671797, -0.5391366490474503, 0.8104225248406977, -0.2493880163743225, -0.5634556674177098, 0.31052738807329744, -0.07547020223629892, 0.39694849620435846, -2.307601399367974, 0.4690059427284225, 0.36897684664490976, -0.38369728493884553, 0.7383755977764519, 1.0832043639985331, -1.3832746089444825, -0.5836772744395085, 0.8363588903108603, 0.024321542018380275, 0.42848927597760655, 0.04794678043158683, 0.7961084702479705], \"yaxis\": \"y8\"}, {\"line\": {\"color\": \"rgba(128, 128, 128, 1.0)\", \"dash\": \"solid\", \"shape\": \"linear\", \"width\": 1.3}, \"marker\": {\"size\": 2, \"symbol\": \"circle\"}, \"mode\": \"markers\", \"name\": \"C\", \"text\": \"\", \"type\": \"scatter\", \"x\": [-0.6156103919659448, -1.2624860845503696, -0.31140802116504096, 0.2453469781558024, -0.3047427693778525, -0.1938769133025758, -0.3390513924431758, 1.5495224843356186, -0.9836369725502156, -0.23562461797605772, 0.8067929267569461, -0.8477493448990581, 0.9278122312968577, 1.323246341063781, -0.2036066511292313, -0.2821092872358227, -2.0965504522807996, 1.33263460863893, -0.8730062749442947, -0.21777344944000587, -0.7372035421095716, -0.5744972691712578, 0.9076625671382935, 0.7610440414048033, -0.6461292555889644, -0.5900878597608552, 1.725652171536661, 1.0162788202334525, 1.8210673215211053, 0.6325470352743859, -1.0947329579554326, 1.9517195306102926, 0.23967706103861106, 0.965985394546088, 0.15852368966232788, 0.10870123815921616, 0.14696594995146783, -0.6020170814752861, -2.1988768505562195, 0.4167024137898031, 2.0543280192487425, -1.106173738405013, -1.4573434546316546, 0.21509295230433023, -0.44006889224274537, 0.9157524357694234, 1.4829297270755881, 0.20167127512276564, 0.017180432551903796, -0.004031698138674777, -0.561990871613196, 0.3665113985199989, 1.8845422828466643, -0.0603826347550325, -1.8269870205652525, -0.5075171173939871, -0.38711492763209043, -2.114692791920225, -0.4372265767085458, 1.2637474277480985, 0.3496605779891636, 1.5684009658161446, -1.387050190351923, 0.44359355184557536, -0.28779903043026983, 1.761926219230782, -0.03866072911630973, 1.1281185715490418, -2.4951156025924455, 1.246697677841596, -0.19662280856266776, -0.03727954581444563, 0.552292854080817, -1.0569325305393944, -0.7545348399599937, -1.0808953664893906, 0.2540993659207464, 0.5077451846314007, -0.5938907220819517, -0.06990720893502703, 0.4817857768495659, -0.356625977429201, -1.1256492380989043, 0.6142444292828942, 0.3101873680935744, -0.1354708868849027, -1.4143634705188226, 1.590700092082429, 1.0084567254873549, 1.0017931015713446, 2.7545084278062935, -1.8652271395589703, 0.5462421071405258, 0.21098818368871608, -0.21871249152835495, -1.0852307654587072, 0.13725541941488004, 1.0061247528761237, -0.21212535267469518, 0.30066372306610023], \"xaxis\": \"x9\", \"y\": [0.772557478686186, 1.5619374538981845, -0.3099869748234525, 1.0267050315279311, 1.1956404915812884, -2.2034383874763273, 0.8067077046610623, -1.8103300100843542, 1.5131267189302007, 1.145080104338141, 0.4238448308395051, 0.46992769701196596, -1.9729888143204348, -1.92898446679836, -2.1851006923672283, 0.177981080341058, 1.7924561902742222, -1.3953030497659535, 1.1161441034855193, 1.5254266216808785, -1.057982549327903, -2.0791601228009595, 0.020548031171678853, 1.6394192548300652, 0.7897561132908015, -0.7573833534398482, 0.8197264596516333, 0.6210510589986893, 1.5321503992937031, 1.909072848879784, 0.9291167713233864, -0.2897681888984046, 0.6893831787329148, 1.3811506413193944, 0.17781360379369673, 0.28529647423891524, 1.3960430932538688, 0.8468332022737332, 0.17226076748453975, -1.2307577851619464, 0.584180398498998, 1.4265753028061903, 1.5894719001527489, -0.5067650418253508, 0.5603073817880679, 0.05182943991604598, -0.4020717440584666, 1.6142464862336825, 0.9901356343311106, -0.715461960190174, -0.8361384942048204, 1.9609316369543475, 0.37051011952783747, 1.1796650544323173, 1.4909246631038218, -0.43675667401264395, -0.27762877267643055, -2.042024507397647, 1.363660357916209, -1.4396568351103747, -0.40023208770273955, -0.8069605382383405, 0.9115786262660264, 0.543521772211655, 0.3203734603915574, -0.7807415283622873, -0.1812203135138396, -0.45659447649636226, -0.8151869631119836, 0.3472533446471602, -0.34522814052564155, -0.5978512282435612, -0.09695345656372797, 0.6259990737607608, 2.2190615508295393, -2.7990178457893067, 0.8406714292695022, -2.612632719299105, 0.46639623801524654, -0.1526765784565968, -1.2452582458578734, -0.6862113796050994, 1.5192670707920042, 0.31365919823521043, -0.776883635796296, -0.8201130333448449, 0.1814948226897195, -0.6063910158985595, -0.0964897309311361, -0.4542492642451928, 1.0622660106243298, 1.193275113762125, 1.0721888824180852, -1.0091559789130249, -0.6515977027632105, -2.288894333511839, -0.14751702777454642, -0.5578495614891594, -0.49805503060639866, 0.8878481019315143], \"yaxis\": \"y9\"}, {\"line\": {\"color\": \"rgba(128, 128, 128, 1.0)\", \"dash\": \"solid\", \"shape\": \"linear\", \"width\": 1.3}, \"marker\": {\"size\": 2, \"symbol\": \"circle\"}, \"mode\": \"markers\", \"name\": \"C\", \"text\": \"\", \"type\": \"scatter\", \"x\": [-1.5157844764829644, -0.41217303880693795, -0.885537620161897, -1.0825116625246325, -0.7711514620169873, 0.11336586975555087, -2.037793252704692, -1.2431066908082695, 0.2279630985577041, 2.285122016115169, 0.5686612058338246, -0.11289094249910886, 1.0871791334388332, -0.9264607664001572, -0.23203245030153488, 1.1978636491657273, -1.61049921813411, 1.0186671150406723, -0.830410126643706, 0.061010127179468195, -1.4428710111153462, -0.34703951558236673, -0.8004712699568765, 0.9872486636646743, -0.11052583039513393, -0.521753599429375, 0.9180609357590939, -0.4706314498351323, 0.1593530936906216, -0.34439821179737523, 0.1260929261261622, 0.9014891700796437, -1.9086325343793984, 1.3265100906787224, -1.016469774207095, -1.0075664358751315, 0.824356905600885, 0.27100187084226507, -2.0531910720757085, -0.33096840295790547, 0.3104043378222117, 0.3201279405565035, 0.07138643572302857, 0.36793695566802753, -0.8340584965818486, -0.19109136807731775, -0.41489317936293635, -1.5901195793905352, -0.41860282360146844, 0.25727166901744886, 1.186585290154861, 0.01147437217925689, 1.0938515937475013, 0.6426173415422843, 0.7645076934816141, 1.9665927990300778, 0.30811626021854516, -0.7566852826738959, -0.12094518765003719, -1.9596422320177858, 0.3681245349734719, -0.45465319992726677, 1.2866713239735286, 2.460441459850995, 1.8473126657480798, -0.27141805317652684, 0.786702020671586, 0.8539164822407052, 0.13463426584909585, 0.4286809506123593, -0.16831506587421277, -1.0353675736388193, 1.5391927362068332, -0.9642384943504239, 0.5520580360748376, -0.3906983426248046, 0.32788841514508926, -0.8049645750137246, -0.2253179772183928, -1.5939395645671797, -0.5391366490474503, 0.8104225248406977, -0.2493880163743225, -0.5634556674177098, 0.31052738807329744, -0.07547020223629892, 0.39694849620435846, -2.307601399367974, 0.4690059427284225, 0.36897684664490976, -0.38369728493884553, 0.7383755977764519, 1.0832043639985331, -1.3832746089444825, -0.5836772744395085, 0.8363588903108603, 0.024321542018380275, 0.42848927597760655, 0.04794678043158683, 0.7961084702479705], \"xaxis\": \"x10\", \"y\": [0.772557478686186, 1.5619374538981845, -0.3099869748234525, 1.0267050315279311, 1.1956404915812884, -2.2034383874763273, 0.8067077046610623, -1.8103300100843542, 1.5131267189302007, 1.145080104338141, 0.4238448308395051, 0.46992769701196596, -1.9729888143204348, -1.92898446679836, -2.1851006923672283, 0.177981080341058, 1.7924561902742222, -1.3953030497659535, 1.1161441034855193, 1.5254266216808785, -1.057982549327903, -2.0791601228009595, 0.020548031171678853, 1.6394192548300652, 0.7897561132908015, -0.7573833534398482, 0.8197264596516333, 0.6210510589986893, 1.5321503992937031, 1.909072848879784, 0.9291167713233864, -0.2897681888984046, 0.6893831787329148, 1.3811506413193944, 0.17781360379369673, 0.28529647423891524, 1.3960430932538688, 0.8468332022737332, 0.17226076748453975, -1.2307577851619464, 0.584180398498998, 1.4265753028061903, 1.5894719001527489, -0.5067650418253508, 0.5603073817880679, 0.05182943991604598, -0.4020717440584666, 1.6142464862336825, 0.9901356343311106, -0.715461960190174, -0.8361384942048204, 1.9609316369543475, 0.37051011952783747, 1.1796650544323173, 1.4909246631038218, -0.43675667401264395, -0.27762877267643055, -2.042024507397647, 1.363660357916209, -1.4396568351103747, -0.40023208770273955, -0.8069605382383405, 0.9115786262660264, 0.543521772211655, 0.3203734603915574, -0.7807415283622873, -0.1812203135138396, -0.45659447649636226, -0.8151869631119836, 0.3472533446471602, -0.34522814052564155, -0.5978512282435612, -0.09695345656372797, 0.6259990737607608, 2.2190615508295393, -2.7990178457893067, 0.8406714292695022, -2.612632719299105, 0.46639623801524654, -0.1526765784565968, -1.2452582458578734, -0.6862113796050994, 1.5192670707920042, 0.31365919823521043, -0.776883635796296, -0.8201130333448449, 0.1814948226897195, -0.6063910158985595, -0.0964897309311361, -0.4542492642451928, 1.0622660106243298, 1.193275113762125, 1.0721888824180852, -1.0091559789130249, -0.6515977027632105, -2.288894333511839, -0.14751702777454642, -0.5578495614891594, -0.49805503060639866, 0.8878481019315143], \"yaxis\": \"y10\"}, {\"histfunc\": \"count\", \"histnorm\": \"\", \"marker\": {\"color\": \"rgba(50, 171, 96, 1.0)\", \"line\": {\"color\": \"#4D5663\", \"width\": 1.3}}, \"name\": \"C\", \"nbinsx\": 10, \"opacity\": 0.8, \"orientation\": \"v\", \"type\": \"histogram\", \"x\": [0.772557478686186, 1.5619374538981845, -0.3099869748234525, 1.0267050315279311, 1.1956404915812884, -2.2034383874763273, 0.8067077046610623, -1.8103300100843542, 1.5131267189302007, 1.145080104338141, 0.4238448308395051, 0.46992769701196596, -1.9729888143204348, -1.92898446679836, -2.1851006923672283, 0.177981080341058, 1.7924561902742222, -1.3953030497659535, 1.1161441034855193, 1.5254266216808785, -1.057982549327903, -2.0791601228009595, 0.020548031171678853, 1.6394192548300652, 0.7897561132908015, -0.7573833534398482, 0.8197264596516333, 0.6210510589986893, 1.5321503992937031, 1.909072848879784, 0.9291167713233864, -0.2897681888984046, 0.6893831787329148, 1.3811506413193944, 0.17781360379369673, 0.28529647423891524, 1.3960430932538688, 0.8468332022737332, 0.17226076748453975, -1.2307577851619464, 0.584180398498998, 1.4265753028061903, 1.5894719001527489, -0.5067650418253508, 0.5603073817880679, 0.05182943991604598, -0.4020717440584666, 1.6142464862336825, 0.9901356343311106, -0.715461960190174, -0.8361384942048204, 1.9609316369543475, 0.37051011952783747, 1.1796650544323173, 1.4909246631038218, -0.43675667401264395, -0.27762877267643055, -2.042024507397647, 1.363660357916209, -1.4396568351103747, -0.40023208770273955, -0.8069605382383405, 0.9115786262660264, 0.543521772211655, 0.3203734603915574, -0.7807415283622873, -0.1812203135138396, -0.45659447649636226, -0.8151869631119836, 0.3472533446471602, -0.34522814052564155, -0.5978512282435612, -0.09695345656372797, 0.6259990737607608, 2.2190615508295393, -2.7990178457893067, 0.8406714292695022, -2.612632719299105, 0.46639623801524654, -0.1526765784565968, -1.2452582458578734, -0.6862113796050994, 1.5192670707920042, 0.31365919823521043, -0.776883635796296, -0.8201130333448449, 0.1814948226897195, -0.6063910158985595, -0.0964897309311361, -0.4542492642451928, 1.0622660106243298, 1.193275113762125, 1.0721888824180852, -1.0091559789130249, -0.6515977027632105, -2.288894333511839, -0.14751702777454642, -0.5578495614891594, -0.49805503060639866, 0.8878481019315143], \"xaxis\": \"x11\", \"yaxis\": \"y11\"}, {\"line\": {\"color\": \"rgba(128, 128, 128, 1.0)\", \"dash\": \"solid\", \"shape\": \"linear\", \"width\": 1.3}, \"marker\": {\"size\": 2, \"symbol\": \"circle\"}, \"mode\": \"markers\", \"name\": \"C\", \"text\": \"\", \"type\": \"scatter\", \"x\": [1.6486816662331822, 0.5127527941680837, -0.45682022340909373, 2.1021649612, -0.7990855629929148, 0.4857753772751398, 0.4815860906083117, -1.2744356312135072, -0.33334735616287786, 0.05538581977517408, -1.5126273539012896, 0.19339632488793723, 0.7054632311028051, -1.8340851996085326, -0.7366515004877121, -0.6734292032266896, -0.676685774101941, 0.5512232961403791, 0.8206992367161917, 0.7865432202040523, 3.4644184488191514, 0.3951465629281341, -0.48354084255353336, -1.5581103345775005, -1.2710047919359644, 1.0702546826142583, -0.949672111341957, -2.216929713465729, -1.9961865856818644, -0.9658677871958201, -0.3958461008901219, -0.9879091497424247, 0.10168777245959641, 0.7040890672529018, 0.012738971417033285, -0.656871427462446, -0.3384513518579964, 0.5630675214455418, -1.2329261460910355, -1.0095345242430749, 2.051075780541855, -1.1114430424075747, 0.8213819424432546, 1.4774860385664552, -1.3695699721097088, 1.8940583040337189, 0.6392982715691162, 0.7376353700258274, 0.4709378312538229, -0.07085504170072542, 1.0898676814593422, 0.11868141187906694, -1.8786330200639423, 0.5417011107843329, -0.7739949128980816, -0.6068410879267366, 0.828221928735691, 0.47545636639656247, 0.007993772181831773, 0.14041824090154645, 1.4416947872685415, 1.3237616799692526, -2.3777970169955016, 0.5923666677664033, 0.3359164990590182, -0.5962859323351763, -0.4250064485179365, -0.016772945841256614, -0.5269254239362561, -1.31108739074214, 0.6179665884371213, 0.4489631120581825, 0.8267111974126393, -0.3732848291661357, 2.1313610426401954, -0.531869502421004, -0.9607535438420161, -0.11462399514394792, -1.2845810072178885, 0.8021308269304693, 0.32685228787675885, -0.8030267081626514, 0.6158227844521023, -0.7714418392550003, -2.6013610686189765, 1.366753070088446, 0.19977922081655458, -4.5120274063760775, 0.370997798837073, -0.491933431806824, -0.32701692644832503, -1.0030417657193527, -0.5484870568614646, 0.7164675406003863, -0.16609494033713815, -0.09701544574085726, 0.43980493056478, -0.15215637559465336, -0.6815302536181178, -0.09493296897677167], \"xaxis\": \"x12\", \"y\": [0.772557478686186, 1.5619374538981845, -0.3099869748234525, 1.0267050315279311, 1.1956404915812884, -2.2034383874763273, 0.8067077046610623, -1.8103300100843542, 1.5131267189302007, 1.145080104338141, 0.4238448308395051, 0.46992769701196596, -1.9729888143204348, -1.92898446679836, -2.1851006923672283, 0.177981080341058, 1.7924561902742222, -1.3953030497659535, 1.1161441034855193, 1.5254266216808785, -1.057982549327903, -2.0791601228009595, 0.020548031171678853, 1.6394192548300652, 0.7897561132908015, -0.7573833534398482, 0.8197264596516333, 0.6210510589986893, 1.5321503992937031, 1.909072848879784, 0.9291167713233864, -0.2897681888984046, 0.6893831787329148, 1.3811506413193944, 0.17781360379369673, 0.28529647423891524, 1.3960430932538688, 0.8468332022737332, 0.17226076748453975, -1.2307577851619464, 0.584180398498998, 1.4265753028061903, 1.5894719001527489, -0.5067650418253508, 0.5603073817880679, 0.05182943991604598, -0.4020717440584666, 1.6142464862336825, 0.9901356343311106, -0.715461960190174, -0.8361384942048204, 1.9609316369543475, 0.37051011952783747, 1.1796650544323173, 1.4909246631038218, -0.43675667401264395, -0.27762877267643055, -2.042024507397647, 1.363660357916209, -1.4396568351103747, -0.40023208770273955, -0.8069605382383405, 0.9115786262660264, 0.543521772211655, 0.3203734603915574, -0.7807415283622873, -0.1812203135138396, -0.45659447649636226, -0.8151869631119836, 0.3472533446471602, -0.34522814052564155, -0.5978512282435612, -0.09695345656372797, 0.6259990737607608, 2.2190615508295393, -2.7990178457893067, 0.8406714292695022, -2.612632719299105, 0.46639623801524654, -0.1526765784565968, -1.2452582458578734, -0.6862113796050994, 1.5192670707920042, 0.31365919823521043, -0.776883635796296, -0.8201130333448449, 0.1814948226897195, -0.6063910158985595, -0.0964897309311361, -0.4542492642451928, 1.0622660106243298, 1.193275113762125, 1.0721888824180852, -1.0091559789130249, -0.6515977027632105, -2.288894333511839, -0.14751702777454642, -0.5578495614891594, -0.49805503060639866, 0.8878481019315143], \"yaxis\": \"y12\"}, {\"line\": {\"color\": \"rgba(128, 128, 128, 1.0)\", \"dash\": \"solid\", \"shape\": \"linear\", \"width\": 1.3}, \"marker\": {\"size\": 2, \"symbol\": \"circle\"}, \"mode\": \"markers\", \"name\": \"D\", \"text\": \"\", \"type\": \"scatter\", \"x\": [-0.6156103919659448, -1.2624860845503696, -0.31140802116504096, 0.2453469781558024, -0.3047427693778525, -0.1938769133025758, -0.3390513924431758, 1.5495224843356186, -0.9836369725502156, -0.23562461797605772, 0.8067929267569461, -0.8477493448990581, 0.9278122312968577, 1.323246341063781, -0.2036066511292313, -0.2821092872358227, -2.0965504522807996, 1.33263460863893, -0.8730062749442947, -0.21777344944000587, -0.7372035421095716, -0.5744972691712578, 0.9076625671382935, 0.7610440414048033, -0.6461292555889644, -0.5900878597608552, 1.725652171536661, 1.0162788202334525, 1.8210673215211053, 0.6325470352743859, -1.0947329579554326, 1.9517195306102926, 0.23967706103861106, 0.965985394546088, 0.15852368966232788, 0.10870123815921616, 0.14696594995146783, -0.6020170814752861, -2.1988768505562195, 0.4167024137898031, 2.0543280192487425, -1.106173738405013, -1.4573434546316546, 0.21509295230433023, -0.44006889224274537, 0.9157524357694234, 1.4829297270755881, 0.20167127512276564, 0.017180432551903796, -0.004031698138674777, -0.561990871613196, 0.3665113985199989, 1.8845422828466643, -0.0603826347550325, -1.8269870205652525, -0.5075171173939871, -0.38711492763209043, -2.114692791920225, -0.4372265767085458, 1.2637474277480985, 0.3496605779891636, 1.5684009658161446, -1.387050190351923, 0.44359355184557536, -0.28779903043026983, 1.761926219230782, -0.03866072911630973, 1.1281185715490418, -2.4951156025924455, 1.246697677841596, -0.19662280856266776, -0.03727954581444563, 0.552292854080817, -1.0569325305393944, -0.7545348399599937, -1.0808953664893906, 0.2540993659207464, 0.5077451846314007, -0.5938907220819517, -0.06990720893502703, 0.4817857768495659, -0.356625977429201, -1.1256492380989043, 0.6142444292828942, 0.3101873680935744, -0.1354708868849027, -1.4143634705188226, 1.590700092082429, 1.0084567254873549, 1.0017931015713446, 2.7545084278062935, -1.8652271395589703, 0.5462421071405258, 0.21098818368871608, -0.21871249152835495, -1.0852307654587072, 0.13725541941488004, 1.0061247528761237, -0.21212535267469518, 0.30066372306610023], \"xaxis\": \"x13\", \"y\": [1.6486816662331822, 0.5127527941680837, -0.45682022340909373, 2.1021649612, -0.7990855629929148, 0.4857753772751398, 0.4815860906083117, -1.2744356312135072, -0.33334735616287786, 0.05538581977517408, -1.5126273539012896, 0.19339632488793723, 0.7054632311028051, -1.8340851996085326, -0.7366515004877121, -0.6734292032266896, -0.676685774101941, 0.5512232961403791, 0.8206992367161917, 0.7865432202040523, 3.4644184488191514, 0.3951465629281341, -0.48354084255353336, -1.5581103345775005, -1.2710047919359644, 1.0702546826142583, -0.949672111341957, -2.216929713465729, -1.9961865856818644, -0.9658677871958201, -0.3958461008901219, -0.9879091497424247, 0.10168777245959641, 0.7040890672529018, 0.012738971417033285, -0.656871427462446, -0.3384513518579964, 0.5630675214455418, -1.2329261460910355, -1.0095345242430749, 2.051075780541855, -1.1114430424075747, 0.8213819424432546, 1.4774860385664552, -1.3695699721097088, 1.8940583040337189, 0.6392982715691162, 0.7376353700258274, 0.4709378312538229, -0.07085504170072542, 1.0898676814593422, 0.11868141187906694, -1.8786330200639423, 0.5417011107843329, -0.7739949128980816, -0.6068410879267366, 0.828221928735691, 0.47545636639656247, 0.007993772181831773, 0.14041824090154645, 1.4416947872685415, 1.3237616799692526, -2.3777970169955016, 0.5923666677664033, 0.3359164990590182, -0.5962859323351763, -0.4250064485179365, -0.016772945841256614, -0.5269254239362561, -1.31108739074214, 0.6179665884371213, 0.4489631120581825, 0.8267111974126393, -0.3732848291661357, 2.1313610426401954, -0.531869502421004, -0.9607535438420161, -0.11462399514394792, -1.2845810072178885, 0.8021308269304693, 0.32685228787675885, -0.8030267081626514, 0.6158227844521023, -0.7714418392550003, -2.6013610686189765, 1.366753070088446, 0.19977922081655458, -4.5120274063760775, 0.370997798837073, -0.491933431806824, -0.32701692644832503, -1.0030417657193527, -0.5484870568614646, 0.7164675406003863, -0.16609494033713815, -0.09701544574085726, 0.43980493056478, -0.15215637559465336, -0.6815302536181178, -0.09493296897677167], \"yaxis\": \"y13\"}, {\"line\": {\"color\": \"rgba(128, 128, 128, 1.0)\", \"dash\": \"solid\", \"shape\": \"linear\", \"width\": 1.3}, \"marker\": {\"size\": 2, \"symbol\": \"circle\"}, \"mode\": \"markers\", \"name\": \"D\", \"text\": \"\", \"type\": \"scatter\", \"x\": [-1.5157844764829644, -0.41217303880693795, -0.885537620161897, -1.0825116625246325, -0.7711514620169873, 0.11336586975555087, -2.037793252704692, -1.2431066908082695, 0.2279630985577041, 2.285122016115169, 0.5686612058338246, -0.11289094249910886, 1.0871791334388332, -0.9264607664001572, -0.23203245030153488, 1.1978636491657273, -1.61049921813411, 1.0186671150406723, -0.830410126643706, 0.061010127179468195, -1.4428710111153462, -0.34703951558236673, -0.8004712699568765, 0.9872486636646743, -0.11052583039513393, -0.521753599429375, 0.9180609357590939, -0.4706314498351323, 0.1593530936906216, -0.34439821179737523, 0.1260929261261622, 0.9014891700796437, -1.9086325343793984, 1.3265100906787224, -1.016469774207095, -1.0075664358751315, 0.824356905600885, 0.27100187084226507, -2.0531910720757085, -0.33096840295790547, 0.3104043378222117, 0.3201279405565035, 0.07138643572302857, 0.36793695566802753, -0.8340584965818486, -0.19109136807731775, -0.41489317936293635, -1.5901195793905352, -0.41860282360146844, 0.25727166901744886, 1.186585290154861, 0.01147437217925689, 1.0938515937475013, 0.6426173415422843, 0.7645076934816141, 1.9665927990300778, 0.30811626021854516, -0.7566852826738959, -0.12094518765003719, -1.9596422320177858, 0.3681245349734719, -0.45465319992726677, 1.2866713239735286, 2.460441459850995, 1.8473126657480798, -0.27141805317652684, 0.786702020671586, 0.8539164822407052, 0.13463426584909585, 0.4286809506123593, -0.16831506587421277, -1.0353675736388193, 1.5391927362068332, -0.9642384943504239, 0.5520580360748376, -0.3906983426248046, 0.32788841514508926, -0.8049645750137246, -0.2253179772183928, -1.5939395645671797, -0.5391366490474503, 0.8104225248406977, -0.2493880163743225, -0.5634556674177098, 0.31052738807329744, -0.07547020223629892, 0.39694849620435846, -2.307601399367974, 0.4690059427284225, 0.36897684664490976, -0.38369728493884553, 0.7383755977764519, 1.0832043639985331, -1.3832746089444825, -0.5836772744395085, 0.8363588903108603, 0.024321542018380275, 0.42848927597760655, 0.04794678043158683, 0.7961084702479705], \"xaxis\": \"x14\", \"y\": [1.6486816662331822, 0.5127527941680837, -0.45682022340909373, 2.1021649612, -0.7990855629929148, 0.4857753772751398, 0.4815860906083117, -1.2744356312135072, -0.33334735616287786, 0.05538581977517408, -1.5126273539012896, 0.19339632488793723, 0.7054632311028051, -1.8340851996085326, -0.7366515004877121, -0.6734292032266896, -0.676685774101941, 0.5512232961403791, 0.8206992367161917, 0.7865432202040523, 3.4644184488191514, 0.3951465629281341, -0.48354084255353336, -1.5581103345775005, -1.2710047919359644, 1.0702546826142583, -0.949672111341957, -2.216929713465729, -1.9961865856818644, -0.9658677871958201, -0.3958461008901219, -0.9879091497424247, 0.10168777245959641, 0.7040890672529018, 0.012738971417033285, -0.656871427462446, -0.3384513518579964, 0.5630675214455418, -1.2329261460910355, -1.0095345242430749, 2.051075780541855, -1.1114430424075747, 0.8213819424432546, 1.4774860385664552, -1.3695699721097088, 1.8940583040337189, 0.6392982715691162, 0.7376353700258274, 0.4709378312538229, -0.07085504170072542, 1.0898676814593422, 0.11868141187906694, -1.8786330200639423, 0.5417011107843329, -0.7739949128980816, -0.6068410879267366, 0.828221928735691, 0.47545636639656247, 0.007993772181831773, 0.14041824090154645, 1.4416947872685415, 1.3237616799692526, -2.3777970169955016, 0.5923666677664033, 0.3359164990590182, -0.5962859323351763, -0.4250064485179365, -0.016772945841256614, -0.5269254239362561, -1.31108739074214, 0.6179665884371213, 0.4489631120581825, 0.8267111974126393, -0.3732848291661357, 2.1313610426401954, -0.531869502421004, -0.9607535438420161, -0.11462399514394792, -1.2845810072178885, 0.8021308269304693, 0.32685228787675885, -0.8030267081626514, 0.6158227844521023, -0.7714418392550003, -2.6013610686189765, 1.366753070088446, 0.19977922081655458, -4.5120274063760775, 0.370997798837073, -0.491933431806824, -0.32701692644832503, -1.0030417657193527, -0.5484870568614646, 0.7164675406003863, -0.16609494033713815, -0.09701544574085726, 0.43980493056478, -0.15215637559465336, -0.6815302536181178, -0.09493296897677167], \"yaxis\": \"y14\"}, {\"line\": {\"color\": \"rgba(128, 128, 128, 1.0)\", \"dash\": \"solid\", \"shape\": \"linear\", \"width\": 1.3}, \"marker\": {\"size\": 2, \"symbol\": \"circle\"}, \"mode\": \"markers\", \"name\": \"D\", \"text\": \"\", \"type\": \"scatter\", \"x\": [0.772557478686186, 1.5619374538981845, -0.3099869748234525, 1.0267050315279311, 1.1956404915812884, -2.2034383874763273, 0.8067077046610623, -1.8103300100843542, 1.5131267189302007, 1.145080104338141, 0.4238448308395051, 0.46992769701196596, -1.9729888143204348, -1.92898446679836, -2.1851006923672283, 0.177981080341058, 1.7924561902742222, -1.3953030497659535, 1.1161441034855193, 1.5254266216808785, -1.057982549327903, -2.0791601228009595, 0.020548031171678853, 1.6394192548300652, 0.7897561132908015, -0.7573833534398482, 0.8197264596516333, 0.6210510589986893, 1.5321503992937031, 1.909072848879784, 0.9291167713233864, -0.2897681888984046, 0.6893831787329148, 1.3811506413193944, 0.17781360379369673, 0.28529647423891524, 1.3960430932538688, 0.8468332022737332, 0.17226076748453975, -1.2307577851619464, 0.584180398498998, 1.4265753028061903, 1.5894719001527489, -0.5067650418253508, 0.5603073817880679, 0.05182943991604598, -0.4020717440584666, 1.6142464862336825, 0.9901356343311106, -0.715461960190174, -0.8361384942048204, 1.9609316369543475, 0.37051011952783747, 1.1796650544323173, 1.4909246631038218, -0.43675667401264395, -0.27762877267643055, -2.042024507397647, 1.363660357916209, -1.4396568351103747, -0.40023208770273955, -0.8069605382383405, 0.9115786262660264, 0.543521772211655, 0.3203734603915574, -0.7807415283622873, -0.1812203135138396, -0.45659447649636226, -0.8151869631119836, 0.3472533446471602, -0.34522814052564155, -0.5978512282435612, -0.09695345656372797, 0.6259990737607608, 2.2190615508295393, -2.7990178457893067, 0.8406714292695022, -2.612632719299105, 0.46639623801524654, -0.1526765784565968, -1.2452582458578734, -0.6862113796050994, 1.5192670707920042, 0.31365919823521043, -0.776883635796296, -0.8201130333448449, 0.1814948226897195, -0.6063910158985595, -0.0964897309311361, -0.4542492642451928, 1.0622660106243298, 1.193275113762125, 1.0721888824180852, -1.0091559789130249, -0.6515977027632105, -2.288894333511839, -0.14751702777454642, -0.5578495614891594, -0.49805503060639866, 0.8878481019315143], \"xaxis\": \"x15\", \"y\": [1.6486816662331822, 0.5127527941680837, -0.45682022340909373, 2.1021649612, -0.7990855629929148, 0.4857753772751398, 0.4815860906083117, -1.2744356312135072, -0.33334735616287786, 0.05538581977517408, -1.5126273539012896, 0.19339632488793723, 0.7054632311028051, -1.8340851996085326, -0.7366515004877121, -0.6734292032266896, -0.676685774101941, 0.5512232961403791, 0.8206992367161917, 0.7865432202040523, 3.4644184488191514, 0.3951465629281341, -0.48354084255353336, -1.5581103345775005, -1.2710047919359644, 1.0702546826142583, -0.949672111341957, -2.216929713465729, -1.9961865856818644, -0.9658677871958201, -0.3958461008901219, -0.9879091497424247, 0.10168777245959641, 0.7040890672529018, 0.012738971417033285, -0.656871427462446, -0.3384513518579964, 0.5630675214455418, -1.2329261460910355, -1.0095345242430749, 2.051075780541855, -1.1114430424075747, 0.8213819424432546, 1.4774860385664552, -1.3695699721097088, 1.8940583040337189, 0.6392982715691162, 0.7376353700258274, 0.4709378312538229, -0.07085504170072542, 1.0898676814593422, 0.11868141187906694, -1.8786330200639423, 0.5417011107843329, -0.7739949128980816, -0.6068410879267366, 0.828221928735691, 0.47545636639656247, 0.007993772181831773, 0.14041824090154645, 1.4416947872685415, 1.3237616799692526, -2.3777970169955016, 0.5923666677664033, 0.3359164990590182, -0.5962859323351763, -0.4250064485179365, -0.016772945841256614, -0.5269254239362561, -1.31108739074214, 0.6179665884371213, 0.4489631120581825, 0.8267111974126393, -0.3732848291661357, 2.1313610426401954, -0.531869502421004, -0.9607535438420161, -0.11462399514394792, -1.2845810072178885, 0.8021308269304693, 0.32685228787675885, -0.8030267081626514, 0.6158227844521023, -0.7714418392550003, -2.6013610686189765, 1.366753070088446, 0.19977922081655458, -4.5120274063760775, 0.370997798837073, -0.491933431806824, -0.32701692644832503, -1.0030417657193527, -0.5484870568614646, 0.7164675406003863, -0.16609494033713815, -0.09701544574085726, 0.43980493056478, -0.15215637559465336, -0.6815302536181178, -0.09493296897677167], \"yaxis\": \"y15\"}, {\"histfunc\": \"count\", \"histnorm\": \"\", \"marker\": {\"color\": \"rgba(128, 0, 128, 1.0)\", \"line\": {\"color\": \"#4D5663\", \"width\": 1.3}}, \"name\": \"D\", \"nbinsx\": 10, \"opacity\": 0.8, \"orientation\": \"v\", \"type\": \"histogram\", \"x\": [1.6486816662331822, 0.5127527941680837, -0.45682022340909373, 2.1021649612, -0.7990855629929148, 0.4857753772751398, 0.4815860906083117, -1.2744356312135072, -0.33334735616287786, 0.05538581977517408, -1.5126273539012896, 0.19339632488793723, 0.7054632311028051, -1.8340851996085326, -0.7366515004877121, -0.6734292032266896, -0.676685774101941, 0.5512232961403791, 0.8206992367161917, 0.7865432202040523, 3.4644184488191514, 0.3951465629281341, -0.48354084255353336, -1.5581103345775005, -1.2710047919359644, 1.0702546826142583, -0.949672111341957, -2.216929713465729, -1.9961865856818644, -0.9658677871958201, -0.3958461008901219, -0.9879091497424247, 0.10168777245959641, 0.7040890672529018, 0.012738971417033285, -0.656871427462446, -0.3384513518579964, 0.5630675214455418, -1.2329261460910355, -1.0095345242430749, 2.051075780541855, -1.1114430424075747, 0.8213819424432546, 1.4774860385664552, -1.3695699721097088, 1.8940583040337189, 0.6392982715691162, 0.7376353700258274, 0.4709378312538229, -0.07085504170072542, 1.0898676814593422, 0.11868141187906694, -1.8786330200639423, 0.5417011107843329, -0.7739949128980816, -0.6068410879267366, 0.828221928735691, 0.47545636639656247, 0.007993772181831773, 0.14041824090154645, 1.4416947872685415, 1.3237616799692526, -2.3777970169955016, 0.5923666677664033, 0.3359164990590182, -0.5962859323351763, -0.4250064485179365, -0.016772945841256614, -0.5269254239362561, -1.31108739074214, 0.6179665884371213, 0.4489631120581825, 0.8267111974126393, -0.3732848291661357, 2.1313610426401954, -0.531869502421004, -0.9607535438420161, -0.11462399514394792, -1.2845810072178885, 0.8021308269304693, 0.32685228787675885, -0.8030267081626514, 0.6158227844521023, -0.7714418392550003, -2.6013610686189765, 1.366753070088446, 0.19977922081655458, -4.5120274063760775, 0.370997798837073, -0.491933431806824, -0.32701692644832503, -1.0030417657193527, -0.5484870568614646, 0.7164675406003863, -0.16609494033713815, -0.09701544574085726, 0.43980493056478, -0.15215637559465336, -0.6815302536181178, -0.09493296897677167], \"xaxis\": \"x16\", \"yaxis\": \"y16\"}],                        {\"bargap\": 0.02, \"legend\": {\"bgcolor\": \"#F5F6F9\", \"font\": {\"color\": \"#4D5663\"}}, \"paper_bgcolor\": \"#F5F6F9\", \"plot_bgcolor\": \"#F5F6F9\", \"showlegend\": false, \"template\": {\"data\": {\"bar\": [{\"error_x\": {\"color\": \"#2a3f5f\"}, \"error_y\": {\"color\": \"#2a3f5f\"}, \"marker\": {\"line\": {\"color\": \"#E5ECF6\", \"width\": 0.5}}, \"type\": \"bar\"}], \"barpolar\": [{\"marker\": {\"line\": {\"color\": \"#E5ECF6\", \"width\": 0.5}}, \"type\": \"barpolar\"}], \"carpet\": [{\"aaxis\": {\"endlinecolor\": \"#2a3f5f\", \"gridcolor\": \"white\", \"linecolor\": \"white\", \"minorgridcolor\": \"white\", \"startlinecolor\": \"#2a3f5f\"}, \"baxis\": {\"endlinecolor\": \"#2a3f5f\", \"gridcolor\": \"white\", \"linecolor\": \"white\", \"minorgridcolor\": \"white\", \"startlinecolor\": \"#2a3f5f\"}, \"type\": \"carpet\"}], \"choropleth\": [{\"colorbar\": {\"outlinewidth\": 0, \"ticks\": \"\"}, \"type\": \"choropleth\"}], \"contour\": [{\"colorbar\": {\"outlinewidth\": 0, \"ticks\": \"\"}, \"colorscale\": [[0.0, \"#0d0887\"], [0.1111111111111111, \"#46039f\"], [0.2222222222222222, \"#7201a8\"], [0.3333333333333333, \"#9c179e\"], [0.4444444444444444, \"#bd3786\"], [0.5555555555555556, \"#d8576b\"], [0.6666666666666666, \"#ed7953\"], [0.7777777777777778, \"#fb9f3a\"], [0.8888888888888888, \"#fdca26\"], [1.0, \"#f0f921\"]], \"type\": \"contour\"}], \"contourcarpet\": [{\"colorbar\": {\"outlinewidth\": 0, \"ticks\": \"\"}, \"type\": \"contourcarpet\"}], \"heatmap\": [{\"colorbar\": {\"outlinewidth\": 0, \"ticks\": \"\"}, \"colorscale\": [[0.0, \"#0d0887\"], [0.1111111111111111, \"#46039f\"], [0.2222222222222222, \"#7201a8\"], [0.3333333333333333, \"#9c179e\"], [0.4444444444444444, \"#bd3786\"], [0.5555555555555556, \"#d8576b\"], [0.6666666666666666, \"#ed7953\"], [0.7777777777777778, \"#fb9f3a\"], [0.8888888888888888, \"#fdca26\"], [1.0, \"#f0f921\"]], \"type\": \"heatmap\"}], \"heatmapgl\": [{\"colorbar\": {\"outlinewidth\": 0, \"ticks\": \"\"}, \"colorscale\": [[0.0, \"#0d0887\"], [0.1111111111111111, \"#46039f\"], [0.2222222222222222, \"#7201a8\"], [0.3333333333333333, \"#9c179e\"], [0.4444444444444444, \"#bd3786\"], [0.5555555555555556, \"#d8576b\"], [0.6666666666666666, \"#ed7953\"], [0.7777777777777778, \"#fb9f3a\"], [0.8888888888888888, \"#fdca26\"], [1.0, \"#f0f921\"]], \"type\": \"heatmapgl\"}], \"histogram\": [{\"marker\": {\"colorbar\": {\"outlinewidth\": 0, \"ticks\": \"\"}}, \"type\": \"histogram\"}], \"histogram2d\": [{\"colorbar\": {\"outlinewidth\": 0, \"ticks\": \"\"}, \"colorscale\": [[0.0, \"#0d0887\"], [0.1111111111111111, \"#46039f\"], [0.2222222222222222, \"#7201a8\"], [0.3333333333333333, \"#9c179e\"], [0.4444444444444444, \"#bd3786\"], [0.5555555555555556, \"#d8576b\"], [0.6666666666666666, \"#ed7953\"], [0.7777777777777778, \"#fb9f3a\"], [0.8888888888888888, \"#fdca26\"], [1.0, \"#f0f921\"]], \"type\": \"histogram2d\"}], \"histogram2dcontour\": [{\"colorbar\": {\"outlinewidth\": 0, \"ticks\": \"\"}, \"colorscale\": [[0.0, \"#0d0887\"], [0.1111111111111111, \"#46039f\"], [0.2222222222222222, \"#7201a8\"], [0.3333333333333333, \"#9c179e\"], [0.4444444444444444, \"#bd3786\"], [0.5555555555555556, \"#d8576b\"], [0.6666666666666666, \"#ed7953\"], [0.7777777777777778, \"#fb9f3a\"], [0.8888888888888888, \"#fdca26\"], [1.0, \"#f0f921\"]], \"type\": \"histogram2dcontour\"}], \"mesh3d\": [{\"colorbar\": {\"outlinewidth\": 0, \"ticks\": \"\"}, \"type\": \"mesh3d\"}], \"parcoords\": [{\"line\": {\"colorbar\": {\"outlinewidth\": 0, \"ticks\": \"\"}}, \"type\": \"parcoords\"}], \"pie\": [{\"automargin\": true, \"type\": \"pie\"}], \"scatter\": [{\"marker\": {\"colorbar\": {\"outlinewidth\": 0, \"ticks\": \"\"}}, \"type\": \"scatter\"}], \"scatter3d\": [{\"line\": {\"colorbar\": {\"outlinewidth\": 0, \"ticks\": \"\"}}, \"marker\": {\"colorbar\": {\"outlinewidth\": 0, \"ticks\": \"\"}}, \"type\": \"scatter3d\"}], \"scattercarpet\": [{\"marker\": {\"colorbar\": {\"outlinewidth\": 0, \"ticks\": \"\"}}, \"type\": \"scattercarpet\"}], \"scattergeo\": [{\"marker\": {\"colorbar\": {\"outlinewidth\": 0, \"ticks\": \"\"}}, \"type\": \"scattergeo\"}], \"scattergl\": [{\"marker\": {\"colorbar\": {\"outlinewidth\": 0, \"ticks\": \"\"}}, \"type\": \"scattergl\"}], \"scattermapbox\": [{\"marker\": {\"colorbar\": {\"outlinewidth\": 0, \"ticks\": \"\"}}, \"type\": \"scattermapbox\"}], \"scatterpolar\": [{\"marker\": {\"colorbar\": {\"outlinewidth\": 0, \"ticks\": \"\"}}, \"type\": \"scatterpolar\"}], \"scatterpolargl\": [{\"marker\": {\"colorbar\": {\"outlinewidth\": 0, \"ticks\": \"\"}}, \"type\": \"scatterpolargl\"}], \"scatterternary\": [{\"marker\": {\"colorbar\": {\"outlinewidth\": 0, \"ticks\": \"\"}}, \"type\": \"scatterternary\"}], \"surface\": [{\"colorbar\": {\"outlinewidth\": 0, \"ticks\": \"\"}, \"colorscale\": [[0.0, \"#0d0887\"], [0.1111111111111111, \"#46039f\"], [0.2222222222222222, \"#7201a8\"], [0.3333333333333333, \"#9c179e\"], [0.4444444444444444, \"#bd3786\"], [0.5555555555555556, \"#d8576b\"], [0.6666666666666666, \"#ed7953\"], [0.7777777777777778, \"#fb9f3a\"], [0.8888888888888888, \"#fdca26\"], [1.0, \"#f0f921\"]], \"type\": \"surface\"}], \"table\": [{\"cells\": {\"fill\": {\"color\": \"#EBF0F8\"}, \"line\": {\"color\": \"white\"}}, \"header\": {\"fill\": {\"color\": \"#C8D4E3\"}, \"line\": {\"color\": \"white\"}}, \"type\": \"table\"}]}, \"layout\": {\"annotationdefaults\": {\"arrowcolor\": \"#2a3f5f\", \"arrowhead\": 0, \"arrowwidth\": 1}, \"autotypenumbers\": \"strict\", \"coloraxis\": {\"colorbar\": {\"outlinewidth\": 0, \"ticks\": \"\"}}, \"colorscale\": {\"diverging\": [[0, \"#8e0152\"], [0.1, \"#c51b7d\"], [0.2, \"#de77ae\"], [0.3, \"#f1b6da\"], [0.4, \"#fde0ef\"], [0.5, \"#f7f7f7\"], [0.6, \"#e6f5d0\"], [0.7, \"#b8e186\"], [0.8, \"#7fbc41\"], [0.9, \"#4d9221\"], [1, \"#276419\"]], \"sequential\": [[0.0, \"#0d0887\"], [0.1111111111111111, \"#46039f\"], [0.2222222222222222, \"#7201a8\"], [0.3333333333333333, \"#9c179e\"], [0.4444444444444444, \"#bd3786\"], [0.5555555555555556, \"#d8576b\"], [0.6666666666666666, \"#ed7953\"], [0.7777777777777778, \"#fb9f3a\"], [0.8888888888888888, \"#fdca26\"], [1.0, \"#f0f921\"]], \"sequentialminus\": [[0.0, \"#0d0887\"], [0.1111111111111111, \"#46039f\"], [0.2222222222222222, \"#7201a8\"], [0.3333333333333333, \"#9c179e\"], [0.4444444444444444, \"#bd3786\"], [0.5555555555555556, \"#d8576b\"], [0.6666666666666666, \"#ed7953\"], [0.7777777777777778, \"#fb9f3a\"], [0.8888888888888888, \"#fdca26\"], [1.0, \"#f0f921\"]]}, \"colorway\": [\"#636efa\", \"#EF553B\", \"#00cc96\", \"#ab63fa\", \"#FFA15A\", \"#19d3f3\", \"#FF6692\", \"#B6E880\", \"#FF97FF\", \"#FECB52\"], \"font\": {\"color\": \"#2a3f5f\"}, \"geo\": {\"bgcolor\": \"white\", \"lakecolor\": \"white\", \"landcolor\": \"#E5ECF6\", \"showlakes\": true, \"showland\": true, \"subunitcolor\": \"white\"}, \"hoverlabel\": {\"align\": \"left\"}, \"hovermode\": \"closest\", \"mapbox\": {\"style\": \"light\"}, \"paper_bgcolor\": \"white\", \"plot_bgcolor\": \"#E5ECF6\", \"polar\": {\"angularaxis\": {\"gridcolor\": \"white\", \"linecolor\": \"white\", \"ticks\": \"\"}, \"bgcolor\": \"#E5ECF6\", \"radialaxis\": {\"gridcolor\": \"white\", \"linecolor\": \"white\", \"ticks\": \"\"}}, \"scene\": {\"xaxis\": {\"backgroundcolor\": \"#E5ECF6\", \"gridcolor\": \"white\", \"gridwidth\": 2, \"linecolor\": \"white\", \"showbackground\": true, \"ticks\": \"\", \"zerolinecolor\": \"white\"}, \"yaxis\": {\"backgroundcolor\": \"#E5ECF6\", \"gridcolor\": \"white\", \"gridwidth\": 2, \"linecolor\": \"white\", \"showbackground\": true, \"ticks\": \"\", \"zerolinecolor\": \"white\"}, \"zaxis\": {\"backgroundcolor\": \"#E5ECF6\", \"gridcolor\": \"white\", \"gridwidth\": 2, \"linecolor\": \"white\", \"showbackground\": true, \"ticks\": \"\", \"zerolinecolor\": \"white\"}}, \"shapedefaults\": {\"line\": {\"color\": \"#2a3f5f\"}}, \"ternary\": {\"aaxis\": {\"gridcolor\": \"white\", \"linecolor\": \"white\", \"ticks\": \"\"}, \"baxis\": {\"gridcolor\": \"white\", \"linecolor\": \"white\", \"ticks\": \"\"}, \"bgcolor\": \"#E5ECF6\", \"caxis\": {\"gridcolor\": \"white\", \"linecolor\": \"white\", \"ticks\": \"\"}}, \"title\": {\"x\": 0.05}, \"xaxis\": {\"automargin\": true, \"gridcolor\": \"white\", \"linecolor\": \"white\", \"ticks\": \"\", \"title\": {\"standoff\": 15}, \"zerolinecolor\": \"white\", \"zerolinewidth\": 2}, \"yaxis\": {\"automargin\": true, \"gridcolor\": \"white\", \"linecolor\": \"white\", \"ticks\": \"\", \"title\": {\"standoff\": 15}, \"zerolinecolor\": \"white\", \"zerolinewidth\": 2}}}, \"title\": {\"font\": {\"color\": \"#4D5663\"}}, \"xaxis\": {\"anchor\": \"y\", \"domain\": [0.0, 0.2125], \"gridcolor\": \"#E1E5ED\", \"showgrid\": false, \"tickfont\": {\"color\": \"#4D5663\"}, \"title\": {\"font\": {\"color\": \"#4D5663\"}, \"text\": \"\"}, \"zerolinecolor\": \"#E1E5ED\"}, \"xaxis10\": {\"anchor\": \"y10\", \"domain\": [0.2625, 0.475], \"gridcolor\": \"#E1E5ED\", \"showgrid\": false, \"tickfont\": {\"color\": \"#4D5663\"}, \"title\": {\"font\": {\"color\": \"#4D5663\"}, \"text\": \"\"}, \"zerolinecolor\": \"#E1E5ED\"}, \"xaxis11\": {\"anchor\": \"y11\", \"domain\": [0.525, 0.7375], \"gridcolor\": \"#E1E5ED\", \"showgrid\": false, \"tickfont\": {\"color\": \"#4D5663\"}, \"title\": {\"font\": {\"color\": \"#4D5663\"}, \"text\": \"\"}, \"zerolinecolor\": \"#E1E5ED\"}, \"xaxis12\": {\"anchor\": \"y12\", \"domain\": [0.7875, 1.0], \"gridcolor\": \"#E1E5ED\", \"showgrid\": false, \"tickfont\": {\"color\": \"#4D5663\"}, \"title\": {\"font\": {\"color\": \"#4D5663\"}, \"text\": \"\"}, \"zerolinecolor\": \"#E1E5ED\"}, \"xaxis13\": {\"anchor\": \"y13\", \"domain\": [0.0, 0.2125], \"gridcolor\": \"#E1E5ED\", \"showgrid\": false, \"tickfont\": {\"color\": \"#4D5663\"}, \"title\": {\"font\": {\"color\": \"#4D5663\"}, \"text\": \"\"}, \"zerolinecolor\": \"#E1E5ED\"}, \"xaxis14\": {\"anchor\": \"y14\", \"domain\": [0.2625, 0.475], \"gridcolor\": \"#E1E5ED\", \"showgrid\": false, \"tickfont\": {\"color\": \"#4D5663\"}, \"title\": {\"font\": {\"color\": \"#4D5663\"}, \"text\": \"\"}, \"zerolinecolor\": \"#E1E5ED\"}, \"xaxis15\": {\"anchor\": \"y15\", \"domain\": [0.525, 0.7375], \"gridcolor\": \"#E1E5ED\", \"showgrid\": false, \"tickfont\": {\"color\": \"#4D5663\"}, \"title\": {\"font\": {\"color\": \"#4D5663\"}, \"text\": \"\"}, \"zerolinecolor\": \"#E1E5ED\"}, \"xaxis16\": {\"anchor\": \"y16\", \"domain\": [0.7875, 1.0], \"gridcolor\": \"#E1E5ED\", \"showgrid\": false, \"tickfont\": {\"color\": \"#4D5663\"}, \"title\": {\"font\": {\"color\": \"#4D5663\"}, \"text\": \"\"}, \"zerolinecolor\": \"#E1E5ED\"}, \"xaxis2\": {\"anchor\": \"y2\", \"domain\": [0.2625, 0.475], \"gridcolor\": \"#E1E5ED\", \"showgrid\": false, \"tickfont\": {\"color\": \"#4D5663\"}, \"title\": {\"font\": {\"color\": \"#4D5663\"}, \"text\": \"\"}, \"zerolinecolor\": \"#E1E5ED\"}, \"xaxis3\": {\"anchor\": \"y3\", \"domain\": [0.525, 0.7375], \"gridcolor\": \"#E1E5ED\", \"showgrid\": false, \"tickfont\": {\"color\": \"#4D5663\"}, \"title\": {\"font\": {\"color\": \"#4D5663\"}, \"text\": \"\"}, \"zerolinecolor\": \"#E1E5ED\"}, \"xaxis4\": {\"anchor\": \"y4\", \"domain\": [0.7875, 1.0], \"gridcolor\": \"#E1E5ED\", \"showgrid\": false, \"tickfont\": {\"color\": \"#4D5663\"}, \"title\": {\"font\": {\"color\": \"#4D5663\"}, \"text\": \"\"}, \"zerolinecolor\": \"#E1E5ED\"}, \"xaxis5\": {\"anchor\": \"y5\", \"domain\": [0.0, 0.2125], \"gridcolor\": \"#E1E5ED\", \"showgrid\": false, \"tickfont\": {\"color\": \"#4D5663\"}, \"title\": {\"font\": {\"color\": \"#4D5663\"}, \"text\": \"\"}, \"zerolinecolor\": \"#E1E5ED\"}, \"xaxis6\": {\"anchor\": \"y6\", \"domain\": [0.2625, 0.475], \"gridcolor\": \"#E1E5ED\", \"showgrid\": false, \"tickfont\": {\"color\": \"#4D5663\"}, \"title\": {\"font\": {\"color\": \"#4D5663\"}, \"text\": \"\"}, \"zerolinecolor\": \"#E1E5ED\"}, \"xaxis7\": {\"anchor\": \"y7\", \"domain\": [0.525, 0.7375], \"gridcolor\": \"#E1E5ED\", \"showgrid\": false, \"tickfont\": {\"color\": \"#4D5663\"}, \"title\": {\"font\": {\"color\": \"#4D5663\"}, \"text\": \"\"}, \"zerolinecolor\": \"#E1E5ED\"}, \"xaxis8\": {\"anchor\": \"y8\", \"domain\": [0.7875, 1.0], \"gridcolor\": \"#E1E5ED\", \"showgrid\": false, \"tickfont\": {\"color\": \"#4D5663\"}, \"title\": {\"font\": {\"color\": \"#4D5663\"}, \"text\": \"\"}, \"zerolinecolor\": \"#E1E5ED\"}, \"xaxis9\": {\"anchor\": \"y9\", \"domain\": [0.0, 0.2125], \"gridcolor\": \"#E1E5ED\", \"showgrid\": false, \"tickfont\": {\"color\": \"#4D5663\"}, \"title\": {\"font\": {\"color\": \"#4D5663\"}, \"text\": \"\"}, \"zerolinecolor\": \"#E1E5ED\"}, \"yaxis\": {\"anchor\": \"x\", \"domain\": [0.8025, 1.0], \"gridcolor\": \"#E1E5ED\", \"showgrid\": false, \"tickfont\": {\"color\": \"#4D5663\"}, \"title\": {\"font\": {\"color\": \"#4D5663\"}, \"text\": \"\"}, \"zerolinecolor\": \"#E1E5ED\"}, \"yaxis10\": {\"anchor\": \"x10\", \"domain\": [0.2675, 0.465], \"gridcolor\": \"#E1E5ED\", \"showgrid\": false, \"tickfont\": {\"color\": \"#4D5663\"}, \"title\": {\"font\": {\"color\": \"#4D5663\"}, \"text\": \"\"}, \"zerolinecolor\": \"#E1E5ED\"}, \"yaxis11\": {\"anchor\": \"x11\", \"domain\": [0.2675, 0.465], \"gridcolor\": \"#E1E5ED\", \"showgrid\": false, \"tickfont\": {\"color\": \"#4D5663\"}, \"title\": {\"font\": {\"color\": \"#4D5663\"}, \"text\": \"\"}, \"zerolinecolor\": \"#E1E5ED\"}, \"yaxis12\": {\"anchor\": \"x12\", \"domain\": [0.2675, 0.465], \"gridcolor\": \"#E1E5ED\", \"showgrid\": false, \"tickfont\": {\"color\": \"#4D5663\"}, \"title\": {\"font\": {\"color\": \"#4D5663\"}, \"text\": \"\"}, \"zerolinecolor\": \"#E1E5ED\"}, \"yaxis13\": {\"anchor\": \"x13\", \"domain\": [0.0, 0.1975], \"gridcolor\": \"#E1E5ED\", \"showgrid\": false, \"tickfont\": {\"color\": \"#4D5663\"}, \"title\": {\"font\": {\"color\": \"#4D5663\"}, \"text\": \"\"}, \"zerolinecolor\": \"#E1E5ED\"}, \"yaxis14\": {\"anchor\": \"x14\", \"domain\": [0.0, 0.1975], \"gridcolor\": \"#E1E5ED\", \"showgrid\": false, \"tickfont\": {\"color\": \"#4D5663\"}, \"title\": {\"font\": {\"color\": \"#4D5663\"}, \"text\": \"\"}, \"zerolinecolor\": \"#E1E5ED\"}, \"yaxis15\": {\"anchor\": \"x15\", \"domain\": [0.0, 0.1975], \"gridcolor\": \"#E1E5ED\", \"showgrid\": false, \"tickfont\": {\"color\": \"#4D5663\"}, \"title\": {\"font\": {\"color\": \"#4D5663\"}, \"text\": \"\"}, \"zerolinecolor\": \"#E1E5ED\"}, \"yaxis16\": {\"anchor\": \"x16\", \"domain\": [0.0, 0.1975], \"gridcolor\": \"#E1E5ED\", \"showgrid\": false, \"tickfont\": {\"color\": \"#4D5663\"}, \"title\": {\"font\": {\"color\": \"#4D5663\"}, \"text\": \"\"}, \"zerolinecolor\": \"#E1E5ED\"}, \"yaxis2\": {\"anchor\": \"x2\", \"domain\": [0.8025, 1.0], \"gridcolor\": \"#E1E5ED\", \"showgrid\": false, \"tickfont\": {\"color\": \"#4D5663\"}, \"title\": {\"font\": {\"color\": \"#4D5663\"}, \"text\": \"\"}, \"zerolinecolor\": \"#E1E5ED\"}, \"yaxis3\": {\"anchor\": \"x3\", \"domain\": [0.8025, 1.0], \"gridcolor\": \"#E1E5ED\", \"showgrid\": false, \"tickfont\": {\"color\": \"#4D5663\"}, \"title\": {\"font\": {\"color\": \"#4D5663\"}, \"text\": \"\"}, \"zerolinecolor\": \"#E1E5ED\"}, \"yaxis4\": {\"anchor\": \"x4\", \"domain\": [0.8025, 1.0], \"gridcolor\": \"#E1E5ED\", \"showgrid\": false, \"tickfont\": {\"color\": \"#4D5663\"}, \"title\": {\"font\": {\"color\": \"#4D5663\"}, \"text\": \"\"}, \"zerolinecolor\": \"#E1E5ED\"}, \"yaxis5\": {\"anchor\": \"x5\", \"domain\": [0.535, 0.7325], \"gridcolor\": \"#E1E5ED\", \"showgrid\": false, \"tickfont\": {\"color\": \"#4D5663\"}, \"title\": {\"font\": {\"color\": \"#4D5663\"}, \"text\": \"\"}, \"zerolinecolor\": \"#E1E5ED\"}, \"yaxis6\": {\"anchor\": \"x6\", \"domain\": [0.535, 0.7325], \"gridcolor\": \"#E1E5ED\", \"showgrid\": false, \"tickfont\": {\"color\": \"#4D5663\"}, \"title\": {\"font\": {\"color\": \"#4D5663\"}, \"text\": \"\"}, \"zerolinecolor\": \"#E1E5ED\"}, \"yaxis7\": {\"anchor\": \"x7\", \"domain\": [0.535, 0.7325], \"gridcolor\": \"#E1E5ED\", \"showgrid\": false, \"tickfont\": {\"color\": \"#4D5663\"}, \"title\": {\"font\": {\"color\": \"#4D5663\"}, \"text\": \"\"}, \"zerolinecolor\": \"#E1E5ED\"}, \"yaxis8\": {\"anchor\": \"x8\", \"domain\": [0.535, 0.7325], \"gridcolor\": \"#E1E5ED\", \"showgrid\": false, \"tickfont\": {\"color\": \"#4D5663\"}, \"title\": {\"font\": {\"color\": \"#4D5663\"}, \"text\": \"\"}, \"zerolinecolor\": \"#E1E5ED\"}, \"yaxis9\": {\"anchor\": \"x9\", \"domain\": [0.2675, 0.465], \"gridcolor\": \"#E1E5ED\", \"showgrid\": false, \"tickfont\": {\"color\": \"#4D5663\"}, \"title\": {\"font\": {\"color\": \"#4D5663\"}, \"text\": \"\"}, \"zerolinecolor\": \"#E1E5ED\"}},                        {\"showLink\": true, \"linkText\": \"Export to plot.ly\", \"plotlyServerURL\": \"https://plot.ly\", \"responsive\": true}                    ).then(function(){\n                            \nvar gd = document.getElementById('d280c295-b93e-4bc3-a297-cbdb4fbd6793');\nvar x = new MutationObserver(function (mutations, observer) {{\n        var display = window.getComputedStyle(gd).display;\n        if (!display || display === 'none') {{\n            console.log([gd, 'removed!']);\n            Plotly.purge(gd);\n            observer.disconnect();\n        }}\n}});\n\n// Listen for the removal of the full notebook cells\nvar notebookContainer = gd.closest('#notebook-container');\nif (notebookContainer) {{\n    x.observe(notebookContainer, {childList: true});\n}}\n\n// Listen for the clearing of the current output cell\nvar outputEl = gd.closest('.output');\nif (outputEl) {{\n    x.observe(outputEl, {childList: true});\n}}\n\n                        })                };                });            </script>        </div>"
     },
     "metadata": {}
    }
   ],
   "source": [
    "#scatter matrix - similar to pair plot - scatter plot of all columns it can\n",
    "df.scatter_matrix()"
   ]
  },
  {
   "cell_type": "code",
   "execution_count": null,
   "metadata": {},
   "outputs": [],
   "source": []
  }
 ]
}