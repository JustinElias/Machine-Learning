{
 "metadata": {
  "language_info": {
   "codemirror_mode": {
    "name": "ipython",
    "version": 3
   },
   "file_extension": ".py",
   "mimetype": "text/x-python",
   "name": "python",
   "nbconvert_exporter": "python",
   "pygments_lexer": "ipython3",
   "version": 3
  },
  "orig_nbformat": 2
 },
 "nbformat": 4,
 "nbformat_minor": 2,
 "cells": [
  {
   "cell_type": "code",
   "execution_count": null,
   "metadata": {},
   "outputs": [],
   "source": [
    "'''\n",
    "Using Python for Machine Learning\n",
    "\n",
    "-Using Scikit Learn package - the most popular machine learnin package for python that has built in machine learning algorithms already installed\n",
    "To install:\n",
    "conda install scikit-learn \n",
    "\n",
    "Overview of the process of SciKit learn:\n",
    "-Every algorithm is exposed in scikit-learn via an \"Estimator\"\n",
    "Import the model by doing:\n",
    "from sklearn.(family) import (Model)\n",
    "so if we wanted to import a Linear Regression model, it would look like:\n",
    "from sklearn.linear_model import LinearRegression\n",
    "\n",
    "Estimator parameters: All the parameters of an estimator can be set when it is instantiated, and have suitable default values. You can use shift+tab in jupyter to check the possible parameters\n",
    "For example:\n",
    "model = LinearRegression(normalize=True)\n",
    "print(model)\n",
    "\n",
    "Linear Regression(copy_X=True, fit_intercept=True, normalize=True)\n",
    "\n",
    "Once the model is created with the parameters, it is time to fit the model with some Data. Data should be split between data and test set.\n",
    "To do this, you can do the following:\n",
    "import numpay as np\n",
    "from sklearn.cross_validation import train_test_split\n",
    "x, y = np.arange(10).reshape((5,2)), range(5) - This creates a 2 column array of values from 0 to 9\n",
    "\n",
    "Now that the data is split, we can train/fit the model on the training data. This is done through the model.fit() method:\n",
    "model.fit(X_train, y_train)\n",
    "\n",
    "Now that the model has been fit and trained on with the training data, the model is ready to rpedict lables or values on the test set. FOr a supervised learning model, you get the predicted values using the predict method:\n",
    "predictions = model.predict(X_test)\n",
    "\n",
    "You can then evaluate the model by comparing the predictions to the correct values. The evaluation method deponds on what sort of machine learning algorithm is being used. (Regression, classification, clustering, etc.)\n",
    "\n",
    "'''"
   ]
  }
 ]
}