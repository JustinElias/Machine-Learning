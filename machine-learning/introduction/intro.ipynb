{
 "metadata": {
  "language_info": {
   "codemirror_mode": {
    "name": "ipython",
    "version": 3
   },
   "file_extension": ".py",
   "mimetype": "text/x-python",
   "name": "python",
   "nbconvert_exporter": "python",
   "pygments_lexer": "ipython3",
   "version": 3
  },
  "orig_nbformat": 2
 },
 "nbformat": 4,
 "nbformat_minor": 2,
 "cells": [
  {
   "cell_type": "code",
   "execution_count": null,
   "metadata": {},
   "outputs": [],
   "source": [
    "'''\n",
    "Supervised Learning\n",
    "-supervised learning is commonly used in applications where historical data predicts likely future events\n",
    "\n",
    "-algorithms trained using LABELED examples, such as an input where the desired output is known\n",
    "For example: spam vs legitimate email or positive vs negative movie review\n",
    "\n",
    "-The network receives a set of inputs along with the corresponding correct outputs, and the algorithm learns by comparing its actualy output with \n",
    "correct outputs to find errors\n",
    "-it then modifies the model accordingly\n",
    "\n",
    "Process:\n",
    "\n",
    "Data Acquisition -> Data Clearning -> Test Data ->Model Training/Building <-> Model Testing ->Model Deployment\n",
    "\n",
    "Data Cleaning\n",
    "-Get data from database online, from customers or sensors\n",
    "\n",
    "Clean Data\n",
    "-clean and format data, normally with pandas\n",
    "\n",
    "Split the data into training data and test data\n",
    "-Take roughly 30% of the data randomly and make it the test set\n",
    "-Take the rest and make it your training set - training set will be used to make our model make decisions\n",
    "\n",
    "How well did the model perform?\n",
    "-Run the test data through the model and compare the models prediction to the actual correct ansswer that the test data had. Then evaluate model + update model if needed\n",
    "\n",
    "Deploy model\n",
    "\n",
    "Can you use the same date for both a training set and test set?\n",
    "Use 3 sets of data instead:\n",
    "1. Training Data - Used to train model parameters\n",
    "2. Validation Data - Used to determine what model hyperparameters to adjust\n",
    "3. Test Data - Used to get some final performance metric\n",
    "'''"
   ]
  }
 ]
}