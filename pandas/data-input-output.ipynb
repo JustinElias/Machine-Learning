{
 "metadata": {
  "language_info": {
   "codemirror_mode": {
    "name": "ipython",
    "version": 3
   },
   "file_extension": ".py",
   "mimetype": "text/x-python",
   "name": "python",
   "nbconvert_exporter": "python",
   "pygments_lexer": "ipython3",
   "version": "3.8.5"
  },
  "orig_nbformat": 2,
  "kernelspec": {
   "name": "python385jvsc74a57bd0d9d37f27efacf801dd44f7aa0bcd991a8c67214eacc3fcc5e4f4cdd0eec6dd27",
   "display_name": "Python 3.8.5 64-bit ('base': conda)"
  }
 },
 "nbformat": 4,
 "nbformat_minor": 2,
 "cells": [
  {
   "cell_type": "code",
   "execution_count": 1,
   "metadata": {},
   "outputs": [],
   "source": [
    "#dealing with inputs and outputs of Python. \n",
    "#Types of Inputs: CSV, Excel, HTML, SQL\n",
    "#need to install:\n",
    "#conda install sqlalchemy\n",
    "#conda install lxml\n",
    "#conda install html5lib\n",
    "#conda install BeautifulSoup4"
   ]
  },
  {
   "cell_type": "code",
   "execution_count": 4,
   "metadata": {},
   "outputs": [],
   "source": [
    "import pandas as pd "
   ]
  },
  {
   "cell_type": "code",
   "execution_count": 10,
   "metadata": {},
   "outputs": [],
   "source": [
    "#read any file with pd.read_\n",
    "#read a CSV file\n",
    "#pd.read_csv('example_file.csv')\n",
    "\n",
    "#write to it:\n",
    "#df = pd.read_csv('nameoffile.csv')\n",
    "#df.to_csv('My_Output', index=false) - index=false to not save the index and assign a ranged index to the csv\n",
    "\n",
    "#excel - can only import data, not formulas/macros\n",
    "#read excel with: pd.read_excel('ExcelName.xlsx', sheetname='Sheet1')\n",
    "#write to excel with: df.to_excel('Excel_Sample2.xlsx, sheet_name='NewSheet')\n",
    "\n",
    "#html input\n",
    "#data = pd.read_html('https://www.fdic.gov/bank/individual/failed/banklist.html')\n",
    "\n",
    "#SQL\n",
    "#pandas not the best for SQL - different libraries for different engines of SQL\n",
    "from sqlalchemy import create_engine\n",
    "\n",
    "\n"
   ]
  },
  {
   "cell_type": "code",
   "execution_count": null,
   "metadata": {},
   "outputs": [],
   "source": []
  }
 ]
}